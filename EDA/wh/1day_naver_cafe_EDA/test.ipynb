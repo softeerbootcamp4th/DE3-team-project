{
 "cells": [
  {
   "cell_type": "markdown",
   "metadata": {},
   "source": [
    "### 카페명 : 전기차동호회 - 현대 아이오닉5 6 9,기아 EV3 6 9,테슬라모델3 Y\n",
    "## 주소 : https://cafe.naver.com/allfm01\n",
    "## 수집 날짜 : 2024.08.14\n"
   ]
  },
  {
   "cell_type": "code",
   "execution_count": 2,
   "metadata": {},
   "outputs": [],
   "source": [
    "import pandas as pd\n",
    "import numpy as np\n",
    "import seaborn as sns\n",
    "import plotly.express as px\n",
    "import os\n",
    "import sys\n"
   ]
  },
  {
   "cell_type": "code",
   "execution_count": 3,
   "metadata": {},
   "outputs": [
    {
     "name": "stdout",
     "output_type": "stream",
     "text": [
      "/Users/admin/Desktop/teamproject/softeer-team-project/wh/1day_naver_cafe_EDA\n"
     ]
    }
   ],
   "source": [
    "pd.set_option('display.max_colwidth', None)  # 전체 열 너비를 무제한으로 설\n",
    "\n",
    "# 현재 경로\n",
    "print(os.getcwd())\n",
    "\n",
    "# id,title,content,likes,url,author,views,created_at,updated_at,조회수\n",
    "df_post = pd.read_csv(\"1Day.csv\")\n"
   ]
  },
  {
   "cell_type": "code",
   "execution_count": 4,
   "metadata": {},
   "outputs": [
    {
     "data": {
      "text/html": [
       "<div>\n",
       "<style scoped>\n",
       "    .dataframe tbody tr th:only-of-type {\n",
       "        vertical-align: middle;\n",
       "    }\n",
       "\n",
       "    .dataframe tbody tr th {\n",
       "        vertical-align: top;\n",
       "    }\n",
       "\n",
       "    .dataframe thead th {\n",
       "        text-align: right;\n",
       "    }\n",
       "</style>\n",
       "<table border=\"1\" class=\"dataframe\">\n",
       "  <thead>\n",
       "    <tr style=\"text-align: right;\">\n",
       "      <th></th>\n",
       "      <th>제목</th>\n",
       "      <th>작성자</th>\n",
       "      <th>날짜</th>\n",
       "      <th>조회수</th>\n",
       "      <th>댓글 수</th>\n",
       "    </tr>\n",
       "  </thead>\n",
       "  <tbody>\n",
       "    <tr>\n",
       "      <th>0</th>\n",
       "      <td>전기차 직거래 판매\\n\\n[팝니다] EV9 어스 4륜, 19인치, 화이트/브라운, 23년 12월 출고, 14,200Km 판매사진 [13]</td>\n",
       "      <td>공돌이IEV9I경남</td>\n",
       "      <td>2024.08.14.</td>\n",
       "      <td>1,681</td>\n",
       "      <td>13</td>\n",
       "    </tr>\n",
       "    <tr>\n",
       "      <th>1</th>\n",
       "      <td>기아 EV3\\n\\n빌트인캠2 고전압 배터리 녹화 궁금증 [5]</td>\n",
       "      <td>오롱아빠I충남</td>\n",
       "      <td>2024.08.14.</td>\n",
       "      <td>283</td>\n",
       "      <td>5</td>\n",
       "    </tr>\n",
       "    <tr>\n",
       "      <th>2</th>\n",
       "      <td>전기차Q&amp;A\\n\\n완속vs급속 [4]</td>\n",
       "      <td>주부테I아오5I경남</td>\n",
       "      <td>2024.08.14.</td>\n",
       "      <td>274</td>\n",
       "      <td>4</td>\n",
       "    </tr>\n",
       "    <tr>\n",
       "      <th>3</th>\n",
       "      <td>벤츠 EQE\\n\\n기사 볼때마다 화가 나네요 [16]</td>\n",
       "      <td>맨발IEQEI서울</td>\n",
       "      <td>2024.08.14.</td>\n",
       "      <td>731</td>\n",
       "      <td>16</td>\n",
       "    </tr>\n",
       "    <tr>\n",
       "      <th>4</th>\n",
       "      <td>주행거리/전비 인증\\n\\n더뉴EV6 기분좋은 전비 사진 [3]</td>\n",
       "      <td>입이식수IEV6I서울</td>\n",
       "      <td>2024.08.14.</td>\n",
       "      <td>345</td>\n",
       "      <td>3</td>\n",
       "    </tr>\n",
       "  </tbody>\n",
       "</table>\n",
       "</div>"
      ],
      "text/plain": [
       "                                                                             제목  \\\n",
       "0  전기차 직거래 판매\\n\\n[팝니다] EV9 어스 4륜, 19인치, 화이트/브라운, 23년 12월 출고, 14,200Km 판매사진 [13]   \n",
       "1                                            기아 EV3\\n\\n빌트인캠2 고전압 배터리 녹화 궁금증 [5]   \n",
       "2                                                          전기차Q&A\\n\\n완속vs급속 [4]   \n",
       "3                                                 벤츠 EQE\\n\\n기사 볼때마다 화가 나네요 [16]   \n",
       "4                                            주행거리/전비 인증\\n\\n더뉴EV6 기분좋은 전비 사진 [3]   \n",
       "\n",
       "           작성자           날짜    조회수  댓글 수  \n",
       "0   공돌이IEV9I경남  2024.08.14.  1,681    13  \n",
       "1      오롱아빠I충남  2024.08.14.    283     5  \n",
       "2   주부테I아오5I경남  2024.08.14.    274     4  \n",
       "3    맨발IEQEI서울  2024.08.14.    731    16  \n",
       "4  입이식수IEV6I서울  2024.08.14.    345     3  "
      ]
     },
     "execution_count": 4,
     "metadata": {},
     "output_type": "execute_result"
    }
   ],
   "source": [
    "df_post.head()\n"
   ]
  },
  {
   "cell_type": "code",
   "execution_count": 5,
   "metadata": {},
   "outputs": [
    {
     "data": {
      "text/plain": [
       "제목      object\n",
       "작성자     object\n",
       "날짜      object\n",
       "조회수     object\n",
       "댓글 수     int64\n",
       "dtype: object"
      ]
     },
     "execution_count": 5,
     "metadata": {},
     "output_type": "execute_result"
    }
   ],
   "source": [
    "# 데이터 타입 확인\n",
    "df_post.dtypes"
   ]
  },
  {
   "cell_type": "code",
   "execution_count": 6,
   "metadata": {},
   "outputs": [
    {
     "data": {
      "text/html": [
       "<div>\n",
       "<style scoped>\n",
       "    .dataframe tbody tr th:only-of-type {\n",
       "        vertical-align: middle;\n",
       "    }\n",
       "\n",
       "    .dataframe tbody tr th {\n",
       "        vertical-align: top;\n",
       "    }\n",
       "\n",
       "    .dataframe thead th {\n",
       "        text-align: right;\n",
       "    }\n",
       "</style>\n",
       "<table border=\"1\" class=\"dataframe\">\n",
       "  <thead>\n",
       "    <tr style=\"text-align: right;\">\n",
       "      <th></th>\n",
       "      <th>제목</th>\n",
       "      <th>작성자</th>\n",
       "      <th>날짜</th>\n",
       "      <th>조회수</th>\n",
       "      <th>댓글 수</th>\n",
       "    </tr>\n",
       "  </thead>\n",
       "  <tbody>\n",
       "  </tbody>\n",
       "</table>\n",
       "</div>"
      ],
      "text/plain": [
       "Empty DataFrame\n",
       "Columns: [제목, 작성자, 날짜, 조회수, 댓글 수]\n",
       "Index: []"
      ]
     },
     "execution_count": 6,
     "metadata": {},
     "output_type": "execute_result"
    }
   ],
   "source": [
    "# 결측치 확인\n",
    "df_post.isnull().sum()\n",
    "\n",
    "# 결측치 인덱스 확인\n",
    "df_post[df_post.isnull().any(axis=1)]"
   ]
  },
  {
   "cell_type": "code",
   "execution_count": 7,
   "metadata": {},
   "outputs": [],
   "source": [
    "# 조회수 컬럼 int 타입으로 변경\n",
    "df_post['조회수'] = df_post['조회수'].str.replace(',', '').astype(int)"
   ]
  },
  {
   "cell_type": "code",
   "execution_count": 8,
   "metadata": {},
   "outputs": [
    {
     "data": {
      "text/html": [
       "<div>\n",
       "<style scoped>\n",
       "    .dataframe tbody tr th:only-of-type {\n",
       "        vertical-align: middle;\n",
       "    }\n",
       "\n",
       "    .dataframe tbody tr th {\n",
       "        vertical-align: top;\n",
       "    }\n",
       "\n",
       "    .dataframe thead th {\n",
       "        text-align: right;\n",
       "    }\n",
       "</style>\n",
       "<table border=\"1\" class=\"dataframe\">\n",
       "  <thead>\n",
       "    <tr style=\"text-align: right;\">\n",
       "      <th></th>\n",
       "      <th>조회수</th>\n",
       "      <th>댓글 수</th>\n",
       "    </tr>\n",
       "  </thead>\n",
       "  <tbody>\n",
       "    <tr>\n",
       "      <th>count</th>\n",
       "      <td>1146.000000</td>\n",
       "      <td>1146.000000</td>\n",
       "    </tr>\n",
       "    <tr>\n",
       "      <th>mean</th>\n",
       "      <td>376.367365</td>\n",
       "      <td>7.371728</td>\n",
       "    </tr>\n",
       "    <tr>\n",
       "      <th>std</th>\n",
       "      <td>507.073307</td>\n",
       "      <td>9.616927</td>\n",
       "    </tr>\n",
       "    <tr>\n",
       "      <th>min</th>\n",
       "      <td>2.000000</td>\n",
       "      <td>0.000000</td>\n",
       "    </tr>\n",
       "    <tr>\n",
       "      <th>25%</th>\n",
       "      <td>95.250000</td>\n",
       "      <td>2.000000</td>\n",
       "    </tr>\n",
       "    <tr>\n",
       "      <th>50%</th>\n",
       "      <td>247.000000</td>\n",
       "      <td>5.000000</td>\n",
       "    </tr>\n",
       "    <tr>\n",
       "      <th>75%</th>\n",
       "      <td>445.000000</td>\n",
       "      <td>9.000000</td>\n",
       "    </tr>\n",
       "    <tr>\n",
       "      <th>max</th>\n",
       "      <td>4988.000000</td>\n",
       "      <td>135.000000</td>\n",
       "    </tr>\n",
       "  </tbody>\n",
       "</table>\n",
       "</div>"
      ],
      "text/plain": [
       "               조회수         댓글 수\n",
       "count  1146.000000  1146.000000\n",
       "mean    376.367365     7.371728\n",
       "std     507.073307     9.616927\n",
       "min       2.000000     0.000000\n",
       "25%      95.250000     2.000000\n",
       "50%     247.000000     5.000000\n",
       "75%     445.000000     9.000000\n",
       "max    4988.000000   135.000000"
      ]
     },
     "execution_count": 8,
     "metadata": {},
     "output_type": "execute_result"
    }
   ],
   "source": [
    "# 데이터 분포 확인, [댓글 수], [조회수]\n",
    "df_post.describe()\n"
   ]
  },
  {
   "cell_type": "code",
   "execution_count": 9,
   "metadata": {},
   "outputs": [
    {
     "data": {
      "text/html": [
       "<div>\n",
       "<style scoped>\n",
       "    .dataframe tbody tr th:only-of-type {\n",
       "        vertical-align: middle;\n",
       "    }\n",
       "\n",
       "    .dataframe tbody tr th {\n",
       "        vertical-align: top;\n",
       "    }\n",
       "\n",
       "    .dataframe thead th {\n",
       "        text-align: right;\n",
       "    }\n",
       "</style>\n",
       "<table border=\"1\" class=\"dataframe\">\n",
       "  <thead>\n",
       "    <tr style=\"text-align: right;\">\n",
       "      <th></th>\n",
       "      <th>조회수</th>\n",
       "      <th>댓글 수</th>\n",
       "    </tr>\n",
       "  </thead>\n",
       "  <tbody>\n",
       "    <tr>\n",
       "      <th>count</th>\n",
       "      <td>1146.000000</td>\n",
       "      <td>1146.000000</td>\n",
       "    </tr>\n",
       "    <tr>\n",
       "      <th>mean</th>\n",
       "      <td>376.367365</td>\n",
       "      <td>7.371728</td>\n",
       "    </tr>\n",
       "    <tr>\n",
       "      <th>std</th>\n",
       "      <td>507.073307</td>\n",
       "      <td>9.616927</td>\n",
       "    </tr>\n",
       "    <tr>\n",
       "      <th>min</th>\n",
       "      <td>2.000000</td>\n",
       "      <td>0.000000</td>\n",
       "    </tr>\n",
       "    <tr>\n",
       "      <th>50%</th>\n",
       "      <td>247.000000</td>\n",
       "      <td>5.000000</td>\n",
       "    </tr>\n",
       "    <tr>\n",
       "      <th>90%</th>\n",
       "      <td>794.000000</td>\n",
       "      <td>17.000000</td>\n",
       "    </tr>\n",
       "    <tr>\n",
       "      <th>95%</th>\n",
       "      <td>1170.000000</td>\n",
       "      <td>22.000000</td>\n",
       "    </tr>\n",
       "    <tr>\n",
       "      <th>97%</th>\n",
       "      <td>1666.650000</td>\n",
       "      <td>27.000000</td>\n",
       "    </tr>\n",
       "    <tr>\n",
       "      <th>99%</th>\n",
       "      <td>2776.450000</td>\n",
       "      <td>46.550000</td>\n",
       "    </tr>\n",
       "    <tr>\n",
       "      <th>max</th>\n",
       "      <td>4988.000000</td>\n",
       "      <td>135.000000</td>\n",
       "    </tr>\n",
       "  </tbody>\n",
       "</table>\n",
       "</div>"
      ],
      "text/plain": [
       "               조회수         댓글 수\n",
       "count  1146.000000  1146.000000\n",
       "mean    376.367365     7.371728\n",
       "std     507.073307     9.616927\n",
       "min       2.000000     0.000000\n",
       "50%     247.000000     5.000000\n",
       "90%     794.000000    17.000000\n",
       "95%    1170.000000    22.000000\n",
       "97%    1666.650000    27.000000\n",
       "99%    2776.450000    46.550000\n",
       "max    4988.000000   135.000000"
      ]
     },
     "execution_count": 9,
     "metadata": {},
     "output_type": "execute_result"
    }
   ],
   "source": [
    "# 상위 10%, 5%, 3% 에 대한 분포 확인\n",
    "df_post.describe(percentiles=[.90, .95, .97, .99])"
   ]
  },
  {
   "cell_type": "code",
   "execution_count": 10,
   "metadata": {},
   "outputs": [
    {
     "data": {
      "text/html": [
       "<div>\n",
       "<style scoped>\n",
       "    .dataframe tbody tr th:only-of-type {\n",
       "        vertical-align: middle;\n",
       "    }\n",
       "\n",
       "    .dataframe tbody tr th {\n",
       "        vertical-align: top;\n",
       "    }\n",
       "\n",
       "    .dataframe thead th {\n",
       "        text-align: right;\n",
       "    }\n",
       "</style>\n",
       "<table border=\"1\" class=\"dataframe\">\n",
       "  <thead>\n",
       "    <tr style=\"text-align: right;\">\n",
       "      <th></th>\n",
       "      <th>조회수</th>\n",
       "      <th>댓글 수</th>\n",
       "    </tr>\n",
       "  </thead>\n",
       "  <tbody>\n",
       "    <tr>\n",
       "      <th>조회수</th>\n",
       "      <td>1.000000</td>\n",
       "      <td>0.659597</td>\n",
       "    </tr>\n",
       "    <tr>\n",
       "      <th>댓글 수</th>\n",
       "      <td>0.659597</td>\n",
       "      <td>1.000000</td>\n",
       "    </tr>\n",
       "  </tbody>\n",
       "</table>\n",
       "</div>"
      ],
      "text/plain": [
       "           조회수      댓글 수\n",
       "조회수   1.000000  0.659597\n",
       "댓글 수  0.659597  1.000000"
      ]
     },
     "execution_count": 10,
     "metadata": {},
     "output_type": "execute_result"
    }
   ],
   "source": [
    "# 조회수와 댓글 수의 상관관계\n",
    "df_post[['조회수', '댓글 수']].corr()"
   ]
  },
  {
   "cell_type": "code",
   "execution_count": 11,
   "metadata": {},
   "outputs": [],
   "source": [
    "num_post = 200\n",
    "\n",
    "# post_id_list\n",
    "post_id_list = df_post['id'].tolist()\n",
    "\n",
    "def get_comment(post_id, df_comment):\n",
    "    comments = df_comment[df_comment['post_id'] == post_id]\n",
    "    return comments\n"
   ]
  },
  {
   "cell_type": "code",
   "execution_count": 12,
   "metadata": {},
   "outputs": [
    {
     "ename": "NameError",
     "evalue": "name 'num_post' is not defined",
     "output_type": "error",
     "traceback": [
      "\u001b[0;31m---------------------------------------------------------------------------\u001b[0m",
      "\u001b[0;31mNameError\u001b[0m                                 Traceback (most recent call last)",
      "Cell \u001b[0;32mIn[12], line 3\u001b[0m\n\u001b[1;32m      1\u001b[0m \u001b[38;5;28;01mimport\u001b[39;00m \u001b[38;5;21;01mplotly\u001b[39;00m\u001b[38;5;21;01m.\u001b[39;00m\u001b[38;5;21;01mexpress\u001b[39;00m \u001b[38;5;28;01mas\u001b[39;00m \u001b[38;5;21;01mpx\u001b[39;00m\n\u001b[0;32m----> 3\u001b[0m \u001b[38;5;28;01mfor\u001b[39;00m i \u001b[38;5;129;01min\u001b[39;00m \u001b[38;5;28mrange\u001b[39m(\u001b[38;5;241m190\u001b[39m, \u001b[43mnum_post\u001b[49m):\n\u001b[1;32m      4\u001b[0m     comments \u001b[38;5;241m=\u001b[39m get_comment(post_id_list[i], df_comment)\n\u001b[1;32m      6\u001b[0m     \u001b[38;5;66;03m# 1. cmt_created_at을 datetime 형식으로 변환\u001b[39;00m\n",
      "\u001b[0;31mNameError\u001b[0m: name 'num_post' is not defined"
     ]
    }
   ],
   "source": [
    "import plotly.express as px\n",
    "\n",
    "for i in range(190, num_post):\n",
    "    comments = get_comment(post_id_list[i], df_comment)\n",
    " \n",
    "    # 1. cmt_created_at을 datetime 형식으로 변환\n",
    "    comments['cmt_created_at'] = pd.to_datetime(comments['cmt_created_at'])\n",
    "\n",
    "    # 2. 10분 간격으로 시간 그룹화 (min 사용)\n",
    "    comments.set_index('cmt_created_at', inplace=True)\n",
    "    comments = comments.resample('10min').size().cumsum()\n",
    "\n",
    "    # 3. 누적 댓글 수 계산\n",
    "    comments = comments.reset_index()\n",
    "\n",
    "    # 4. plotly로 그래프 그리기\n",
    "    fig = px.line(comments, x='cmt_created_at', y=0, markers=True,\n",
    "                labels={'cmt_created_at': 'Time', '0': 'Cumulative Comments'},\n",
    "                title='Cumulative Comments Over Time')\n",
    "\n",
    "    fig.show()\n",
    "\n",
    "    # 그림 저장하기\n",
    "    fig.write_html(f\"분석/comments_{i}.html\")\n",
    "    url = df_post[df_post['id'] == post_id_list[i]]['url']\n",
    "    print(url)\n",
    "    print(type(url))  # Series\n",
    "    # url 뒤에 ... 안나오게 출력\n",
    "    print(url.to_string(index=False))"
   ]
  }
 ],
 "metadata": {
  "kernelspec": {
   "display_name": ".venv",
   "language": "python",
   "name": "python3"
  },
  "language_info": {
   "codemirror_mode": {
    "name": "ipython",
    "version": 3
   },
   "file_extension": ".py",
   "mimetype": "text/x-python",
   "name": "python",
   "nbconvert_exporter": "python",
   "pygments_lexer": "ipython3",
   "version": "3.12.4"
  }
 },
 "nbformat": 4,
 "nbformat_minor": 2
}
