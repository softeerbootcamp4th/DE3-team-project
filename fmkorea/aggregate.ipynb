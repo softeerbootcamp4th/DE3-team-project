{
 "cells": [
  {
   "cell_type": "code",
   "id": "fa6dd3e578a507d6",
   "metadata": {
    "collapsed": true,
    "ExecuteTime": {
     "end_time": "2024-08-06T03:08:21.564879Z",
     "start_time": "2024-08-06T03:08:20.287597Z"
    }
   },
   "source": [
    "import pandas as pd\n",
    "import os\n",
    "\n",
    "# CSV 파일들이 있는 폴더 경로를 지정합니다.\n",
    "folder_path = './comments'\n",
    "\n",
    "# 폴더 내의 모든 CSV 파일 리스트를 가져옵니다.\n",
    "csv_files = [file for file in os.listdir(folder_path) if file.endswith('.csv')]\n",
    "\n",
    "# 빈 리스트를 생성하여 모든 DataFrame을 저장합니다.\n",
    "dataframes = []\n",
    "\n",
    "# 각 CSV 파일을 읽어서 리스트에 추가합니다.\n",
    "for file in csv_files:\n",
    "    file_path = os.path.join(folder_path, file)\n",
    "    df = pd.read_csv(file_path)\n",
    "    dataframes.append(df)\n",
    "\n",
    "# 모든 DataFrame을 하나로 합칩니다.\n",
    "combined_df = pd.concat(dataframes, ignore_index=True)\n",
    "\n",
    "# 결과 확인\n",
    "print(combined_df)\n",
    "combined_df.to_csv(\"./comments.csv\",index=False,encoding='utf-8-sig')"
   ],
   "outputs": [
    {
     "name": "stdout",
     "output_type": "stream",
     "text": [
      "          post_id    author  \\\n",
      "0      7211864379       죠리퐁   \n",
      "1      7211864379  웃음사냥꾼남춬.   \n",
      "2      7211864379   스완지승격기원   \n",
      "3      7211864379  웃음사냥꾼남춬.   \n",
      "4      7211804609      콩픈패스   \n",
      "...           ...       ...   \n",
      "22767  7162769129  빅버드NTR순호   \n",
      "22768  7162759182     염기훈경질   \n",
      "22769  7162678010       안식처   \n",
      "22770  7162678010    시원한소나기   \n",
      "22771  7162678010      에이이잇   \n",
      "\n",
      "                                                 content              time  \n",
      "0                                                진짜 안무섭다  2024.07.04 13:24  \n",
      "1                                                 죠리퐁 ㅠㅠ  2024.07.04 13:28  \n",
      "2                                              아니 인제 샀다고  2024.07.04 13:29  \n",
      "3                                             스완지승격기원 ㅋㅋ  2024.07.04 13:35  \n",
      "4      한마디로 세트피스 코치는 안 구하고 전술도 안바꾸고 순수 수비수 능력으로 막겠다 이...  2024.07.04 13:05  \n",
      "...                                                  ...               ...  \n",
      "22767  조윌록보다윤일록 뭐 타율이 100프로는 아니니까그리고 북패에서 전진우보다 유용한 자...  2024.06.20 13:22  \n",
      "22768                                   뮬리치 아웃 이런 개르노 없나  2024.06.20 13:14  \n",
      "22769                               걍 염보는 방송을 잘해 절대 안망할듯  2024.06.20 12:48  \n",
      "22770                           ㅋㅋㅋㅋㅋㅋ다들 한마디라도 더할라고 노력하네  2024.06.20 12:48  \n",
      "22771                                    한라산 벌칙이 개 빡세 ㅋㅋ  2024.06.20 12:48  \n",
      "\n",
      "[22772 rows x 4 columns]\n"
     ]
    }
   ],
   "execution_count": 4
  },
  {
   "metadata": {
    "ExecuteTime": {
     "end_time": "2024-08-06T03:09:07.558828Z",
     "start_time": "2024-08-06T03:09:07.263248Z"
    }
   },
   "cell_type": "code",
   "source": [
    "import pandas as pd\n",
    "import os\n",
    "\n",
    "\n",
    "df = pd.read_csv(\"./posts.csv\")\n",
    "df.to_excel(\"./posts.xlsx\",index=False)\n",
    "df"
   ],
   "id": "initial_id",
   "outputs": [],
   "execution_count": 5
  }
 ],
 "metadata": {
  "kernelspec": {
   "display_name": "Python 3",
   "language": "python",
   "name": "python3"
  },
  "language_info": {
   "codemirror_mode": {
    "name": "ipython",
    "version": 2
   },
   "file_extension": ".py",
   "mimetype": "text/x-python",
   "name": "python",
   "nbconvert_exporter": "python",
   "pygments_lexer": "ipython2",
   "version": "2.7.6"
  }
 },
 "nbformat": 4,
 "nbformat_minor": 5
}
