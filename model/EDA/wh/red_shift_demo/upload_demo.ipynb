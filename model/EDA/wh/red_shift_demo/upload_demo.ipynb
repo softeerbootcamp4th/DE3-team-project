{
 "cells": [
  {
   "cell_type": "code",
   "execution_count": 1,
   "metadata": {},
   "outputs": [],
   "source": [
    "# 필요한 라이브러리 로드\n",
    "from pyspark.sql import SparkSession"
   ]
  },
  {
   "cell_type": "code",
   "execution_count": 2,
   "metadata": {},
   "outputs": [
    {
     "name": "stderr",
     "output_type": "stream",
     "text": [
      "24/08/19 18:57:44 WARN Utils: Your hostname, adminui-MacBookPro-2.local resolves to a loopback address: 127.0.0.1; using 10.31.170.63 instead (on interface en0)\n",
      "24/08/19 18:57:44 WARN Utils: Set SPARK_LOCAL_IP if you need to bind to another address\n",
      "24/08/19 18:57:44 WARN NativeCodeLoader: Unable to load native-hadoop library for your platform... using builtin-java classes where applicable\n",
      "Setting default log level to \"WARN\".\n",
      "To adjust logging level use sc.setLogLevel(newLevel). For SparkR, use setLogLevel(newLevel).\n"
     ]
    }
   ],
   "source": [
    "# Redshift JDBC 드라이버 JAR 파일 경로\n",
    "driver_path = \"/Users/admin/Desktop/teamproject/softeer-team-project/EDA/wh/red_shift_demo/redshift-jdbc42-2.1.0.29/redshift-jdbc42-2.1.0.29.jar\"\n",
    "\n",
    "# SparkSession 생성 시 JDBC 드라이버 추가\n",
    "spark = SparkSession.builder \\\n",
    "    .appName(\"MyApp\") \\\n",
    "    .config(\"spark.jars\", driver_path) \\\n",
    "    .getOrCreate()"
   ]
  },
  {
   "cell_type": "code",
   "execution_count": 3,
   "metadata": {},
   "outputs": [],
   "source": [
    "import json\n",
    "\n",
    "# JSON 파일 경로\n",
    "json_file_path = 'properties.json'\n",
    "\n",
    "# JSON 파일 읽기\n",
    "with open(json_file_path, 'r') as file:\n",
    "    connection_properties = json.load(file)\n",
    "    \n",
    "# 예제 사용\n",
    "jdbc_url = connection_properties[\"jdbc_url\"]\n",
    "user = connection_properties[\"user\"]\n",
    "password = connection_properties[\"password\"]\n",
    "driver = connection_properties[\"driver\"]\n",
    "\n"
   ]
  },
  {
   "cell_type": "code",
   "execution_count": 4,
   "metadata": {},
   "outputs": [],
   "source": [
    "# 예제: model_result.csv 로드 이미 index가 있는 경우\n",
    "data_df = spark.read.csv('model_result.csv', header=True, inferSchema=True) \n",
    "\n",
    "# 0번 컬럼을 drop\n",
    "data_df = data_df.drop('_c0')\n",
    "\n",
    "# 5개의 행만 남기고 나머지는 제거\n",
    "data_df = data_df.limit(5)"
   ]
  },
  {
   "cell_type": "code",
   "execution_count": 5,
   "metadata": {},
   "outputs": [
    {
     "name": "stdout",
     "output_type": "stream",
     "text": [
      "+-----+-------------------+--------------+---------+-------------+\n",
      "|index|                pdf|cumulative_num|post_type|relative_time|\n",
      "+-----+-------------------+--------------+---------+-------------+\n",
      "|    0|0.08452332244990605|             0|        1|            0|\n",
      "|    1|0.11541961535467207|             1|        1|            0|\n",
      "|    2| 0.1381065214831182|             2|        1|            0|\n",
      "|    3|0.14480389780038194|             3|        1|            0|\n",
      "|    4|0.13303864692462333|             4|        1|            0|\n",
      "+-----+-------------------+--------------+---------+-------------+\n",
      "\n"
     ]
    }
   ],
   "source": [
    "data_df.show()"
   ]
  },
  {
   "cell_type": "code",
   "execution_count": 6,
   "metadata": {},
   "outputs": [
    {
     "name": "stderr",
     "output_type": "stream",
     "text": [
      "24/08/19 18:57:53 WARN JdbcUtils: Requested isolation level 1 is not supported; falling back to default isolation level 8\n",
      "                                                                                \r"
     ]
    },
    {
     "name": "stderr",
     "output_type": "stream",
     "text": [
      "24/08/19 18:57:58 WARN GarbageCollectionMetrics: To enable non-built-in garbage collector(s) List(G1 Concurrent GC), users should configure it(them) to spark.eventLog.gcMetrics.youngGenerationGarbageCollectors or spark.eventLog.gcMetrics.oldGenerationGarbageCollectors\n"
     ]
    }
   ],
   "source": [
    "# DataFrame을 Redshift 테이블로 저장\n",
    "data_df.write.jdbc(\n",
    "    url=jdbc_url,\n",
    "    table=\"MODEL\",\n",
    "    mode=\"overwrite\",  # \"overwrite\" 또는 \"append\"\n",
    "    properties=connection_properties\n",
    ")\n",
    "\n"
   ]
  },
  {
   "cell_type": "code",
   "execution_count": null,
   "metadata": {},
   "outputs": [],
   "source": [
    "# conection close\n",
    "spark.stop()"
   ]
  }
 ],
 "metadata": {
  "kernelspec": {
   "display_name": ".venv",
   "language": "python",
   "name": "python3"
  },
  "language_info": {
   "codemirror_mode": {
    "name": "ipython",
    "version": 3
   },
   "file_extension": ".py",
   "mimetype": "text/x-python",
   "name": "python",
   "nbconvert_exporter": "python",
   "pygments_lexer": "ipython3",
   "version": "3.12.4"
  }
 },
 "nbformat": 4,
 "nbformat_minor": 2
}
