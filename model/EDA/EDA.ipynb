{
 "cells": [
  {
   "cell_type": "markdown",
   "metadata": {},
   "source": [
    "# 코나 화재"
   ]
  },
  {
   "cell_type": "code",
   "metadata": {
    "ExecuteTime": {
     "end_time": "2024-08-11T14:40:00.562711Z",
     "start_time": "2024-08-11T14:40:00.559906Z"
    }
   },
   "source": [
    "import time\n",
    "\n",
    "import pandas as pd\n",
    "import os\n",
    "import matplotlib.pyplot as plt\n",
    "import plotly.express as px\n",
    "import requests\n",
    "from bs4 import BeautifulSoup"
   ],
   "outputs": [],
   "execution_count": 26
  },
  {
   "cell_type": "code",
   "metadata": {
    "ExecuteTime": {
     "end_time": "2024-08-11T14:40:00.627217Z",
     "start_time": "2024-08-11T14:40:00.622937Z"
    }
   },
   "source": [
    "def filter_by_title_w_keyword(df, keywords):\n",
    "    temp = []\n",
    "    for keyword in keywords:\n",
    "        temp.append(df[df.title.str.contains(keyword)])\n",
    "    filtered_df = pd.concat(temp, axis=0).drop_duplicates()\n",
    "    return filtered_df"
   ],
   "outputs": [],
   "execution_count": 27
  },
  {
   "cell_type": "code",
   "metadata": {
    "ExecuteTime": {
     "end_time": "2024-08-11T14:40:00.643570Z",
     "start_time": "2024-08-11T14:40:00.640228Z"
    }
   },
   "source": [
    "def filter_by_content_w_keyword(df, keywords):\n",
    "    temp = []\n",
    "    for keyword in keywords:\n",
    "        temp.append(df[df.content.str.contains(keyword).astype(bool).fillna(False)])\n",
    "    filtered_df = pd.concat(temp, axis=0).drop_duplicates()\n",
    "    return filtered_df"
   ],
   "outputs": [],
   "execution_count": 28
  },
  {
   "cell_type": "code",
   "metadata": {
    "ExecuteTime": {
     "end_time": "2024-08-11T14:40:00.658597Z",
     "start_time": "2024-08-11T14:40:00.656084Z"
    }
   },
   "source": [
    "def filter_by_keyword(df, keywords):\n",
    "    title_filtered_df = filter_by_title_w_keyword(df, keywords)\n",
    "    content_filtered_df = filter_by_content_w_keyword(df, keywords)\n",
    "    filtered_df = pd.concat([title_filtered_df, content_filtered_df], axis=0).drop_duplicates()\n",
    "    return filtered_df"
   ],
   "outputs": [],
   "execution_count": 29
  },
  {
   "cell_type": "code",
   "metadata": {
    "ExecuteTime": {
     "end_time": "2024-08-11T14:40:00.683417Z",
     "start_time": "2024-08-11T14:40:00.680690Z"
    }
   },
   "source": [
    "def extract_day(datetime):\n",
    "    return datetime.split()[0]"
   ],
   "outputs": [],
   "execution_count": 30
  },
  {
   "cell_type": "code",
   "metadata": {
    "ExecuteTime": {
     "end_time": "2024-08-11T14:40:00.687661Z",
     "start_time": "2024-08-11T14:40:00.684424Z"
    }
   },
   "source": [
    "def date_formatting_fmkorea(datetime):\n",
    "    return datetime.replace('.', '-').strip() + \":00\".strip()"
   ],
   "outputs": [],
   "execution_count": 31
  },
  {
   "cell_type": "code",
   "metadata": {
    "ExecuteTime": {
     "end_time": "2024-08-11T14:40:00.703503Z",
     "start_time": "2024-08-11T14:40:00.700023Z"
    }
   },
   "source": [
    "def add_created_day_col(df):\n",
    "    df['created_day'] = df.created_at.map(extract_day)\n",
    "    return df"
   ],
   "outputs": [],
   "execution_count": 32
  },
  {
   "cell_type": "code",
   "metadata": {
    "ExecuteTime": {
     "end_time": "2024-08-11T14:40:00.710795Z",
     "start_time": "2024-08-11T14:40:00.704510Z"
    }
   },
   "source": [
    "def plot_per_day_post_conut_plotly(df, title):\n",
    "    full_date_daily = pd.date_range(start='2020-01-09', end='2024-06-25', freq='D').to_frame(index=False,\n",
    "                                                                                             name='full_range_date')\n",
    "    full_date_daily['full_range_date'] = full_date_daily['full_range_date'].astype(str)\n",
    "\n",
    "    temp_df = df.sort_values(by=['created_at'])\n",
    "    per_day_view = temp_df.loc[:, [\"created_day\", \"views\"]]\n",
    "    per_day_view = per_day_view.groupby(per_day_view.created_day)['views'].count().reset_index(name='count')\n",
    "\n",
    "    full_range_df = pd.merge(full_date_daily, per_day_view, left_on='full_range_date', right_on='created_day',\n",
    "                             how='left')\n",
    "    full_range_df = full_range_df.fillna(0)\n",
    "\n",
    "    # min max norm\n",
    "    # full_range_df['count'] /= full_range_df['count'].max()\n",
    "\n",
    "    fig = px.line(full_range_df, x=\"full_range_date\", y=\"count\", title=title)\n",
    "\n",
    "    y_max = int(full_range_df['count'].max())\n",
    "\n",
    "    # 세로선 추가 (x=3 위치에 세로선 그리기)\n",
    "    fig.add_shape(type=\"line\", x0=\"2020-10-08\", x1=\"2020-10-08\", y0=0, y1=y_max,\n",
    "                  line=dict(color=\"Red\", width=2, dash='dash'))\n",
    "    fig.add_shape(type=\"line\", x0=\"2021-03-22\", x1=\"2021-03-22\", y0=0, y1=y_max,\n",
    "                  line=dict(color=\"Red\", width=2, dash='dash'))\n",
    "    fig.add_shape(type=\"line\", x0=\"2023-02-28\", x1=\"2023-02-28\", y0=0, y1=y_max,\n",
    "                  line=dict(color=\"Red\", width=2, dash='dash'))\n",
    "    fig.add_shape(type=\"line\", x0=\"2023-04-13\", x1=\"2023-04-13\", y0=0, y1=y_max,\n",
    "                  line=dict(color=\"Red\", width=2, dash='dash'))\n",
    "\n",
    "    fig.add_shape(type=\"line\", x0=\"2020-10-17\", x1=\"2020-10-17\", y0=0, y1=y_max,\n",
    "                  line=dict(color=\"#79db93\", width=2, dash='dash'))\n",
    "    fig.add_shape(type=\"line\", x0=\"2020-09-26\", x1=\"2020-09-26\", y0=0, y1=y_max,\n",
    "                  line=dict(color=\"#79db93\", width=2, dash='dash'))\n",
    "    fig.add_shape(type=\"line\", x0=\"2020-10-04\", x1=\"2020-10-04\", y0=0, y1=y_max,\n",
    "                  line=dict(color=\"#79db93\", width=2, dash='dash'))\n",
    "    fig.add_shape(type=\"line\", x0=\"2021-01-24\", x1=\"2021-01-24\", y0=0, y1=y_max,\n",
    "                  line=dict(color=\"#79db93\", width=2, dash='dash'))\n",
    "    fig.add_shape(type=\"line\", x0=\"2021-06-23\", x1=\"2021-06-23\", y0=0, y1=y_max,\n",
    "                  line=dict(color=\"#79db93\", width=2, dash='dash'))\n",
    "    fig.add_shape(type=\"line\", x0=\"2021-07-01\", x1=\"2021-07-01\", y0=0, y1=y_max,\n",
    "                  line=dict(color=\"#79db93\", width=2, dash='dash'))\n",
    "    fig.add_shape(type=\"line\", x0=\"2022-01-12\", x1=\"2022-01-12\", y0=0, y1=y_max,\n",
    "                  line=dict(color=\"#79db93\", width=2, dash='dash'))\n",
    "    fig.add_shape(type=\"line\", x0=\"2021-02-24\", x1=\"2021-02-24\", y0=0, y1=y_max,\n",
    "                  line=dict(color=\"#79db93\", width=2, dash='dash'))\n",
    "\n",
    "    # plt.axvline(x=\"2020-09-26\", ymin=0, ymax=1, color='blue', linestyle='dotted') # 코나 화재 (제주)\n",
    "    # plt.axvline(x=\"2020-10-04\", ymin=0, ymax=1, color='blue', linestyle='dotted') # 코나 화재 (대구)\n",
    "    # plt.axvline(x=\"2021-06-23\", ymin=0, ymax=1, color='blue', linestyle='dotted') # 코나 화재 (보령)\n",
    "    # plt.axvline(x=\"2021-07-01\", ymin=0, ymax=1, color='blue', linestyle='dotted') # 코나 화재 (세종)\n",
    "    # plt.axvline(x=\"2022-10-17\", ymin=0, ymax=1, color='blue', linestyle='dotted') # 코나 화재 (남양주)\n",
    "\n",
    "    fig.update_layout(\n",
    "        title=title,\n",
    "        xaxis_title=\"X Axis\",\n",
    "        yaxis_title=\"Y Axis\"\n",
    "    )\n",
    "\n",
    "    fig.show()\n",
    "    return full_range_df"
   ],
   "outputs": [],
   "execution_count": 33
  },
  {
   "cell_type": "code",
   "metadata": {
    "ExecuteTime": {
     "end_time": "2024-08-11T14:40:00.729253Z",
     "start_time": "2024-08-11T14:40:00.724802Z"
    }
   },
   "source": [
    "def plot_per_day_post_conut_plt(df, title):\n",
    "    # x축이 될 column 생성\n",
    "    full_date_daily = pd.date_range(start='2020-01-09', end='2024-06-25', freq='D').to_frame(index=False,\n",
    "                                                                                             name='full_range_date')\n",
    "    full_date_daily['full_range_date'] = full_date_daily['full_range_date'].astype(str)\n",
    "\n",
    "    temp_df = df.sort_values(by=['created_at'])\n",
    "    per_day_view = temp_df.loc[:, [\"created_day\", \"views\"]]\n",
    "    per_day_view = per_day_view.groupby(per_day_view.created_day)['views'].count().reset_index(name='count')\n",
    "\n",
    "    full_range_df = pd.merge(full_date_daily, per_day_view, left_on='full_range_date', right_on='created_day',\n",
    "                             how='left')\n",
    "    full_range_df = full_range_df.fillna(0)\n",
    "\n",
    "    plt.figure(figsize=(30, 10))\n",
    "    plt.plot(full_range_df[\"full_range_date\"], full_range_df['count'])\n",
    "\n",
    "    plt.axvline(x=\"2020-10-08\", ymin=0, ymax=1, color='red',\n",
    "                linestyle='dotted')  # 2017년 9월 29일부터 2020년 3월 13일까지 생산된 코나 일렉트릭 25,564대를 리콜\n",
    "    plt.axvline(x=\"2021-03-22\", ymin=0, ymax=1, color='red', linestyle='dotted')  # 전량 배터리 리콜 결정\n",
    "    plt.axvline(x=\"2023-02-28\", ymin=0, ymax=1, color='red', linestyle='dotted')  # 코나 EV 2세대 디자인 필름 공개\n",
    "    plt.axvline(x=\"2023-04-13\", ymin=0, ymax=1, color='red', linestyle='dotted')  # 코나 EV 2세대 정식 출시\n",
    "\n",
    "    plt.axvline(x=\"2020-10-17\", ymin=0, ymax=1, color='blue', linestyle='dotted')  # 코나 화재 (남양주)\n",
    "    plt.axvline(x=\"2020-09-26\", ymin=0, ymax=1, color='blue', linestyle='dotted')  # 코나 화재 (제주)\n",
    "    plt.axvline(x=\"2020-10-04\", ymin=0, ymax=1, color='blue', linestyle='dotted')  # 코나 화재 (대구)\n",
    "    plt.axvline(x=\"2021-06-23\", ymin=0, ymax=1, color='blue', linestyle='dotted')  # 코나 화재 (보령)\n",
    "    plt.axvline(x=\"2021-07-01\", ymin=0, ymax=1, color='blue', linestyle='dotted')  # 코나 화재 (세종)\n",
    "\n",
    "    plt.title(title)\n",
    "    plt.show()\n",
    "    return full_range_df"
   ],
   "outputs": [],
   "execution_count": 34
  },
  {
   "cell_type": "code",
   "metadata": {
    "ExecuteTime": {
     "end_time": "2024-08-11T14:40:01.041341Z",
     "start_time": "2024-08-11T14:40:00.730260Z"
    }
   },
   "source": [
    "# read csv (posts)\n",
    "# clien_posts_df = pd.read_csv('data/clien_posts.csv')  \n",
    "# clien_posts_df['from'] = 'clien'\n",
    "# fm_korea_posts_df = pd.read_csv('data/fmkorea_posts.csv') \n",
    "# fm_korea_posts_df['from'] = 'fm_korea'\n",
    "# fm_korea_posts_df.created_at = fm_korea_posts_df.created_at.apply(date_formatting_fmkorea)\n",
    "# 특정 폴더 경로\n",
    "folder_path = '../resources/코나 화재/naver_cafe/posts'\n",
    "\n",
    "# 모든 CSV 파일을 저장할 리스트\n",
    "csv_files = []\n",
    "\n",
    "# 재귀적으로 폴더 탐색\n",
    "for root, dirs, files in os.walk(folder_path):\n",
    "    for file in files:\n",
    "        if file.endswith('.csv'):\n",
    "            csv_files.append(os.path.join(root, file))\n",
    "# 모든 CSV 파일을 읽어 DataFrame으로 결합\n",
    "dataframes = [pd.read_csv(file) for file in csv_files]\n",
    "naver_cafe_posts_df = pd.concat(dataframes, ignore_index=True)\n",
    "naver_cafe_posts_df['from'] = 'naver_cafe'\n",
    "\n",
    "# posts_df = pd.concat([clien_posts_df, fm_korea_posts_df, naver_cafe_posts_df], axis=0)\n",
    "# assert len(posts_df)==(len(clien_posts_df)+len(fm_korea_posts_df)+len(naver_cafe_posts_df))"
   ],
   "outputs": [],
   "execution_count": 35
  },
  {
   "cell_type": "code",
   "metadata": {
    "ExecuteTime": {
     "end_time": "2024-08-11T14:40:01.085473Z",
     "start_time": "2024-08-11T14:40:01.043185Z"
    }
   },
   "source": [
    "keywords = ['코나', '화재']\n",
    "\n",
    "# clien_posts_df = filter_by_keyword(clien_posts_df, keywords)\n",
    "# clien_posts_df = add_created_day_col(clien_posts_df)\n",
    "\n",
    "# fm_korea_posts_df = filter_by_keyword(fm_korea_posts_df, keywords)\n",
    "# fm_korea_posts_df = add_created_day_col(fm_korea_posts_df)\n",
    "\n",
    "naver_cafe_posts_df = filter_by_keyword(naver_cafe_posts_df, keywords)\n",
    "naver_cafe_posts_df = add_created_day_col(naver_cafe_posts_df)\n",
    "naver_cafe_posts_df = naver_cafe_posts_df.sort_values(by=['created_at'])\n",
    "# posts_df = filter_by_keyword(posts_df, keywords)\n",
    "# posts_df = add_created_day_col(posts_df)"
   ],
   "outputs": [],
   "execution_count": 36
  },
  {
   "cell_type": "markdown",
   "metadata": {},
   "source": [
    "# EDA"
   ]
  },
  {
   "metadata": {
    "ExecuteTime": {
     "end_time": "2024-08-11T14:48:27.156654Z",
     "start_time": "2024-08-11T14:41:40.929461Z"
    }
   },
   "cell_type": "code",
   "source": [
    "from selenium import webdriver\n",
    "\n",
    "post_count_per_day = naver_cafe_posts_df.groupby('created_day').size()\n",
    "driver = webdriver.Chrome()\n",
    "news_count = {} \n",
    "for date in post_count_per_day[post_count_per_day >= 3].index:\n",
    "    url = f\"https://www.google.com/search?q=%EC%BD%94%EB%82%98+%ED%99%94%EC%9E%AC+intitle%3A%EC%BD%94%EB%82%98+OR+intitle%3A%ED%99%94%EC%9E%AC&tbs=cdr%3A1%2Ccd_min%3A{\"\".join(date.split(\"-\"))}%2Ccd_max%3A{\"\".join(date.split(\"-\"))}&tbm=nws\"\n",
    "    driver.get(url)\n",
    "    time.sleep(2)\n",
    "    bs = BeautifulSoup(driver.page_source, 'html.parser')\n",
    "    news_count[date] = len(bs.find_all('div', attrs={'data-news-cluster-id': True}))\n",
    "    \n",
    "print(news_count)\n",
    "# 날짜별 올라온 뉴스 수 (예시로 임의의 값을 사용, 실제 데이터로 교체)\n",
    "news_count_per_day = pd.Series(news_count)\n",
    "# 날짜 범위 생성\n",
    "date_range = pd.date_range(start=min(post_count_per_day.index.min(), news_count_per_day.index.min()),\n",
    "                           end=max(post_count_per_day.index.max(), news_count_per_day.index.max()))\n",
    "\n",
    "# 데이터프레임으로 통합\n",
    "combined_df = pd.DataFrame(index=date_range)\n",
    "post_count_per_day.index = pd.to_datetime(post_count_per_day.index)\n",
    "news_count_per_day.index = pd.to_datetime(news_count_per_day.index)\n",
    "\n",
    "combined_df['post_count'] = post_count_per_day\n",
    "combined_df['news_count'] = news_count_per_day\n",
    "\n",
    "# NaN 값을 0으로 대체\n",
    "combined_df.fillna(0, inplace=True)\n",
    "\n",
    "# news_count가 0인 경우 제외\n",
    "combined_df = combined_df[combined_df['news_count'] > 0]\n",
    "# 두 값을 나누기z\n",
    "combined_df['ratio'] = combined_df['post_count'] / combined_df['news_count']  # 0으로 나누기 방지\n",
    "print(combined_df)"
   ],
   "outputs": [],
   "execution_count": null
  },
  {
   "metadata": {},
   "cell_type": "markdown",
   "source": "# 2020년 10월 7일 실제로 게시글 확인해보면 그냥 코나 화재 관련해서 지들끼리 싸움나서 게시글이 많음"
  },
  {
   "metadata": {
    "ExecuteTime": {
     "end_time": "2024-08-11T14:54:13.982590Z",
     "start_time": "2024-08-11T14:54:13.951522Z"
    }
   },
   "cell_type": "code",
   "source": [
    "\n",
    "# Plotly를 사용하여 그래프 시각화\n",
    "fig = px.line(combined_df, x=combined_df.index, y='ratio',\n",
    "              title='날짜당 생성된 게시물 수와 뉴스 수의 비율',\n",
    "              labels={'index': '날짜', 'ratio': '비율'},\n",
    "              text='ratio')\n",
    "\n",
    "# 그래프 레이아웃 조정\n",
    "fig.update_layout(xaxis_tickformat='%Y-%m-%d', xaxis_title='날짜', yaxis_title='비율')\n",
    "fig.show()\n",
    "\n"
   ],
   "outputs": [
    {
     "data": {
      "application/vnd.plotly.v1+json": {
       "data": [
        {
         "hovertemplate": "날짜=%{x}<br>비율=%{text}<extra></extra>",
         "legendgroup": "",
         "line": {
          "color": "#636efa",
          "dash": "solid"
         },
         "marker": {
          "symbol": "circle"
         },
         "mode": "lines+markers+text",
         "name": "",
         "orientation": "v",
         "showlegend": false,
         "text": [
          4.0,
          3.0,
          2.4,
          3.0,
          2.5,
          10.6,
          6.9,
          4.0,
          18.5,
          5.625,
          5.2,
          7.666666666666667,
          4.25,
          1.4285714285714286,
          2.4,
          3.1666666666666665,
          1.4444444444444444,
          0.75,
          5.666666666666667,
          2.2,
          4.6,
          1.8,
          12.0,
          1.5,
          7.0,
          7.0,
          13.0,
          12.0,
          6.0,
          3.0,
          8.0,
          3.0,
          5.5,
          8.0,
          7.0,
          2.0,
          3.0,
          1.5,
          3.0,
          2.0,
          1.6666666666666667,
          2.0,
          0.75,
          4.0,
          3.0,
          3.0,
          3.0,
          0.6666666666666666,
          5.333333333333333,
          8.25,
          5.666666666666667,
          4.333333333333333,
          4.666666666666667,
          10.0,
          10.0,
          9.0,
          2.4285714285714284,
          2.2,
          4.333333333333333,
          2.0,
          3.5,
          6.0,
          2.3333333333333335,
          3.1,
          0.5,
          3.0,
          1.5,
          1.5,
          3.0,
          3.0,
          1.3333333333333333,
          6.0,
          2.4,
          3.0,
          5.0,
          2.2857142857142856,
          4.0,
          7.0,
          1.5,
          1.4285714285714286,
          1.5,
          1.5,
          1.3333333333333333,
          3.0,
          3.0,
          3.5,
          5.0,
          3.0,
          3.0
         ],
         "x": [
          "2020-05-31T00:00:00",
          "2020-09-01T00:00:00",
          "2020-09-02T00:00:00",
          "2020-09-04T00:00:00",
          "2020-09-27T00:00:00",
          "2020-10-04T00:00:00",
          "2020-10-05T00:00:00",
          "2020-10-06T00:00:00",
          "2020-10-07T00:00:00",
          "2020-10-08T00:00:00",
          "2020-10-09T00:00:00",
          "2020-10-10T00:00:00",
          "2020-10-11T00:00:00",
          "2020-10-12T00:00:00",
          "2020-10-13T00:00:00",
          "2020-10-14T00:00:00",
          "2020-10-15T00:00:00",
          "2020-10-16T00:00:00",
          "2020-10-17T00:00:00",
          "2020-10-18T00:00:00",
          "2020-10-19T00:00:00",
          "2020-10-20T00:00:00",
          "2020-10-21T00:00:00",
          "2020-10-22T00:00:00",
          "2020-10-23T00:00:00",
          "2020-10-24T00:00:00",
          "2020-10-26T00:00:00",
          "2020-10-27T00:00:00",
          "2020-10-28T00:00:00",
          "2020-10-29T00:00:00",
          "2020-11-01T00:00:00",
          "2020-11-02T00:00:00",
          "2020-11-03T00:00:00",
          "2020-11-04T00:00:00",
          "2020-11-05T00:00:00",
          "2020-11-06T00:00:00",
          "2020-11-10T00:00:00",
          "2020-11-11T00:00:00",
          "2020-11-12T00:00:00",
          "2020-11-13T00:00:00",
          "2020-11-14T00:00:00",
          "2020-11-16T00:00:00",
          "2020-11-18T00:00:00",
          "2020-11-19T00:00:00",
          "2020-11-26T00:00:00",
          "2020-12-02T00:00:00",
          "2020-12-03T00:00:00",
          "2020-12-08T00:00:00",
          "2021-01-23T00:00:00",
          "2021-01-24T00:00:00",
          "2021-01-25T00:00:00",
          "2021-01-26T00:00:00",
          "2021-01-27T00:00:00",
          "2021-01-28T00:00:00",
          "2021-01-29T00:00:00",
          "2021-02-13T00:00:00",
          "2021-02-16T00:00:00",
          "2021-02-17T00:00:00",
          "2021-02-18T00:00:00",
          "2021-02-19T00:00:00",
          "2021-02-20T00:00:00",
          "2021-02-22T00:00:00",
          "2021-02-23T00:00:00",
          "2021-02-24T00:00:00",
          "2021-02-25T00:00:00",
          "2021-03-05T00:00:00",
          "2021-03-08T00:00:00",
          "2021-03-10T00:00:00",
          "2021-03-22T00:00:00",
          "2021-03-31T00:00:00",
          "2021-04-08T00:00:00",
          "2021-06-23T00:00:00",
          "2021-06-24T00:00:00",
          "2021-06-29T00:00:00",
          "2021-06-30T00:00:00",
          "2021-07-01T00:00:00",
          "2021-07-02T00:00:00",
          "2021-08-02T00:00:00",
          "2021-08-23T00:00:00",
          "2022-01-12T00:00:00",
          "2022-02-14T00:00:00",
          "2022-02-22T00:00:00",
          "2023-01-10T00:00:00",
          "2023-01-28T00:00:00",
          "2023-04-15T00:00:00",
          "2023-05-24T00:00:00",
          "2024-03-11T00:00:00",
          "2024-03-25T00:00:00",
          "2024-04-02T00:00:00"
         ],
         "xaxis": "x",
         "y": [
          4.0,
          3.0,
          2.4,
          3.0,
          2.5,
          10.6,
          6.9,
          4.0,
          18.5,
          5.625,
          5.2,
          7.666666666666667,
          4.25,
          1.4285714285714286,
          2.4,
          3.1666666666666665,
          1.4444444444444444,
          0.75,
          5.666666666666667,
          2.2,
          4.6,
          1.8,
          12.0,
          1.5,
          7.0,
          7.0,
          13.0,
          12.0,
          6.0,
          3.0,
          8.0,
          3.0,
          5.5,
          8.0,
          7.0,
          2.0,
          3.0,
          1.5,
          3.0,
          2.0,
          1.6666666666666667,
          2.0,
          0.75,
          4.0,
          3.0,
          3.0,
          3.0,
          0.6666666666666666,
          5.333333333333333,
          8.25,
          5.666666666666667,
          4.333333333333333,
          4.666666666666667,
          10.0,
          10.0,
          9.0,
          2.4285714285714284,
          2.2,
          4.333333333333333,
          2.0,
          3.5,
          6.0,
          2.3333333333333335,
          3.1,
          0.5,
          3.0,
          1.5,
          1.5,
          3.0,
          3.0,
          1.3333333333333333,
          6.0,
          2.4,
          3.0,
          5.0,
          2.2857142857142856,
          4.0,
          7.0,
          1.5,
          1.4285714285714286,
          1.5,
          1.5,
          1.3333333333333333,
          3.0,
          3.0,
          3.5,
          5.0,
          3.0,
          3.0
         ],
         "yaxis": "y",
         "type": "scatter"
        }
       ],
       "layout": {
        "template": {
         "data": {
          "histogram2dcontour": [
           {
            "type": "histogram2dcontour",
            "colorbar": {
             "outlinewidth": 0,
             "ticks": ""
            },
            "colorscale": [
             [
              0.0,
              "#0d0887"
             ],
             [
              0.1111111111111111,
              "#46039f"
             ],
             [
              0.2222222222222222,
              "#7201a8"
             ],
             [
              0.3333333333333333,
              "#9c179e"
             ],
             [
              0.4444444444444444,
              "#bd3786"
             ],
             [
              0.5555555555555556,
              "#d8576b"
             ],
             [
              0.6666666666666666,
              "#ed7953"
             ],
             [
              0.7777777777777778,
              "#fb9f3a"
             ],
             [
              0.8888888888888888,
              "#fdca26"
             ],
             [
              1.0,
              "#f0f921"
             ]
            ]
           }
          ],
          "choropleth": [
           {
            "type": "choropleth",
            "colorbar": {
             "outlinewidth": 0,
             "ticks": ""
            }
           }
          ],
          "histogram2d": [
           {
            "type": "histogram2d",
            "colorbar": {
             "outlinewidth": 0,
             "ticks": ""
            },
            "colorscale": [
             [
              0.0,
              "#0d0887"
             ],
             [
              0.1111111111111111,
              "#46039f"
             ],
             [
              0.2222222222222222,
              "#7201a8"
             ],
             [
              0.3333333333333333,
              "#9c179e"
             ],
             [
              0.4444444444444444,
              "#bd3786"
             ],
             [
              0.5555555555555556,
              "#d8576b"
             ],
             [
              0.6666666666666666,
              "#ed7953"
             ],
             [
              0.7777777777777778,
              "#fb9f3a"
             ],
             [
              0.8888888888888888,
              "#fdca26"
             ],
             [
              1.0,
              "#f0f921"
             ]
            ]
           }
          ],
          "heatmap": [
           {
            "type": "heatmap",
            "colorbar": {
             "outlinewidth": 0,
             "ticks": ""
            },
            "colorscale": [
             [
              0.0,
              "#0d0887"
             ],
             [
              0.1111111111111111,
              "#46039f"
             ],
             [
              0.2222222222222222,
              "#7201a8"
             ],
             [
              0.3333333333333333,
              "#9c179e"
             ],
             [
              0.4444444444444444,
              "#bd3786"
             ],
             [
              0.5555555555555556,
              "#d8576b"
             ],
             [
              0.6666666666666666,
              "#ed7953"
             ],
             [
              0.7777777777777778,
              "#fb9f3a"
             ],
             [
              0.8888888888888888,
              "#fdca26"
             ],
             [
              1.0,
              "#f0f921"
             ]
            ]
           }
          ],
          "heatmapgl": [
           {
            "type": "heatmapgl",
            "colorbar": {
             "outlinewidth": 0,
             "ticks": ""
            },
            "colorscale": [
             [
              0.0,
              "#0d0887"
             ],
             [
              0.1111111111111111,
              "#46039f"
             ],
             [
              0.2222222222222222,
              "#7201a8"
             ],
             [
              0.3333333333333333,
              "#9c179e"
             ],
             [
              0.4444444444444444,
              "#bd3786"
             ],
             [
              0.5555555555555556,
              "#d8576b"
             ],
             [
              0.6666666666666666,
              "#ed7953"
             ],
             [
              0.7777777777777778,
              "#fb9f3a"
             ],
             [
              0.8888888888888888,
              "#fdca26"
             ],
             [
              1.0,
              "#f0f921"
             ]
            ]
           }
          ],
          "contourcarpet": [
           {
            "type": "contourcarpet",
            "colorbar": {
             "outlinewidth": 0,
             "ticks": ""
            }
           }
          ],
          "contour": [
           {
            "type": "contour",
            "colorbar": {
             "outlinewidth": 0,
             "ticks": ""
            },
            "colorscale": [
             [
              0.0,
              "#0d0887"
             ],
             [
              0.1111111111111111,
              "#46039f"
             ],
             [
              0.2222222222222222,
              "#7201a8"
             ],
             [
              0.3333333333333333,
              "#9c179e"
             ],
             [
              0.4444444444444444,
              "#bd3786"
             ],
             [
              0.5555555555555556,
              "#d8576b"
             ],
             [
              0.6666666666666666,
              "#ed7953"
             ],
             [
              0.7777777777777778,
              "#fb9f3a"
             ],
             [
              0.8888888888888888,
              "#fdca26"
             ],
             [
              1.0,
              "#f0f921"
             ]
            ]
           }
          ],
          "surface": [
           {
            "type": "surface",
            "colorbar": {
             "outlinewidth": 0,
             "ticks": ""
            },
            "colorscale": [
             [
              0.0,
              "#0d0887"
             ],
             [
              0.1111111111111111,
              "#46039f"
             ],
             [
              0.2222222222222222,
              "#7201a8"
             ],
             [
              0.3333333333333333,
              "#9c179e"
             ],
             [
              0.4444444444444444,
              "#bd3786"
             ],
             [
              0.5555555555555556,
              "#d8576b"
             ],
             [
              0.6666666666666666,
              "#ed7953"
             ],
             [
              0.7777777777777778,
              "#fb9f3a"
             ],
             [
              0.8888888888888888,
              "#fdca26"
             ],
             [
              1.0,
              "#f0f921"
             ]
            ]
           }
          ],
          "mesh3d": [
           {
            "type": "mesh3d",
            "colorbar": {
             "outlinewidth": 0,
             "ticks": ""
            }
           }
          ],
          "scatter": [
           {
            "marker": {
             "line": {
              "color": "#283442"
             }
            },
            "type": "scatter"
           }
          ],
          "parcoords": [
           {
            "type": "parcoords",
            "line": {
             "colorbar": {
              "outlinewidth": 0,
              "ticks": ""
             }
            }
           }
          ],
          "scatterpolargl": [
           {
            "type": "scatterpolargl",
            "marker": {
             "colorbar": {
              "outlinewidth": 0,
              "ticks": ""
             }
            }
           }
          ],
          "bar": [
           {
            "error_x": {
             "color": "#f2f5fa"
            },
            "error_y": {
             "color": "#f2f5fa"
            },
            "marker": {
             "line": {
              "color": "rgb(17,17,17)",
              "width": 0.5
             },
             "pattern": {
              "fillmode": "overlay",
              "size": 10,
              "solidity": 0.2
             }
            },
            "type": "bar"
           }
          ],
          "scattergeo": [
           {
            "type": "scattergeo",
            "marker": {
             "colorbar": {
              "outlinewidth": 0,
              "ticks": ""
             }
            }
           }
          ],
          "scatterpolar": [
           {
            "type": "scatterpolar",
            "marker": {
             "colorbar": {
              "outlinewidth": 0,
              "ticks": ""
             }
            }
           }
          ],
          "histogram": [
           {
            "marker": {
             "pattern": {
              "fillmode": "overlay",
              "size": 10,
              "solidity": 0.2
             }
            },
            "type": "histogram"
           }
          ],
          "scattergl": [
           {
            "marker": {
             "line": {
              "color": "#283442"
             }
            },
            "type": "scattergl"
           }
          ],
          "scatter3d": [
           {
            "type": "scatter3d",
            "line": {
             "colorbar": {
              "outlinewidth": 0,
              "ticks": ""
             }
            },
            "marker": {
             "colorbar": {
              "outlinewidth": 0,
              "ticks": ""
             }
            }
           }
          ],
          "scattermapbox": [
           {
            "type": "scattermapbox",
            "marker": {
             "colorbar": {
              "outlinewidth": 0,
              "ticks": ""
             }
            }
           }
          ],
          "scatterternary": [
           {
            "type": "scatterternary",
            "marker": {
             "colorbar": {
              "outlinewidth": 0,
              "ticks": ""
             }
            }
           }
          ],
          "scattercarpet": [
           {
            "type": "scattercarpet",
            "marker": {
             "colorbar": {
              "outlinewidth": 0,
              "ticks": ""
             }
            }
           }
          ],
          "carpet": [
           {
            "aaxis": {
             "endlinecolor": "#A2B1C6",
             "gridcolor": "#506784",
             "linecolor": "#506784",
             "minorgridcolor": "#506784",
             "startlinecolor": "#A2B1C6"
            },
            "baxis": {
             "endlinecolor": "#A2B1C6",
             "gridcolor": "#506784",
             "linecolor": "#506784",
             "minorgridcolor": "#506784",
             "startlinecolor": "#A2B1C6"
            },
            "type": "carpet"
           }
          ],
          "table": [
           {
            "cells": {
             "fill": {
              "color": "#506784"
             },
             "line": {
              "color": "rgb(17,17,17)"
             }
            },
            "header": {
             "fill": {
              "color": "#2a3f5f"
             },
             "line": {
              "color": "rgb(17,17,17)"
             }
            },
            "type": "table"
           }
          ],
          "barpolar": [
           {
            "marker": {
             "line": {
              "color": "rgb(17,17,17)",
              "width": 0.5
             },
             "pattern": {
              "fillmode": "overlay",
              "size": 10,
              "solidity": 0.2
             }
            },
            "type": "barpolar"
           }
          ],
          "pie": [
           {
            "automargin": true,
            "type": "pie"
           }
          ]
         },
         "layout": {
          "autotypenumbers": "strict",
          "colorway": [
           "#636efa",
           "#EF553B",
           "#00cc96",
           "#ab63fa",
           "#FFA15A",
           "#19d3f3",
           "#FF6692",
           "#B6E880",
           "#FF97FF",
           "#FECB52"
          ],
          "font": {
           "color": "#f2f5fa"
          },
          "hovermode": "closest",
          "hoverlabel": {
           "align": "left"
          },
          "paper_bgcolor": "rgb(17,17,17)",
          "plot_bgcolor": "rgb(17,17,17)",
          "polar": {
           "bgcolor": "rgb(17,17,17)",
           "angularaxis": {
            "gridcolor": "#506784",
            "linecolor": "#506784",
            "ticks": ""
           },
           "radialaxis": {
            "gridcolor": "#506784",
            "linecolor": "#506784",
            "ticks": ""
           }
          },
          "ternary": {
           "bgcolor": "rgb(17,17,17)",
           "aaxis": {
            "gridcolor": "#506784",
            "linecolor": "#506784",
            "ticks": ""
           },
           "baxis": {
            "gridcolor": "#506784",
            "linecolor": "#506784",
            "ticks": ""
           },
           "caxis": {
            "gridcolor": "#506784",
            "linecolor": "#506784",
            "ticks": ""
           }
          },
          "coloraxis": {
           "colorbar": {
            "outlinewidth": 0,
            "ticks": ""
           }
          },
          "colorscale": {
           "sequential": [
            [
             0.0,
             "#0d0887"
            ],
            [
             0.1111111111111111,
             "#46039f"
            ],
            [
             0.2222222222222222,
             "#7201a8"
            ],
            [
             0.3333333333333333,
             "#9c179e"
            ],
            [
             0.4444444444444444,
             "#bd3786"
            ],
            [
             0.5555555555555556,
             "#d8576b"
            ],
            [
             0.6666666666666666,
             "#ed7953"
            ],
            [
             0.7777777777777778,
             "#fb9f3a"
            ],
            [
             0.8888888888888888,
             "#fdca26"
            ],
            [
             1.0,
             "#f0f921"
            ]
           ],
           "sequentialminus": [
            [
             0.0,
             "#0d0887"
            ],
            [
             0.1111111111111111,
             "#46039f"
            ],
            [
             0.2222222222222222,
             "#7201a8"
            ],
            [
             0.3333333333333333,
             "#9c179e"
            ],
            [
             0.4444444444444444,
             "#bd3786"
            ],
            [
             0.5555555555555556,
             "#d8576b"
            ],
            [
             0.6666666666666666,
             "#ed7953"
            ],
            [
             0.7777777777777778,
             "#fb9f3a"
            ],
            [
             0.8888888888888888,
             "#fdca26"
            ],
            [
             1.0,
             "#f0f921"
            ]
           ],
           "diverging": [
            [
             0,
             "#8e0152"
            ],
            [
             0.1,
             "#c51b7d"
            ],
            [
             0.2,
             "#de77ae"
            ],
            [
             0.3,
             "#f1b6da"
            ],
            [
             0.4,
             "#fde0ef"
            ],
            [
             0.5,
             "#f7f7f7"
            ],
            [
             0.6,
             "#e6f5d0"
            ],
            [
             0.7,
             "#b8e186"
            ],
            [
             0.8,
             "#7fbc41"
            ],
            [
             0.9,
             "#4d9221"
            ],
            [
             1,
             "#276419"
            ]
           ]
          },
          "xaxis": {
           "gridcolor": "#283442",
           "linecolor": "#506784",
           "ticks": "",
           "title": {
            "standoff": 15
           },
           "zerolinecolor": "#283442",
           "automargin": true,
           "zerolinewidth": 2
          },
          "yaxis": {
           "gridcolor": "#283442",
           "linecolor": "#506784",
           "ticks": "",
           "title": {
            "standoff": 15
           },
           "zerolinecolor": "#283442",
           "automargin": true,
           "zerolinewidth": 2
          },
          "scene": {
           "xaxis": {
            "backgroundcolor": "rgb(17,17,17)",
            "gridcolor": "#506784",
            "linecolor": "#506784",
            "showbackground": true,
            "ticks": "",
            "zerolinecolor": "#C8D4E3",
            "gridwidth": 2
           },
           "yaxis": {
            "backgroundcolor": "rgb(17,17,17)",
            "gridcolor": "#506784",
            "linecolor": "#506784",
            "showbackground": true,
            "ticks": "",
            "zerolinecolor": "#C8D4E3",
            "gridwidth": 2
           },
           "zaxis": {
            "backgroundcolor": "rgb(17,17,17)",
            "gridcolor": "#506784",
            "linecolor": "#506784",
            "showbackground": true,
            "ticks": "",
            "zerolinecolor": "#C8D4E3",
            "gridwidth": 2
           }
          },
          "shapedefaults": {
           "line": {
            "color": "#f2f5fa"
           }
          },
          "annotationdefaults": {
           "arrowcolor": "#f2f5fa",
           "arrowhead": 0,
           "arrowwidth": 1
          },
          "geo": {
           "bgcolor": "rgb(17,17,17)",
           "landcolor": "rgb(17,17,17)",
           "subunitcolor": "#506784",
           "showland": true,
           "showlakes": true,
           "lakecolor": "rgb(17,17,17)"
          },
          "title": {
           "x": 0.05
          },
          "updatemenudefaults": {
           "bgcolor": "#506784",
           "borderwidth": 0
          },
          "sliderdefaults": {
           "bgcolor": "#C8D4E3",
           "borderwidth": 1,
           "bordercolor": "rgb(17,17,17)",
           "tickwidth": 0
          },
          "mapbox": {
           "style": "dark"
          }
         }
        },
        "xaxis": {
         "anchor": "y",
         "domain": [
          0.0,
          1.0
         ],
         "title": {
          "text": "날짜"
         },
         "tickformat": "%Y-%m-%d"
        },
        "yaxis": {
         "anchor": "x",
         "domain": [
          0.0,
          1.0
         ],
         "title": {
          "text": "비율"
         }
        },
        "legend": {
         "tracegroupgap": 0
        },
        "title": {
         "text": "날짜당 생성된 게시물 수와 뉴스 수의 비율"
        }
       },
       "config": {
        "plotlyServerURL": "https://plot.ly"
       }
      },
      "text/html": [
       "<div>                            <div id=\"1f90fb46-6b9e-493e-b558-5bcdbeae976d\" class=\"plotly-graph-div\" style=\"height:525px; width:100%;\"></div>            <script type=\"text/javascript\">                require([\"plotly\"], function(Plotly) {                    window.PLOTLYENV=window.PLOTLYENV || {};                                    if (document.getElementById(\"1f90fb46-6b9e-493e-b558-5bcdbeae976d\")) {                    Plotly.newPlot(                        \"1f90fb46-6b9e-493e-b558-5bcdbeae976d\",                        [{\"hovertemplate\":\"\\ub0a0\\uc9dc=%{x}\\u003cbr\\u003e\\ube44\\uc728=%{text}\\u003cextra\\u003e\\u003c\\u002fextra\\u003e\",\"legendgroup\":\"\",\"line\":{\"color\":\"#636efa\",\"dash\":\"solid\"},\"marker\":{\"symbol\":\"circle\"},\"mode\":\"lines+markers+text\",\"name\":\"\",\"orientation\":\"v\",\"showlegend\":false,\"text\":[4.0,3.0,2.4,3.0,2.5,10.6,6.9,4.0,18.5,5.625,5.2,7.666666666666667,4.25,1.4285714285714286,2.4,3.1666666666666665,1.4444444444444444,0.75,5.666666666666667,2.2,4.6,1.8,12.0,1.5,7.0,7.0,13.0,12.0,6.0,3.0,8.0,3.0,5.5,8.0,7.0,2.0,3.0,1.5,3.0,2.0,1.6666666666666667,2.0,0.75,4.0,3.0,3.0,3.0,0.6666666666666666,5.333333333333333,8.25,5.666666666666667,4.333333333333333,4.666666666666667,10.0,10.0,9.0,2.4285714285714284,2.2,4.333333333333333,2.0,3.5,6.0,2.3333333333333335,3.1,0.5,3.0,1.5,1.5,3.0,3.0,1.3333333333333333,6.0,2.4,3.0,5.0,2.2857142857142856,4.0,7.0,1.5,1.4285714285714286,1.5,1.5,1.3333333333333333,3.0,3.0,3.5,5.0,3.0,3.0],\"x\":[\"2020-05-31T00:00:00\",\"2020-09-01T00:00:00\",\"2020-09-02T00:00:00\",\"2020-09-04T00:00:00\",\"2020-09-27T00:00:00\",\"2020-10-04T00:00:00\",\"2020-10-05T00:00:00\",\"2020-10-06T00:00:00\",\"2020-10-07T00:00:00\",\"2020-10-08T00:00:00\",\"2020-10-09T00:00:00\",\"2020-10-10T00:00:00\",\"2020-10-11T00:00:00\",\"2020-10-12T00:00:00\",\"2020-10-13T00:00:00\",\"2020-10-14T00:00:00\",\"2020-10-15T00:00:00\",\"2020-10-16T00:00:00\",\"2020-10-17T00:00:00\",\"2020-10-18T00:00:00\",\"2020-10-19T00:00:00\",\"2020-10-20T00:00:00\",\"2020-10-21T00:00:00\",\"2020-10-22T00:00:00\",\"2020-10-23T00:00:00\",\"2020-10-24T00:00:00\",\"2020-10-26T00:00:00\",\"2020-10-27T00:00:00\",\"2020-10-28T00:00:00\",\"2020-10-29T00:00:00\",\"2020-11-01T00:00:00\",\"2020-11-02T00:00:00\",\"2020-11-03T00:00:00\",\"2020-11-04T00:00:00\",\"2020-11-05T00:00:00\",\"2020-11-06T00:00:00\",\"2020-11-10T00:00:00\",\"2020-11-11T00:00:00\",\"2020-11-12T00:00:00\",\"2020-11-13T00:00:00\",\"2020-11-14T00:00:00\",\"2020-11-16T00:00:00\",\"2020-11-18T00:00:00\",\"2020-11-19T00:00:00\",\"2020-11-26T00:00:00\",\"2020-12-02T00:00:00\",\"2020-12-03T00:00:00\",\"2020-12-08T00:00:00\",\"2021-01-23T00:00:00\",\"2021-01-24T00:00:00\",\"2021-01-25T00:00:00\",\"2021-01-26T00:00:00\",\"2021-01-27T00:00:00\",\"2021-01-28T00:00:00\",\"2021-01-29T00:00:00\",\"2021-02-13T00:00:00\",\"2021-02-16T00:00:00\",\"2021-02-17T00:00:00\",\"2021-02-18T00:00:00\",\"2021-02-19T00:00:00\",\"2021-02-20T00:00:00\",\"2021-02-22T00:00:00\",\"2021-02-23T00:00:00\",\"2021-02-24T00:00:00\",\"2021-02-25T00:00:00\",\"2021-03-05T00:00:00\",\"2021-03-08T00:00:00\",\"2021-03-10T00:00:00\",\"2021-03-22T00:00:00\",\"2021-03-31T00:00:00\",\"2021-04-08T00:00:00\",\"2021-06-23T00:00:00\",\"2021-06-24T00:00:00\",\"2021-06-29T00:00:00\",\"2021-06-30T00:00:00\",\"2021-07-01T00:00:00\",\"2021-07-02T00:00:00\",\"2021-08-02T00:00:00\",\"2021-08-23T00:00:00\",\"2022-01-12T00:00:00\",\"2022-02-14T00:00:00\",\"2022-02-22T00:00:00\",\"2023-01-10T00:00:00\",\"2023-01-28T00:00:00\",\"2023-04-15T00:00:00\",\"2023-05-24T00:00:00\",\"2024-03-11T00:00:00\",\"2024-03-25T00:00:00\",\"2024-04-02T00:00:00\"],\"xaxis\":\"x\",\"y\":[4.0,3.0,2.4,3.0,2.5,10.6,6.9,4.0,18.5,5.625,5.2,7.666666666666667,4.25,1.4285714285714286,2.4,3.1666666666666665,1.4444444444444444,0.75,5.666666666666667,2.2,4.6,1.8,12.0,1.5,7.0,7.0,13.0,12.0,6.0,3.0,8.0,3.0,5.5,8.0,7.0,2.0,3.0,1.5,3.0,2.0,1.6666666666666667,2.0,0.75,4.0,3.0,3.0,3.0,0.6666666666666666,5.333333333333333,8.25,5.666666666666667,4.333333333333333,4.666666666666667,10.0,10.0,9.0,2.4285714285714284,2.2,4.333333333333333,2.0,3.5,6.0,2.3333333333333335,3.1,0.5,3.0,1.5,1.5,3.0,3.0,1.3333333333333333,6.0,2.4,3.0,5.0,2.2857142857142856,4.0,7.0,1.5,1.4285714285714286,1.5,1.5,1.3333333333333333,3.0,3.0,3.5,5.0,3.0,3.0],\"yaxis\":\"y\",\"type\":\"scatter\"}],                        {\"template\":{\"data\":{\"histogram2dcontour\":[{\"type\":\"histogram2dcontour\",\"colorbar\":{\"outlinewidth\":0,\"ticks\":\"\"},\"colorscale\":[[0.0,\"#0d0887\"],[0.1111111111111111,\"#46039f\"],[0.2222222222222222,\"#7201a8\"],[0.3333333333333333,\"#9c179e\"],[0.4444444444444444,\"#bd3786\"],[0.5555555555555556,\"#d8576b\"],[0.6666666666666666,\"#ed7953\"],[0.7777777777777778,\"#fb9f3a\"],[0.8888888888888888,\"#fdca26\"],[1.0,\"#f0f921\"]]}],\"choropleth\":[{\"type\":\"choropleth\",\"colorbar\":{\"outlinewidth\":0,\"ticks\":\"\"}}],\"histogram2d\":[{\"type\":\"histogram2d\",\"colorbar\":{\"outlinewidth\":0,\"ticks\":\"\"},\"colorscale\":[[0.0,\"#0d0887\"],[0.1111111111111111,\"#46039f\"],[0.2222222222222222,\"#7201a8\"],[0.3333333333333333,\"#9c179e\"],[0.4444444444444444,\"#bd3786\"],[0.5555555555555556,\"#d8576b\"],[0.6666666666666666,\"#ed7953\"],[0.7777777777777778,\"#fb9f3a\"],[0.8888888888888888,\"#fdca26\"],[1.0,\"#f0f921\"]]}],\"heatmap\":[{\"type\":\"heatmap\",\"colorbar\":{\"outlinewidth\":0,\"ticks\":\"\"},\"colorscale\":[[0.0,\"#0d0887\"],[0.1111111111111111,\"#46039f\"],[0.2222222222222222,\"#7201a8\"],[0.3333333333333333,\"#9c179e\"],[0.4444444444444444,\"#bd3786\"],[0.5555555555555556,\"#d8576b\"],[0.6666666666666666,\"#ed7953\"],[0.7777777777777778,\"#fb9f3a\"],[0.8888888888888888,\"#fdca26\"],[1.0,\"#f0f921\"]]}],\"heatmapgl\":[{\"type\":\"heatmapgl\",\"colorbar\":{\"outlinewidth\":0,\"ticks\":\"\"},\"colorscale\":[[0.0,\"#0d0887\"],[0.1111111111111111,\"#46039f\"],[0.2222222222222222,\"#7201a8\"],[0.3333333333333333,\"#9c179e\"],[0.4444444444444444,\"#bd3786\"],[0.5555555555555556,\"#d8576b\"],[0.6666666666666666,\"#ed7953\"],[0.7777777777777778,\"#fb9f3a\"],[0.8888888888888888,\"#fdca26\"],[1.0,\"#f0f921\"]]}],\"contourcarpet\":[{\"type\":\"contourcarpet\",\"colorbar\":{\"outlinewidth\":0,\"ticks\":\"\"}}],\"contour\":[{\"type\":\"contour\",\"colorbar\":{\"outlinewidth\":0,\"ticks\":\"\"},\"colorscale\":[[0.0,\"#0d0887\"],[0.1111111111111111,\"#46039f\"],[0.2222222222222222,\"#7201a8\"],[0.3333333333333333,\"#9c179e\"],[0.4444444444444444,\"#bd3786\"],[0.5555555555555556,\"#d8576b\"],[0.6666666666666666,\"#ed7953\"],[0.7777777777777778,\"#fb9f3a\"],[0.8888888888888888,\"#fdca26\"],[1.0,\"#f0f921\"]]}],\"surface\":[{\"type\":\"surface\",\"colorbar\":{\"outlinewidth\":0,\"ticks\":\"\"},\"colorscale\":[[0.0,\"#0d0887\"],[0.1111111111111111,\"#46039f\"],[0.2222222222222222,\"#7201a8\"],[0.3333333333333333,\"#9c179e\"],[0.4444444444444444,\"#bd3786\"],[0.5555555555555556,\"#d8576b\"],[0.6666666666666666,\"#ed7953\"],[0.7777777777777778,\"#fb9f3a\"],[0.8888888888888888,\"#fdca26\"],[1.0,\"#f0f921\"]]}],\"mesh3d\":[{\"type\":\"mesh3d\",\"colorbar\":{\"outlinewidth\":0,\"ticks\":\"\"}}],\"scatter\":[{\"marker\":{\"line\":{\"color\":\"#283442\"}},\"type\":\"scatter\"}],\"parcoords\":[{\"type\":\"parcoords\",\"line\":{\"colorbar\":{\"outlinewidth\":0,\"ticks\":\"\"}}}],\"scatterpolargl\":[{\"type\":\"scatterpolargl\",\"marker\":{\"colorbar\":{\"outlinewidth\":0,\"ticks\":\"\"}}}],\"bar\":[{\"error_x\":{\"color\":\"#f2f5fa\"},\"error_y\":{\"color\":\"#f2f5fa\"},\"marker\":{\"line\":{\"color\":\"rgb(17,17,17)\",\"width\":0.5},\"pattern\":{\"fillmode\":\"overlay\",\"size\":10,\"solidity\":0.2}},\"type\":\"bar\"}],\"scattergeo\":[{\"type\":\"scattergeo\",\"marker\":{\"colorbar\":{\"outlinewidth\":0,\"ticks\":\"\"}}}],\"scatterpolar\":[{\"type\":\"scatterpolar\",\"marker\":{\"colorbar\":{\"outlinewidth\":0,\"ticks\":\"\"}}}],\"histogram\":[{\"marker\":{\"pattern\":{\"fillmode\":\"overlay\",\"size\":10,\"solidity\":0.2}},\"type\":\"histogram\"}],\"scattergl\":[{\"marker\":{\"line\":{\"color\":\"#283442\"}},\"type\":\"scattergl\"}],\"scatter3d\":[{\"type\":\"scatter3d\",\"line\":{\"colorbar\":{\"outlinewidth\":0,\"ticks\":\"\"}},\"marker\":{\"colorbar\":{\"outlinewidth\":0,\"ticks\":\"\"}}}],\"scattermapbox\":[{\"type\":\"scattermapbox\",\"marker\":{\"colorbar\":{\"outlinewidth\":0,\"ticks\":\"\"}}}],\"scatterternary\":[{\"type\":\"scatterternary\",\"marker\":{\"colorbar\":{\"outlinewidth\":0,\"ticks\":\"\"}}}],\"scattercarpet\":[{\"type\":\"scattercarpet\",\"marker\":{\"colorbar\":{\"outlinewidth\":0,\"ticks\":\"\"}}}],\"carpet\":[{\"aaxis\":{\"endlinecolor\":\"#A2B1C6\",\"gridcolor\":\"#506784\",\"linecolor\":\"#506784\",\"minorgridcolor\":\"#506784\",\"startlinecolor\":\"#A2B1C6\"},\"baxis\":{\"endlinecolor\":\"#A2B1C6\",\"gridcolor\":\"#506784\",\"linecolor\":\"#506784\",\"minorgridcolor\":\"#506784\",\"startlinecolor\":\"#A2B1C6\"},\"type\":\"carpet\"}],\"table\":[{\"cells\":{\"fill\":{\"color\":\"#506784\"},\"line\":{\"color\":\"rgb(17,17,17)\"}},\"header\":{\"fill\":{\"color\":\"#2a3f5f\"},\"line\":{\"color\":\"rgb(17,17,17)\"}},\"type\":\"table\"}],\"barpolar\":[{\"marker\":{\"line\":{\"color\":\"rgb(17,17,17)\",\"width\":0.5},\"pattern\":{\"fillmode\":\"overlay\",\"size\":10,\"solidity\":0.2}},\"type\":\"barpolar\"}],\"pie\":[{\"automargin\":true,\"type\":\"pie\"}]},\"layout\":{\"autotypenumbers\":\"strict\",\"colorway\":[\"#636efa\",\"#EF553B\",\"#00cc96\",\"#ab63fa\",\"#FFA15A\",\"#19d3f3\",\"#FF6692\",\"#B6E880\",\"#FF97FF\",\"#FECB52\"],\"font\":{\"color\":\"#f2f5fa\"},\"hovermode\":\"closest\",\"hoverlabel\":{\"align\":\"left\"},\"paper_bgcolor\":\"rgb(17,17,17)\",\"plot_bgcolor\":\"rgb(17,17,17)\",\"polar\":{\"bgcolor\":\"rgb(17,17,17)\",\"angularaxis\":{\"gridcolor\":\"#506784\",\"linecolor\":\"#506784\",\"ticks\":\"\"},\"radialaxis\":{\"gridcolor\":\"#506784\",\"linecolor\":\"#506784\",\"ticks\":\"\"}},\"ternary\":{\"bgcolor\":\"rgb(17,17,17)\",\"aaxis\":{\"gridcolor\":\"#506784\",\"linecolor\":\"#506784\",\"ticks\":\"\"},\"baxis\":{\"gridcolor\":\"#506784\",\"linecolor\":\"#506784\",\"ticks\":\"\"},\"caxis\":{\"gridcolor\":\"#506784\",\"linecolor\":\"#506784\",\"ticks\":\"\"}},\"coloraxis\":{\"colorbar\":{\"outlinewidth\":0,\"ticks\":\"\"}},\"colorscale\":{\"sequential\":[[0.0,\"#0d0887\"],[0.1111111111111111,\"#46039f\"],[0.2222222222222222,\"#7201a8\"],[0.3333333333333333,\"#9c179e\"],[0.4444444444444444,\"#bd3786\"],[0.5555555555555556,\"#d8576b\"],[0.6666666666666666,\"#ed7953\"],[0.7777777777777778,\"#fb9f3a\"],[0.8888888888888888,\"#fdca26\"],[1.0,\"#f0f921\"]],\"sequentialminus\":[[0.0,\"#0d0887\"],[0.1111111111111111,\"#46039f\"],[0.2222222222222222,\"#7201a8\"],[0.3333333333333333,\"#9c179e\"],[0.4444444444444444,\"#bd3786\"],[0.5555555555555556,\"#d8576b\"],[0.6666666666666666,\"#ed7953\"],[0.7777777777777778,\"#fb9f3a\"],[0.8888888888888888,\"#fdca26\"],[1.0,\"#f0f921\"]],\"diverging\":[[0,\"#8e0152\"],[0.1,\"#c51b7d\"],[0.2,\"#de77ae\"],[0.3,\"#f1b6da\"],[0.4,\"#fde0ef\"],[0.5,\"#f7f7f7\"],[0.6,\"#e6f5d0\"],[0.7,\"#b8e186\"],[0.8,\"#7fbc41\"],[0.9,\"#4d9221\"],[1,\"#276419\"]]},\"xaxis\":{\"gridcolor\":\"#283442\",\"linecolor\":\"#506784\",\"ticks\":\"\",\"title\":{\"standoff\":15},\"zerolinecolor\":\"#283442\",\"automargin\":true,\"zerolinewidth\":2},\"yaxis\":{\"gridcolor\":\"#283442\",\"linecolor\":\"#506784\",\"ticks\":\"\",\"title\":{\"standoff\":15},\"zerolinecolor\":\"#283442\",\"automargin\":true,\"zerolinewidth\":2},\"scene\":{\"xaxis\":{\"backgroundcolor\":\"rgb(17,17,17)\",\"gridcolor\":\"#506784\",\"linecolor\":\"#506784\",\"showbackground\":true,\"ticks\":\"\",\"zerolinecolor\":\"#C8D4E3\",\"gridwidth\":2},\"yaxis\":{\"backgroundcolor\":\"rgb(17,17,17)\",\"gridcolor\":\"#506784\",\"linecolor\":\"#506784\",\"showbackground\":true,\"ticks\":\"\",\"zerolinecolor\":\"#C8D4E3\",\"gridwidth\":2},\"zaxis\":{\"backgroundcolor\":\"rgb(17,17,17)\",\"gridcolor\":\"#506784\",\"linecolor\":\"#506784\",\"showbackground\":true,\"ticks\":\"\",\"zerolinecolor\":\"#C8D4E3\",\"gridwidth\":2}},\"shapedefaults\":{\"line\":{\"color\":\"#f2f5fa\"}},\"annotationdefaults\":{\"arrowcolor\":\"#f2f5fa\",\"arrowhead\":0,\"arrowwidth\":1},\"geo\":{\"bgcolor\":\"rgb(17,17,17)\",\"landcolor\":\"rgb(17,17,17)\",\"subunitcolor\":\"#506784\",\"showland\":true,\"showlakes\":true,\"lakecolor\":\"rgb(17,17,17)\"},\"title\":{\"x\":0.05},\"updatemenudefaults\":{\"bgcolor\":\"#506784\",\"borderwidth\":0},\"sliderdefaults\":{\"bgcolor\":\"#C8D4E3\",\"borderwidth\":1,\"bordercolor\":\"rgb(17,17,17)\",\"tickwidth\":0},\"mapbox\":{\"style\":\"dark\"}}},\"xaxis\":{\"anchor\":\"y\",\"domain\":[0.0,1.0],\"title\":{\"text\":\"\\ub0a0\\uc9dc\"},\"tickformat\":\"%Y-%m-%d\"},\"yaxis\":{\"anchor\":\"x\",\"domain\":[0.0,1.0],\"title\":{\"text\":\"\\ube44\\uc728\"}},\"legend\":{\"tracegroupgap\":0},\"title\":{\"text\":\"\\ub0a0\\uc9dc\\ub2f9 \\uc0dd\\uc131\\ub41c \\uac8c\\uc2dc\\ubb3c \\uc218\\uc640 \\ub274\\uc2a4 \\uc218\\uc758 \\ube44\\uc728\"}},                        {\"responsive\": true}                    ).then(function(){\n",
       "                            \n",
       "var gd = document.getElementById('1f90fb46-6b9e-493e-b558-5bcdbeae976d');\n",
       "var x = new MutationObserver(function (mutations, observer) {{\n",
       "        var display = window.getComputedStyle(gd).display;\n",
       "        if (!display || display === 'none') {{\n",
       "            console.log([gd, 'removed!']);\n",
       "            Plotly.purge(gd);\n",
       "            observer.disconnect();\n",
       "        }}\n",
       "}});\n",
       "\n",
       "// Listen for the removal of the full notebook cells\n",
       "var notebookContainer = gd.closest('#notebook-container');\n",
       "if (notebookContainer) {{\n",
       "    x.observe(notebookContainer, {childList: true});\n",
       "}}\n",
       "\n",
       "// Listen for the clearing of the current output cell\n",
       "var outputEl = gd.closest('.output');\n",
       "if (outputEl) {{\n",
       "    x.observe(outputEl, {childList: true});\n",
       "}}\n",
       "\n",
       "                        })                };                });            </script>        </div>"
      ]
     },
     "metadata": {},
     "output_type": "display_data"
    }
   ],
   "execution_count": 40
  },
  {
   "cell_type": "code",
   "metadata": {},
   "source": [
    "naver_cafe_posts_df = naver_cafe_posts_df.loc[naver_cafe_posts_df[\"likes\"] > 0]\n",
    "\n",
    "vis_df = plot_per_day_post_conut_plotly(naver_cafe_posts_df, 'Number of Posts per day (naver cafe)')\n",
    "print(\" \\\n",
    "빨간색 라인 \\n\\\n",
    "2018년 4월 12일 코나 EV 출시 \\n\\\n",
    "2020년 10월 8일 2017년 9월 29일부터 2020년 3월 13일까지 생산된 코나 일렉트릭 25,564대를 리콜 \\n\\\n",
    "2021년 3월 22일 전량 배터리 리콜 결정\\n\\\n",
    "2021년 4월 코나 EV 단종\\n\\\n",
    "2023년 2월 28일 코나 EV 2세대 디자인 필름 공개\\n\\\n",
    "2023년 4월 13일 코나 EV 2세대 정식 출시\\\n",
    "\\\n",
    "파란색 라인 \\n\\\n",
    "2020년 9월 26일 코나 화재 제주 \\n\\\n",
    "2020년 10월 4일 코나 화재 대구 \\n\\\n",
    "2021년 1월 24일 코나 화재 대구  \\n\\\n",
    "2022년 10월 17일 코나 화재 남양주  \\n\\\n",
    "2020년 6월 23일 코나 화재 보령 \\n\\\n",
    "2021년 7월 1일 코나 화재 세종 \\n\\\n",
    "\")\n",
    "\n",
    "# news \n",
    "# 21. 06. 23 코나 화재 (보령)\n",
    "# 21. 07. 01 코나 화재 (세종)\n"
   ],
   "outputs": [],
   "execution_count": null
  },
  {
   "cell_type": "code",
   "metadata": {},
   "source": [
    "vis_df = plot_per_day_post_conut_plt(naver_cafe_posts_df, 'Number of Posts per day (naver cafe)')\n",
    "print(\n",
    "    \"2018년 4월 12일 코나 EV 출시 \\n\\\n",
    "    2020년 10월 8일 2017년 9월 29일부터 2020년 3월 13일까지 생산된 코나 일렉트릭 25,564대를 리콜 \\n\\\n",
    "    2021년 3월 22일 전량 배터리 리콜 결정\\n\\\n",
    "    2021년 4월 코나 EV 단종\\n\\\n",
    "    2023년 2월 28일 코나 EV 2세대 디자인 필름 공개\\n\\\n",
    "    2023년 4월 13일 코나 EV 2세대 정식 출시\"\n",
    ")"
   ],
   "outputs": [],
   "execution_count": null
  },
  {
   "metadata": {},
   "cell_type": "code",
   "source": [
    "a = \"\"\"<div id=\"search\"><div data-hveid=\"CAYQGQ\" data-ved=\"2ahUKEwiYgu2ik-2HAxWUqVYBHbRWAwwQGnoECAYQGQ\"><h1 class=\"bNg8Rb OhScic zsYMMe BBwThe\" style=\"clip:rect(1px,1px,1px,1px);height:1px;overflow:hidden;position:absolute;white-space:nowrap;width:1px;z-index:-1000;-webkit-user-select:none\">검색결과</h1><div class=\"dURPMd\" data-async-context=\"query:%EC%BD%94%EB%82%98%20%ED%99%94%EC%9E%AC%20intitle%3A%EC%BD%94%EB%82%98%20OR%20intitle%3A%ED%99%94%EC%9E%AC\" eid=\"ysq4Zpj1KZTT2roPtK2NYA\" id=\"rso\"><div class=\"MjjYud\"><div data-hveid=\"CAcQAA\" data-ved=\"2ahUKEwiYgu2ik-2HAxWUqVYBHbRWAwwQyIQJKAB6BAgHEAA\"><div class=\"SoaBEf R24aHf\" data-hveid=\"CAgQAA\"><div><div data-hveid=\"CAkQAA\" data-news-cluster-id=\"0\" data-news-doc-id=\"OoN3GU8ws66wBM\" data-ved=\"2ahUKEwiYgu2ik-2HAxWUqVYBHbRWAwwQxPQBKAB6BAgJEAA\"><a class=\"WlydOe\" data-ved=\"2ahUKEwiYgu2ik-2HAxWUqVYBHbRWAwwQxfQBKAB6BAgJEAE\" href=\"https://www.imaeil.com/page/view/2020053116124337257\" jsname=\"YKoRaf\"><div class=\"lSfe4c r5bEn aI5QMe\"><div class=\"gpjNTe\"><div class=\"YEMaTe JFSfwc\" style=\"background-color:#f8f9fa;height:92px;width:92px\"><div class=\"uhHOwf BYbUcd\" style=\"height:92px;width:92px\"><img alt=\"\" data-atf=\"1\" data-csiid=\"ysq4Zpj1KZTT2roPtK2NYA_14\" id=\"dimg_1\" src=\"data:image/jpeg;base64,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\"/></div></div></div><div class=\"SoAPf\"><div class=\"MgUUmf NUnG9d\"><g-img class=\"QyR1Ze ZGomKf\" style=\"margin-right:8px\"><img alt=\"\" class=\"YQ4gaf zr758c\" data-atf=\"1\" data-csiid=\"ysq4Zpj1KZTT2roPtK2NYA_15\" height=\"16\" id=\"dimg_3\" src=\"data:image/png;base64,iVBORw0KGgoAAAANSUhEUgAAABAAAAAQCAYAAAAf8/9hAAABgUlEQVQ4jc3SvWsUURQF8N/sbpK1WA07IIpjN4WNhQgWAVHEIoWNTUpRsbIyaUwpVhEFQVBSGQypoiCIhX0QbLSTLRybOIVfk/hRaKJmLfauTv4CPfB49/Heve+ecw//Gkn9UGX5KMYxig2sxVUXY9jEp7QsNrcVqLI8wSlM4zA6WMcK7uEyjuArnuMmHqdl0U+qLG9iFlfQisJfYnUwgqvYwjkcwK94P5dUWT6Jh2jjJ25jHu+wG2dxAcfwEQ9wFN9xuoGZSIZrQeMb9qKJJTzCxbQs3uNSaNHGTAsTkbyO+bQs+lWWL4UWQzTwMuLXWEWOiVaoK1r+XFN9h+0Yib1ZyxlroYeD0fJ4KN3DKzytFViN/QT2RdxrYAF97MJ0leUNg9EdwjPcSMviOparLD+JW0Gpj4WkyvIOljGJH7iLOyHmFF4E7zx0GQr+BFNDI3UxhzP+Ou4+PuA8dtaobGARs2lZrP2xcrS+32DGXbyNX9o4jj0G1l7Bm7QstvwX+A2NrmdHqfzjGAAAAABJRU5ErkJggg==\" style=\"border-radius:2px 2px 2px 2px\" width=\"16\"/></g-img><span>매일신문</span></div><div aria-level=\"3\" class=\"n0jPhd ynAwRc MBeuO nDgy9d\" role=\"heading\" style=\"-webkit-line-clamp:3\">엑스코 전자관 주차장서 충전 중인 전기차 화재…차량 전소</div><div class=\"GI74Re nDgy9d\" style=\"margin-top:8px;-webkit-line-clamp:3\">29일 오후 11시 10분쯤 대구시 북구 산격동의 엑스코 전자관 주차장에 세워져 있던 전기자동차에서 불이 났다. 이 화재는 차체를\n",
    "전소시키고 2천700만원(소방서 추산)...</div><span class=\"wXEDqf\" tabindex=\"-1\">.</span><div class=\"OSrXXb rbYSKb LfVVr\" style=\"bottom:0px\"><span>2020. 5. 31.</span></div></div></div></a></div></div></div></div></div></div></div></div>\"\"\"\n",
    "bs = BeautifulSoup(a,\"html.parser\")\n",
    "len(bs.find_all('div', attrs={'data-news-cluster-id': True}))"
   ],
   "outputs": [],
   "execution_count": null
  },
  {
   "cell_type": "code",
   "metadata": {},
   "source": [
    "# vis_df = plot_per_day_post_conut(fm_korea_posts_df, 'Number of Posts per day (fm korea)')"
   ],
   "outputs": [],
   "execution_count": null
  },
  {
   "cell_type": "code",
   "metadata": {},
   "source": [
    "# vis_df = plot_per_day_post_conut(naver_cafe_posts_df, 'Number of Posts per day (naver cafe)')"
   ],
   "outputs": [],
   "execution_count": null
  },
  {
   "cell_type": "code",
   "metadata": {},
   "source": [
    "# vis_df = plot_per_day_post_conut(posts_df, 'Number of Posts per day (total)')"
   ],
   "outputs": [],
   "execution_count": null
  }
 ],
 "metadata": {
  "kernelspec": {
   "display_name": "Python 3 (ipykernel)",
   "language": "python",
   "name": "python3"
  },
  "language_info": {
   "codemirror_mode": {
    "name": "ipython",
    "version": 3
   },
   "file_extension": ".py",
   "mimetype": "text/x-python",
   "name": "python",
   "nbconvert_exporter": "python",
   "pygments_lexer": "ipython3",
   "version": "3.12.4"
  }
 },
 "nbformat": 4,
 "nbformat_minor": 2
}
