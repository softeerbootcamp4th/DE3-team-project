{
 "cells": [
  {
   "cell_type": "code",
   "execution_count": 1,
   "metadata": {},
   "outputs": [
    {
     "name": "stderr",
     "output_type": "stream",
     "text": [
      "/Users/admin/Desktop/softeer-team-project/spark-job/.spark/lib/python3.8/site-packages/pyspark/pandas/__init__.py:50: UserWarning: 'PYARROW_IGNORE_TIMEZONE' environment variable was not set. It is required to set this environment variable to '1' in both driver and executor sides if you use pyarrow>=2.0.0. pandas-on-Spark will set it for you but it does not work if there is a Spark context already launched.\n",
      "  warnings.warn(\n",
      "24/08/20 15:51:44 WARN Utils: Your hostname, admins-MacBook-Pro-2.local resolves to a loopback address: 127.0.0.1; using 10.246.23.126 instead (on interface en0)\n",
      "24/08/20 15:51:44 WARN Utils: Set SPARK_LOCAL_IP if you need to bind to another address\n",
      "Setting default log level to \"WARN\".\n",
      "To adjust logging level use sc.setLogLevel(newLevel). For SparkR, use setLogLevel(newLevel).\n",
      "24/08/20 15:51:45 WARN NativeCodeLoader: Unable to load native-hadoop library for your platform... using builtin-java classes where applicable\n"
     ]
    }
   ],
   "source": [
    "from pyspark import SparkConf\n",
    "from pyspark.sql import SparkSession, Row\n",
    "from pyspark.sql.functions import isnull, avg, min, date_format\n",
    "from pyspark.sql.functions import pandas_udf, PandasUDFType\n",
    "import pyspark.sql.functions as F\n",
    "import pyspark.pandas as ps\n",
    "import numpy as np\n",
    "import datetime\n",
    "from pyspark.sql.types import StructType, StructField, IntegerType, FloatType, DoubleType\n",
    "\n",
    "ps.set_option('compute.ops_on_diff_frames', True)"
   ]
  },
  {
   "cell_type": "code",
   "execution_count": 17,
   "metadata": {},
   "outputs": [],
   "source": [
    "# TO BE UPDATED\n",
    "POST_FP = \"../EDA/gu/data/아이오닉 누수/clien_posts.csv\" # from S3\n",
    "COMMENT_FP = \"../EDA/gu/data/아이오닉 누수/clien_comments.csv\" # from S3\n",
    "MODEL_FP = \"../Model/model_result.csv\" # from RedShift\n",
    "OUTPUT_FP = \"output/Transform_result.csv\" # to RedShift"
   ]
  },
  {
   "cell_type": "code",
   "execution_count": 3,
   "metadata": {},
   "outputs": [
    {
     "name": "stderr",
     "output_type": "stream",
     "text": [
      "24/08/20 15:51:47 WARN SparkSession: Using an existing Spark session; only runtime SQL configurations will take effect.\n"
     ]
    }
   ],
   "source": [
    "spark = SparkSession.builder \\\n",
    "    .master(\"local[*]\") \\\n",
    "    .appName('spark-job') \\\n",
    "    .config('spark.executor.memory', '4gb') \\\n",
    "    .config(\"spark.executor.cores\", \"4\") \\\n",
    "    .getOrCreate()"
   ]
  },
  {
   "cell_type": "code",
   "execution_count": 4,
   "metadata": {},
   "outputs": [
    {
     "name": "stderr",
     "output_type": "stream",
     "text": [
      "/Users/admin/Desktop/softeer-team-project/spark-job/.spark/lib/python3.8/site-packages/pyspark/sql/dataframe.py:5725: FutureWarning: DataFrame.to_pandas_on_spark is deprecated. Use DataFrame.pandas_api instead.\n",
      "  warnings.warn(\n",
      "/Users/admin/Desktop/softeer-team-project/spark-job/.spark/lib/python3.8/site-packages/pyspark/pandas/namespace.py:1744: UserWarning: The argument 'infer_datetime_format' is deprecated and will be removed in a future version. A strict version of it is now the default, see https://pandas.pydata.org/pdeps/0004-consistent-to-datetime-parsing.html. You can safely remove this argument.\n",
      "  return pd.to_datetime(\n"
     ]
    }
   ],
   "source": [
    "post_df = spark.read.option(\"header\", True).option(\"quote\", \"\\\"\").option(\"escape\", \"\\\"\").option(\"multiline\", \"true\").option(\"sep\", \",\").csv(POST_FP, sep=',',).to_pandas_on_spark()\n",
    "comment_df = spark.read.option(\"header\", True).option(\"quote\", \"\\\"\").option(\"multiline\", \"true\").csv(COMMENT_FP, sep=',').to_pandas_on_spark() \n",
    "model_df = spark.read.option(\"header\", True).csv(MODEL_FP, sep=',').to_pandas_on_spark()\n",
    "\n",
    "# collected_at = datetime.datetime.now().replace(second=0, microsecond=0)\n",
    "collected_at = ps.to_datetime('2023-10-31 00:00:52').replace(second=0, microsecond=0) # from S3 (crawling)\n",
    "if collected_at.minute >= 30:\n",
    "    collected_at = collected_at.replace(minute=30)\n",
    "else:\n",
    "    collected_at = collected_at.replace(minute=00)"
   ]
  },
  {
   "cell_type": "code",
   "execution_count": 5,
   "metadata": {},
   "outputs": [],
   "source": [
    "def find_hot_criteria(row, model_df):\n",
    "    condition = ((model_df['post_type']==1) \\\n",
    "        & (model_df['relative_time']==row.relatvie_time) \\\n",
    "        & (model_df['cumulative_num']==row.comments))\n",
    "    hot_pdf_value = model_df[condition].pdf.values[0]\n",
    "    return hot_pdf_value\n",
    "\n",
    "\n",
    "def find_cold_criteria(row, model_df):\n",
    "    condition = ((model_df['post_type']==0) \\\n",
    "        & (model_df['relative_time']==row.relatvie_time) \\\n",
    "        & (model_df['cumulative_num']==row.comments))\n",
    "    hot_pdf_value = model_df[condition].pdf.values[0]\n",
    "    return hot_pdf_value\n",
    "\n",
    "\n",
    "def predict_post_type(post_df, model_df):    \n",
    "    per_post_hot_probability = post_df.apply(lambda x: find_hot_criteria(x, model_df), axis=1)\n",
    "    per_post_cold_probability = post_df.apply(lambda x: find_cold_criteria(x, model_df), axis=1)\n",
    "    post_df['impact'] = np.log(per_post_hot_probability/per_post_cold_probability)\n",
    "    post_df['post_type'] = 0\n",
    "    post_df.loc[post_df['impact'] > 0, 'post_type'] = 1\n",
    "    return post_df\n",
    "\n",
    "def parse_date(date_str):\n",
    "    return ps.to_datetime(date_str, errors=\"coerce\")"
   ]
  },
  {
   "cell_type": "code",
   "execution_count": 6,
   "metadata": {},
   "outputs": [
    {
     "name": "stderr",
     "output_type": "stream",
     "text": [
      "/Users/admin/Desktop/softeer-team-project/spark-job/.spark/lib/python3.8/site-packages/pyspark/pandas/namespace.py:1744: UserWarning: The argument 'infer_datetime_format' is deprecated and will be removed in a future version. A strict version of it is now the default, see https://pandas.pydata.org/pdeps/0004-consistent-to-datetime-parsing.html. You can safely remove this argument.\n",
      "  return pd.to_datetime(\n",
      "/Users/admin/Desktop/softeer-team-project/spark-job/.spark/lib/python3.8/site-packages/pyspark/pandas/namespace.py:1744: UserWarning: The argument 'infer_datetime_format' is deprecated and will be removed in a future version. A strict version of it is now the default, see https://pandas.pydata.org/pdeps/0004-consistent-to-datetime-parsing.html. You can safely remove this argument.\n",
      "  return pd.to_datetime(\n"
     ]
    }
   ],
   "source": [
    "# preprocessing\n",
    "post_df['created_at'] = post_df['created_at'].apply(parse_date)\n",
    "comment_df.columns = ['cmt_author', 'cmt_count', 'post_id', 'cmt_created_at']     \n",
    "comment_df['cmt_created_at'] = comment_df['cmt_created_at'].apply(parse_date)\n",
    "model_df['pdf'] = model_df['pdf'].astype(float)\n",
    "model_df['cumulative_num'] = model_df['cumulative_num'].astype(int)\n",
    "model_df['post_type'] = model_df['post_type'].astype(int)"
   ]
  },
  {
   "cell_type": "code",
   "execution_count": 7,
   "metadata": {},
   "outputs": [],
   "source": [
    "# filtering \n",
    "cutoff_time = collected_at - datetime.timedelta(hours=35)\n",
    "post_df = post_df[post_df['created_at'] > cutoff_time]\n",
    "comment_df = comment_df[comment_df['cmt_created_at'] > cutoff_time]\n",
    "\n",
    "# To be deleted (below)\n",
    "post_df = post_df[post_df['created_at'] <= collected_at] \n",
    "comment_df = comment_df[comment_df['cmt_created_at'] <= collected_at]"
   ]
  },
  {
   "cell_type": "code",
   "execution_count": 8,
   "metadata": {},
   "outputs": [
    {
     "name": "stderr",
     "output_type": "stream",
     "text": [
      "/Users/admin/Desktop/softeer-team-project/spark-job/.spark/lib/python3.8/site-packages/pyspark/pandas/data_type_ops/datetime_ops.py:71: UserWarning: Note that there is a behavior difference of timestamp subtraction. The timestamp subtraction returns an integer in seconds, whereas pandas returns 'timedelta64[ns]'.\n",
      "  warnings.warn(msg, UserWarning)\n"
     ]
    }
   ],
   "source": [
    "df = ps.merge(post_df, comment_df, left_on='id', right_on='post_id', how='left')\n",
    "\n",
    "time_interval = 5 * 60 # seconds \n",
    "df['relative_time'] = ((df['cmt_created_at'] - df['created_at']) // time_interval) * 5"
   ]
  },
  {
   "cell_type": "code",
   "execution_count": 9,
   "metadata": {},
   "outputs": [],
   "source": [
    "df_group_by_post_id = df.groupby('id').agg({'cmt_author': 'count'}).rename(columns={'cmt_author': 'comments'})\n",
    "df_group_by_post_id = df_group_by_post_id.reset_index()"
   ]
  },
  {
   "cell_type": "code",
   "execution_count": 10,
   "metadata": {},
   "outputs": [],
   "source": [
    "post_df = ps.merge(post_df, df_group_by_post_id, left_on='id', right_on='id', how='inner')"
   ]
  },
  {
   "cell_type": "code",
   "execution_count": 11,
   "metadata": {},
   "outputs": [
    {
     "name": "stderr",
     "output_type": "stream",
     "text": [
      "/Users/admin/Desktop/softeer-team-project/spark-job/.spark/lib/python3.8/site-packages/pyspark/pandas/data_type_ops/datetime_ops.py:98: UserWarning: Note that there is a behavior difference of timestamp subtraction. The timestamp subtraction returns an integer in seconds, whereas pandas returns 'timedelta64[ns]'.\n",
      "  warnings.warn(msg, UserWarning)\n"
     ]
    }
   ],
   "source": [
    "post_df['relatvie_time'] =  ((collected_at - df['created_at']) // time_interval) * 5"
   ]
  },
  {
   "cell_type": "code",
   "execution_count": 12,
   "metadata": {},
   "outputs": [],
   "source": [
    "model_df['pdf'] = model_df['pdf'].astype(float)\n",
    "model_df['cumulative_num'] = model_df['cumulative_num'].astype(int)\n",
    "model_df['relative_time'] = model_df['relative_time'].astype(int)\n",
    "model_df['post_type'] = model_df['post_type'].astype(int)"
   ]
  },
  {
   "cell_type": "code",
   "execution_count": 13,
   "metadata": {},
   "outputs": [
    {
     "name": "stderr",
     "output_type": "stream",
     "text": [
      "/Users/admin/Desktop/softeer-team-project/spark-job/.spark/lib/python3.8/site-packages/pyspark/pandas/utils.py:1016: PandasAPIOnSparkAdviceWarning: If the type hints is not specified for `apply`, it is expensive to infer the data type internally.\n",
      "  warnings.warn(message, PandasAPIOnSparkAdviceWarning)\n",
      "/Users/admin/Desktop/softeer-team-project/spark-job/.spark/lib/python3.8/site-packages/pyspark/python/lib/pyspark.zip/pyspark/pandas/namespace.py:1744: UserWarning: The argument 'infer_datetime_format' is deprecated and will be removed in a future version. A strict version of it is now the default, see https://pandas.pydata.org/pdeps/0004-consistent-to-datetime-parsing.html. You can safely remove this argument.\n",
      "/Users/admin/Desktop/softeer-team-project/spark-job/.spark/lib/python3.8/site-packages/pyspark/python/lib/pyspark.zip/pyspark/pandas/namespace.py:1744: UserWarning: The argument 'infer_datetime_format' is deprecated and will be removed in a future version. A strict version of it is now the default, see https://pandas.pydata.org/pdeps/0004-consistent-to-datetime-parsing.html. You can safely remove this argument.\n",
      "/Users/admin/Desktop/softeer-team-project/spark-job/.spark/lib/python3.8/site-packages/pyspark/python/lib/pyspark.zip/pyspark/pandas/namespace.py:1744: UserWarning: The argument 'infer_datetime_format' is deprecated and will be removed in a future version. A strict version of it is now the default, see https://pandas.pydata.org/pdeps/0004-consistent-to-datetime-parsing.html. You can safely remove this argument.\n",
      "/Users/admin/Desktop/softeer-team-project/spark-job/.spark/lib/python3.8/site-packages/pyspark/python/lib/pyspark.zip/pyspark/pandas/namespace.py:1744: UserWarning: The argument 'infer_datetime_format' is deprecated and will be removed in a future version. A strict version of it is now the default, see https://pandas.pydata.org/pdeps/0004-consistent-to-datetime-parsing.html. You can safely remove this argument.\n",
      "/Users/admin/Desktop/softeer-team-project/spark-job/.spark/lib/python3.8/site-packages/pyspark/python/lib/pyspark.zip/pyspark/pandas/namespace.py:1744: UserWarning: The argument 'infer_datetime_format' is deprecated and will be removed in a future version. A strict version of it is now the default, see https://pandas.pydata.org/pdeps/0004-consistent-to-datetime-parsing.html. You can safely remove this argument.\n",
      "/Users/admin/Desktop/softeer-team-project/spark-job/.spark/lib/python3.8/site-packages/pyspark/python/lib/pyspark.zip/pyspark/pandas/namespace.py:1744: UserWarning: The argument 'infer_datetime_format' is deprecated and will be removed in a future version. A strict version of it is now the default, see https://pandas.pydata.org/pdeps/0004-consistent-to-datetime-parsing.html. You can safely remove this argument.\n",
      "/Users/admin/Desktop/softeer-team-project/spark-job/.spark/lib/python3.8/site-packages/pyspark/python/lib/pyspark.zip/pyspark/pandas/namespace.py:1744: UserWarning: The argument 'infer_datetime_format' is deprecated and will be removed in a future version. A strict version of it is now the default, see https://pandas.pydata.org/pdeps/0004-consistent-to-datetime-parsing.html. You can safely remove this argument.\n",
      "/Users/admin/Desktop/softeer-team-project/spark-job/.spark/lib/python3.8/site-packages/pyspark/pandas/generic.py:647: UserWarning: We recommend using `Series.to_numpy()` instead.\n",
      "  warnings.warn(\"We recommend using `{}.to_numpy()` instead.\".format(type(self).__name__))\n",
      "/Users/admin/Desktop/softeer-team-project/spark-job/.spark/lib/python3.8/site-packages/pyspark/pandas/utils.py:1016: PandasAPIOnSparkAdviceWarning: `to_numpy` loads all data into the driver's memory. It should only be used if the resulting NumPy ndarray is expected to be small.\n",
      "  warnings.warn(message, PandasAPIOnSparkAdviceWarning)\n",
      "/Users/admin/Desktop/softeer-team-project/spark-job/.spark/lib/python3.8/site-packages/pyspark/pandas/generic.py:647: UserWarning: We recommend using `Series.to_numpy()` instead.\n",
      "  warnings.warn(\"We recommend using `{}.to_numpy()` instead.\".format(type(self).__name__))\n",
      "/Users/admin/Desktop/softeer-team-project/spark-job/.spark/lib/python3.8/site-packages/pyspark/pandas/utils.py:1016: PandasAPIOnSparkAdviceWarning: `to_numpy` loads all data into the driver's memory. It should only be used if the resulting NumPy ndarray is expected to be small.\n",
      "  warnings.warn(message, PandasAPIOnSparkAdviceWarning)\n",
      "/Users/admin/Desktop/softeer-team-project/spark-job/.spark/lib/python3.8/site-packages/pyspark/pandas/utils.py:1016: PandasAPIOnSparkAdviceWarning: If the type hints is not specified for `apply`, it is expensive to infer the data type internally.\n",
      "  warnings.warn(message, PandasAPIOnSparkAdviceWarning)\n",
      "/Users/admin/Desktop/softeer-team-project/spark-job/.spark/lib/python3.8/site-packages/pyspark/python/lib/pyspark.zip/pyspark/pandas/namespace.py:1744: UserWarning: The argument 'infer_datetime_format' is deprecated and will be removed in a future version. A strict version of it is now the default, see https://pandas.pydata.org/pdeps/0004-consistent-to-datetime-parsing.html. You can safely remove this argument.\n",
      "/Users/admin/Desktop/softeer-team-project/spark-job/.spark/lib/python3.8/site-packages/pyspark/python/lib/pyspark.zip/pyspark/pandas/namespace.py:1744: UserWarning: The argument 'infer_datetime_format' is deprecated and will be removed in a future version. A strict version of it is now the default, see https://pandas.pydata.org/pdeps/0004-consistent-to-datetime-parsing.html. You can safely remove this argument.\n",
      "/Users/admin/Desktop/softeer-team-project/spark-job/.spark/lib/python3.8/site-packages/pyspark/python/lib/pyspark.zip/pyspark/pandas/namespace.py:1744: UserWarning: The argument 'infer_datetime_format' is deprecated and will be removed in a future version. A strict version of it is now the default, see https://pandas.pydata.org/pdeps/0004-consistent-to-datetime-parsing.html. You can safely remove this argument.\n",
      "/Users/admin/Desktop/softeer-team-project/spark-job/.spark/lib/python3.8/site-packages/pyspark/python/lib/pyspark.zip/pyspark/pandas/namespace.py:1744: UserWarning: The argument 'infer_datetime_format' is deprecated and will be removed in a future version. A strict version of it is now the default, see https://pandas.pydata.org/pdeps/0004-consistent-to-datetime-parsing.html. You can safely remove this argument.\n",
      "/Users/admin/Desktop/softeer-team-project/spark-job/.spark/lib/python3.8/site-packages/pyspark/python/lib/pyspark.zip/pyspark/pandas/namespace.py:1744: UserWarning: The argument 'infer_datetime_format' is deprecated and will be removed in a future version. A strict version of it is now the default, see https://pandas.pydata.org/pdeps/0004-consistent-to-datetime-parsing.html. You can safely remove this argument.\n",
      "/Users/admin/Desktop/softeer-team-project/spark-job/.spark/lib/python3.8/site-packages/pyspark/python/lib/pyspark.zip/pyspark/pandas/namespace.py:1744: UserWarning: The argument 'infer_datetime_format' is deprecated and will be removed in a future version. A strict version of it is now the default, see https://pandas.pydata.org/pdeps/0004-consistent-to-datetime-parsing.html. You can safely remove this argument.\n",
      "/Users/admin/Desktop/softeer-team-project/spark-job/.spark/lib/python3.8/site-packages/pyspark/python/lib/pyspark.zip/pyspark/pandas/namespace.py:1744: UserWarning: The argument 'infer_datetime_format' is deprecated and will be removed in a future version. A strict version of it is now the default, see https://pandas.pydata.org/pdeps/0004-consistent-to-datetime-parsing.html. You can safely remove this argument.\n",
      "/Users/admin/Desktop/softeer-team-project/spark-job/.spark/lib/python3.8/site-packages/pyspark/pandas/generic.py:647: UserWarning: We recommend using `Series.to_numpy()` instead.\n",
      "  warnings.warn(\"We recommend using `{}.to_numpy()` instead.\".format(type(self).__name__))\n",
      "/Users/admin/Desktop/softeer-team-project/spark-job/.spark/lib/python3.8/site-packages/pyspark/pandas/utils.py:1016: PandasAPIOnSparkAdviceWarning: `to_numpy` loads all data into the driver's memory. It should only be used if the resulting NumPy ndarray is expected to be small.\n",
      "  warnings.warn(message, PandasAPIOnSparkAdviceWarning)\n",
      "/Users/admin/Desktop/softeer-team-project/spark-job/.spark/lib/python3.8/site-packages/pyspark/pandas/generic.py:647: UserWarning: We recommend using `Series.to_numpy()` instead.\n",
      "  warnings.warn(\"We recommend using `{}.to_numpy()` instead.\".format(type(self).__name__))\n",
      "/Users/admin/Desktop/softeer-team-project/spark-job/.spark/lib/python3.8/site-packages/pyspark/pandas/utils.py:1016: PandasAPIOnSparkAdviceWarning: `to_numpy` loads all data into the driver's memory. It should only be used if the resulting NumPy ndarray is expected to be small.\n",
      "  warnings.warn(message, PandasAPIOnSparkAdviceWarning)\n"
     ]
    }
   ],
   "source": [
    "post_df = predict_post_type(post_df, model_df)"
   ]
  },
  {
   "cell_type": "code",
   "execution_count": 14,
   "metadata": {},
   "outputs": [],
   "source": [
    "post_df['sns_id'] = 0\n",
    "post_df['collected_at'] = collected_at"
   ]
  },
  {
   "cell_type": "code",
   "execution_count": 15,
   "metadata": {},
   "outputs": [],
   "source": [
    "batch_id = int(collected_at.strftime('%Y%m%d%H%M'))\n",
    "post_df['batch_id'] = batch_id\n",
    "post_df.rename(columns={'id': 'post_id'}, inplace = True) "
   ]
  },
  {
   "cell_type": "code",
   "execution_count": 18,
   "metadata": {},
   "outputs": [
    {
     "name": "stderr",
     "output_type": "stream",
     "text": [
      "/Users/admin/Desktop/softeer-team-project/spark-job/.spark/lib/python3.8/site-packages/pyspark/python/lib/pyspark.zip/pyspark/pandas/namespace.py:1744: UserWarning: The argument 'infer_datetime_format' is deprecated and will be removed in a future version. A strict version of it is now the default, see https://pandas.pydata.org/pdeps/0004-consistent-to-datetime-parsing.html. You can safely remove this argument.\n",
      "/Users/admin/Desktop/softeer-team-project/spark-job/.spark/lib/python3.8/site-packages/pyspark/python/lib/pyspark.zip/pyspark/pandas/namespace.py:1744: UserWarning: The argument 'infer_datetime_format' is deprecated and will be removed in a future version. A strict version of it is now the default, see https://pandas.pydata.org/pdeps/0004-consistent-to-datetime-parsing.html. You can safely remove this argument.\n",
      "/Users/admin/Desktop/softeer-team-project/spark-job/.spark/lib/python3.8/site-packages/pyspark/python/lib/pyspark.zip/pyspark/pandas/namespace.py:1744: UserWarning: The argument 'infer_datetime_format' is deprecated and will be removed in a future version. A strict version of it is now the default, see https://pandas.pydata.org/pdeps/0004-consistent-to-datetime-parsing.html. You can safely remove this argument.\n",
      "/Users/admin/Desktop/softeer-team-project/spark-job/.spark/lib/python3.8/site-packages/pyspark/python/lib/pyspark.zip/pyspark/pandas/namespace.py:1744: UserWarning: The argument 'infer_datetime_format' is deprecated and will be removed in a future version. A strict version of it is now the default, see https://pandas.pydata.org/pdeps/0004-consistent-to-datetime-parsing.html. You can safely remove this argument.\n",
      "/Users/admin/Desktop/softeer-team-project/spark-job/.spark/lib/python3.8/site-packages/pyspark/python/lib/pyspark.zip/pyspark/pandas/namespace.py:1744: UserWarning: The argument 'infer_datetime_format' is deprecated and will be removed in a future version. A strict version of it is now the default, see https://pandas.pydata.org/pdeps/0004-consistent-to-datetime-parsing.html. You can safely remove this argument.\n",
      "/Users/admin/Desktop/softeer-team-project/spark-job/.spark/lib/python3.8/site-packages/pyspark/python/lib/pyspark.zip/pyspark/pandas/namespace.py:1744: UserWarning: The argument 'infer_datetime_format' is deprecated and will be removed in a future version. A strict version of it is now the default, see https://pandas.pydata.org/pdeps/0004-consistent-to-datetime-parsing.html. You can safely remove this argument.\n",
      "/Users/admin/Desktop/softeer-team-project/spark-job/.spark/lib/python3.8/site-packages/pyspark/python/lib/pyspark.zip/pyspark/pandas/namespace.py:1744: UserWarning: The argument 'infer_datetime_format' is deprecated and will be removed in a future version. A strict version of it is now the default, see https://pandas.pydata.org/pdeps/0004-consistent-to-datetime-parsing.html. You can safely remove this argument.\n"
     ]
    }
   ],
   "source": [
    "post_df.to_csv(OUTPUT_FP, header=True)"
   ]
  }
 ],
 "metadata": {
  "kernelspec": {
   "display_name": "spark",
   "language": "python",
   "name": ".spark"
  },
  "language_info": {
   "codemirror_mode": {
    "name": "ipython",
    "version": 3
   },
   "file_extension": ".py",
   "mimetype": "text/x-python",
   "name": "python",
   "nbconvert_exporter": "python",
   "pygments_lexer": "ipython3",
   "version": "3.8.10"
  }
 },
 "nbformat": 4,
 "nbformat_minor": 2
}
