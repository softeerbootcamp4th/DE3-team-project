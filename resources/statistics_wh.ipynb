{
 "cells": [
  {
   "cell_type": "code",
   "execution_count": 6,
   "id": "f1df1b0273bafad4",
   "metadata": {
    "ExecuteTime": {
     "end_time": "2024-08-14T01:38:28.388913Z",
     "start_time": "2024-08-14T01:38:28.380517Z"
    },
    "collapsed": true
   },
   "outputs": [],
   "source": [
    "from pprint import pprint\n",
    "import os\n",
    "import pandas as pd\n",
    "import plotly.graph_objects as go\n",
    "from datetime import datetime, timedelta\n",
    "\n",
    "\n",
    "def check_folder_in_path(path, folder_name):\n",
    "    path_parts = path.split(os.sep)\n",
    "    return folder_name in path_parts\n",
    "\n",
    "\n",
    "def merge_csv(folder):\n",
    "    comments_dfs = []\n",
    "    posts_dfs = []\n",
    "    for root, dirs, files in os.walk(os.path.join(\"./\", folder)):\n",
    "        for file_name in files:\n",
    "            if not file_name.endswith('.csv'):\n",
    "                continue\n",
    "            if not check_folder_in_path(root, \"comments\"):\n",
    "                continue\n",
    "            if not check_folder_in_path(root, \"naver_cafe\"):\n",
    "                continue\n",
    "            file_path = os.path.join(root, file_name)\n",
    "            df = pd.read_csv(file_path)\n",
    "            comments_dfs.append(df)\n",
    "        for file_name in files:\n",
    "            if not file_name.endswith('.csv'):\n",
    "                continue\n",
    "            if not check_folder_in_path(root, \"posts\"):\n",
    "                continue\n",
    "            if not check_folder_in_path(root, \"naver_cafe\"):\n",
    "                continue\n",
    "            file_path = os.path.join(root, file_name)\n",
    "            df = pd.read_csv(file_path)\n",
    "            posts_dfs.append(df)\n",
    "\n",
    "    # 모든 데이터프레임을 하나로 합치기\n",
    "    comments = pd.concat(comments_dfs, ignore_index=True)\n",
    "    posts = pd.concat(posts_dfs, ignore_index=True)\n",
    "    return posts, comments\n",
    "\n",
    "\n",
    "# 문자열을 정수형으로 변환하는 함수 정의\n",
    "def convert_to_int(value):\n",
    "    if type(value) == int:\n",
    "        return int(value)\n",
    "    if '만' in value:\n",
    "        # '만'을 기준으로 변환 (1만 = 10,000)\n",
    "        return int(float(value.replace('만', '').strip()) * 10000)\n",
    "    else:\n",
    "        # 쉼표 제거 후 정수형으로 변환\n",
    "        return int(value.replace(',', '').strip())\n",
    "\n",
    "\n",
    "def show(posts, comments):\n",
    "    # created_at 열을 datetime 형식으로 변환\n",
    "    posts['created_at'] = pd.to_datetime(posts['created_at'])  # 'created_at'이 실제 날짜 열 이름입니다.\n",
    "    # 댓글 수 계산을 위해 post_id로 그룹화\n",
    "    comment_counts = comments.groupby('post_id').size().reset_index(name='comment_count')\n",
    "    # 댓글 수를 원본 게시물 데이터와 조인\n",
    "    posts = posts.merge(comment_counts, how='left', left_on='id', right_on='post_id')\n",
    "    posts['comment_count'] = posts['comment_count'].fillna(0).astype(int)\n",
    "    # 변환 적용\n",
    "    posts['views'] = posts['views'].apply(convert_to_int)\n",
    "    # 각 컬럼의 평균값 계산\n",
    "    mean_comments = posts['comment_count'].mean()\n",
    "    mean_views = posts['views'].mean()\n",
    "    mean_likes = posts['likes'].mean()\n",
    "    # 가중치를 적용하여 영향력 점수 계산\n",
    "    posts['influence_score'] = (\n",
    "            (posts['comment_count'] / mean_comments) +\n",
    "            (posts['views'] / mean_views) +\n",
    "            (posts['likes'] / mean_likes)\n",
    "    )\n",
    "    # 영향력 점수로 정렬하여 상위 게시물 찾기\n",
    "    top_influential_posts = posts.sort_values(by='influence_score', ascending=False)\n",
    "    # 날짜 범위 생성\n",
    "    date_range = pd.date_range(start=posts['created_at'].min(), end=posts['created_at'].max())\n",
    "    daily_posts = posts.groupby(posts['created_at'].dt.date).size()\n",
    "    # 시각화\n",
    "    fig = go.Figure()\n",
    "    # 일별 게시글 생성 개수 선 그래프\n",
    "    fig.add_trace(go.Scatter(x=daily_posts.index, y=daily_posts.values, mode='lines+markers', name='일별 게시글 생성 개수'))\n",
    "    for date in top_influential_posts['created_at'].head(10):\n",
    "        fig.add_vline(x=date, line=dict(color=\"red\", width=2))\n",
    "    # 그래프 설정\n",
    "    fig.update_layout(title='각 날짜별로 게시물 수',\n",
    "                      xaxis_title='날짜',\n",
    "                      yaxis_title='게시글 수',\n",
    "                      xaxis_tickformat='%Y-%m-%d',\n",
    "                      legend=dict(x=0, y=1, traceorder='normal', orientation='h'))\n",
    "    fig.show()\n",
    "    display(top_influential_posts.head(10).sort_values(by='created_at',ascending=True))"
   ]
  },
  {
   "cell_type": "code",
   "execution_count": 22,
   "id": "ac34a382",
   "metadata": {},
   "outputs": [
    {
     "name": "stdout",
     "output_type": "stream",
     "text": [
      "13\n",
      "13\n",
      "3\n",
      "3\n",
      "17\n",
      "17\n",
      "2\n",
      "2\n",
      "1\n",
      "1\n",
      "2\n",
      "2\n",
      "2\n",
      "2\n",
      "17\n",
      "17\n",
      "7\n",
      "7\n",
      "40\n",
      "40\n",
      "30\n",
      "30\n",
      "1\n",
      "1\n"
     ]
    },
    {
     "data": {
      "text/html": [
       "<div>\n",
       "<style scoped>\n",
       "    .dataframe tbody tr th:only-of-type {\n",
       "        vertical-align: middle;\n",
       "    }\n",
       "\n",
       "    .dataframe tbody tr th {\n",
       "        vertical-align: top;\n",
       "    }\n",
       "\n",
       "    .dataframe thead th {\n",
       "        text-align: right;\n",
       "    }\n",
       "</style>\n",
       "<table border=\"1\" class=\"dataframe\">\n",
       "  <thead>\n",
       "    <tr style=\"text-align: right;\">\n",
       "      <th></th>\n",
       "      <th>사건</th>\n",
       "      <th>사이트</th>\n",
       "      <th>종류</th>\n",
       "      <th>수</th>\n",
       "      <th>종류_total</th>\n",
       "      <th>수_total</th>\n",
       "    </tr>\n",
       "  </thead>\n",
       "  <tbody>\n",
       "    <tr>\n",
       "      <th>0</th>\n",
       "      <td>벤츠 화재</td>\n",
       "      <td>bobae</td>\n",
       "      <td>comments</td>\n",
       "      <td>96</td>\n",
       "      <td>commentsposts</td>\n",
       "      <td>208</td>\n",
       "    </tr>\n",
       "    <tr>\n",
       "      <th>1</th>\n",
       "      <td>벤츠 화재</td>\n",
       "      <td>bobae</td>\n",
       "      <td>posts</td>\n",
       "      <td>112</td>\n",
       "      <td>commentsposts</td>\n",
       "      <td>208</td>\n",
       "    </tr>\n",
       "    <tr>\n",
       "      <th>2</th>\n",
       "      <td>아이오닉 iccu</td>\n",
       "      <td>bobae</td>\n",
       "      <td>comments</td>\n",
       "      <td>12</td>\n",
       "      <td>commentsposts</td>\n",
       "      <td>28</td>\n",
       "    </tr>\n",
       "    <tr>\n",
       "      <th>3</th>\n",
       "      <td>아이오닉 iccu</td>\n",
       "      <td>bobae</td>\n",
       "      <td>posts</td>\n",
       "      <td>16</td>\n",
       "      <td>commentsposts</td>\n",
       "      <td>28</td>\n",
       "    </tr>\n",
       "    <tr>\n",
       "      <th>4</th>\n",
       "      <td>아이오닉 누수</td>\n",
       "      <td>bobae</td>\n",
       "      <td>comments</td>\n",
       "      <td>11</td>\n",
       "      <td>commentsposts</td>\n",
       "      <td>26</td>\n",
       "    </tr>\n",
       "    <tr>\n",
       "      <th>5</th>\n",
       "      <td>아이오닉 누수</td>\n",
       "      <td>bobae</td>\n",
       "      <td>posts</td>\n",
       "      <td>15</td>\n",
       "      <td>commentsposts</td>\n",
       "      <td>26</td>\n",
       "    </tr>\n",
       "    <tr>\n",
       "      <th>6</th>\n",
       "      <td>코나 화재</td>\n",
       "      <td>bobae</td>\n",
       "      <td>comments</td>\n",
       "      <td>202</td>\n",
       "      <td>commentsposts</td>\n",
       "      <td>531</td>\n",
       "    </tr>\n",
       "    <tr>\n",
       "      <th>7</th>\n",
       "      <td>코나 화재</td>\n",
       "      <td>bobae</td>\n",
       "      <td>posts</td>\n",
       "      <td>329</td>\n",
       "      <td>commentsposts</td>\n",
       "      <td>531</td>\n",
       "    </tr>\n",
       "    <tr>\n",
       "      <th>8</th>\n",
       "      <td>벤츠 화재</td>\n",
       "      <td>clien</td>\n",
       "      <td>comments</td>\n",
       "      <td>1545</td>\n",
       "      <td>commentsposts</td>\n",
       "      <td>1603</td>\n",
       "    </tr>\n",
       "    <tr>\n",
       "      <th>9</th>\n",
       "      <td>벤츠 화재</td>\n",
       "      <td>clien</td>\n",
       "      <td>posts</td>\n",
       "      <td>58</td>\n",
       "      <td>commentsposts</td>\n",
       "      <td>1603</td>\n",
       "    </tr>\n",
       "    <tr>\n",
       "      <th>10</th>\n",
       "      <td>아이오닉 iccu</td>\n",
       "      <td>clien</td>\n",
       "      <td>comments</td>\n",
       "      <td>8176</td>\n",
       "      <td>commentsposts</td>\n",
       "      <td>8471</td>\n",
       "    </tr>\n",
       "    <tr>\n",
       "      <th>11</th>\n",
       "      <td>아이오닉 iccu</td>\n",
       "      <td>clien</td>\n",
       "      <td>posts</td>\n",
       "      <td>295</td>\n",
       "      <td>commentsposts</td>\n",
       "      <td>8471</td>\n",
       "    </tr>\n",
       "    <tr>\n",
       "      <th>12</th>\n",
       "      <td>아이오닉 누수</td>\n",
       "      <td>clien</td>\n",
       "      <td>comments</td>\n",
       "      <td>375</td>\n",
       "      <td>commentsposts</td>\n",
       "      <td>385</td>\n",
       "    </tr>\n",
       "    <tr>\n",
       "      <th>13</th>\n",
       "      <td>아이오닉 누수</td>\n",
       "      <td>clien</td>\n",
       "      <td>posts</td>\n",
       "      <td>10</td>\n",
       "      <td>commentsposts</td>\n",
       "      <td>385</td>\n",
       "    </tr>\n",
       "    <tr>\n",
       "      <th>14</th>\n",
       "      <td>코나 화재</td>\n",
       "      <td>clien</td>\n",
       "      <td>comments</td>\n",
       "      <td>13105</td>\n",
       "      <td>commentsposts</td>\n",
       "      <td>13619</td>\n",
       "    </tr>\n",
       "    <tr>\n",
       "      <th>15</th>\n",
       "      <td>코나 화재</td>\n",
       "      <td>clien</td>\n",
       "      <td>posts</td>\n",
       "      <td>514</td>\n",
       "      <td>commentsposts</td>\n",
       "      <td>13619</td>\n",
       "    </tr>\n",
       "    <tr>\n",
       "      <th>16</th>\n",
       "      <td>벤츠 화재</td>\n",
       "      <td>fmkorea</td>\n",
       "      <td>comments</td>\n",
       "      <td>1624</td>\n",
       "      <td>commentsposts</td>\n",
       "      <td>1789</td>\n",
       "    </tr>\n",
       "    <tr>\n",
       "      <th>17</th>\n",
       "      <td>벤츠 화재</td>\n",
       "      <td>fmkorea</td>\n",
       "      <td>posts</td>\n",
       "      <td>165</td>\n",
       "      <td>commentsposts</td>\n",
       "      <td>1789</td>\n",
       "    </tr>\n",
       "    <tr>\n",
       "      <th>18</th>\n",
       "      <td>아이오닉 iccu</td>\n",
       "      <td>fmkorea</td>\n",
       "      <td>comments</td>\n",
       "      <td>545</td>\n",
       "      <td>commentsposts</td>\n",
       "      <td>606</td>\n",
       "    </tr>\n",
       "    <tr>\n",
       "      <th>19</th>\n",
       "      <td>아이오닉 iccu</td>\n",
       "      <td>fmkorea</td>\n",
       "      <td>posts</td>\n",
       "      <td>61</td>\n",
       "      <td>commentsposts</td>\n",
       "      <td>606</td>\n",
       "    </tr>\n",
       "    <tr>\n",
       "      <th>20</th>\n",
       "      <td>아이오닉 누수</td>\n",
       "      <td>fmkorea</td>\n",
       "      <td>comments</td>\n",
       "      <td>147</td>\n",
       "      <td>commentsposts</td>\n",
       "      <td>165</td>\n",
       "    </tr>\n",
       "    <tr>\n",
       "      <th>21</th>\n",
       "      <td>아이오닉 누수</td>\n",
       "      <td>fmkorea</td>\n",
       "      <td>posts</td>\n",
       "      <td>18</td>\n",
       "      <td>commentsposts</td>\n",
       "      <td>165</td>\n",
       "    </tr>\n",
       "    <tr>\n",
       "      <th>22</th>\n",
       "      <td>코나 화재</td>\n",
       "      <td>fmkorea</td>\n",
       "      <td>comments</td>\n",
       "      <td>349</td>\n",
       "      <td>commentsposts</td>\n",
       "      <td>380</td>\n",
       "    </tr>\n",
       "    <tr>\n",
       "      <th>23</th>\n",
       "      <td>코나 화재</td>\n",
       "      <td>fmkorea</td>\n",
       "      <td>posts</td>\n",
       "      <td>31</td>\n",
       "      <td>commentsposts</td>\n",
       "      <td>380</td>\n",
       "    </tr>\n",
       "  </tbody>\n",
       "</table>\n",
       "</div>"
      ],
      "text/plain": [
       "           사건      사이트        종류      수       종류_total 수_total\n",
       "0       벤츠 화재    bobae  comments     96  commentsposts     208\n",
       "1       벤츠 화재    bobae     posts    112  commentsposts     208\n",
       "2   아이오닉 iccu    bobae  comments     12  commentsposts      28\n",
       "3   아이오닉 iccu    bobae     posts     16  commentsposts      28\n",
       "4     아이오닉 누수    bobae  comments     11  commentsposts      26\n",
       "5     아이오닉 누수    bobae     posts     15  commentsposts      26\n",
       "6       코나 화재    bobae  comments    202  commentsposts     531\n",
       "7       코나 화재    bobae     posts    329  commentsposts     531\n",
       "8       벤츠 화재    clien  comments   1545  commentsposts    1603\n",
       "9       벤츠 화재    clien     posts     58  commentsposts    1603\n",
       "10  아이오닉 iccu    clien  comments   8176  commentsposts    8471\n",
       "11  아이오닉 iccu    clien     posts    295  commentsposts    8471\n",
       "12    아이오닉 누수    clien  comments    375  commentsposts     385\n",
       "13    아이오닉 누수    clien     posts     10  commentsposts     385\n",
       "14      코나 화재    clien  comments  13105  commentsposts   13619\n",
       "15      코나 화재    clien     posts    514  commentsposts   13619\n",
       "16      벤츠 화재  fmkorea  comments   1624  commentsposts    1789\n",
       "17      벤츠 화재  fmkorea     posts    165  commentsposts    1789\n",
       "18  아이오닉 iccu  fmkorea  comments    545  commentsposts     606\n",
       "19  아이오닉 iccu  fmkorea     posts     61  commentsposts     606\n",
       "20    아이오닉 누수  fmkorea  comments    147  commentsposts     165\n",
       "21    아이오닉 누수  fmkorea     posts     18  commentsposts     165\n",
       "22      코나 화재  fmkorea  comments    349  commentsposts     380\n",
       "23      코나 화재  fmkorea     posts     31  commentsposts     380"
      ]
     },
     "execution_count": 22,
     "metadata": {},
     "output_type": "execute_result"
    }
   ],
   "source": [
    "def merge_csv_folder(path):\n",
    "    \"\"\"\n",
    "    path에 있는 모든 csv 파일을 읽어서 하나의 데이터프레임으로 합친다.\n",
    "    \"\"\"\n",
    "    dfs = []\n",
    "    for root, dirs, files in os.walk(path):\n",
    "        for file_name in files:\n",
    "            if not file_name.endswith('.csv'):\n",
    "                continue\n",
    "            file_path = os.path.join(root, file_name)\n",
    "            df = pd.read_csv(file_path)\n",
    "            dfs.append(df)\n",
    "        print(len(dfs))\n",
    "    if len(dfs) == 0:\n",
    "        return None\n",
    "    return pd.concat(dfs, ignore_index=True)\n",
    "\n",
    "# 사이트별로 데이터를 합치기\n",
    "사이트_목록 = ['bobae', 'clien', 'fmkorea', 'naver_cafe']\n",
    "사건_목록 = [\"벤츠 화재\", \"아이오닉 누수\", \"아이오닉 iccu\", \"코나 화재\"]\n",
    "게시글_댓글 = [\"comments\", \"posts\"]\n",
    "\n",
    "# 수, 사건, 사이트, 종류 를 컬럼으로 가지는 데이터 프레임\n",
    "df_table = pd.DataFrame(columns=[\"수\", \"사건\", \"사이트\", \"종류\"])\n",
    "\n",
    "\n",
    "\"벤츠 화재/bobae/comments\"\n",
    "\"사건/사이트/게시글_댓글\"\n",
    "for 사건 in 사건_목록:\n",
    "    for 사이트 in 사이트_목록:\n",
    "        for 종류 in 게시글_댓글:\n",
    "            df = merge_csv_folder(f\"{사건}/{사이트}/{종류}\")\n",
    "            if df is None:\n",
    "                continue\n",
    "            # 새로운 데이터를 딕셔너리 형태로 생성\n",
    "            new_row = {\"수\": len(df), \"사건\": 사건, \"사이트\": 사이트, \"종류\": 종류}\n",
    "\n",
    "            # 딕셔너리를 DataFrame으로 변환한 뒤 기존 DataFrame과 병합\n",
    "            df_table = pd.concat([df_table, pd.DataFrame([new_row])], ignore_index=True)\n",
    "            \n",
    "# df_table에서 사건 사이트 별로 수를 합산\n",
    "df_table_sum = df_table.groupby([\"사건\", \"사이트\", \"종류\"]).sum().reset_index()\n",
    "\n",
    "# 사이트 순서로 정렬\n",
    "df_table_sum = df_table_sum.sort_values(by=[\"사이트\", \"사건\", \"종류\"], ascending=True)\n",
    "df_table_sum\n",
    "\n",
    "# 사건, 사이트 별로 수를 더한 행을 추가\n",
    "df_table_sum_both = df_table_sum.groupby([\"사건\", \"사이트\"]).sum().reset_index()\n",
    "df_table_sum_both\n",
    "\n",
    "# df_table_sum에 df_table_sum_both을 사건 사이트 별로 조인, 컬럼명이 겹치도록 함\n",
    "df_table_joined = df_table_sum.merge(df_table_sum_both, on=[\"사건\", \"사이트\"])\n",
    "df_table_joined\n",
    "\n",
    "# 이걸 사이트 별로 컬럼으로 만들어서 수평적 확장을 해야함\n",
    "\n",
    "# 사건           bobae, cline, fmkorea, naver_cafe\n",
    "# 벤츠 화재\n",
    "# 벤츠 화재 게시글\n",
    "# 벤츠 화재 댓글\n",
    "# 아이오닉 누수\n",
    "# 아이오닉 누수 게시글\n",
    "# 아이오닉 누수 댓글\n",
    "# 아이오닉 iccu\n",
    "# 아이오닉 iccu 게시글\n",
    "# 아이오닉 iccu 댓글\n",
    "# 코나 화재\n",
    "# 코나 화재 게시글\n",
    "# 코나 화재 댓글\n",
    "\n"
   ]
  },
  {
   "cell_type": "code",
   "execution_count": 23,
   "id": "61221b74",
   "metadata": {},
   "outputs": [
    {
     "name": "stderr",
     "output_type": "stream",
     "text": [
      "/var/folders/v4/6tjs7h4921v9vrm_844m1clw0000gn/T/ipykernel_47895/241822239.py:4: FutureWarning:\n",
      "\n",
      "Downcasting object dtype arrays on .fillna, .ffill, .bfill is deprecated and will change in a future version. Call result.infer_objects(copy=False) instead. To opt-in to the future behavior, set `pd.set_option('future.no_silent_downcasting', True)`\n",
      "\n"
     ]
    },
    {
     "data": {
      "text/html": [
       "<div>\n",
       "<style scoped>\n",
       "    .dataframe tbody tr th:only-of-type {\n",
       "        vertical-align: middle;\n",
       "    }\n",
       "\n",
       "    .dataframe tbody tr th {\n",
       "        vertical-align: top;\n",
       "    }\n",
       "\n",
       "    .dataframe thead th {\n",
       "        text-align: right;\n",
       "    }\n",
       "</style>\n",
       "<table border=\"1\" class=\"dataframe\">\n",
       "  <thead>\n",
       "    <tr style=\"text-align: right;\">\n",
       "      <th></th>\n",
       "      <th>bobae comments</th>\n",
       "      <th>bobae posts</th>\n",
       "      <th>clien comments</th>\n",
       "      <th>clien posts</th>\n",
       "      <th>fmkorea comments</th>\n",
       "      <th>fmkorea posts</th>\n",
       "    </tr>\n",
       "    <tr>\n",
       "      <th>사건</th>\n",
       "      <th></th>\n",
       "      <th></th>\n",
       "      <th></th>\n",
       "      <th></th>\n",
       "      <th></th>\n",
       "      <th></th>\n",
       "    </tr>\n",
       "  </thead>\n",
       "  <tbody>\n",
       "    <tr>\n",
       "      <th>벤츠 화재</th>\n",
       "      <td>96</td>\n",
       "      <td>112</td>\n",
       "      <td>1545</td>\n",
       "      <td>58</td>\n",
       "      <td>1624</td>\n",
       "      <td>165</td>\n",
       "    </tr>\n",
       "    <tr>\n",
       "      <th>아이오닉 iccu</th>\n",
       "      <td>12</td>\n",
       "      <td>16</td>\n",
       "      <td>8176</td>\n",
       "      <td>295</td>\n",
       "      <td>545</td>\n",
       "      <td>61</td>\n",
       "    </tr>\n",
       "    <tr>\n",
       "      <th>아이오닉 누수</th>\n",
       "      <td>11</td>\n",
       "      <td>15</td>\n",
       "      <td>375</td>\n",
       "      <td>10</td>\n",
       "      <td>147</td>\n",
       "      <td>18</td>\n",
       "    </tr>\n",
       "    <tr>\n",
       "      <th>코나 화재</th>\n",
       "      <td>202</td>\n",
       "      <td>329</td>\n",
       "      <td>13105</td>\n",
       "      <td>514</td>\n",
       "      <td>349</td>\n",
       "      <td>31</td>\n",
       "    </tr>\n",
       "  </tbody>\n",
       "</table>\n",
       "</div>"
      ],
      "text/plain": [
       "           bobae comments  bobae posts  clien comments  clien posts  \\\n",
       "사건                                                                    \n",
       "벤츠 화재                  96          112            1545           58   \n",
       "아이오닉 iccu              12           16            8176          295   \n",
       "아이오닉 누수                11           15             375           10   \n",
       "코나 화재                 202          329           13105          514   \n",
       "\n",
       "           fmkorea comments  fmkorea posts  \n",
       "사건                                          \n",
       "벤츠 화재                  1624            165  \n",
       "아이오닉 iccu               545             61  \n",
       "아이오닉 누수                 147             18  \n",
       "코나 화재                   349             31  "
      ]
     },
     "execution_count": 23,
     "metadata": {},
     "output_type": "execute_result"
    }
   ],
   "source": [
    "df = pd.DataFrame(df_table_joined)\n",
    "\n",
    "# 사건 및 사이트별로 크로스탭 생성\n",
    "crosstab = pd.pivot_table(df, index=[\"사건\"], columns=[\"사이트\", \"종류\"], values=\"수\", aggfunc='sum', fill_value=0)\n",
    "\n",
    "# 행과 열 이름을 적절하게 변경\n",
    "crosstab.columns = [f\"{site} {ctype}\" for site, ctype in crosstab.columns]\n",
    "\n",
    "# 예쁘게 출력\n",
    "crosstab"
   ]
  },
  {
   "cell_type": "code",
   "execution_count": 7,
   "id": "66caef8602d3712e",
   "metadata": {
    "ExecuteTime": {
     "end_time": "2024-08-14T01:38:28.522490Z",
     "start_time": "2024-08-14T01:38:28.402916Z"
    }
   },
   "outputs": [
    {
     "name": "stdout",
     "output_type": "stream",
     "text": [
      "[./코나 화재], [['fmkorea', 'naver_cafe', 'clien', 'bobae']], [[]]\n",
      "[./코나 화재/fmkorea], [['comments', 'posts']], [[]]\n",
      "[./코나 화재/fmkorea/comments], [[]], [['1.csv']]\n",
      "[./코나 화재/fmkorea/posts], [[]], [['1.csv']]\n",
      "[./코나 화재/naver_cafe], [['2022-07-31', '2020-07-31', '2019-07-31', '2024-07-31', '2021-07-31', '2023-07-31', '2021-01-31', '2023-01-31', '2022-01-31', '2020-01-31', '2024-01-31']], [[]]\n",
      "[./코나 화재/naver_cafe/2022-07-31], [['comments', 'posts']], [[]]\n",
      "[./코나 화재/naver_cafe/2022-07-31/comments], [[]], [['1.csv', '3.csv', '2.csv']]\n",
      "[./코나 화재/naver_cafe/2022-07-31/posts], [[]], [['1.csv', '3.csv', '2.csv']]\n",
      "[./코나 화재/naver_cafe/2020-07-31], [['comments', 'posts']], [[]]\n",
      "[./코나 화재/naver_cafe/2020-07-31/comments], [[]], [['6.csv', '7.csv', '5.csv', '4.csv', '1.csv', '3.csv', '2.csv', '23.csv', '22.csv', '20.csv', '21.csv', '25.csv', '18.csv', '30.csv', '24.csv', '26.csv', '27.csv', '16.csv', '17.csv', '29.csv', '15.csv', '14.csv', '28.csv', '10.csv', '11.csv', '13.csv', '12.csv', '9.csv', '8.csv']]\n",
      "[./코나 화재/naver_cafe/2020-07-31/posts], [[]], [['6.csv', '7.csv', '5.csv', '4.csv', '1.csv', '3.csv', '2.csv', '23.csv', '22.csv', '20.csv', '21.csv', '25.csv', '18.csv', '30.csv', '24.csv', '26.csv', '27.csv', '16.csv', '17.csv', '29.csv', '15.csv', '14.csv', '28.csv', '10.csv', '11.csv', '13.csv', '12.csv', '9.csv', '8.csv']]\n",
      "[./코나 화재/naver_cafe/2019-07-31], [['comments', 'posts']], [[]]\n",
      "[./코나 화재/naver_cafe/2019-07-31/comments], [[]], [['1.csv', '3.csv', '2.csv']]\n",
      "[./코나 화재/naver_cafe/2019-07-31/posts], [[]], [['1.csv', '3.csv', '2.csv']]\n",
      "[./코나 화재/naver_cafe/2024-07-31], [['comments', 'posts']], [[]]\n",
      "[./코나 화재/naver_cafe/2024-07-31/comments], [[]], [['5.csv', '4.csv', '1.csv', '3.csv', '2.csv']]\n",
      "[./코나 화재/naver_cafe/2024-07-31/posts], [[]], [['5.csv', '4.csv', '1.csv', '3.csv', '2.csv']]\n",
      "[./코나 화재/naver_cafe/2021-07-31], [['comments', 'posts']], [[]]\n",
      "[./코나 화재/naver_cafe/2021-07-31/comments], [[]], [['4.csv', '1.csv', '3.csv', '2.csv']]\n",
      "[./코나 화재/naver_cafe/2021-07-31/posts], [[]], [['4.csv', '1.csv', '3.csv', '2.csv']]\n",
      "[./코나 화재/naver_cafe/2023-07-31], [['comments', 'posts']], [[]]\n",
      "[./코나 화재/naver_cafe/2023-07-31/comments], [[]], [['1.csv', '3.csv', '2.csv']]\n",
      "[./코나 화재/naver_cafe/2023-07-31/posts], [[]], [['1.csv', '3.csv', '2.csv']]\n",
      "[./코나 화재/naver_cafe/2021-01-31], [['comments', 'posts']], [[]]\n",
      "[./코나 화재/naver_cafe/2021-01-31/comments], [[]], [['6.csv', '7.csv', '5.csv', '4.csv', '1.csv', '3.csv', '2.csv', '14.csv', '10.csv', '11.csv', '13.csv', '12.csv', '9.csv', '8.csv']]\n",
      "[./코나 화재/naver_cafe/2021-01-31/posts], [[]], [['6.csv', '7.csv', '5.csv', '4.csv', '1.csv', '3.csv', '2.csv', '14.csv', '10.csv', '11.csv', '13.csv', '12.csv', '9.csv', '8.csv']]\n",
      "[./코나 화재/naver_cafe/2023-01-31], [['comments', 'posts']], [[]]\n",
      "[./코나 화재/naver_cafe/2023-01-31/comments], [[]], [['4.csv', '1.csv', '3.csv', '2.csv']]\n",
      "[./코나 화재/naver_cafe/2023-01-31/posts], [[]], [['4.csv', '1.csv', '3.csv', '2.csv']]\n",
      "[./코나 화재/naver_cafe/2022-01-31], [['comments', 'posts']], [[]]\n",
      "[./코나 화재/naver_cafe/2022-01-31/comments], [[]], [['1.csv', '3.csv', '2.csv']]\n",
      "[./코나 화재/naver_cafe/2022-01-31/posts], [[]], [['1.csv', '3.csv', '2.csv']]\n",
      "[./코나 화재/naver_cafe/2020-01-31], [['comments', 'posts']], [[]]\n",
      "[./코나 화재/naver_cafe/2020-01-31/comments], [[]], [['1.csv', '2.csv']]\n",
      "[./코나 화재/naver_cafe/2020-01-31/posts], [[]], [['1.csv', '2.csv']]\n",
      "[./코나 화재/naver_cafe/2024-01-31], [['comments', 'posts']], [[]]\n",
      "[./코나 화재/naver_cafe/2024-01-31/comments], [[]], [['4.csv', '1.csv', '3.csv', '2.csv']]\n",
      "[./코나 화재/naver_cafe/2024-01-31/posts], [[]], [['4.csv', '1.csv', '3.csv', '2.csv']]\n",
      "[./코나 화재/clien], [['comments', 'posts']], [[]]\n",
      "[./코나 화재/clien/comments], [[]], [['6.csv', '7.csv', '5.csv', '4.csv', '1.csv', '3.csv', '2.csv', '23.csv', '22.csv', '20.csv', '21.csv', '25.csv', '19.csv', '18.csv', '30.csv', '24.csv', '26.csv', '27.csv', '16.csv', '17.csv', '29.csv', '15.csv', '14.csv', '28.csv', '10.csv', '11.csv', '13.csv', '12.csv', '9.csv', '8.csv']]\n",
      "[./코나 화재/clien/posts], [[]], [['6.csv', '7.csv', '5.csv', '4.csv', '1.csv', '3.csv', '2.csv', '23.csv', '22.csv', '20.csv', '21.csv', '25.csv', '19.csv', '18.csv', '30.csv', '24.csv', '26.csv', '27.csv', '16.csv', '17.csv', '29.csv', '15.csv', '14.csv', '28.csv', '10.csv', '11.csv', '13.csv', '12.csv', '9.csv', '8.csv']]\n",
      "[./코나 화재/bobae], [['comments', 'posts']], [[]]\n",
      "[./코나 화재/bobae/comments], [[]], [['6.csv', '40.csv', '7.csv', '5.csv', '4.csv', '1.csv', '3.csv', '2.csv', '37.csv', '23.csv', '22.csv', '36.csv', '20.csv', '34.csv', '35.csv', '21.csv', '25.csv', '31.csv', '19.csv', '18.csv', '30.csv', '24.csv', '32.csv', '26.csv', '27.csv', '33.csv', '16.csv', '17.csv', '29.csv', '15.csv', '14.csv', '28.csv', '10.csv', '38.csv', '39.csv', '11.csv', '13.csv', '12.csv', '9.csv', '8.csv']]\n",
      "[./코나 화재/bobae/posts], [[]], [['6.csv', '40.csv', '7.csv', '5.csv', '4.csv', '1.csv', '3.csv', '2.csv', '37.csv', '23.csv', '22.csv', '36.csv', '20.csv', '34.csv', '35.csv', '21.csv', '25.csv', '31.csv', '19.csv', '18.csv', '30.csv', '24.csv', '32.csv', '26.csv', '27.csv', '33.csv', '16.csv', '17.csv', '29.csv', '15.csv', '14.csv', '28.csv', '10.csv', '38.csv', '39.csv', '11.csv', '13.csv', '12.csv', '9.csv', '8.csv']]\n"
     ]
    },
    {
     "data": {
      "application/vnd.plotly.v1+json": {
       "config": {
        "plotlyServerURL": "https://plot.ly"
       },
       "data": [
        {
         "mode": "lines+markers",
         "name": "일별 게시글 생성 개수",
         "type": "scatter",
         "x": [
          "2019-08-01",
          "2019-08-06",
          "2019-08-13",
          "2019-08-14",
          "2019-08-15",
          "2019-08-16",
          "2019-08-17",
          "2019-08-18",
          "2019-08-19",
          "2019-08-20",
          "2019-08-21",
          "2019-08-23",
          "2019-08-26",
          "2019-08-27",
          "2019-08-28",
          "2019-08-29",
          "2019-09-04",
          "2019-09-07",
          "2019-09-15",
          "2019-09-21",
          "2019-09-22",
          "2019-09-27",
          "2019-09-30",
          "2019-10-01",
          "2019-10-03",
          "2019-10-04",
          "2019-10-07",
          "2019-10-08",
          "2019-10-13",
          "2019-10-15",
          "2019-10-16",
          "2019-10-17",
          "2019-10-20",
          "2019-11-08",
          "2019-11-19",
          "2019-12-17",
          "2020-01-09",
          "2020-01-12",
          "2020-01-19",
          "2020-02-07",
          "2020-03-21",
          "2020-04-09",
          "2020-05-09",
          "2020-05-30",
          "2020-05-31",
          "2020-06-01",
          "2020-06-02",
          "2020-06-03",
          "2020-06-05",
          "2020-06-08",
          "2020-06-09",
          "2020-06-16",
          "2020-06-19",
          "2020-06-25",
          "2020-07-02",
          "2020-07-10",
          "2020-07-22",
          "2020-07-28",
          "2020-08-10",
          "2020-08-25",
          "2020-08-26",
          "2020-08-27",
          "2020-08-28",
          "2020-08-31",
          "2020-09-01",
          "2020-09-02",
          "2020-09-03",
          "2020-09-04",
          "2020-09-06",
          "2020-09-07",
          "2020-09-08",
          "2020-09-09",
          "2020-09-10",
          "2020-09-11",
          "2020-09-12",
          "2020-09-13",
          "2020-09-16",
          "2020-09-21",
          "2020-09-23",
          "2020-09-24",
          "2020-09-26",
          "2020-09-27",
          "2020-09-28",
          "2020-09-29",
          "2020-09-30",
          "2020-10-01",
          "2020-10-02",
          "2020-10-03",
          "2020-10-04",
          "2020-10-05",
          "2020-10-06",
          "2020-10-07",
          "2020-10-08",
          "2020-10-09",
          "2020-10-11",
          "2020-10-12",
          "2020-10-13",
          "2020-10-14",
          "2020-10-15",
          "2020-10-16",
          "2020-10-17",
          "2020-10-18",
          "2020-10-19",
          "2020-10-20",
          "2020-10-21",
          "2020-10-22",
          "2020-10-23",
          "2020-10-24",
          "2020-10-25",
          "2020-10-26",
          "2020-10-27",
          "2020-10-28",
          "2020-10-29",
          "2020-10-30",
          "2020-10-31",
          "2020-11-01",
          "2020-11-02",
          "2020-11-03",
          "2020-11-04",
          "2020-11-05",
          "2020-11-06",
          "2020-11-07",
          "2020-11-08",
          "2020-11-09",
          "2020-11-10",
          "2020-11-11",
          "2020-11-12",
          "2020-11-13",
          "2020-11-14",
          "2020-11-15",
          "2020-11-16",
          "2020-11-17",
          "2020-11-18",
          "2020-11-19",
          "2020-11-22",
          "2020-11-24",
          "2020-11-25",
          "2020-11-26",
          "2020-11-27",
          "2020-11-28",
          "2020-11-29",
          "2020-11-30",
          "2020-12-01",
          "2020-12-02",
          "2020-12-03",
          "2020-12-04",
          "2020-12-05",
          "2020-12-06",
          "2020-12-07",
          "2020-12-08",
          "2020-12-09",
          "2020-12-10",
          "2020-12-11",
          "2020-12-12",
          "2020-12-13",
          "2020-12-15",
          "2020-12-17",
          "2020-12-18",
          "2020-12-19",
          "2020-12-20",
          "2020-12-21",
          "2020-12-22",
          "2020-12-23",
          "2020-12-24",
          "2020-12-25",
          "2020-12-26",
          "2020-12-27",
          "2020-12-28",
          "2020-12-29",
          "2020-12-30",
          "2020-12-31",
          "2021-01-01",
          "2021-01-02",
          "2021-01-04",
          "2021-01-05",
          "2021-01-06",
          "2021-01-08",
          "2021-01-10",
          "2021-01-12",
          "2021-01-13",
          "2021-01-15",
          "2021-01-16",
          "2021-01-17",
          "2021-01-18",
          "2021-01-21",
          "2021-01-22",
          "2021-01-23",
          "2021-01-24",
          "2021-01-25",
          "2021-01-26",
          "2021-01-27",
          "2021-01-28",
          "2021-01-29",
          "2021-01-30",
          "2021-01-31",
          "2021-02-01",
          "2021-02-02",
          "2021-02-03",
          "2021-02-04",
          "2021-02-05",
          "2021-02-06",
          "2021-02-07",
          "2021-02-08",
          "2021-02-09",
          "2021-02-10",
          "2021-02-11",
          "2021-02-12",
          "2021-02-13",
          "2021-02-14",
          "2021-02-15",
          "2021-02-16",
          "2021-02-17",
          "2021-02-18",
          "2021-02-19",
          "2021-02-20",
          "2021-02-21",
          "2021-02-22",
          "2021-02-23",
          "2021-02-24",
          "2021-02-25",
          "2021-02-26",
          "2021-02-27",
          "2021-02-28",
          "2021-03-01",
          "2021-03-02",
          "2021-03-03",
          "2021-03-04",
          "2021-03-05",
          "2021-03-06",
          "2021-03-07",
          "2021-03-08",
          "2021-03-09",
          "2021-03-10",
          "2021-03-11",
          "2021-03-12",
          "2021-03-13",
          "2021-03-14",
          "2021-03-15",
          "2021-03-16",
          "2021-03-17",
          "2021-03-18",
          "2021-03-19",
          "2021-03-22",
          "2021-03-23",
          "2021-03-24",
          "2021-03-25",
          "2021-03-26",
          "2021-03-28",
          "2021-03-29",
          "2021-03-30",
          "2021-03-31",
          "2021-04-02",
          "2021-04-03",
          "2021-04-04",
          "2021-04-06",
          "2021-04-07",
          "2021-04-08",
          "2021-04-09",
          "2021-04-11",
          "2021-04-12",
          "2021-04-15",
          "2021-04-17",
          "2021-04-18",
          "2021-04-19",
          "2021-04-20",
          "2021-04-21",
          "2021-04-22",
          "2021-04-23",
          "2021-04-24",
          "2021-04-25",
          "2021-04-27",
          "2021-04-28",
          "2021-05-02",
          "2021-05-05",
          "2021-05-06",
          "2021-05-07",
          "2021-05-08",
          "2021-05-09",
          "2021-05-10",
          "2021-05-11",
          "2021-05-14",
          "2021-05-20",
          "2021-05-23",
          "2021-05-29",
          "2021-05-31",
          "2021-06-08",
          "2021-06-09",
          "2021-06-16",
          "2021-06-17",
          "2021-06-18",
          "2021-06-20",
          "2021-06-22",
          "2021-06-23",
          "2021-06-24",
          "2021-06-25",
          "2021-06-27",
          "2021-06-28",
          "2021-06-29",
          "2021-06-30",
          "2021-07-01",
          "2021-07-02",
          "2021-07-03",
          "2021-07-04",
          "2021-07-05",
          "2021-07-06",
          "2021-07-07",
          "2021-07-08",
          "2021-07-09",
          "2021-07-10",
          "2021-07-11",
          "2021-07-13",
          "2021-07-14",
          "2021-07-15",
          "2021-07-16",
          "2021-07-18",
          "2021-07-19",
          "2021-07-20",
          "2021-07-21",
          "2021-07-22",
          "2021-07-23",
          "2021-07-24",
          "2021-07-25",
          "2021-07-27",
          "2021-07-28",
          "2021-07-29",
          "2021-07-30",
          "2021-07-31",
          "2021-08-01",
          "2021-08-02",
          "2021-08-04",
          "2021-08-05",
          "2021-08-06",
          "2021-08-07",
          "2021-08-09",
          "2021-08-10",
          "2021-08-13",
          "2021-08-15",
          "2021-08-17",
          "2021-08-20",
          "2021-08-21",
          "2021-08-22",
          "2021-08-23",
          "2021-08-24",
          "2021-08-26",
          "2021-08-28",
          "2021-08-29",
          "2021-08-30",
          "2021-09-04",
          "2021-09-07",
          "2021-09-08",
          "2021-09-09",
          "2021-09-10",
          "2021-09-11",
          "2021-09-14",
          "2021-09-15",
          "2021-09-17",
          "2021-09-22",
          "2021-09-23",
          "2021-09-28",
          "2021-09-29",
          "2021-09-30",
          "2021-10-01",
          "2021-10-02",
          "2021-10-04",
          "2021-10-05",
          "2021-10-06",
          "2021-10-07",
          "2021-10-08",
          "2021-10-14",
          "2021-10-16",
          "2021-10-18",
          "2021-10-19",
          "2021-10-20",
          "2021-10-21",
          "2021-10-22",
          "2021-10-24",
          "2021-10-27",
          "2021-10-29",
          "2021-10-30",
          "2021-11-01",
          "2021-11-02",
          "2021-11-06",
          "2021-11-08",
          "2021-11-15",
          "2021-11-16",
          "2021-11-18",
          "2021-11-19",
          "2021-11-20",
          "2021-11-24",
          "2021-11-26",
          "2021-12-01",
          "2021-12-02",
          "2021-12-05",
          "2021-12-07",
          "2021-12-13",
          "2021-12-14",
          "2021-12-20",
          "2021-12-21",
          "2021-12-28",
          "2021-12-30",
          "2022-01-02",
          "2022-01-03",
          "2022-01-05",
          "2022-01-07",
          "2022-01-09",
          "2022-01-11",
          "2022-01-12",
          "2022-01-13",
          "2022-01-17",
          "2022-01-18",
          "2022-01-19",
          "2022-01-22",
          "2022-01-24",
          "2022-01-31",
          "2022-02-03",
          "2022-02-06",
          "2022-02-08",
          "2022-02-09",
          "2022-02-10",
          "2022-02-12",
          "2022-02-13",
          "2022-02-14",
          "2022-02-15",
          "2022-02-19",
          "2022-02-21",
          "2022-02-22",
          "2022-02-23",
          "2022-02-24",
          "2022-02-25",
          "2022-02-26",
          "2022-03-02",
          "2022-03-03",
          "2022-03-04",
          "2022-03-05",
          "2022-03-06",
          "2022-03-07",
          "2022-03-09",
          "2022-03-10",
          "2022-03-12",
          "2022-03-13",
          "2022-03-23",
          "2022-03-30",
          "2022-04-05",
          "2022-04-06",
          "2022-04-11",
          "2022-04-13",
          "2022-04-15",
          "2022-04-23",
          "2022-04-27",
          "2022-05-15",
          "2022-05-17",
          "2022-05-23",
          "2022-05-24",
          "2022-05-30",
          "2022-06-05",
          "2022-06-06",
          "2022-06-07",
          "2022-06-10",
          "2022-06-15",
          "2022-06-16",
          "2022-06-17",
          "2022-06-18",
          "2022-06-19",
          "2022-06-20",
          "2022-06-21",
          "2022-06-22",
          "2022-06-23",
          "2022-06-24",
          "2022-06-25",
          "2022-06-26",
          "2022-06-27",
          "2022-06-29",
          "2022-07-04",
          "2022-07-05",
          "2022-07-07",
          "2022-07-10",
          "2022-07-12",
          "2022-07-14",
          "2022-07-18",
          "2022-07-21",
          "2022-07-22",
          "2022-07-24",
          "2022-08-02",
          "2022-08-03",
          "2022-08-07",
          "2022-08-08",
          "2022-08-09",
          "2022-08-10",
          "2022-08-11",
          "2022-08-14",
          "2022-08-20",
          "2022-08-21",
          "2022-08-23",
          "2022-08-25",
          "2022-08-27",
          "2022-08-30",
          "2022-09-07",
          "2022-09-08",
          "2022-09-11",
          "2022-09-13",
          "2022-09-14",
          "2022-09-20",
          "2022-09-26",
          "2022-09-27",
          "2022-09-28",
          "2022-09-29",
          "2022-10-04",
          "2022-10-06",
          "2022-10-07",
          "2022-10-08",
          "2022-10-11",
          "2022-10-13",
          "2022-10-14",
          "2022-10-16",
          "2022-10-20",
          "2022-10-21",
          "2022-10-25",
          "2022-10-26",
          "2022-10-27",
          "2022-11-04",
          "2022-11-05",
          "2022-11-10",
          "2022-11-12",
          "2022-11-16",
          "2022-11-19",
          "2022-11-25",
          "2022-11-28",
          "2022-11-29",
          "2022-12-01",
          "2022-12-07",
          "2022-12-08",
          "2022-12-09",
          "2022-12-10",
          "2022-12-11",
          "2022-12-12",
          "2022-12-13",
          "2022-12-15",
          "2022-12-17",
          "2022-12-18",
          "2022-12-20",
          "2022-12-21",
          "2022-12-22",
          "2022-12-27",
          "2022-12-29",
          "2022-12-31",
          "2023-01-01",
          "2023-01-04",
          "2023-01-06",
          "2023-01-07",
          "2023-01-09",
          "2023-01-10",
          "2023-01-11",
          "2023-01-12",
          "2023-01-14",
          "2023-01-15",
          "2023-01-17",
          "2023-01-18",
          "2023-01-19",
          "2023-01-21",
          "2023-01-24",
          "2023-01-27",
          "2023-01-28",
          "2023-01-31",
          "2023-02-01",
          "2023-02-02",
          "2023-02-03",
          "2023-02-06",
          "2023-02-07",
          "2023-02-08",
          "2023-02-10",
          "2023-02-12",
          "2023-02-13",
          "2023-02-16",
          "2023-02-22",
          "2023-02-27",
          "2023-02-28",
          "2023-03-03",
          "2023-03-05",
          "2023-03-06",
          "2023-03-07",
          "2023-03-08",
          "2023-03-15",
          "2023-03-16",
          "2023-03-17",
          "2023-03-22",
          "2023-03-26",
          "2023-03-28",
          "2023-04-02",
          "2023-04-03",
          "2023-04-04",
          "2023-04-07",
          "2023-04-11",
          "2023-04-12",
          "2023-04-13",
          "2023-04-15",
          "2023-04-16",
          "2023-04-17",
          "2023-04-18",
          "2023-04-19",
          "2023-04-20",
          "2023-04-21",
          "2023-04-22",
          "2023-04-23",
          "2023-04-24",
          "2023-04-25",
          "2023-04-27",
          "2023-04-29",
          "2023-04-30",
          "2023-05-01",
          "2023-05-03",
          "2023-05-08",
          "2023-05-09",
          "2023-05-10",
          "2023-05-11",
          "2023-05-12",
          "2023-05-15",
          "2023-05-17",
          "2023-05-22",
          "2023-05-24",
          "2023-05-26",
          "2023-05-27",
          "2023-05-28",
          "2023-05-29",
          "2023-06-01",
          "2023-06-02",
          "2023-06-03",
          "2023-06-05",
          "2023-06-11",
          "2023-06-19",
          "2023-06-21",
          "2023-06-22",
          "2023-06-28",
          "2023-07-01",
          "2023-07-02",
          "2023-07-04",
          "2023-07-05",
          "2023-07-06",
          "2023-07-07",
          "2023-07-11",
          "2023-07-14",
          "2023-07-16",
          "2023-07-18",
          "2023-07-22",
          "2023-07-24",
          "2023-07-30",
          "2023-07-31",
          "2023-08-01",
          "2023-08-03",
          "2023-08-04",
          "2023-08-07",
          "2023-08-09",
          "2023-08-13",
          "2023-08-14",
          "2023-08-15",
          "2023-08-16",
          "2023-08-17",
          "2023-08-18",
          "2023-08-19",
          "2023-08-21",
          "2023-08-22",
          "2023-08-23",
          "2023-08-24",
          "2023-08-25",
          "2023-08-28",
          "2023-08-30",
          "2023-09-06",
          "2023-09-08",
          "2023-09-10",
          "2023-09-14",
          "2023-09-15",
          "2023-09-20",
          "2023-09-21",
          "2023-09-24",
          "2023-09-26",
          "2023-09-27",
          "2023-09-28",
          "2023-10-04",
          "2023-10-09",
          "2023-10-10",
          "2023-10-14",
          "2023-10-15",
          "2023-10-16",
          "2023-10-17",
          "2023-10-25",
          "2023-10-26",
          "2023-10-28",
          "2023-10-31",
          "2023-11-02",
          "2023-11-05",
          "2023-11-09",
          "2023-11-12",
          "2023-11-13",
          "2023-11-22",
          "2023-11-25",
          "2023-11-26",
          "2023-12-01",
          "2023-12-05",
          "2023-12-06",
          "2023-12-07",
          "2023-12-09",
          "2023-12-12",
          "2023-12-19",
          "2023-12-20",
          "2023-12-21",
          "2023-12-23",
          "2023-12-27",
          "2023-12-28",
          "2023-12-29",
          "2023-12-30",
          "2023-12-31",
          "2024-01-01",
          "2024-01-02",
          "2024-01-07",
          "2024-01-11",
          "2024-01-12",
          "2024-01-15",
          "2024-01-22",
          "2024-01-23",
          "2024-01-24",
          "2024-01-25",
          "2024-01-27",
          "2024-01-29",
          "2024-01-30",
          "2024-02-06",
          "2024-02-11",
          "2024-02-12",
          "2024-02-14",
          "2024-02-21",
          "2024-02-25",
          "2024-02-26",
          "2024-02-27",
          "2024-02-29",
          "2024-03-01",
          "2024-03-03",
          "2024-03-04",
          "2024-03-05",
          "2024-03-08",
          "2024-03-11",
          "2024-03-12",
          "2024-03-13",
          "2024-03-14",
          "2024-03-15",
          "2024-03-19",
          "2024-03-23",
          "2024-03-25",
          "2024-03-28",
          "2024-03-29",
          "2024-04-01",
          "2024-04-02",
          "2024-04-04",
          "2024-04-07",
          "2024-04-08",
          "2024-04-10",
          "2024-04-11",
          "2024-04-14",
          "2024-04-15",
          "2024-04-16",
          "2024-04-21",
          "2024-04-24",
          "2024-04-26",
          "2024-04-28",
          "2024-04-30",
          "2024-05-02",
          "2024-05-03",
          "2024-05-06",
          "2024-05-07",
          "2024-05-08",
          "2024-05-10",
          "2024-05-13",
          "2024-05-14",
          "2024-05-15",
          "2024-05-16",
          "2024-05-17",
          "2024-05-18",
          "2024-05-19",
          "2024-05-22",
          "2024-05-23",
          "2024-05-27",
          "2024-05-28",
          "2024-05-29",
          "2024-06-02",
          "2024-06-04",
          "2024-06-08",
          "2024-06-09",
          "2024-06-12",
          "2024-06-13",
          "2024-06-14",
          "2024-06-21",
          "2024-06-25",
          "2024-06-26",
          "2024-06-29",
          "2024-07-01",
          "2024-07-03",
          "2024-07-04",
          "2024-07-05",
          "2024-07-06",
          "2024-07-07",
          "2024-07-08",
          "2024-07-09",
          "2024-07-10",
          "2024-07-11",
          "2024-07-12",
          "2024-07-13",
          "2024-07-14",
          "2024-07-15",
          "2024-07-17",
          "2024-07-18",
          "2024-07-20",
          "2024-07-21",
          "2024-07-22",
          "2024-07-23",
          "2024-07-24",
          "2024-07-25",
          "2024-07-27",
          "2024-07-28",
          "2024-07-29",
          "2024-07-30",
          "2024-07-31",
          "2024-08-01",
          "2024-08-02",
          "2024-08-03",
          "2024-08-04",
          "2024-08-05",
          "2024-08-06",
          "2024-08-07",
          "2024-08-08",
          "2024-08-09",
          "2024-08-10",
          "2024-08-11",
          "2024-08-12",
          "2024-08-13",
          "2024-08-14",
          "2024-08-15",
          "2024-08-16"
         ],
         "y": [
          1,
          1,
          11,
          8,
          8,
          2,
          4,
          5,
          3,
          3,
          3,
          1,
          1,
          1,
          2,
          1,
          1,
          1,
          1,
          1,
          1,
          1,
          1,
          4,
          1,
          1,
          1,
          1,
          3,
          1,
          1,
          1,
          1,
          1,
          1,
          1,
          1,
          1,
          1,
          1,
          2,
          1,
          1,
          7,
          4,
          4,
          6,
          1,
          1,
          1,
          2,
          1,
          1,
          1,
          2,
          1,
          1,
          1,
          1,
          3,
          1,
          2,
          2,
          6,
          6,
          13,
          4,
          4,
          1,
          1,
          1,
          1,
          9,
          3,
          3,
          3,
          1,
          3,
          1,
          1,
          9,
          6,
          6,
          5,
          3,
          2,
          1,
          1,
          56,
          71,
          40,
          45,
          50,
          26,
          13,
          11,
          13,
          20,
          14,
          3,
          52,
          13,
          27,
          20,
          12,
          12,
          16,
          8,
          11,
          14,
          12,
          8,
          10,
          11,
          1,
          8,
          9,
          12,
          8,
          7,
          4,
          4,
          2,
          8,
          3,
          4,
          3,
          4,
          6,
          4,
          5,
          3,
          3,
          5,
          4,
          2,
          4,
          4,
          1,
          1,
          1,
          2,
          1,
          5,
          3,
          1,
          2,
          3,
          3,
          4,
          4,
          2,
          2,
          3,
          1,
          1,
          3,
          7,
          4,
          6,
          3,
          2,
          6,
          6,
          3,
          3,
          2,
          3,
          2,
          1,
          1,
          2,
          1,
          3,
          1,
          3,
          1,
          1,
          1,
          1,
          2,
          1,
          2,
          2,
          1,
          2,
          18,
          36,
          17,
          14,
          16,
          12,
          13,
          9,
          3,
          1,
          6,
          1,
          6,
          4,
          4,
          6,
          6,
          13,
          11,
          2,
          8,
          10,
          10,
          12,
          19,
          12,
          16,
          12,
          7,
          5,
          6,
          10,
          34,
          8,
          1,
          3,
          3,
          2,
          7,
          4,
          5,
          4,
          5,
          5,
          3,
          1,
          4,
          1,
          2,
          1,
          2,
          2,
          3,
          1,
          1,
          2,
          3,
          4,
          1,
          2,
          3,
          1,
          1,
          1,
          3,
          2,
          1,
          1,
          1,
          1,
          4,
          1,
          1,
          1,
          2,
          1,
          6,
          1,
          1,
          2,
          1,
          1,
          2,
          3,
          1,
          1,
          1,
          1,
          2,
          1,
          1,
          1,
          1,
          1,
          1,
          1,
          1,
          1,
          2,
          2,
          2,
          3,
          1,
          2,
          1,
          2,
          14,
          13,
          2,
          10,
          5,
          3,
          6,
          16,
          4,
          2,
          2,
          4,
          1,
          1,
          2,
          1,
          2,
          1,
          1,
          3,
          1,
          2,
          1,
          1,
          3,
          1,
          1,
          2,
          2,
          1,
          4,
          2,
          5,
          1,
          2,
          1,
          7,
          1,
          2,
          1,
          1,
          3,
          3,
          1,
          3,
          1,
          1,
          5,
          5,
          3,
          2,
          1,
          1,
          1,
          1,
          2,
          1,
          1,
          1,
          2,
          1,
          1,
          1,
          1,
          2,
          2,
          1,
          3,
          1,
          1,
          1,
          3,
          3,
          2,
          1,
          2,
          1,
          1,
          2,
          1,
          1,
          1,
          1,
          2,
          1,
          1,
          1,
          3,
          1,
          1,
          1,
          1,
          1,
          1,
          1,
          2,
          2,
          1,
          1,
          1,
          1,
          1,
          1,
          2,
          1,
          1,
          1,
          1,
          1,
          1,
          1,
          1,
          1,
          1,
          10,
          3,
          1,
          1,
          1,
          1,
          1,
          1,
          2,
          1,
          1,
          2,
          1,
          1,
          1,
          4,
          2,
          1,
          1,
          3,
          1,
          2,
          1,
          1,
          1,
          3,
          2,
          1,
          3,
          1,
          1,
          1,
          1,
          1,
          1,
          1,
          1,
          1,
          1,
          1,
          1,
          1,
          2,
          1,
          1,
          1,
          1,
          1,
          2,
          2,
          1,
          1,
          1,
          1,
          1,
          2,
          1,
          2,
          1,
          3,
          3,
          2,
          1,
          2,
          2,
          2,
          2,
          1,
          1,
          1,
          1,
          1,
          1,
          2,
          1,
          2,
          1,
          1,
          1,
          2,
          1,
          1,
          1,
          1,
          1,
          1,
          1,
          1,
          1,
          1,
          1,
          1,
          1,
          1,
          1,
          1,
          1,
          1,
          2,
          1,
          1,
          1,
          2,
          2,
          1,
          1,
          1,
          3,
          2,
          1,
          1,
          1,
          1,
          1,
          1,
          1,
          1,
          1,
          1,
          1,
          2,
          1,
          2,
          3,
          3,
          1,
          1,
          1,
          1,
          3,
          3,
          2,
          1,
          2,
          1,
          2,
          1,
          1,
          1,
          2,
          2,
          1,
          1,
          2,
          5,
          2,
          1,
          1,
          1,
          3,
          1,
          1,
          1,
          1,
          1,
          3,
          1,
          1,
          1,
          1,
          3,
          1,
          2,
          2,
          2,
          2,
          1,
          1,
          1,
          1,
          1,
          1,
          1,
          1,
          2,
          1,
          1,
          1,
          1,
          2,
          1,
          1,
          2,
          2,
          2,
          2,
          1,
          1,
          4,
          2,
          2,
          2,
          2,
          1,
          1,
          2,
          5,
          3,
          2,
          1,
          2,
          1,
          2,
          1,
          1,
          3,
          1,
          3,
          2,
          2,
          1,
          2,
          7,
          1,
          3,
          1,
          1,
          2,
          1,
          2,
          1,
          1,
          1,
          1,
          1,
          1,
          2,
          1,
          1,
          1,
          1,
          1,
          1,
          1,
          1,
          1,
          1,
          1,
          1,
          2,
          2,
          1,
          1,
          1,
          1,
          1,
          1,
          2,
          1,
          2,
          1,
          1,
          1,
          1,
          3,
          1,
          1,
          1,
          3,
          2,
          1,
          1,
          1,
          2,
          1,
          2,
          1,
          2,
          4,
          3,
          1,
          2,
          1,
          1,
          1,
          1,
          1,
          1,
          1,
          1,
          1,
          1,
          1,
          1,
          1,
          2,
          1,
          2,
          2,
          1,
          2,
          1,
          1,
          2,
          1,
          1,
          1,
          1,
          2,
          1,
          1,
          1,
          1,
          1,
          3,
          1,
          1,
          1,
          1,
          1,
          2,
          1,
          2,
          2,
          1,
          1,
          1,
          2,
          1,
          1,
          2,
          2,
          1,
          1,
          1,
          1,
          1,
          1,
          3,
          1,
          1,
          5,
          2,
          1,
          2,
          1,
          1,
          1,
          3,
          2,
          1,
          1,
          3,
          1,
          2,
          2,
          2,
          1,
          1,
          2,
          1,
          1,
          1,
          1,
          1,
          1,
          1,
          1,
          1,
          5,
          2,
          1,
          1,
          2,
          1,
          1,
          4,
          1,
          1,
          1,
          1,
          2,
          1,
          1,
          1,
          1,
          1,
          1,
          1,
          1,
          1,
          1,
          1,
          1,
          1,
          1,
          2,
          1,
          1,
          6,
          5,
          3,
          12,
          5,
          4,
          2,
          4,
          1,
          2,
          1,
          1,
          2,
          1,
          1,
          2,
          4,
          1,
          1,
          1,
          1,
          1,
          2,
          16,
          31,
          21,
          14,
          17,
          19,
          21,
          13,
          11,
          6,
          6,
          10,
          6,
          10,
          5,
          4
         ]
        }
       ],
       "layout": {
        "legend": {
         "orientation": "h",
         "traceorder": "normal",
         "x": 0,
         "y": 1
        },
        "shapes": [
         {
          "line": {
           "color": "red",
           "width": 2
          },
          "type": "line",
          "x0": "2024-07-20T11:52:00",
          "x1": "2024-07-20T11:52:00",
          "xref": "x",
          "y0": 0,
          "y1": 1,
          "yref": "y domain"
         },
         {
          "line": {
           "color": "red",
           "width": 2
          },
          "type": "line",
          "x0": "2021-01-21T14:23:00",
          "x1": "2021-01-21T14:23:00",
          "xref": "x",
          "y0": 0,
          "y1": 1,
          "yref": "y domain"
         },
         {
          "line": {
           "color": "red",
           "width": 2
          },
          "type": "line",
          "x0": "2020-09-11T20:25:00",
          "x1": "2020-09-11T20:25:00",
          "xref": "x",
          "y0": 0,
          "y1": 1,
          "yref": "y domain"
         },
         {
          "line": {
           "color": "red",
           "width": 2
          },
          "type": "line",
          "x0": "2021-08-05T10:07:00",
          "x1": "2021-08-05T10:07:00",
          "xref": "x",
          "y0": 0,
          "y1": 1,
          "yref": "y domain"
         },
         {
          "line": {
           "color": "red",
           "width": 2
          },
          "type": "line",
          "x0": "2021-02-21T23:45:00",
          "x1": "2021-02-21T23:45:00",
          "xref": "x",
          "y0": 0,
          "y1": 1,
          "yref": "y domain"
         },
         {
          "line": {
           "color": "red",
           "width": 2
          },
          "type": "line",
          "x0": "2020-10-23T18:19:00",
          "x1": "2020-10-23T18:19:00",
          "xref": "x",
          "y0": 0,
          "y1": 1,
          "yref": "y domain"
         },
         {
          "line": {
           "color": "red",
           "width": 2
          },
          "type": "line",
          "x0": "2020-10-04T03:28:00",
          "x1": "2020-10-04T03:28:00",
          "xref": "x",
          "y0": 0,
          "y1": 1,
          "yref": "y domain"
         },
         {
          "line": {
           "color": "red",
           "width": 2
          },
          "type": "line",
          "x0": "2023-08-17T12:34:00",
          "x1": "2023-08-17T12:34:00",
          "xref": "x",
          "y0": 0,
          "y1": 1,
          "yref": "y domain"
         },
         {
          "line": {
           "color": "red",
           "width": 2
          },
          "type": "line",
          "x0": "2022-01-12T18:43:00",
          "x1": "2022-01-12T18:43:00",
          "xref": "x",
          "y0": 0,
          "y1": 1,
          "yref": "y domain"
         },
         {
          "line": {
           "color": "red",
           "width": 2
          },
          "type": "line",
          "x0": "2020-10-08T18:16:00",
          "x1": "2020-10-08T18:16:00",
          "xref": "x",
          "y0": 0,
          "y1": 1,
          "yref": "y domain"
         }
        ],
        "template": {
         "data": {
          "bar": [
           {
            "error_x": {
             "color": "#2a3f5f"
            },
            "error_y": {
             "color": "#2a3f5f"
            },
            "marker": {
             "line": {
              "color": "#E5ECF6",
              "width": 0.5
             },
             "pattern": {
              "fillmode": "overlay",
              "size": 10,
              "solidity": 0.2
             }
            },
            "type": "bar"
           }
          ],
          "barpolar": [
           {
            "marker": {
             "line": {
              "color": "#E5ECF6",
              "width": 0.5
             },
             "pattern": {
              "fillmode": "overlay",
              "size": 10,
              "solidity": 0.2
             }
            },
            "type": "barpolar"
           }
          ],
          "carpet": [
           {
            "aaxis": {
             "endlinecolor": "#2a3f5f",
             "gridcolor": "white",
             "linecolor": "white",
             "minorgridcolor": "white",
             "startlinecolor": "#2a3f5f"
            },
            "baxis": {
             "endlinecolor": "#2a3f5f",
             "gridcolor": "white",
             "linecolor": "white",
             "minorgridcolor": "white",
             "startlinecolor": "#2a3f5f"
            },
            "type": "carpet"
           }
          ],
          "choropleth": [
           {
            "colorbar": {
             "outlinewidth": 0,
             "ticks": ""
            },
            "type": "choropleth"
           }
          ],
          "contour": [
           {
            "colorbar": {
             "outlinewidth": 0,
             "ticks": ""
            },
            "colorscale": [
             [
              0,
              "#0d0887"
             ],
             [
              0.1111111111111111,
              "#46039f"
             ],
             [
              0.2222222222222222,
              "#7201a8"
             ],
             [
              0.3333333333333333,
              "#9c179e"
             ],
             [
              0.4444444444444444,
              "#bd3786"
             ],
             [
              0.5555555555555556,
              "#d8576b"
             ],
             [
              0.6666666666666666,
              "#ed7953"
             ],
             [
              0.7777777777777778,
              "#fb9f3a"
             ],
             [
              0.8888888888888888,
              "#fdca26"
             ],
             [
              1,
              "#f0f921"
             ]
            ],
            "type": "contour"
           }
          ],
          "contourcarpet": [
           {
            "colorbar": {
             "outlinewidth": 0,
             "ticks": ""
            },
            "type": "contourcarpet"
           }
          ],
          "heatmap": [
           {
            "colorbar": {
             "outlinewidth": 0,
             "ticks": ""
            },
            "colorscale": [
             [
              0,
              "#0d0887"
             ],
             [
              0.1111111111111111,
              "#46039f"
             ],
             [
              0.2222222222222222,
              "#7201a8"
             ],
             [
              0.3333333333333333,
              "#9c179e"
             ],
             [
              0.4444444444444444,
              "#bd3786"
             ],
             [
              0.5555555555555556,
              "#d8576b"
             ],
             [
              0.6666666666666666,
              "#ed7953"
             ],
             [
              0.7777777777777778,
              "#fb9f3a"
             ],
             [
              0.8888888888888888,
              "#fdca26"
             ],
             [
              1,
              "#f0f921"
             ]
            ],
            "type": "heatmap"
           }
          ],
          "heatmapgl": [
           {
            "colorbar": {
             "outlinewidth": 0,
             "ticks": ""
            },
            "colorscale": [
             [
              0,
              "#0d0887"
             ],
             [
              0.1111111111111111,
              "#46039f"
             ],
             [
              0.2222222222222222,
              "#7201a8"
             ],
             [
              0.3333333333333333,
              "#9c179e"
             ],
             [
              0.4444444444444444,
              "#bd3786"
             ],
             [
              0.5555555555555556,
              "#d8576b"
             ],
             [
              0.6666666666666666,
              "#ed7953"
             ],
             [
              0.7777777777777778,
              "#fb9f3a"
             ],
             [
              0.8888888888888888,
              "#fdca26"
             ],
             [
              1,
              "#f0f921"
             ]
            ],
            "type": "heatmapgl"
           }
          ],
          "histogram": [
           {
            "marker": {
             "pattern": {
              "fillmode": "overlay",
              "size": 10,
              "solidity": 0.2
             }
            },
            "type": "histogram"
           }
          ],
          "histogram2d": [
           {
            "colorbar": {
             "outlinewidth": 0,
             "ticks": ""
            },
            "colorscale": [
             [
              0,
              "#0d0887"
             ],
             [
              0.1111111111111111,
              "#46039f"
             ],
             [
              0.2222222222222222,
              "#7201a8"
             ],
             [
              0.3333333333333333,
              "#9c179e"
             ],
             [
              0.4444444444444444,
              "#bd3786"
             ],
             [
              0.5555555555555556,
              "#d8576b"
             ],
             [
              0.6666666666666666,
              "#ed7953"
             ],
             [
              0.7777777777777778,
              "#fb9f3a"
             ],
             [
              0.8888888888888888,
              "#fdca26"
             ],
             [
              1,
              "#f0f921"
             ]
            ],
            "type": "histogram2d"
           }
          ],
          "histogram2dcontour": [
           {
            "colorbar": {
             "outlinewidth": 0,
             "ticks": ""
            },
            "colorscale": [
             [
              0,
              "#0d0887"
             ],
             [
              0.1111111111111111,
              "#46039f"
             ],
             [
              0.2222222222222222,
              "#7201a8"
             ],
             [
              0.3333333333333333,
              "#9c179e"
             ],
             [
              0.4444444444444444,
              "#bd3786"
             ],
             [
              0.5555555555555556,
              "#d8576b"
             ],
             [
              0.6666666666666666,
              "#ed7953"
             ],
             [
              0.7777777777777778,
              "#fb9f3a"
             ],
             [
              0.8888888888888888,
              "#fdca26"
             ],
             [
              1,
              "#f0f921"
             ]
            ],
            "type": "histogram2dcontour"
           }
          ],
          "mesh3d": [
           {
            "colorbar": {
             "outlinewidth": 0,
             "ticks": ""
            },
            "type": "mesh3d"
           }
          ],
          "parcoords": [
           {
            "line": {
             "colorbar": {
              "outlinewidth": 0,
              "ticks": ""
             }
            },
            "type": "parcoords"
           }
          ],
          "pie": [
           {
            "automargin": true,
            "type": "pie"
           }
          ],
          "scatter": [
           {
            "fillpattern": {
             "fillmode": "overlay",
             "size": 10,
             "solidity": 0.2
            },
            "type": "scatter"
           }
          ],
          "scatter3d": [
           {
            "line": {
             "colorbar": {
              "outlinewidth": 0,
              "ticks": ""
             }
            },
            "marker": {
             "colorbar": {
              "outlinewidth": 0,
              "ticks": ""
             }
            },
            "type": "scatter3d"
           }
          ],
          "scattercarpet": [
           {
            "marker": {
             "colorbar": {
              "outlinewidth": 0,
              "ticks": ""
             }
            },
            "type": "scattercarpet"
           }
          ],
          "scattergeo": [
           {
            "marker": {
             "colorbar": {
              "outlinewidth": 0,
              "ticks": ""
             }
            },
            "type": "scattergeo"
           }
          ],
          "scattergl": [
           {
            "marker": {
             "colorbar": {
              "outlinewidth": 0,
              "ticks": ""
             }
            },
            "type": "scattergl"
           }
          ],
          "scattermapbox": [
           {
            "marker": {
             "colorbar": {
              "outlinewidth": 0,
              "ticks": ""
             }
            },
            "type": "scattermapbox"
           }
          ],
          "scatterpolar": [
           {
            "marker": {
             "colorbar": {
              "outlinewidth": 0,
              "ticks": ""
             }
            },
            "type": "scatterpolar"
           }
          ],
          "scatterpolargl": [
           {
            "marker": {
             "colorbar": {
              "outlinewidth": 0,
              "ticks": ""
             }
            },
            "type": "scatterpolargl"
           }
          ],
          "scatterternary": [
           {
            "marker": {
             "colorbar": {
              "outlinewidth": 0,
              "ticks": ""
             }
            },
            "type": "scatterternary"
           }
          ],
          "surface": [
           {
            "colorbar": {
             "outlinewidth": 0,
             "ticks": ""
            },
            "colorscale": [
             [
              0,
              "#0d0887"
             ],
             [
              0.1111111111111111,
              "#46039f"
             ],
             [
              0.2222222222222222,
              "#7201a8"
             ],
             [
              0.3333333333333333,
              "#9c179e"
             ],
             [
              0.4444444444444444,
              "#bd3786"
             ],
             [
              0.5555555555555556,
              "#d8576b"
             ],
             [
              0.6666666666666666,
              "#ed7953"
             ],
             [
              0.7777777777777778,
              "#fb9f3a"
             ],
             [
              0.8888888888888888,
              "#fdca26"
             ],
             [
              1,
              "#f0f921"
             ]
            ],
            "type": "surface"
           }
          ],
          "table": [
           {
            "cells": {
             "fill": {
              "color": "#EBF0F8"
             },
             "line": {
              "color": "white"
             }
            },
            "header": {
             "fill": {
              "color": "#C8D4E3"
             },
             "line": {
              "color": "white"
             }
            },
            "type": "table"
           }
          ]
         },
         "layout": {
          "annotationdefaults": {
           "arrowcolor": "#2a3f5f",
           "arrowhead": 0,
           "arrowwidth": 1
          },
          "autotypenumbers": "strict",
          "coloraxis": {
           "colorbar": {
            "outlinewidth": 0,
            "ticks": ""
           }
          },
          "colorscale": {
           "diverging": [
            [
             0,
             "#8e0152"
            ],
            [
             0.1,
             "#c51b7d"
            ],
            [
             0.2,
             "#de77ae"
            ],
            [
             0.3,
             "#f1b6da"
            ],
            [
             0.4,
             "#fde0ef"
            ],
            [
             0.5,
             "#f7f7f7"
            ],
            [
             0.6,
             "#e6f5d0"
            ],
            [
             0.7,
             "#b8e186"
            ],
            [
             0.8,
             "#7fbc41"
            ],
            [
             0.9,
             "#4d9221"
            ],
            [
             1,
             "#276419"
            ]
           ],
           "sequential": [
            [
             0,
             "#0d0887"
            ],
            [
             0.1111111111111111,
             "#46039f"
            ],
            [
             0.2222222222222222,
             "#7201a8"
            ],
            [
             0.3333333333333333,
             "#9c179e"
            ],
            [
             0.4444444444444444,
             "#bd3786"
            ],
            [
             0.5555555555555556,
             "#d8576b"
            ],
            [
             0.6666666666666666,
             "#ed7953"
            ],
            [
             0.7777777777777778,
             "#fb9f3a"
            ],
            [
             0.8888888888888888,
             "#fdca26"
            ],
            [
             1,
             "#f0f921"
            ]
           ],
           "sequentialminus": [
            [
             0,
             "#0d0887"
            ],
            [
             0.1111111111111111,
             "#46039f"
            ],
            [
             0.2222222222222222,
             "#7201a8"
            ],
            [
             0.3333333333333333,
             "#9c179e"
            ],
            [
             0.4444444444444444,
             "#bd3786"
            ],
            [
             0.5555555555555556,
             "#d8576b"
            ],
            [
             0.6666666666666666,
             "#ed7953"
            ],
            [
             0.7777777777777778,
             "#fb9f3a"
            ],
            [
             0.8888888888888888,
             "#fdca26"
            ],
            [
             1,
             "#f0f921"
            ]
           ]
          },
          "colorway": [
           "#636efa",
           "#EF553B",
           "#00cc96",
           "#ab63fa",
           "#FFA15A",
           "#19d3f3",
           "#FF6692",
           "#B6E880",
           "#FF97FF",
           "#FECB52"
          ],
          "font": {
           "color": "#2a3f5f"
          },
          "geo": {
           "bgcolor": "white",
           "lakecolor": "white",
           "landcolor": "#E5ECF6",
           "showlakes": true,
           "showland": true,
           "subunitcolor": "white"
          },
          "hoverlabel": {
           "align": "left"
          },
          "hovermode": "closest",
          "mapbox": {
           "style": "light"
          },
          "paper_bgcolor": "white",
          "plot_bgcolor": "#E5ECF6",
          "polar": {
           "angularaxis": {
            "gridcolor": "white",
            "linecolor": "white",
            "ticks": ""
           },
           "bgcolor": "#E5ECF6",
           "radialaxis": {
            "gridcolor": "white",
            "linecolor": "white",
            "ticks": ""
           }
          },
          "scene": {
           "xaxis": {
            "backgroundcolor": "#E5ECF6",
            "gridcolor": "white",
            "gridwidth": 2,
            "linecolor": "white",
            "showbackground": true,
            "ticks": "",
            "zerolinecolor": "white"
           },
           "yaxis": {
            "backgroundcolor": "#E5ECF6",
            "gridcolor": "white",
            "gridwidth": 2,
            "linecolor": "white",
            "showbackground": true,
            "ticks": "",
            "zerolinecolor": "white"
           },
           "zaxis": {
            "backgroundcolor": "#E5ECF6",
            "gridcolor": "white",
            "gridwidth": 2,
            "linecolor": "white",
            "showbackground": true,
            "ticks": "",
            "zerolinecolor": "white"
           }
          },
          "shapedefaults": {
           "line": {
            "color": "#2a3f5f"
           }
          },
          "ternary": {
           "aaxis": {
            "gridcolor": "white",
            "linecolor": "white",
            "ticks": ""
           },
           "baxis": {
            "gridcolor": "white",
            "linecolor": "white",
            "ticks": ""
           },
           "bgcolor": "#E5ECF6",
           "caxis": {
            "gridcolor": "white",
            "linecolor": "white",
            "ticks": ""
           }
          },
          "title": {
           "x": 0.05
          },
          "xaxis": {
           "automargin": true,
           "gridcolor": "white",
           "linecolor": "white",
           "ticks": "",
           "title": {
            "standoff": 15
           },
           "zerolinecolor": "white",
           "zerolinewidth": 2
          },
          "yaxis": {
           "automargin": true,
           "gridcolor": "white",
           "linecolor": "white",
           "ticks": "",
           "title": {
            "standoff": 15
           },
           "zerolinecolor": "white",
           "zerolinewidth": 2
          }
         }
        },
        "title": {
         "text": "각 날짜별로 게시물 수"
        },
        "xaxis": {
         "tickformat": "%Y-%m-%d",
         "title": {
          "text": "날짜"
         }
        },
        "yaxis": {
         "title": {
          "text": "게시글 수"
         }
        }
       }
      }
     },
     "metadata": {},
     "output_type": "display_data"
    },
    {
     "data": {
      "text/html": [
       "<div>\n",
       "<style scoped>\n",
       "    .dataframe tbody tr th:only-of-type {\n",
       "        vertical-align: middle;\n",
       "    }\n",
       "\n",
       "    .dataframe tbody tr th {\n",
       "        vertical-align: top;\n",
       "    }\n",
       "\n",
       "    .dataframe thead th {\n",
       "        text-align: right;\n",
       "    }\n",
       "</style>\n",
       "<table border=\"1\" class=\"dataframe\">\n",
       "  <thead>\n",
       "    <tr style=\"text-align: right;\">\n",
       "      <th></th>\n",
       "      <th>id</th>\n",
       "      <th>title</th>\n",
       "      <th>content</th>\n",
       "      <th>likes</th>\n",
       "      <th>url</th>\n",
       "      <th>author</th>\n",
       "      <th>views</th>\n",
       "      <th>created_at</th>\n",
       "      <th>updated_at</th>\n",
       "      <th>post_id</th>\n",
       "      <th>comment_count</th>\n",
       "      <th>influence_score</th>\n",
       "    </tr>\n",
       "  </thead>\n",
       "  <tbody>\n",
       "    <tr>\n",
       "      <th>943</th>\n",
       "      <td>505585</td>\n",
       "      <td>현대자동차 코나 EV 배터리 안전성 관련 안내와 화재 관련 전달 사항입니다.</td>\n",
       "      <td>안녕하세요. 전기차 동호회 운영자입니다.많은 회원들의 국민청원이 진행중이고, 리콜 ...</td>\n",
       "      <td>69.0</td>\n",
       "      <td>https://cafe.naver.com/ca-fe/ArticleRead.nhn?c...</td>\n",
       "      <td>매니저</td>\n",
       "      <td>5599</td>\n",
       "      <td>2020-09-11 20:25:00</td>\n",
       "      <td>NaN</td>\n",
       "      <td>505585.0</td>\n",
       "      <td>149</td>\n",
       "      <td>69.461711</td>\n",
       "    </tr>\n",
       "    <tr>\n",
       "      <th>712</th>\n",
       "      <td>512987</td>\n",
       "      <td>아파트 전기차 주차장 화재로 대피중입니다.</td>\n",
       "      <td>대구 테크노폴리스 반도유보라 아파트입니다.편히 자고 있는데 대피 안내 방송이 나와 ...</td>\n",
       "      <td>37.0</td>\n",
       "      <td>https://cafe.naver.com/ca-fe/ArticleRead.nhn?c...</td>\n",
       "      <td>쏘밍파I아이오닉I대구</td>\n",
       "      <td>11000</td>\n",
       "      <td>2020-10-04 03:28:00</td>\n",
       "      <td>NaN</td>\n",
       "      <td>512987.0</td>\n",
       "      <td>187</td>\n",
       "      <td>52.086910</td>\n",
       "    </tr>\n",
       "    <tr>\n",
       "      <th>495</th>\n",
       "      <td>515470</td>\n",
       "      <td>[현대자동차] 코나 EV 화재 리콜 관련 안내사항과 Q&amp;A 전달 사항입니다.</td>\n",
       "      <td>[현대자동차] 코나 EV 화재 리콜 관련 안내사항과 Q&amp;A 전달 사항을 전기차 동호...</td>\n",
       "      <td>38.0</td>\n",
       "      <td>https://cafe.naver.com/ca-fe/ArticleRead.nhn?c...</td>\n",
       "      <td>매니저</td>\n",
       "      <td>8270</td>\n",
       "      <td>2020-10-08 18:16:00</td>\n",
       "      <td>NaN</td>\n",
       "      <td>515470.0</td>\n",
       "      <td>157</td>\n",
       "      <td>48.236336</td>\n",
       "    </tr>\n",
       "    <tr>\n",
       "      <th>1079</th>\n",
       "      <td>522350</td>\n",
       "      <td>구사일생했습니다</td>\n",
       "      <td>그냥 포기하고 넘어 가려다가 또 다른 피해자가 나올까봐 글을 씁니다2020.10.1...</td>\n",
       "      <td>46.0</td>\n",
       "      <td>https://cafe.naver.com/ca-fe/ArticleRead.nhn?c...</td>\n",
       "      <td>Reborn</td>\n",
       "      <td>6762</td>\n",
       "      <td>2020-10-23 18:19:00</td>\n",
       "      <td>NaN</td>\n",
       "      <td>522350.0</td>\n",
       "      <td>155</td>\n",
       "      <td>52.915823</td>\n",
       "    </tr>\n",
       "    <tr>\n",
       "      <th>241</th>\n",
       "      <td>554567</td>\n",
       "      <td>2021년 전기차 보조금 정책이 나왔습니다.</td>\n",
       "      <td>1. 국고 보조금2. 지자체 보조금3. 보조금 지급 총액: 국고보조금 + 지자체 보...</td>\n",
       "      <td>59.0</td>\n",
       "      <td>https://cafe.naver.com/ca-fe/ArticleRead.nhn?c...</td>\n",
       "      <td>닥침I볼트M3I경기</td>\n",
       "      <td>24000</td>\n",
       "      <td>2021-01-21 14:23:00</td>\n",
       "      <td>NaN</td>\n",
       "      <td>554567.0</td>\n",
       "      <td>361</td>\n",
       "      <td>93.493774</td>\n",
       "    </tr>\n",
       "    <tr>\n",
       "      <th>1977</th>\n",
       "      <td>569011</td>\n",
       "      <td>코나 EV 차주로서 허심탄회하게 적습니다...</td>\n",
       "      <td>안녕하세요.코나 EV 차주입니다.저는 2018년에 보조금 소진되서 결국 아주 싼가격...</td>\n",
       "      <td>61.0</td>\n",
       "      <td>https://cafe.naver.com/ca-fe/ArticleRead.nhn?c...</td>\n",
       "      <td>행복한부자I코나I서울</td>\n",
       "      <td>4683</td>\n",
       "      <td>2021-02-21 23:45:00</td>\n",
       "      <td>NaN</td>\n",
       "      <td>569011.0</td>\n",
       "      <td>68</td>\n",
       "      <td>56.980263</td>\n",
       "    </tr>\n",
       "    <tr>\n",
       "      <th>1482</th>\n",
       "      <td>655521</td>\n",
       "      <td>현대에서 제 차를 안 돌려줍니다.</td>\n",
       "      <td>7월1일 화재난 코나....7월5일 1차 화재감식 하고, 그 이후에 화재조사 진척이...</td>\n",
       "      <td>52.0</td>\n",
       "      <td>https://cafe.naver.com/ca-fe/ArticleRead.nhn?c...</td>\n",
       "      <td>어슬렁 코나 세종</td>\n",
       "      <td>9385</td>\n",
       "      <td>2021-08-05 10:07:00</td>\n",
       "      <td>NaN</td>\n",
       "      <td>655521.0</td>\n",
       "      <td>174</td>\n",
       "      <td>61.444284</td>\n",
       "    </tr>\n",
       "    <tr>\n",
       "      <th>1505</th>\n",
       "      <td>761054</td>\n",
       "      <td>코나EV 화재로 바라본 근본적인 문제.</td>\n",
       "      <td>1. INTRO코나 EV는 단종된 차량입니다. \"국내 시장 수요를 고려한 판매 라인...</td>\n",
       "      <td>56.0</td>\n",
       "      <td>https://cafe.naver.com/ca-fe/ArticleRead.nhn?c...</td>\n",
       "      <td>드드드I코나EVI경기</td>\n",
       "      <td>2748</td>\n",
       "      <td>2022-01-12 18:43:00</td>\n",
       "      <td>NaN</td>\n",
       "      <td>761054.0</td>\n",
       "      <td>41</td>\n",
       "      <td>49.388903</td>\n",
       "    </tr>\n",
       "    <tr>\n",
       "      <th>1659</th>\n",
       "      <td>1267502</td>\n",
       "      <td>누가 계속 LFP는 고방전이 위험하다고 주장합니까?</td>\n",
       "      <td>실제 BYD에서 생산 중인 LFP 배터리의 자료입니다.BYD Seal/Han/Tan...</td>\n",
       "      <td>32.0</td>\n",
       "      <td>https://cafe.naver.com/ca-fe/ArticleRead.nhn?c...</td>\n",
       "      <td>베멤l모델3l부산</td>\n",
       "      <td>4024</td>\n",
       "      <td>2023-08-17 12:34:00</td>\n",
       "      <td>NaN</td>\n",
       "      <td>1267502.0</td>\n",
       "      <td>345</td>\n",
       "      <td>51.651574</td>\n",
       "    </tr>\n",
       "    <tr>\n",
       "      <th>2529</th>\n",
       "      <td>1511541</td>\n",
       "      <td>e-GMP의 플라스틱 소재와 열폭주 개선 사항 [1/2]</td>\n",
       "      <td>최근에실내로 화염이 유입된 평택 EV6 화재 사고 관련해서, e-GMP 배터리팩의플...</td>\n",
       "      <td>102.0</td>\n",
       "      <td>https://cafe.naver.com/ca-fe/ArticleRead.nhn?c...</td>\n",
       "      <td>베멤l모델3l부산</td>\n",
       "      <td>9976</td>\n",
       "      <td>2024-07-20 11:52:00</td>\n",
       "      <td>NaN</td>\n",
       "      <td>1511541.0</td>\n",
       "      <td>302</td>\n",
       "      <td>109.691844</td>\n",
       "    </tr>\n",
       "  </tbody>\n",
       "</table>\n",
       "</div>"
      ],
      "text/plain": [
       "           id                                       title  \\\n",
       "943    505585  현대자동차 코나 EV 배터리 안전성 관련 안내와 화재 관련 전달 사항입니다.   \n",
       "712    512987                     아파트 전기차 주차장 화재로 대피중입니다.   \n",
       "495    515470  [현대자동차] 코나 EV 화재 리콜 관련 안내사항과 Q&A 전달 사항입니다.   \n",
       "1079   522350                                    구사일생했습니다   \n",
       "241    554567                    2021년 전기차 보조금 정책이 나왔습니다.   \n",
       "1977   569011                   코나 EV 차주로서 허심탄회하게 적습니다...   \n",
       "1482   655521                          현대에서 제 차를 안 돌려줍니다.   \n",
       "1505   761054                       코나EV 화재로 바라본 근본적인 문제.   \n",
       "1659  1267502                누가 계속 LFP는 고방전이 위험하다고 주장합니까?   \n",
       "2529  1511541             e-GMP의 플라스틱 소재와 열폭주 개선 사항 [1/2]   \n",
       "\n",
       "                                                content  likes  \\\n",
       "943   안녕하세요. 전기차 동호회 운영자입니다.많은 회원들의 국민청원이 진행중이고, 리콜 ...   69.0   \n",
       "712   대구 테크노폴리스 반도유보라 아파트입니다.편히 자고 있는데 대피 안내 방송이 나와 ...   37.0   \n",
       "495   [현대자동차] 코나 EV 화재 리콜 관련 안내사항과 Q&A 전달 사항을 전기차 동호...   38.0   \n",
       "1079  그냥 포기하고 넘어 가려다가 또 다른 피해자가 나올까봐 글을 씁니다2020.10.1...   46.0   \n",
       "241   1. 국고 보조금2. 지자체 보조금3. 보조금 지급 총액: 국고보조금 + 지자체 보...   59.0   \n",
       "1977  안녕하세요.코나 EV 차주입니다.저는 2018년에 보조금 소진되서 결국 아주 싼가격...   61.0   \n",
       "1482  7월1일 화재난 코나....7월5일 1차 화재감식 하고, 그 이후에 화재조사 진척이...   52.0   \n",
       "1505  1. INTRO코나 EV는 단종된 차량입니다. \"국내 시장 수요를 고려한 판매 라인...   56.0   \n",
       "1659  실제 BYD에서 생산 중인 LFP 배터리의 자료입니다.BYD Seal/Han/Tan...   32.0   \n",
       "2529  최근에실내로 화염이 유입된 평택 EV6 화재 사고 관련해서, e-GMP 배터리팩의플...  102.0   \n",
       "\n",
       "                                                    url       author  views  \\\n",
       "943   https://cafe.naver.com/ca-fe/ArticleRead.nhn?c...          매니저   5599   \n",
       "712   https://cafe.naver.com/ca-fe/ArticleRead.nhn?c...  쏘밍파I아이오닉I대구  11000   \n",
       "495   https://cafe.naver.com/ca-fe/ArticleRead.nhn?c...          매니저   8270   \n",
       "1079  https://cafe.naver.com/ca-fe/ArticleRead.nhn?c...       Reborn   6762   \n",
       "241   https://cafe.naver.com/ca-fe/ArticleRead.nhn?c...   닥침I볼트M3I경기  24000   \n",
       "1977  https://cafe.naver.com/ca-fe/ArticleRead.nhn?c...  행복한부자I코나I서울   4683   \n",
       "1482  https://cafe.naver.com/ca-fe/ArticleRead.nhn?c...    어슬렁 코나 세종   9385   \n",
       "1505  https://cafe.naver.com/ca-fe/ArticleRead.nhn?c...  드드드I코나EVI경기   2748   \n",
       "1659  https://cafe.naver.com/ca-fe/ArticleRead.nhn?c...    베멤l모델3l부산   4024   \n",
       "2529  https://cafe.naver.com/ca-fe/ArticleRead.nhn?c...    베멤l모델3l부산   9976   \n",
       "\n",
       "              created_at  updated_at    post_id  comment_count  \\\n",
       "943  2020-09-11 20:25:00         NaN   505585.0            149   \n",
       "712  2020-10-04 03:28:00         NaN   512987.0            187   \n",
       "495  2020-10-08 18:16:00         NaN   515470.0            157   \n",
       "1079 2020-10-23 18:19:00         NaN   522350.0            155   \n",
       "241  2021-01-21 14:23:00         NaN   554567.0            361   \n",
       "1977 2021-02-21 23:45:00         NaN   569011.0             68   \n",
       "1482 2021-08-05 10:07:00         NaN   655521.0            174   \n",
       "1505 2022-01-12 18:43:00         NaN   761054.0             41   \n",
       "1659 2023-08-17 12:34:00         NaN  1267502.0            345   \n",
       "2529 2024-07-20 11:52:00         NaN  1511541.0            302   \n",
       "\n",
       "      influence_score  \n",
       "943         69.461711  \n",
       "712         52.086910  \n",
       "495         48.236336  \n",
       "1079        52.915823  \n",
       "241         93.493774  \n",
       "1977        56.980263  \n",
       "1482        61.444284  \n",
       "1505        49.388903  \n",
       "1659        51.651574  \n",
       "2529       109.691844  "
      ]
     },
     "metadata": {},
     "output_type": "display_data"
    }
   ],
   "source": [
    "사건_목록 = [\"벤츠 화재\", \"아이오닉 누수\", \"아이오닉 iccu\", \"코나 화재\"]\n",
    "\n",
    "# # 데이터프레임 생성\n",
    "# df_statistic = pd.DataFrame(columns=[\"데이터 종류\", \"벤츠 화재\", \"아이오닉 누수\", \"아이오닉 iccu\", \"코나 화재\"])\n",
    "\n",
    "# for 사건 in 사건_목록:\n",
    "#     posts, comments = merge_csv(사건)\n",
    "    \n",
    "#     num_posts = len(posts)\n",
    "#     num_comments = len(comments)\n",
    "#     데이터_종류 = [\"게시글 수\", \"댓글 수\"]\n",
    "#     show(posts, comments)\n",
    "\n",
    "posts, comments = merge_csv(\"코나 화재\")\n",
    "show(posts, comments)"
   ]
  },
  {
   "cell_type": "code",
   "execution_count": 44,
   "id": "5235d3f6140787e0",
   "metadata": {
    "ExecuteTime": {
     "end_time": "2024-08-14T01:38:28.603571Z",
     "start_time": "2024-08-14T01:38:28.534210Z"
    }
   },
   "outputs": [
    {
     "data": {
      "application/vnd.plotly.v1+json": {
       "config": {
        "plotlyServerURL": "https://plot.ly"
       },
       "data": [
        {
         "mode": "lines+markers",
         "name": "일별 게시글 생성 개수",
         "type": "scatter",
         "x": [
          "2021-04-07",
          "2021-05-07",
          "2021-06-16",
          "2021-06-17",
          "2021-06-18",
          "2021-07-02",
          "2021-07-05",
          "2021-09-01",
          "2021-09-10",
          "2021-09-30",
          "2021-10-03",
          "2021-10-04",
          "2021-10-08",
          "2021-10-10",
          "2021-10-13",
          "2021-10-15",
          "2021-10-18",
          "2021-10-19",
          "2021-10-31",
          "2022-02-08",
          "2022-06-30",
          "2022-07-31",
          "2022-08-11",
          "2022-11-07",
          "2022-12-14",
          "2023-04-05",
          "2023-04-08",
          "2023-04-30",
          "2023-05-25",
          "2023-06-28",
          "2023-06-30",
          "2023-07-21",
          "2023-07-26",
          "2023-08-18",
          "2023-09-21",
          "2023-10-15",
          "2023-10-26",
          "2023-10-27",
          "2023-10-28",
          "2023-10-29",
          "2023-10-30",
          "2023-10-31",
          "2023-11-01",
          "2023-11-02",
          "2023-11-03",
          "2023-11-04",
          "2023-11-05",
          "2023-11-06",
          "2023-11-09",
          "2023-11-12",
          "2023-11-13",
          "2023-11-16",
          "2023-11-17",
          "2023-11-18",
          "2023-11-22",
          "2023-11-23",
          "2023-11-24",
          "2023-11-26",
          "2023-11-29",
          "2023-11-30",
          "2023-12-01",
          "2023-12-04",
          "2023-12-12",
          "2023-12-13",
          "2023-12-15",
          "2023-12-17",
          "2023-12-25",
          "2023-12-26",
          "2023-12-27",
          "2023-12-28",
          "2023-12-29",
          "2024-01-03",
          "2024-01-04",
          "2024-01-06",
          "2024-01-09",
          "2024-01-11",
          "2024-01-12",
          "2024-01-13",
          "2024-01-14",
          "2024-01-18",
          "2024-01-19",
          "2024-01-20",
          "2024-01-22",
          "2024-01-25",
          "2024-02-02",
          "2024-02-04",
          "2024-02-07",
          "2024-02-09",
          "2024-02-10",
          "2024-02-22",
          "2024-02-23",
          "2024-02-25",
          "2024-02-26",
          "2024-02-27",
          "2024-03-03",
          "2024-03-04",
          "2024-03-12",
          "2024-03-15",
          "2024-03-17",
          "2024-03-20",
          "2024-03-23",
          "2024-03-29",
          "2024-04-02",
          "2024-04-03",
          "2024-04-04",
          "2024-04-05",
          "2024-04-06",
          "2024-04-10",
          "2024-04-15",
          "2024-04-22",
          "2024-04-30",
          "2024-05-02",
          "2024-05-05",
          "2024-05-06",
          "2024-05-07",
          "2024-05-08",
          "2024-05-09",
          "2024-05-10",
          "2024-05-12",
          "2024-05-16",
          "2024-05-18",
          "2024-05-20",
          "2024-05-28",
          "2024-06-04",
          "2024-06-05",
          "2024-06-11",
          "2024-06-14",
          "2024-06-15",
          "2024-06-16",
          "2024-06-17",
          "2024-06-19",
          "2024-06-20",
          "2024-06-21",
          "2024-06-25",
          "2024-06-26",
          "2024-06-27",
          "2024-06-28",
          "2024-06-30",
          "2024-07-02",
          "2024-07-05",
          "2024-07-06",
          "2024-07-08",
          "2024-07-09",
          "2024-07-10",
          "2024-07-16",
          "2024-07-17",
          "2024-07-18",
          "2024-07-19",
          "2024-07-20",
          "2024-07-21",
          "2024-07-22",
          "2024-07-24",
          "2024-08-02",
          "2024-08-07",
          "2024-08-09",
          "2024-08-13"
         ],
         "y": [
          1,
          1,
          2,
          3,
          1,
          1,
          1,
          1,
          1,
          1,
          1,
          1,
          1,
          1,
          1,
          1,
          1,
          1,
          1,
          1,
          1,
          1,
          1,
          1,
          1,
          1,
          1,
          1,
          1,
          1,
          1,
          1,
          1,
          1,
          1,
          1,
          2,
          8,
          4,
          4,
          3,
          6,
          2,
          4,
          3,
          2,
          3,
          3,
          1,
          2,
          1,
          1,
          3,
          1,
          3,
          2,
          1,
          1,
          2,
          2,
          2,
          1,
          1,
          1,
          1,
          1,
          1,
          1,
          2,
          1,
          1,
          1,
          1,
          1,
          2,
          1,
          3,
          2,
          2,
          1,
          1,
          1,
          1,
          2,
          1,
          1,
          2,
          1,
          2,
          2,
          2,
          1,
          1,
          1,
          1,
          1,
          2,
          2,
          1,
          2,
          1,
          2,
          2,
          1,
          1,
          1,
          1,
          1,
          1,
          2,
          1,
          1,
          2,
          1,
          3,
          2,
          2,
          1,
          1,
          1,
          2,
          2,
          1,
          2,
          2,
          1,
          2,
          2,
          1,
          1,
          3,
          1,
          3,
          1,
          2,
          1,
          1,
          1,
          1,
          1,
          1,
          1,
          3,
          1,
          1,
          1,
          1,
          1,
          1,
          1,
          1,
          1,
          1,
          1,
          1,
          2
         ]
        }
       ],
       "layout": {
        "legend": {
         "orientation": "h",
         "traceorder": "normal",
         "x": 0,
         "y": 1
        },
        "shapes": [
         {
          "line": {
           "color": "red",
           "width": 2
          },
          "type": "line",
          "x0": "2024-02-10T11:23:00",
          "x1": "2024-02-10T11:23:00",
          "xref": "x",
          "y0": 0,
          "y1": 1,
          "yref": "y domain"
         },
         {
          "line": {
           "color": "red",
           "width": 2
          },
          "type": "line",
          "x0": "2023-11-12T22:00:00",
          "x1": "2023-11-12T22:00:00",
          "xref": "x",
          "y0": 0,
          "y1": 1,
          "yref": "y domain"
         },
         {
          "line": {
           "color": "red",
           "width": 2
          },
          "type": "line",
          "x0": "2024-06-05T23:30:00",
          "x1": "2024-06-05T23:30:00",
          "xref": "x",
          "y0": 0,
          "y1": 1,
          "yref": "y domain"
         },
         {
          "line": {
           "color": "red",
           "width": 2
          },
          "type": "line",
          "x0": "2024-06-28T17:42:00",
          "x1": "2024-06-28T17:42:00",
          "xref": "x",
          "y0": 0,
          "y1": 1,
          "yref": "y domain"
         },
         {
          "line": {
           "color": "red",
           "width": 2
          },
          "type": "line",
          "x0": "2021-06-16T11:08:00",
          "x1": "2021-06-16T11:08:00",
          "xref": "x",
          "y0": 0,
          "y1": 1,
          "yref": "y domain"
         },
         {
          "line": {
           "color": "red",
           "width": 2
          },
          "type": "line",
          "x0": "2023-10-26T22:16:00",
          "x1": "2023-10-26T22:16:00",
          "xref": "x",
          "y0": 0,
          "y1": 1,
          "yref": "y domain"
         },
         {
          "line": {
           "color": "red",
           "width": 2
          },
          "type": "line",
          "x0": "2024-06-16T00:18:00",
          "x1": "2024-06-16T00:18:00",
          "xref": "x",
          "y0": 0,
          "y1": 1,
          "yref": "y domain"
         },
         {
          "line": {
           "color": "red",
           "width": 2
          },
          "type": "line",
          "x0": "2023-10-28T08:59:00",
          "x1": "2023-10-28T08:59:00",
          "xref": "x",
          "y0": 0,
          "y1": 1,
          "yref": "y domain"
         },
         {
          "line": {
           "color": "red",
           "width": 2
          },
          "type": "line",
          "x0": "2021-10-04T20:36:00",
          "x1": "2021-10-04T20:36:00",
          "xref": "x",
          "y0": 0,
          "y1": 1,
          "yref": "y domain"
         },
         {
          "line": {
           "color": "red",
           "width": 2
          },
          "type": "line",
          "x0": "2021-07-05T17:40:00",
          "x1": "2021-07-05T17:40:00",
          "xref": "x",
          "y0": 0,
          "y1": 1,
          "yref": "y domain"
         }
        ],
        "template": {
         "data": {
          "bar": [
           {
            "error_x": {
             "color": "#f2f5fa"
            },
            "error_y": {
             "color": "#f2f5fa"
            },
            "marker": {
             "line": {
              "color": "rgb(17,17,17)",
              "width": 0.5
             },
             "pattern": {
              "fillmode": "overlay",
              "size": 10,
              "solidity": 0.2
             }
            },
            "type": "bar"
           }
          ],
          "barpolar": [
           {
            "marker": {
             "line": {
              "color": "rgb(17,17,17)",
              "width": 0.5
             },
             "pattern": {
              "fillmode": "overlay",
              "size": 10,
              "solidity": 0.2
             }
            },
            "type": "barpolar"
           }
          ],
          "carpet": [
           {
            "aaxis": {
             "endlinecolor": "#A2B1C6",
             "gridcolor": "#506784",
             "linecolor": "#506784",
             "minorgridcolor": "#506784",
             "startlinecolor": "#A2B1C6"
            },
            "baxis": {
             "endlinecolor": "#A2B1C6",
             "gridcolor": "#506784",
             "linecolor": "#506784",
             "minorgridcolor": "#506784",
             "startlinecolor": "#A2B1C6"
            },
            "type": "carpet"
           }
          ],
          "choropleth": [
           {
            "colorbar": {
             "outlinewidth": 0,
             "ticks": ""
            },
            "type": "choropleth"
           }
          ],
          "contour": [
           {
            "colorbar": {
             "outlinewidth": 0,
             "ticks": ""
            },
            "colorscale": [
             [
              0,
              "#0d0887"
             ],
             [
              0.1111111111111111,
              "#46039f"
             ],
             [
              0.2222222222222222,
              "#7201a8"
             ],
             [
              0.3333333333333333,
              "#9c179e"
             ],
             [
              0.4444444444444444,
              "#bd3786"
             ],
             [
              0.5555555555555556,
              "#d8576b"
             ],
             [
              0.6666666666666666,
              "#ed7953"
             ],
             [
              0.7777777777777778,
              "#fb9f3a"
             ],
             [
              0.8888888888888888,
              "#fdca26"
             ],
             [
              1,
              "#f0f921"
             ]
            ],
            "type": "contour"
           }
          ],
          "contourcarpet": [
           {
            "colorbar": {
             "outlinewidth": 0,
             "ticks": ""
            },
            "type": "contourcarpet"
           }
          ],
          "heatmap": [
           {
            "colorbar": {
             "outlinewidth": 0,
             "ticks": ""
            },
            "colorscale": [
             [
              0,
              "#0d0887"
             ],
             [
              0.1111111111111111,
              "#46039f"
             ],
             [
              0.2222222222222222,
              "#7201a8"
             ],
             [
              0.3333333333333333,
              "#9c179e"
             ],
             [
              0.4444444444444444,
              "#bd3786"
             ],
             [
              0.5555555555555556,
              "#d8576b"
             ],
             [
              0.6666666666666666,
              "#ed7953"
             ],
             [
              0.7777777777777778,
              "#fb9f3a"
             ],
             [
              0.8888888888888888,
              "#fdca26"
             ],
             [
              1,
              "#f0f921"
             ]
            ],
            "type": "heatmap"
           }
          ],
          "heatmapgl": [
           {
            "colorbar": {
             "outlinewidth": 0,
             "ticks": ""
            },
            "colorscale": [
             [
              0,
              "#0d0887"
             ],
             [
              0.1111111111111111,
              "#46039f"
             ],
             [
              0.2222222222222222,
              "#7201a8"
             ],
             [
              0.3333333333333333,
              "#9c179e"
             ],
             [
              0.4444444444444444,
              "#bd3786"
             ],
             [
              0.5555555555555556,
              "#d8576b"
             ],
             [
              0.6666666666666666,
              "#ed7953"
             ],
             [
              0.7777777777777778,
              "#fb9f3a"
             ],
             [
              0.8888888888888888,
              "#fdca26"
             ],
             [
              1,
              "#f0f921"
             ]
            ],
            "type": "heatmapgl"
           }
          ],
          "histogram": [
           {
            "marker": {
             "pattern": {
              "fillmode": "overlay",
              "size": 10,
              "solidity": 0.2
             }
            },
            "type": "histogram"
           }
          ],
          "histogram2d": [
           {
            "colorbar": {
             "outlinewidth": 0,
             "ticks": ""
            },
            "colorscale": [
             [
              0,
              "#0d0887"
             ],
             [
              0.1111111111111111,
              "#46039f"
             ],
             [
              0.2222222222222222,
              "#7201a8"
             ],
             [
              0.3333333333333333,
              "#9c179e"
             ],
             [
              0.4444444444444444,
              "#bd3786"
             ],
             [
              0.5555555555555556,
              "#d8576b"
             ],
             [
              0.6666666666666666,
              "#ed7953"
             ],
             [
              0.7777777777777778,
              "#fb9f3a"
             ],
             [
              0.8888888888888888,
              "#fdca26"
             ],
             [
              1,
              "#f0f921"
             ]
            ],
            "type": "histogram2d"
           }
          ],
          "histogram2dcontour": [
           {
            "colorbar": {
             "outlinewidth": 0,
             "ticks": ""
            },
            "colorscale": [
             [
              0,
              "#0d0887"
             ],
             [
              0.1111111111111111,
              "#46039f"
             ],
             [
              0.2222222222222222,
              "#7201a8"
             ],
             [
              0.3333333333333333,
              "#9c179e"
             ],
             [
              0.4444444444444444,
              "#bd3786"
             ],
             [
              0.5555555555555556,
              "#d8576b"
             ],
             [
              0.6666666666666666,
              "#ed7953"
             ],
             [
              0.7777777777777778,
              "#fb9f3a"
             ],
             [
              0.8888888888888888,
              "#fdca26"
             ],
             [
              1,
              "#f0f921"
             ]
            ],
            "type": "histogram2dcontour"
           }
          ],
          "mesh3d": [
           {
            "colorbar": {
             "outlinewidth": 0,
             "ticks": ""
            },
            "type": "mesh3d"
           }
          ],
          "parcoords": [
           {
            "line": {
             "colorbar": {
              "outlinewidth": 0,
              "ticks": ""
             }
            },
            "type": "parcoords"
           }
          ],
          "pie": [
           {
            "automargin": true,
            "type": "pie"
           }
          ],
          "scatter": [
           {
            "marker": {
             "line": {
              "color": "#283442"
             }
            },
            "type": "scatter"
           }
          ],
          "scatter3d": [
           {
            "line": {
             "colorbar": {
              "outlinewidth": 0,
              "ticks": ""
             }
            },
            "marker": {
             "colorbar": {
              "outlinewidth": 0,
              "ticks": ""
             }
            },
            "type": "scatter3d"
           }
          ],
          "scattercarpet": [
           {
            "marker": {
             "colorbar": {
              "outlinewidth": 0,
              "ticks": ""
             }
            },
            "type": "scattercarpet"
           }
          ],
          "scattergeo": [
           {
            "marker": {
             "colorbar": {
              "outlinewidth": 0,
              "ticks": ""
             }
            },
            "type": "scattergeo"
           }
          ],
          "scattergl": [
           {
            "marker": {
             "line": {
              "color": "#283442"
             }
            },
            "type": "scattergl"
           }
          ],
          "scattermapbox": [
           {
            "marker": {
             "colorbar": {
              "outlinewidth": 0,
              "ticks": ""
             }
            },
            "type": "scattermapbox"
           }
          ],
          "scatterpolar": [
           {
            "marker": {
             "colorbar": {
              "outlinewidth": 0,
              "ticks": ""
             }
            },
            "type": "scatterpolar"
           }
          ],
          "scatterpolargl": [
           {
            "marker": {
             "colorbar": {
              "outlinewidth": 0,
              "ticks": ""
             }
            },
            "type": "scatterpolargl"
           }
          ],
          "scatterternary": [
           {
            "marker": {
             "colorbar": {
              "outlinewidth": 0,
              "ticks": ""
             }
            },
            "type": "scatterternary"
           }
          ],
          "surface": [
           {
            "colorbar": {
             "outlinewidth": 0,
             "ticks": ""
            },
            "colorscale": [
             [
              0,
              "#0d0887"
             ],
             [
              0.1111111111111111,
              "#46039f"
             ],
             [
              0.2222222222222222,
              "#7201a8"
             ],
             [
              0.3333333333333333,
              "#9c179e"
             ],
             [
              0.4444444444444444,
              "#bd3786"
             ],
             [
              0.5555555555555556,
              "#d8576b"
             ],
             [
              0.6666666666666666,
              "#ed7953"
             ],
             [
              0.7777777777777778,
              "#fb9f3a"
             ],
             [
              0.8888888888888888,
              "#fdca26"
             ],
             [
              1,
              "#f0f921"
             ]
            ],
            "type": "surface"
           }
          ],
          "table": [
           {
            "cells": {
             "fill": {
              "color": "#506784"
             },
             "line": {
              "color": "rgb(17,17,17)"
             }
            },
            "header": {
             "fill": {
              "color": "#2a3f5f"
             },
             "line": {
              "color": "rgb(17,17,17)"
             }
            },
            "type": "table"
           }
          ]
         },
         "layout": {
          "annotationdefaults": {
           "arrowcolor": "#f2f5fa",
           "arrowhead": 0,
           "arrowwidth": 1
          },
          "autotypenumbers": "strict",
          "coloraxis": {
           "colorbar": {
            "outlinewidth": 0,
            "ticks": ""
           }
          },
          "colorscale": {
           "diverging": [
            [
             0,
             "#8e0152"
            ],
            [
             0.1,
             "#c51b7d"
            ],
            [
             0.2,
             "#de77ae"
            ],
            [
             0.3,
             "#f1b6da"
            ],
            [
             0.4,
             "#fde0ef"
            ],
            [
             0.5,
             "#f7f7f7"
            ],
            [
             0.6,
             "#e6f5d0"
            ],
            [
             0.7,
             "#b8e186"
            ],
            [
             0.8,
             "#7fbc41"
            ],
            [
             0.9,
             "#4d9221"
            ],
            [
             1,
             "#276419"
            ]
           ],
           "sequential": [
            [
             0,
             "#0d0887"
            ],
            [
             0.1111111111111111,
             "#46039f"
            ],
            [
             0.2222222222222222,
             "#7201a8"
            ],
            [
             0.3333333333333333,
             "#9c179e"
            ],
            [
             0.4444444444444444,
             "#bd3786"
            ],
            [
             0.5555555555555556,
             "#d8576b"
            ],
            [
             0.6666666666666666,
             "#ed7953"
            ],
            [
             0.7777777777777778,
             "#fb9f3a"
            ],
            [
             0.8888888888888888,
             "#fdca26"
            ],
            [
             1,
             "#f0f921"
            ]
           ],
           "sequentialminus": [
            [
             0,
             "#0d0887"
            ],
            [
             0.1111111111111111,
             "#46039f"
            ],
            [
             0.2222222222222222,
             "#7201a8"
            ],
            [
             0.3333333333333333,
             "#9c179e"
            ],
            [
             0.4444444444444444,
             "#bd3786"
            ],
            [
             0.5555555555555556,
             "#d8576b"
            ],
            [
             0.6666666666666666,
             "#ed7953"
            ],
            [
             0.7777777777777778,
             "#fb9f3a"
            ],
            [
             0.8888888888888888,
             "#fdca26"
            ],
            [
             1,
             "#f0f921"
            ]
           ]
          },
          "colorway": [
           "#636efa",
           "#EF553B",
           "#00cc96",
           "#ab63fa",
           "#FFA15A",
           "#19d3f3",
           "#FF6692",
           "#B6E880",
           "#FF97FF",
           "#FECB52"
          ],
          "font": {
           "color": "#f2f5fa"
          },
          "geo": {
           "bgcolor": "rgb(17,17,17)",
           "lakecolor": "rgb(17,17,17)",
           "landcolor": "rgb(17,17,17)",
           "showlakes": true,
           "showland": true,
           "subunitcolor": "#506784"
          },
          "hoverlabel": {
           "align": "left"
          },
          "hovermode": "closest",
          "mapbox": {
           "style": "dark"
          },
          "paper_bgcolor": "rgb(17,17,17)",
          "plot_bgcolor": "rgb(17,17,17)",
          "polar": {
           "angularaxis": {
            "gridcolor": "#506784",
            "linecolor": "#506784",
            "ticks": ""
           },
           "bgcolor": "rgb(17,17,17)",
           "radialaxis": {
            "gridcolor": "#506784",
            "linecolor": "#506784",
            "ticks": ""
           }
          },
          "scene": {
           "xaxis": {
            "backgroundcolor": "rgb(17,17,17)",
            "gridcolor": "#506784",
            "gridwidth": 2,
            "linecolor": "#506784",
            "showbackground": true,
            "ticks": "",
            "zerolinecolor": "#C8D4E3"
           },
           "yaxis": {
            "backgroundcolor": "rgb(17,17,17)",
            "gridcolor": "#506784",
            "gridwidth": 2,
            "linecolor": "#506784",
            "showbackground": true,
            "ticks": "",
            "zerolinecolor": "#C8D4E3"
           },
           "zaxis": {
            "backgroundcolor": "rgb(17,17,17)",
            "gridcolor": "#506784",
            "gridwidth": 2,
            "linecolor": "#506784",
            "showbackground": true,
            "ticks": "",
            "zerolinecolor": "#C8D4E3"
           }
          },
          "shapedefaults": {
           "line": {
            "color": "#f2f5fa"
           }
          },
          "sliderdefaults": {
           "bgcolor": "#C8D4E3",
           "bordercolor": "rgb(17,17,17)",
           "borderwidth": 1,
           "tickwidth": 0
          },
          "ternary": {
           "aaxis": {
            "gridcolor": "#506784",
            "linecolor": "#506784",
            "ticks": ""
           },
           "baxis": {
            "gridcolor": "#506784",
            "linecolor": "#506784",
            "ticks": ""
           },
           "bgcolor": "rgb(17,17,17)",
           "caxis": {
            "gridcolor": "#506784",
            "linecolor": "#506784",
            "ticks": ""
           }
          },
          "title": {
           "x": 0.05
          },
          "updatemenudefaults": {
           "bgcolor": "#506784",
           "borderwidth": 0
          },
          "xaxis": {
           "automargin": true,
           "gridcolor": "#283442",
           "linecolor": "#506784",
           "ticks": "",
           "title": {
            "standoff": 15
           },
           "zerolinecolor": "#283442",
           "zerolinewidth": 2
          },
          "yaxis": {
           "automargin": true,
           "gridcolor": "#283442",
           "linecolor": "#506784",
           "ticks": "",
           "title": {
            "standoff": 15
           },
           "zerolinecolor": "#283442",
           "zerolinewidth": 2
          }
         }
        },
        "title": {
         "text": "각 날짜별로 게시물 수"
        },
        "xaxis": {
         "tickformat": "%Y-%m-%d",
         "title": {
          "text": "날짜"
         }
        },
        "yaxis": {
         "title": {
          "text": "게시글 수"
         }
        }
       }
      },
      "text/html": [
       "<div>                            <div id=\"a8c81ed3-83b0-4e85-b4df-552e1d74ce1f\" class=\"plotly-graph-div\" style=\"height:525px; width:100%;\"></div>            <script type=\"text/javascript\">                require([\"plotly\"], function(Plotly) {                    window.PLOTLYENV=window.PLOTLYENV || {};                                    if (document.getElementById(\"a8c81ed3-83b0-4e85-b4df-552e1d74ce1f\")) {                    Plotly.newPlot(                        \"a8c81ed3-83b0-4e85-b4df-552e1d74ce1f\",                        [{\"mode\":\"lines+markers\",\"name\":\"\\uc77c\\ubcc4 \\uac8c\\uc2dc\\uae00 \\uc0dd\\uc131 \\uac1c\\uc218\",\"x\":[\"2021-04-07\",\"2021-05-07\",\"2021-06-16\",\"2021-06-17\",\"2021-06-18\",\"2021-07-02\",\"2021-07-05\",\"2021-09-01\",\"2021-09-10\",\"2021-09-30\",\"2021-10-03\",\"2021-10-04\",\"2021-10-08\",\"2021-10-10\",\"2021-10-13\",\"2021-10-15\",\"2021-10-18\",\"2021-10-19\",\"2021-10-31\",\"2022-02-08\",\"2022-06-30\",\"2022-07-31\",\"2022-08-11\",\"2022-11-07\",\"2022-12-14\",\"2023-04-05\",\"2023-04-08\",\"2023-04-30\",\"2023-05-25\",\"2023-06-28\",\"2023-06-30\",\"2023-07-21\",\"2023-07-26\",\"2023-08-18\",\"2023-09-21\",\"2023-10-15\",\"2023-10-26\",\"2023-10-27\",\"2023-10-28\",\"2023-10-29\",\"2023-10-30\",\"2023-10-31\",\"2023-11-01\",\"2023-11-02\",\"2023-11-03\",\"2023-11-04\",\"2023-11-05\",\"2023-11-06\",\"2023-11-09\",\"2023-11-12\",\"2023-11-13\",\"2023-11-16\",\"2023-11-17\",\"2023-11-18\",\"2023-11-22\",\"2023-11-23\",\"2023-11-24\",\"2023-11-26\",\"2023-11-29\",\"2023-11-30\",\"2023-12-01\",\"2023-12-04\",\"2023-12-12\",\"2023-12-13\",\"2023-12-15\",\"2023-12-17\",\"2023-12-25\",\"2023-12-26\",\"2023-12-27\",\"2023-12-28\",\"2023-12-29\",\"2024-01-03\",\"2024-01-04\",\"2024-01-06\",\"2024-01-09\",\"2024-01-11\",\"2024-01-12\",\"2024-01-13\",\"2024-01-14\",\"2024-01-18\",\"2024-01-19\",\"2024-01-20\",\"2024-01-22\",\"2024-01-25\",\"2024-02-02\",\"2024-02-04\",\"2024-02-07\",\"2024-02-09\",\"2024-02-10\",\"2024-02-22\",\"2024-02-23\",\"2024-02-25\",\"2024-02-26\",\"2024-02-27\",\"2024-03-03\",\"2024-03-04\",\"2024-03-12\",\"2024-03-15\",\"2024-03-17\",\"2024-03-20\",\"2024-03-23\",\"2024-03-29\",\"2024-04-02\",\"2024-04-03\",\"2024-04-04\",\"2024-04-05\",\"2024-04-06\",\"2024-04-10\",\"2024-04-15\",\"2024-04-22\",\"2024-04-30\",\"2024-05-02\",\"2024-05-05\",\"2024-05-06\",\"2024-05-07\",\"2024-05-08\",\"2024-05-09\",\"2024-05-10\",\"2024-05-12\",\"2024-05-16\",\"2024-05-18\",\"2024-05-20\",\"2024-05-28\",\"2024-06-04\",\"2024-06-05\",\"2024-06-11\",\"2024-06-14\",\"2024-06-15\",\"2024-06-16\",\"2024-06-17\",\"2024-06-19\",\"2024-06-20\",\"2024-06-21\",\"2024-06-25\",\"2024-06-26\",\"2024-06-27\",\"2024-06-28\",\"2024-06-30\",\"2024-07-02\",\"2024-07-05\",\"2024-07-06\",\"2024-07-08\",\"2024-07-09\",\"2024-07-10\",\"2024-07-16\",\"2024-07-17\",\"2024-07-18\",\"2024-07-19\",\"2024-07-20\",\"2024-07-21\",\"2024-07-22\",\"2024-07-24\",\"2024-08-02\",\"2024-08-07\",\"2024-08-09\",\"2024-08-13\"],\"y\":[1,1,2,3,1,1,1,1,1,1,1,1,1,1,1,1,1,1,1,1,1,1,1,1,1,1,1,1,1,1,1,1,1,1,1,1,2,8,4,4,3,6,2,4,3,2,3,3,1,2,1,1,3,1,3,2,1,1,2,2,2,1,1,1,1,1,1,1,2,1,1,1,1,1,2,1,3,2,2,1,1,1,1,2,1,1,2,1,2,2,2,1,1,1,1,1,2,2,1,2,1,2,2,1,1,1,1,1,1,2,1,1,2,1,3,2,2,1,1,1,2,2,1,2,2,1,2,2,1,1,3,1,3,1,2,1,1,1,1,1,1,1,3,1,1,1,1,1,1,1,1,1,1,1,1,2],\"type\":\"scatter\"}],                        {\"template\":{\"data\":{\"histogram2dcontour\":[{\"type\":\"histogram2dcontour\",\"colorbar\":{\"outlinewidth\":0,\"ticks\":\"\"},\"colorscale\":[[0.0,\"#0d0887\"],[0.1111111111111111,\"#46039f\"],[0.2222222222222222,\"#7201a8\"],[0.3333333333333333,\"#9c179e\"],[0.4444444444444444,\"#bd3786\"],[0.5555555555555556,\"#d8576b\"],[0.6666666666666666,\"#ed7953\"],[0.7777777777777778,\"#fb9f3a\"],[0.8888888888888888,\"#fdca26\"],[1.0,\"#f0f921\"]]}],\"choropleth\":[{\"type\":\"choropleth\",\"colorbar\":{\"outlinewidth\":0,\"ticks\":\"\"}}],\"histogram2d\":[{\"type\":\"histogram2d\",\"colorbar\":{\"outlinewidth\":0,\"ticks\":\"\"},\"colorscale\":[[0.0,\"#0d0887\"],[0.1111111111111111,\"#46039f\"],[0.2222222222222222,\"#7201a8\"],[0.3333333333333333,\"#9c179e\"],[0.4444444444444444,\"#bd3786\"],[0.5555555555555556,\"#d8576b\"],[0.6666666666666666,\"#ed7953\"],[0.7777777777777778,\"#fb9f3a\"],[0.8888888888888888,\"#fdca26\"],[1.0,\"#f0f921\"]]}],\"heatmap\":[{\"type\":\"heatmap\",\"colorbar\":{\"outlinewidth\":0,\"ticks\":\"\"},\"colorscale\":[[0.0,\"#0d0887\"],[0.1111111111111111,\"#46039f\"],[0.2222222222222222,\"#7201a8\"],[0.3333333333333333,\"#9c179e\"],[0.4444444444444444,\"#bd3786\"],[0.5555555555555556,\"#d8576b\"],[0.6666666666666666,\"#ed7953\"],[0.7777777777777778,\"#fb9f3a\"],[0.8888888888888888,\"#fdca26\"],[1.0,\"#f0f921\"]]}],\"heatmapgl\":[{\"type\":\"heatmapgl\",\"colorbar\":{\"outlinewidth\":0,\"ticks\":\"\"},\"colorscale\":[[0.0,\"#0d0887\"],[0.1111111111111111,\"#46039f\"],[0.2222222222222222,\"#7201a8\"],[0.3333333333333333,\"#9c179e\"],[0.4444444444444444,\"#bd3786\"],[0.5555555555555556,\"#d8576b\"],[0.6666666666666666,\"#ed7953\"],[0.7777777777777778,\"#fb9f3a\"],[0.8888888888888888,\"#fdca26\"],[1.0,\"#f0f921\"]]}],\"contourcarpet\":[{\"type\":\"contourcarpet\",\"colorbar\":{\"outlinewidth\":0,\"ticks\":\"\"}}],\"contour\":[{\"type\":\"contour\",\"colorbar\":{\"outlinewidth\":0,\"ticks\":\"\"},\"colorscale\":[[0.0,\"#0d0887\"],[0.1111111111111111,\"#46039f\"],[0.2222222222222222,\"#7201a8\"],[0.3333333333333333,\"#9c179e\"],[0.4444444444444444,\"#bd3786\"],[0.5555555555555556,\"#d8576b\"],[0.6666666666666666,\"#ed7953\"],[0.7777777777777778,\"#fb9f3a\"],[0.8888888888888888,\"#fdca26\"],[1.0,\"#f0f921\"]]}],\"surface\":[{\"type\":\"surface\",\"colorbar\":{\"outlinewidth\":0,\"ticks\":\"\"},\"colorscale\":[[0.0,\"#0d0887\"],[0.1111111111111111,\"#46039f\"],[0.2222222222222222,\"#7201a8\"],[0.3333333333333333,\"#9c179e\"],[0.4444444444444444,\"#bd3786\"],[0.5555555555555556,\"#d8576b\"],[0.6666666666666666,\"#ed7953\"],[0.7777777777777778,\"#fb9f3a\"],[0.8888888888888888,\"#fdca26\"],[1.0,\"#f0f921\"]]}],\"mesh3d\":[{\"type\":\"mesh3d\",\"colorbar\":{\"outlinewidth\":0,\"ticks\":\"\"}}],\"scatter\":[{\"marker\":{\"line\":{\"color\":\"#283442\"}},\"type\":\"scatter\"}],\"parcoords\":[{\"type\":\"parcoords\",\"line\":{\"colorbar\":{\"outlinewidth\":0,\"ticks\":\"\"}}}],\"scatterpolargl\":[{\"type\":\"scatterpolargl\",\"marker\":{\"colorbar\":{\"outlinewidth\":0,\"ticks\":\"\"}}}],\"bar\":[{\"error_x\":{\"color\":\"#f2f5fa\"},\"error_y\":{\"color\":\"#f2f5fa\"},\"marker\":{\"line\":{\"color\":\"rgb(17,17,17)\",\"width\":0.5},\"pattern\":{\"fillmode\":\"overlay\",\"size\":10,\"solidity\":0.2}},\"type\":\"bar\"}],\"scattergeo\":[{\"type\":\"scattergeo\",\"marker\":{\"colorbar\":{\"outlinewidth\":0,\"ticks\":\"\"}}}],\"scatterpolar\":[{\"type\":\"scatterpolar\",\"marker\":{\"colorbar\":{\"outlinewidth\":0,\"ticks\":\"\"}}}],\"histogram\":[{\"marker\":{\"pattern\":{\"fillmode\":\"overlay\",\"size\":10,\"solidity\":0.2}},\"type\":\"histogram\"}],\"scattergl\":[{\"marker\":{\"line\":{\"color\":\"#283442\"}},\"type\":\"scattergl\"}],\"scatter3d\":[{\"type\":\"scatter3d\",\"line\":{\"colorbar\":{\"outlinewidth\":0,\"ticks\":\"\"}},\"marker\":{\"colorbar\":{\"outlinewidth\":0,\"ticks\":\"\"}}}],\"scattermapbox\":[{\"type\":\"scattermapbox\",\"marker\":{\"colorbar\":{\"outlinewidth\":0,\"ticks\":\"\"}}}],\"scatterternary\":[{\"type\":\"scatterternary\",\"marker\":{\"colorbar\":{\"outlinewidth\":0,\"ticks\":\"\"}}}],\"scattercarpet\":[{\"type\":\"scattercarpet\",\"marker\":{\"colorbar\":{\"outlinewidth\":0,\"ticks\":\"\"}}}],\"carpet\":[{\"aaxis\":{\"endlinecolor\":\"#A2B1C6\",\"gridcolor\":\"#506784\",\"linecolor\":\"#506784\",\"minorgridcolor\":\"#506784\",\"startlinecolor\":\"#A2B1C6\"},\"baxis\":{\"endlinecolor\":\"#A2B1C6\",\"gridcolor\":\"#506784\",\"linecolor\":\"#506784\",\"minorgridcolor\":\"#506784\",\"startlinecolor\":\"#A2B1C6\"},\"type\":\"carpet\"}],\"table\":[{\"cells\":{\"fill\":{\"color\":\"#506784\"},\"line\":{\"color\":\"rgb(17,17,17)\"}},\"header\":{\"fill\":{\"color\":\"#2a3f5f\"},\"line\":{\"color\":\"rgb(17,17,17)\"}},\"type\":\"table\"}],\"barpolar\":[{\"marker\":{\"line\":{\"color\":\"rgb(17,17,17)\",\"width\":0.5},\"pattern\":{\"fillmode\":\"overlay\",\"size\":10,\"solidity\":0.2}},\"type\":\"barpolar\"}],\"pie\":[{\"automargin\":true,\"type\":\"pie\"}]},\"layout\":{\"autotypenumbers\":\"strict\",\"colorway\":[\"#636efa\",\"#EF553B\",\"#00cc96\",\"#ab63fa\",\"#FFA15A\",\"#19d3f3\",\"#FF6692\",\"#B6E880\",\"#FF97FF\",\"#FECB52\"],\"font\":{\"color\":\"#f2f5fa\"},\"hovermode\":\"closest\",\"hoverlabel\":{\"align\":\"left\"},\"paper_bgcolor\":\"rgb(17,17,17)\",\"plot_bgcolor\":\"rgb(17,17,17)\",\"polar\":{\"bgcolor\":\"rgb(17,17,17)\",\"angularaxis\":{\"gridcolor\":\"#506784\",\"linecolor\":\"#506784\",\"ticks\":\"\"},\"radialaxis\":{\"gridcolor\":\"#506784\",\"linecolor\":\"#506784\",\"ticks\":\"\"}},\"ternary\":{\"bgcolor\":\"rgb(17,17,17)\",\"aaxis\":{\"gridcolor\":\"#506784\",\"linecolor\":\"#506784\",\"ticks\":\"\"},\"baxis\":{\"gridcolor\":\"#506784\",\"linecolor\":\"#506784\",\"ticks\":\"\"},\"caxis\":{\"gridcolor\":\"#506784\",\"linecolor\":\"#506784\",\"ticks\":\"\"}},\"coloraxis\":{\"colorbar\":{\"outlinewidth\":0,\"ticks\":\"\"}},\"colorscale\":{\"sequential\":[[0.0,\"#0d0887\"],[0.1111111111111111,\"#46039f\"],[0.2222222222222222,\"#7201a8\"],[0.3333333333333333,\"#9c179e\"],[0.4444444444444444,\"#bd3786\"],[0.5555555555555556,\"#d8576b\"],[0.6666666666666666,\"#ed7953\"],[0.7777777777777778,\"#fb9f3a\"],[0.8888888888888888,\"#fdca26\"],[1.0,\"#f0f921\"]],\"sequentialminus\":[[0.0,\"#0d0887\"],[0.1111111111111111,\"#46039f\"],[0.2222222222222222,\"#7201a8\"],[0.3333333333333333,\"#9c179e\"],[0.4444444444444444,\"#bd3786\"],[0.5555555555555556,\"#d8576b\"],[0.6666666666666666,\"#ed7953\"],[0.7777777777777778,\"#fb9f3a\"],[0.8888888888888888,\"#fdca26\"],[1.0,\"#f0f921\"]],\"diverging\":[[0,\"#8e0152\"],[0.1,\"#c51b7d\"],[0.2,\"#de77ae\"],[0.3,\"#f1b6da\"],[0.4,\"#fde0ef\"],[0.5,\"#f7f7f7\"],[0.6,\"#e6f5d0\"],[0.7,\"#b8e186\"],[0.8,\"#7fbc41\"],[0.9,\"#4d9221\"],[1,\"#276419\"]]},\"xaxis\":{\"gridcolor\":\"#283442\",\"linecolor\":\"#506784\",\"ticks\":\"\",\"title\":{\"standoff\":15},\"zerolinecolor\":\"#283442\",\"automargin\":true,\"zerolinewidth\":2},\"yaxis\":{\"gridcolor\":\"#283442\",\"linecolor\":\"#506784\",\"ticks\":\"\",\"title\":{\"standoff\":15},\"zerolinecolor\":\"#283442\",\"automargin\":true,\"zerolinewidth\":2},\"scene\":{\"xaxis\":{\"backgroundcolor\":\"rgb(17,17,17)\",\"gridcolor\":\"#506784\",\"linecolor\":\"#506784\",\"showbackground\":true,\"ticks\":\"\",\"zerolinecolor\":\"#C8D4E3\",\"gridwidth\":2},\"yaxis\":{\"backgroundcolor\":\"rgb(17,17,17)\",\"gridcolor\":\"#506784\",\"linecolor\":\"#506784\",\"showbackground\":true,\"ticks\":\"\",\"zerolinecolor\":\"#C8D4E3\",\"gridwidth\":2},\"zaxis\":{\"backgroundcolor\":\"rgb(17,17,17)\",\"gridcolor\":\"#506784\",\"linecolor\":\"#506784\",\"showbackground\":true,\"ticks\":\"\",\"zerolinecolor\":\"#C8D4E3\",\"gridwidth\":2}},\"shapedefaults\":{\"line\":{\"color\":\"#f2f5fa\"}},\"annotationdefaults\":{\"arrowcolor\":\"#f2f5fa\",\"arrowhead\":0,\"arrowwidth\":1},\"geo\":{\"bgcolor\":\"rgb(17,17,17)\",\"landcolor\":\"rgb(17,17,17)\",\"subunitcolor\":\"#506784\",\"showland\":true,\"showlakes\":true,\"lakecolor\":\"rgb(17,17,17)\"},\"title\":{\"x\":0.05},\"updatemenudefaults\":{\"bgcolor\":\"#506784\",\"borderwidth\":0},\"sliderdefaults\":{\"bgcolor\":\"#C8D4E3\",\"borderwidth\":1,\"bordercolor\":\"rgb(17,17,17)\",\"tickwidth\":0},\"mapbox\":{\"style\":\"dark\"}}},\"shapes\":[{\"line\":{\"color\":\"red\",\"width\":2},\"type\":\"line\",\"x0\":\"2024-02-10T11:23:00\",\"x1\":\"2024-02-10T11:23:00\",\"xref\":\"x\",\"y0\":0,\"y1\":1,\"yref\":\"y domain\"},{\"line\":{\"color\":\"red\",\"width\":2},\"type\":\"line\",\"x0\":\"2023-11-12T22:00:00\",\"x1\":\"2023-11-12T22:00:00\",\"xref\":\"x\",\"y0\":0,\"y1\":1,\"yref\":\"y domain\"},{\"line\":{\"color\":\"red\",\"width\":2},\"type\":\"line\",\"x0\":\"2024-06-05T23:30:00\",\"x1\":\"2024-06-05T23:30:00\",\"xref\":\"x\",\"y0\":0,\"y1\":1,\"yref\":\"y domain\"},{\"line\":{\"color\":\"red\",\"width\":2},\"type\":\"line\",\"x0\":\"2024-06-28T17:42:00\",\"x1\":\"2024-06-28T17:42:00\",\"xref\":\"x\",\"y0\":0,\"y1\":1,\"yref\":\"y domain\"},{\"line\":{\"color\":\"red\",\"width\":2},\"type\":\"line\",\"x0\":\"2021-06-16T11:08:00\",\"x1\":\"2021-06-16T11:08:00\",\"xref\":\"x\",\"y0\":0,\"y1\":1,\"yref\":\"y domain\"},{\"line\":{\"color\":\"red\",\"width\":2},\"type\":\"line\",\"x0\":\"2023-10-26T22:16:00\",\"x1\":\"2023-10-26T22:16:00\",\"xref\":\"x\",\"y0\":0,\"y1\":1,\"yref\":\"y domain\"},{\"line\":{\"color\":\"red\",\"width\":2},\"type\":\"line\",\"x0\":\"2024-06-16T00:18:00\",\"x1\":\"2024-06-16T00:18:00\",\"xref\":\"x\",\"y0\":0,\"y1\":1,\"yref\":\"y domain\"},{\"line\":{\"color\":\"red\",\"width\":2},\"type\":\"line\",\"x0\":\"2023-10-28T08:59:00\",\"x1\":\"2023-10-28T08:59:00\",\"xref\":\"x\",\"y0\":0,\"y1\":1,\"yref\":\"y domain\"},{\"line\":{\"color\":\"red\",\"width\":2},\"type\":\"line\",\"x0\":\"2021-10-04T20:36:00\",\"x1\":\"2021-10-04T20:36:00\",\"xref\":\"x\",\"y0\":0,\"y1\":1,\"yref\":\"y domain\"},{\"line\":{\"color\":\"red\",\"width\":2},\"type\":\"line\",\"x0\":\"2021-07-05T17:40:00\",\"x1\":\"2021-07-05T17:40:00\",\"xref\":\"x\",\"y0\":0,\"y1\":1,\"yref\":\"y domain\"}],\"xaxis\":{\"title\":{\"text\":\"\\ub0a0\\uc9dc\"},\"tickformat\":\"%Y-%m-%d\"},\"legend\":{\"x\":0,\"y\":1,\"traceorder\":\"normal\",\"orientation\":\"h\"},\"title\":{\"text\":\"\\uac01 \\ub0a0\\uc9dc\\ubcc4\\ub85c \\uac8c\\uc2dc\\ubb3c \\uc218\"},\"yaxis\":{\"title\":{\"text\":\"\\uac8c\\uc2dc\\uae00 \\uc218\"}}},                        {\"responsive\": true}                    ).then(function(){\n",
       "                            \n",
       "var gd = document.getElementById('a8c81ed3-83b0-4e85-b4df-552e1d74ce1f');\n",
       "var x = new MutationObserver(function (mutations, observer) {{\n",
       "        var display = window.getComputedStyle(gd).display;\n",
       "        if (!display || display === 'none') {{\n",
       "            console.log([gd, 'removed!']);\n",
       "            Plotly.purge(gd);\n",
       "            observer.disconnect();\n",
       "        }}\n",
       "}});\n",
       "\n",
       "// Listen for the removal of the full notebook cells\n",
       "var notebookContainer = gd.closest('#notebook-container');\n",
       "if (notebookContainer) {{\n",
       "    x.observe(notebookContainer, {childList: true});\n",
       "}}\n",
       "\n",
       "// Listen for the clearing of the current output cell\n",
       "var outputEl = gd.closest('.output');\n",
       "if (outputEl) {{\n",
       "    x.observe(outputEl, {childList: true});\n",
       "}}\n",
       "\n",
       "                        })                };                });            </script>        </div>"
      ]
     },
     "metadata": {},
     "output_type": "display_data"
    },
    {
     "data": {
      "text/html": [
       "<div>\n",
       "<style scoped>\n",
       "    .dataframe tbody tr th:only-of-type {\n",
       "        vertical-align: middle;\n",
       "    }\n",
       "\n",
       "    .dataframe tbody tr th {\n",
       "        vertical-align: top;\n",
       "    }\n",
       "\n",
       "    .dataframe thead th {\n",
       "        text-align: right;\n",
       "    }\n",
       "</style>\n",
       "<table border=\"1\" class=\"dataframe\">\n",
       "  <thead>\n",
       "    <tr style=\"text-align: right;\">\n",
       "      <th></th>\n",
       "      <th>id</th>\n",
       "      <th>title</th>\n",
       "      <th>content</th>\n",
       "      <th>likes</th>\n",
       "      <th>url</th>\n",
       "      <th>author</th>\n",
       "      <th>views</th>\n",
       "      <th>created_at</th>\n",
       "      <th>updated_at</th>\n",
       "      <th>post_id</th>\n",
       "      <th>comment_count</th>\n",
       "      <th>influence_score</th>\n",
       "    </tr>\n",
       "  </thead>\n",
       "  <tbody>\n",
       "    <tr>\n",
       "      <th>142</th>\n",
       "      <td>627199</td>\n",
       "      <td>현대 전기차 아이오닉5 ‘냉각수 소실’ 문제 발생…자칫 화재로 이어질 가능성</td>\n",
       "      <td>현대 전기차 아이오닉5 ‘냉각수 소실’ 문제 발생…자칫 화재로 이어질 가능성현대자동...</td>\n",
       "      <td>3</td>\n",
       "      <td>https://cafe.naver.com/ca-fe/ArticleRead.nhn?c...</td>\n",
       "      <td>뭉치I오닉5모3I서울</td>\n",
       "      <td>5082</td>\n",
       "      <td>2021-06-16 11:08:00</td>\n",
       "      <td>NaN</td>\n",
       "      <td>627199.0</td>\n",
       "      <td>39</td>\n",
       "      <td>16.909595</td>\n",
       "    </tr>\n",
       "    <tr>\n",
       "      <th>136</th>\n",
       "      <td>637719</td>\n",
       "      <td>EQA250 주행거리 질문있어요!!!!</td>\n",
       "      <td>안녕하세요 9월 달 벤츠 eqa250 받기로 되어잇는 예비 차주입니다.주행거리 42...</td>\n",
       "      <td>0</td>\n",
       "      <td>https://cafe.naver.com/ca-fe/ArticleRead.nhn?c...</td>\n",
       "      <td>청룡IEQAI의정부</td>\n",
       "      <td>1303</td>\n",
       "      <td>2021-07-05 17:40:00</td>\n",
       "      <td>NaN</td>\n",
       "      <td>637719.0</td>\n",
       "      <td>116</td>\n",
       "      <td>11.803246</td>\n",
       "    </tr>\n",
       "    <tr>\n",
       "      <th>8</th>\n",
       "      <td>694014</td>\n",
       "      <td>두대다 운용중 아이오닉과 테슬라 모델3 비교</td>\n",
       "      <td>전기차로는 2018년 중순 넥쏘로 입문해 3만키로 테슬라 모델3퍼포를 2020년 2...</td>\n",
       "      <td>3</td>\n",
       "      <td>https://cafe.naver.com/ca-fe/ArticleRead.nhn?c...</td>\n",
       "      <td>샤랴샤lm3p아5ㅣ서울</td>\n",
       "      <td>1746</td>\n",
       "      <td>2021-10-04 20:36:00</td>\n",
       "      <td>NaN</td>\n",
       "      <td>694014.0</td>\n",
       "      <td>40</td>\n",
       "      <td>12.497829</td>\n",
       "    </tr>\n",
       "    <tr>\n",
       "      <th>22</th>\n",
       "      <td>1319521</td>\n",
       "      <td>[제보는 MBC] 빗물 유입되는 아이오닉6‥현대차 \"결함 아냐\"</td>\n",
       "      <td>[제보는 MBC] 빗물 유입되는 아이오닉6‥현대차 \"결함 아냐\"현대자동차의 전기차죠...</td>\n",
       "      <td>4</td>\n",
       "      <td>https://cafe.naver.com/ca-fe/ArticleRead.nhn?c...</td>\n",
       "      <td>톰I아5iX3모YI서울</td>\n",
       "      <td>2527</td>\n",
       "      <td>2023-10-26 22:16:00</td>\n",
       "      <td>NaN</td>\n",
       "      <td>1319521.0</td>\n",
       "      <td>35</td>\n",
       "      <td>15.344343</td>\n",
       "    </tr>\n",
       "    <tr>\n",
       "      <th>93</th>\n",
       "      <td>1320482</td>\n",
       "      <td>아이오닉6 누수문제?</td>\n",
       "      <td>아이오닉6구입하신분들누수문제는 복불복 아니고100% 인가요?ㅜ현대측에서는 결함이아닌...</td>\n",
       "      <td>1</td>\n",
       "      <td>https://cafe.naver.com/ca-fe/ArticleRead.nhn?c...</td>\n",
       "      <td>콩심이l화성</td>\n",
       "      <td>7300</td>\n",
       "      <td>2023-10-28 08:59:00</td>\n",
       "      <td>NaN</td>\n",
       "      <td>1320482.0</td>\n",
       "      <td>17</td>\n",
       "      <td>13.542268</td>\n",
       "    </tr>\n",
       "    <tr>\n",
       "      <th>58</th>\n",
       "      <td>1331941</td>\n",
       "      <td>토레스 안습이네요</td>\n",
       "      <td>앞으로도 현기 독점 하겠네요 ㅜㅜ</td>\n",
       "      <td>4</td>\n",
       "      <td>https://cafe.naver.com/ca-fe/ArticleRead.nhn?c...</td>\n",
       "      <td>263kmlev6l경북</td>\n",
       "      <td>4186</td>\n",
       "      <td>2023-11-12 22:00:00</td>\n",
       "      <td>NaN</td>\n",
       "      <td>1331941.0</td>\n",
       "      <td>96</td>\n",
       "      <td>22.864328</td>\n",
       "    </tr>\n",
       "    <tr>\n",
       "      <th>33</th>\n",
       "      <td>1392740</td>\n",
       "      <td>[팝니다] 아이오닉6 AWD 프레스티지 풀옵션 판매 합니다(선루프X)</td>\n",
       "      <td>[전기차 동호회 직거래 양식]매매가격 : 4,100,000 원1. 차량명과 차량번호...</td>\n",
       "      <td>9</td>\n",
       "      <td>https://cafe.naver.com/ca-fe/ArticleRead.nhn?c...</td>\n",
       "      <td>환타l서울</td>\n",
       "      <td>1456</td>\n",
       "      <td>2024-02-10 11:23:00</td>\n",
       "      <td>NaN</td>\n",
       "      <td>1392740.0</td>\n",
       "      <td>18</td>\n",
       "      <td>23.559953</td>\n",
       "    </tr>\n",
       "    <tr>\n",
       "      <th>208</th>\n",
       "      <td>1474551</td>\n",
       "      <td>대가리 총 맞지 않은 이상 하이랜드!</td>\n",
       "      <td>현기차 아무리 보고 아6타지만 죽어도 현기차 다시 탈 일 없습니다.품질 개 쓰레기에...</td>\n",
       "      <td>5</td>\n",
       "      <td>https://cafe.naver.com/ca-fe/ArticleRead.nhn?c...</td>\n",
       "      <td>아메l모3예정l경기</td>\n",
       "      <td>2220</td>\n",
       "      <td>2024-06-05 23:30:00</td>\n",
       "      <td>NaN</td>\n",
       "      <td>1474551.0</td>\n",
       "      <td>89</td>\n",
       "      <td>21.833486</td>\n",
       "    </tr>\n",
       "    <tr>\n",
       "      <th>184</th>\n",
       "      <td>1482798</td>\n",
       "      <td>전기차는 오너가 되어봐야.....</td>\n",
       "      <td>만족감이 너무 좋습니다.2년 되어가는데. 아직 차에 들어간 소모품비 발생이 아예 없...</td>\n",
       "      <td>5</td>\n",
       "      <td>https://cafe.naver.com/ca-fe/ArticleRead.nhn?c...</td>\n",
       "      <td>희야I아이오닉6I강원</td>\n",
       "      <td>1351</td>\n",
       "      <td>2024-06-16 00:18:00</td>\n",
       "      <td>NaN</td>\n",
       "      <td>1482798.0</td>\n",
       "      <td>14</td>\n",
       "      <td>14.166285</td>\n",
       "    </tr>\n",
       "    <tr>\n",
       "      <th>171</th>\n",
       "      <td>1493399</td>\n",
       "      <td>아이오닉5 비전루프 자랑 좀 해도 될까요</td>\n",
       "      <td>이미 흔하디 흔한 옵션이고 테슬라처럼 통유리는 아니지만 그래도 이런 차가 첨이라 너...</td>\n",
       "      <td>6</td>\n",
       "      <td>https://cafe.naver.com/ca-fe/ArticleRead.nhn?c...</td>\n",
       "      <td>가비I아이오닉5I청주</td>\n",
       "      <td>1954</td>\n",
       "      <td>2024-06-28 17:42:00</td>\n",
       "      <td>NaN</td>\n",
       "      <td>1493399.0</td>\n",
       "      <td>32</td>\n",
       "      <td>18.764704</td>\n",
       "    </tr>\n",
       "  </tbody>\n",
       "</table>\n",
       "</div>"
      ],
      "text/plain": [
       "          id                                       title  \\\n",
       "142   627199  현대 전기차 아이오닉5 ‘냉각수 소실’ 문제 발생…자칫 화재로 이어질 가능성   \n",
       "136   637719                       EQA250 주행거리 질문있어요!!!!   \n",
       "8     694014                    두대다 운용중 아이오닉과 테슬라 모델3 비교   \n",
       "22   1319521         [제보는 MBC] 빗물 유입되는 아이오닉6‥현대차 \"결함 아냐\"   \n",
       "93   1320482                                 아이오닉6 누수문제?   \n",
       "58   1331941                                   토레스 안습이네요   \n",
       "33   1392740      [팝니다] 아이오닉6 AWD 프레스티지 풀옵션 판매 합니다(선루프X)   \n",
       "208  1474551                        대가리 총 맞지 않은 이상 하이랜드!   \n",
       "184  1482798                          전기차는 오너가 되어봐야.....   \n",
       "171  1493399                      아이오닉5 비전루프 자랑 좀 해도 될까요   \n",
       "\n",
       "                                               content  likes  \\\n",
       "142  현대 전기차 아이오닉5 ‘냉각수 소실’ 문제 발생…자칫 화재로 이어질 가능성현대자동...      3   \n",
       "136  안녕하세요 9월 달 벤츠 eqa250 받기로 되어잇는 예비 차주입니다.주행거리 42...      0   \n",
       "8    전기차로는 2018년 중순 넥쏘로 입문해 3만키로 테슬라 모델3퍼포를 2020년 2...      3   \n",
       "22   [제보는 MBC] 빗물 유입되는 아이오닉6‥현대차 \"결함 아냐\"현대자동차의 전기차죠...      4   \n",
       "93   아이오닉6구입하신분들누수문제는 복불복 아니고100% 인가요?ㅜ현대측에서는 결함이아닌...      1   \n",
       "58                                  앞으로도 현기 독점 하겠네요 ㅜㅜ      4   \n",
       "33   [전기차 동호회 직거래 양식]매매가격 : 4,100,000 원1. 차량명과 차량번호...      9   \n",
       "208  현기차 아무리 보고 아6타지만 죽어도 현기차 다시 탈 일 없습니다.품질 개 쓰레기에...      5   \n",
       "184  만족감이 너무 좋습니다.2년 되어가는데. 아직 차에 들어간 소모품비 발생이 아예 없...      5   \n",
       "171  이미 흔하디 흔한 옵션이고 테슬라처럼 통유리는 아니지만 그래도 이런 차가 첨이라 너...      6   \n",
       "\n",
       "                                                   url        author  views  \\\n",
       "142  https://cafe.naver.com/ca-fe/ArticleRead.nhn?c...   뭉치I오닉5모3I서울   5082   \n",
       "136  https://cafe.naver.com/ca-fe/ArticleRead.nhn?c...    청룡IEQAI의정부   1303   \n",
       "8    https://cafe.naver.com/ca-fe/ArticleRead.nhn?c...  샤랴샤lm3p아5ㅣ서울   1746   \n",
       "22   https://cafe.naver.com/ca-fe/ArticleRead.nhn?c...  톰I아5iX3모YI서울   2527   \n",
       "93   https://cafe.naver.com/ca-fe/ArticleRead.nhn?c...        콩심이l화성   7300   \n",
       "58   https://cafe.naver.com/ca-fe/ArticleRead.nhn?c...  263kmlev6l경북   4186   \n",
       "33   https://cafe.naver.com/ca-fe/ArticleRead.nhn?c...         환타l서울   1456   \n",
       "208  https://cafe.naver.com/ca-fe/ArticleRead.nhn?c...    아메l모3예정l경기   2220   \n",
       "184  https://cafe.naver.com/ca-fe/ArticleRead.nhn?c...   희야I아이오닉6I강원   1351   \n",
       "171  https://cafe.naver.com/ca-fe/ArticleRead.nhn?c...   가비I아이오닉5I청주   1954   \n",
       "\n",
       "             created_at  updated_at    post_id  comment_count  influence_score  \n",
       "142 2021-06-16 11:08:00         NaN   627199.0             39        16.909595  \n",
       "136 2021-07-05 17:40:00         NaN   637719.0            116        11.803246  \n",
       "8   2021-10-04 20:36:00         NaN   694014.0             40        12.497829  \n",
       "22  2023-10-26 22:16:00         NaN  1319521.0             35        15.344343  \n",
       "93  2023-10-28 08:59:00         NaN  1320482.0             17        13.542268  \n",
       "58  2023-11-12 22:00:00         NaN  1331941.0             96        22.864328  \n",
       "33  2024-02-10 11:23:00         NaN  1392740.0             18        23.559953  \n",
       "208 2024-06-05 23:30:00         NaN  1474551.0             89        21.833486  \n",
       "184 2024-06-16 00:18:00         NaN  1482798.0             14        14.166285  \n",
       "171 2024-06-28 17:42:00         NaN  1493399.0             32        18.764704  "
      ]
     },
     "metadata": {},
     "output_type": "display_data"
    }
   ],
   "source": [
    "posts, comments = merge_csv(\"아이오닉 누수\")\n",
    "show(posts, comments)"
   ]
  },
  {
   "cell_type": "code",
   "execution_count": 45,
   "id": "c524952f44204e2d",
   "metadata": {
    "ExecuteTime": {
     "end_time": "2024-08-14T01:38:28.721092Z",
     "start_time": "2024-08-14T01:38:28.613887Z"
    }
   },
   "outputs": [
    {
     "data": {
      "application/vnd.plotly.v1+json": {
       "config": {
        "plotlyServerURL": "https://plot.ly"
       },
       "data": [
        {
         "mode": "lines+markers",
         "name": "일별 게시글 생성 개수",
         "type": "scatter",
         "x": [
          "2024-08-01",
          "2024-08-02",
          "2024-08-03",
          "2024-08-04",
          "2024-08-05",
          "2024-08-06",
          "2024-08-07",
          "2024-08-08",
          "2024-08-09",
          "2024-08-10",
          "2024-08-11",
          "2024-08-12",
          "2024-08-13"
         ],
         "y": [
          39,
          89,
          78,
          51,
          63,
          95,
          68,
          63,
          63,
          34,
          37,
          35,
          43
         ]
        }
       ],
       "layout": {
        "legend": {
         "orientation": "h",
         "traceorder": "normal",
         "x": 0,
         "y": 1
        },
        "shapes": [
         {
          "line": {
           "color": "red",
           "width": 2
          },
          "type": "line",
          "x0": "2024-08-07T19:59:00",
          "x1": "2024-08-07T19:59:00",
          "xref": "x",
          "y0": 0,
          "y1": 1,
          "yref": "y domain"
         },
         {
          "line": {
           "color": "red",
           "width": 2
          },
          "type": "line",
          "x0": "2024-08-07T12:40:00",
          "x1": "2024-08-07T12:40:00",
          "xref": "x",
          "y0": 0,
          "y1": 1,
          "yref": "y domain"
         },
         {
          "line": {
           "color": "red",
           "width": 2
          },
          "type": "line",
          "x0": "2024-08-13T17:13:00",
          "x1": "2024-08-13T17:13:00",
          "xref": "x",
          "y0": 0,
          "y1": 1,
          "yref": "y domain"
         },
         {
          "line": {
           "color": "red",
           "width": 2
          },
          "type": "line",
          "x0": "2024-08-03T16:59:00",
          "x1": "2024-08-03T16:59:00",
          "xref": "x",
          "y0": 0,
          "y1": 1,
          "yref": "y domain"
         },
         {
          "line": {
           "color": "red",
           "width": 2
          },
          "type": "line",
          "x0": "2024-08-06T20:22:00",
          "x1": "2024-08-06T20:22:00",
          "xref": "x",
          "y0": 0,
          "y1": 1,
          "yref": "y domain"
         },
         {
          "line": {
           "color": "red",
           "width": 2
          },
          "type": "line",
          "x0": "2024-08-01T21:15:00",
          "x1": "2024-08-01T21:15:00",
          "xref": "x",
          "y0": 0,
          "y1": 1,
          "yref": "y domain"
         },
         {
          "line": {
           "color": "red",
           "width": 2
          },
          "type": "line",
          "x0": "2024-08-04T13:33:00",
          "x1": "2024-08-04T13:33:00",
          "xref": "x",
          "y0": 0,
          "y1": 1,
          "yref": "y domain"
         },
         {
          "line": {
           "color": "red",
           "width": 2
          },
          "type": "line",
          "x0": "2024-08-07T19:46:00",
          "x1": "2024-08-07T19:46:00",
          "xref": "x",
          "y0": 0,
          "y1": 1,
          "yref": "y domain"
         },
         {
          "line": {
           "color": "red",
           "width": 2
          },
          "type": "line",
          "x0": "2024-08-01T20:42:00",
          "x1": "2024-08-01T20:42:00",
          "xref": "x",
          "y0": 0,
          "y1": 1,
          "yref": "y domain"
         },
         {
          "line": {
           "color": "red",
           "width": 2
          },
          "type": "line",
          "x0": "2024-08-04T01:14:00",
          "x1": "2024-08-04T01:14:00",
          "xref": "x",
          "y0": 0,
          "y1": 1,
          "yref": "y domain"
         }
        ],
        "template": {
         "data": {
          "bar": [
           {
            "error_x": {
             "color": "#f2f5fa"
            },
            "error_y": {
             "color": "#f2f5fa"
            },
            "marker": {
             "line": {
              "color": "rgb(17,17,17)",
              "width": 0.5
             },
             "pattern": {
              "fillmode": "overlay",
              "size": 10,
              "solidity": 0.2
             }
            },
            "type": "bar"
           }
          ],
          "barpolar": [
           {
            "marker": {
             "line": {
              "color": "rgb(17,17,17)",
              "width": 0.5
             },
             "pattern": {
              "fillmode": "overlay",
              "size": 10,
              "solidity": 0.2
             }
            },
            "type": "barpolar"
           }
          ],
          "carpet": [
           {
            "aaxis": {
             "endlinecolor": "#A2B1C6",
             "gridcolor": "#506784",
             "linecolor": "#506784",
             "minorgridcolor": "#506784",
             "startlinecolor": "#A2B1C6"
            },
            "baxis": {
             "endlinecolor": "#A2B1C6",
             "gridcolor": "#506784",
             "linecolor": "#506784",
             "minorgridcolor": "#506784",
             "startlinecolor": "#A2B1C6"
            },
            "type": "carpet"
           }
          ],
          "choropleth": [
           {
            "colorbar": {
             "outlinewidth": 0,
             "ticks": ""
            },
            "type": "choropleth"
           }
          ],
          "contour": [
           {
            "colorbar": {
             "outlinewidth": 0,
             "ticks": ""
            },
            "colorscale": [
             [
              0,
              "#0d0887"
             ],
             [
              0.1111111111111111,
              "#46039f"
             ],
             [
              0.2222222222222222,
              "#7201a8"
             ],
             [
              0.3333333333333333,
              "#9c179e"
             ],
             [
              0.4444444444444444,
              "#bd3786"
             ],
             [
              0.5555555555555556,
              "#d8576b"
             ],
             [
              0.6666666666666666,
              "#ed7953"
             ],
             [
              0.7777777777777778,
              "#fb9f3a"
             ],
             [
              0.8888888888888888,
              "#fdca26"
             ],
             [
              1,
              "#f0f921"
             ]
            ],
            "type": "contour"
           }
          ],
          "contourcarpet": [
           {
            "colorbar": {
             "outlinewidth": 0,
             "ticks": ""
            },
            "type": "contourcarpet"
           }
          ],
          "heatmap": [
           {
            "colorbar": {
             "outlinewidth": 0,
             "ticks": ""
            },
            "colorscale": [
             [
              0,
              "#0d0887"
             ],
             [
              0.1111111111111111,
              "#46039f"
             ],
             [
              0.2222222222222222,
              "#7201a8"
             ],
             [
              0.3333333333333333,
              "#9c179e"
             ],
             [
              0.4444444444444444,
              "#bd3786"
             ],
             [
              0.5555555555555556,
              "#d8576b"
             ],
             [
              0.6666666666666666,
              "#ed7953"
             ],
             [
              0.7777777777777778,
              "#fb9f3a"
             ],
             [
              0.8888888888888888,
              "#fdca26"
             ],
             [
              1,
              "#f0f921"
             ]
            ],
            "type": "heatmap"
           }
          ],
          "heatmapgl": [
           {
            "colorbar": {
             "outlinewidth": 0,
             "ticks": ""
            },
            "colorscale": [
             [
              0,
              "#0d0887"
             ],
             [
              0.1111111111111111,
              "#46039f"
             ],
             [
              0.2222222222222222,
              "#7201a8"
             ],
             [
              0.3333333333333333,
              "#9c179e"
             ],
             [
              0.4444444444444444,
              "#bd3786"
             ],
             [
              0.5555555555555556,
              "#d8576b"
             ],
             [
              0.6666666666666666,
              "#ed7953"
             ],
             [
              0.7777777777777778,
              "#fb9f3a"
             ],
             [
              0.8888888888888888,
              "#fdca26"
             ],
             [
              1,
              "#f0f921"
             ]
            ],
            "type": "heatmapgl"
           }
          ],
          "histogram": [
           {
            "marker": {
             "pattern": {
              "fillmode": "overlay",
              "size": 10,
              "solidity": 0.2
             }
            },
            "type": "histogram"
           }
          ],
          "histogram2d": [
           {
            "colorbar": {
             "outlinewidth": 0,
             "ticks": ""
            },
            "colorscale": [
             [
              0,
              "#0d0887"
             ],
             [
              0.1111111111111111,
              "#46039f"
             ],
             [
              0.2222222222222222,
              "#7201a8"
             ],
             [
              0.3333333333333333,
              "#9c179e"
             ],
             [
              0.4444444444444444,
              "#bd3786"
             ],
             [
              0.5555555555555556,
              "#d8576b"
             ],
             [
              0.6666666666666666,
              "#ed7953"
             ],
             [
              0.7777777777777778,
              "#fb9f3a"
             ],
             [
              0.8888888888888888,
              "#fdca26"
             ],
             [
              1,
              "#f0f921"
             ]
            ],
            "type": "histogram2d"
           }
          ],
          "histogram2dcontour": [
           {
            "colorbar": {
             "outlinewidth": 0,
             "ticks": ""
            },
            "colorscale": [
             [
              0,
              "#0d0887"
             ],
             [
              0.1111111111111111,
              "#46039f"
             ],
             [
              0.2222222222222222,
              "#7201a8"
             ],
             [
              0.3333333333333333,
              "#9c179e"
             ],
             [
              0.4444444444444444,
              "#bd3786"
             ],
             [
              0.5555555555555556,
              "#d8576b"
             ],
             [
              0.6666666666666666,
              "#ed7953"
             ],
             [
              0.7777777777777778,
              "#fb9f3a"
             ],
             [
              0.8888888888888888,
              "#fdca26"
             ],
             [
              1,
              "#f0f921"
             ]
            ],
            "type": "histogram2dcontour"
           }
          ],
          "mesh3d": [
           {
            "colorbar": {
             "outlinewidth": 0,
             "ticks": ""
            },
            "type": "mesh3d"
           }
          ],
          "parcoords": [
           {
            "line": {
             "colorbar": {
              "outlinewidth": 0,
              "ticks": ""
             }
            },
            "type": "parcoords"
           }
          ],
          "pie": [
           {
            "automargin": true,
            "type": "pie"
           }
          ],
          "scatter": [
           {
            "marker": {
             "line": {
              "color": "#283442"
             }
            },
            "type": "scatter"
           }
          ],
          "scatter3d": [
           {
            "line": {
             "colorbar": {
              "outlinewidth": 0,
              "ticks": ""
             }
            },
            "marker": {
             "colorbar": {
              "outlinewidth": 0,
              "ticks": ""
             }
            },
            "type": "scatter3d"
           }
          ],
          "scattercarpet": [
           {
            "marker": {
             "colorbar": {
              "outlinewidth": 0,
              "ticks": ""
             }
            },
            "type": "scattercarpet"
           }
          ],
          "scattergeo": [
           {
            "marker": {
             "colorbar": {
              "outlinewidth": 0,
              "ticks": ""
             }
            },
            "type": "scattergeo"
           }
          ],
          "scattergl": [
           {
            "marker": {
             "line": {
              "color": "#283442"
             }
            },
            "type": "scattergl"
           }
          ],
          "scattermapbox": [
           {
            "marker": {
             "colorbar": {
              "outlinewidth": 0,
              "ticks": ""
             }
            },
            "type": "scattermapbox"
           }
          ],
          "scatterpolar": [
           {
            "marker": {
             "colorbar": {
              "outlinewidth": 0,
              "ticks": ""
             }
            },
            "type": "scatterpolar"
           }
          ],
          "scatterpolargl": [
           {
            "marker": {
             "colorbar": {
              "outlinewidth": 0,
              "ticks": ""
             }
            },
            "type": "scatterpolargl"
           }
          ],
          "scatterternary": [
           {
            "marker": {
             "colorbar": {
              "outlinewidth": 0,
              "ticks": ""
             }
            },
            "type": "scatterternary"
           }
          ],
          "surface": [
           {
            "colorbar": {
             "outlinewidth": 0,
             "ticks": ""
            },
            "colorscale": [
             [
              0,
              "#0d0887"
             ],
             [
              0.1111111111111111,
              "#46039f"
             ],
             [
              0.2222222222222222,
              "#7201a8"
             ],
             [
              0.3333333333333333,
              "#9c179e"
             ],
             [
              0.4444444444444444,
              "#bd3786"
             ],
             [
              0.5555555555555556,
              "#d8576b"
             ],
             [
              0.6666666666666666,
              "#ed7953"
             ],
             [
              0.7777777777777778,
              "#fb9f3a"
             ],
             [
              0.8888888888888888,
              "#fdca26"
             ],
             [
              1,
              "#f0f921"
             ]
            ],
            "type": "surface"
           }
          ],
          "table": [
           {
            "cells": {
             "fill": {
              "color": "#506784"
             },
             "line": {
              "color": "rgb(17,17,17)"
             }
            },
            "header": {
             "fill": {
              "color": "#2a3f5f"
             },
             "line": {
              "color": "rgb(17,17,17)"
             }
            },
            "type": "table"
           }
          ]
         },
         "layout": {
          "annotationdefaults": {
           "arrowcolor": "#f2f5fa",
           "arrowhead": 0,
           "arrowwidth": 1
          },
          "autotypenumbers": "strict",
          "coloraxis": {
           "colorbar": {
            "outlinewidth": 0,
            "ticks": ""
           }
          },
          "colorscale": {
           "diverging": [
            [
             0,
             "#8e0152"
            ],
            [
             0.1,
             "#c51b7d"
            ],
            [
             0.2,
             "#de77ae"
            ],
            [
             0.3,
             "#f1b6da"
            ],
            [
             0.4,
             "#fde0ef"
            ],
            [
             0.5,
             "#f7f7f7"
            ],
            [
             0.6,
             "#e6f5d0"
            ],
            [
             0.7,
             "#b8e186"
            ],
            [
             0.8,
             "#7fbc41"
            ],
            [
             0.9,
             "#4d9221"
            ],
            [
             1,
             "#276419"
            ]
           ],
           "sequential": [
            [
             0,
             "#0d0887"
            ],
            [
             0.1111111111111111,
             "#46039f"
            ],
            [
             0.2222222222222222,
             "#7201a8"
            ],
            [
             0.3333333333333333,
             "#9c179e"
            ],
            [
             0.4444444444444444,
             "#bd3786"
            ],
            [
             0.5555555555555556,
             "#d8576b"
            ],
            [
             0.6666666666666666,
             "#ed7953"
            ],
            [
             0.7777777777777778,
             "#fb9f3a"
            ],
            [
             0.8888888888888888,
             "#fdca26"
            ],
            [
             1,
             "#f0f921"
            ]
           ],
           "sequentialminus": [
            [
             0,
             "#0d0887"
            ],
            [
             0.1111111111111111,
             "#46039f"
            ],
            [
             0.2222222222222222,
             "#7201a8"
            ],
            [
             0.3333333333333333,
             "#9c179e"
            ],
            [
             0.4444444444444444,
             "#bd3786"
            ],
            [
             0.5555555555555556,
             "#d8576b"
            ],
            [
             0.6666666666666666,
             "#ed7953"
            ],
            [
             0.7777777777777778,
             "#fb9f3a"
            ],
            [
             0.8888888888888888,
             "#fdca26"
            ],
            [
             1,
             "#f0f921"
            ]
           ]
          },
          "colorway": [
           "#636efa",
           "#EF553B",
           "#00cc96",
           "#ab63fa",
           "#FFA15A",
           "#19d3f3",
           "#FF6692",
           "#B6E880",
           "#FF97FF",
           "#FECB52"
          ],
          "font": {
           "color": "#f2f5fa"
          },
          "geo": {
           "bgcolor": "rgb(17,17,17)",
           "lakecolor": "rgb(17,17,17)",
           "landcolor": "rgb(17,17,17)",
           "showlakes": true,
           "showland": true,
           "subunitcolor": "#506784"
          },
          "hoverlabel": {
           "align": "left"
          },
          "hovermode": "closest",
          "mapbox": {
           "style": "dark"
          },
          "paper_bgcolor": "rgb(17,17,17)",
          "plot_bgcolor": "rgb(17,17,17)",
          "polar": {
           "angularaxis": {
            "gridcolor": "#506784",
            "linecolor": "#506784",
            "ticks": ""
           },
           "bgcolor": "rgb(17,17,17)",
           "radialaxis": {
            "gridcolor": "#506784",
            "linecolor": "#506784",
            "ticks": ""
           }
          },
          "scene": {
           "xaxis": {
            "backgroundcolor": "rgb(17,17,17)",
            "gridcolor": "#506784",
            "gridwidth": 2,
            "linecolor": "#506784",
            "showbackground": true,
            "ticks": "",
            "zerolinecolor": "#C8D4E3"
           },
           "yaxis": {
            "backgroundcolor": "rgb(17,17,17)",
            "gridcolor": "#506784",
            "gridwidth": 2,
            "linecolor": "#506784",
            "showbackground": true,
            "ticks": "",
            "zerolinecolor": "#C8D4E3"
           },
           "zaxis": {
            "backgroundcolor": "rgb(17,17,17)",
            "gridcolor": "#506784",
            "gridwidth": 2,
            "linecolor": "#506784",
            "showbackground": true,
            "ticks": "",
            "zerolinecolor": "#C8D4E3"
           }
          },
          "shapedefaults": {
           "line": {
            "color": "#f2f5fa"
           }
          },
          "sliderdefaults": {
           "bgcolor": "#C8D4E3",
           "bordercolor": "rgb(17,17,17)",
           "borderwidth": 1,
           "tickwidth": 0
          },
          "ternary": {
           "aaxis": {
            "gridcolor": "#506784",
            "linecolor": "#506784",
            "ticks": ""
           },
           "baxis": {
            "gridcolor": "#506784",
            "linecolor": "#506784",
            "ticks": ""
           },
           "bgcolor": "rgb(17,17,17)",
           "caxis": {
            "gridcolor": "#506784",
            "linecolor": "#506784",
            "ticks": ""
           }
          },
          "title": {
           "x": 0.05
          },
          "updatemenudefaults": {
           "bgcolor": "#506784",
           "borderwidth": 0
          },
          "xaxis": {
           "automargin": true,
           "gridcolor": "#283442",
           "linecolor": "#506784",
           "ticks": "",
           "title": {
            "standoff": 15
           },
           "zerolinecolor": "#283442",
           "zerolinewidth": 2
          },
          "yaxis": {
           "automargin": true,
           "gridcolor": "#283442",
           "linecolor": "#506784",
           "ticks": "",
           "title": {
            "standoff": 15
           },
           "zerolinecolor": "#283442",
           "zerolinewidth": 2
          }
         }
        },
        "title": {
         "text": "각 날짜별로 게시물 수"
        },
        "xaxis": {
         "tickformat": "%Y-%m-%d",
         "title": {
          "text": "날짜"
         }
        },
        "yaxis": {
         "title": {
          "text": "게시글 수"
         }
        }
       }
      },
      "text/html": [
       "<div>                            <div id=\"8945b69d-c1b4-4cca-8210-b4f820a26c06\" class=\"plotly-graph-div\" style=\"height:525px; width:100%;\"></div>            <script type=\"text/javascript\">                require([\"plotly\"], function(Plotly) {                    window.PLOTLYENV=window.PLOTLYENV || {};                                    if (document.getElementById(\"8945b69d-c1b4-4cca-8210-b4f820a26c06\")) {                    Plotly.newPlot(                        \"8945b69d-c1b4-4cca-8210-b4f820a26c06\",                        [{\"mode\":\"lines+markers\",\"name\":\"\\uc77c\\ubcc4 \\uac8c\\uc2dc\\uae00 \\uc0dd\\uc131 \\uac1c\\uc218\",\"x\":[\"2024-08-01\",\"2024-08-02\",\"2024-08-03\",\"2024-08-04\",\"2024-08-05\",\"2024-08-06\",\"2024-08-07\",\"2024-08-08\",\"2024-08-09\",\"2024-08-10\",\"2024-08-11\",\"2024-08-12\",\"2024-08-13\"],\"y\":[39,89,78,51,63,95,68,63,63,34,37,35,43],\"type\":\"scatter\"}],                        {\"template\":{\"data\":{\"histogram2dcontour\":[{\"type\":\"histogram2dcontour\",\"colorbar\":{\"outlinewidth\":0,\"ticks\":\"\"},\"colorscale\":[[0.0,\"#0d0887\"],[0.1111111111111111,\"#46039f\"],[0.2222222222222222,\"#7201a8\"],[0.3333333333333333,\"#9c179e\"],[0.4444444444444444,\"#bd3786\"],[0.5555555555555556,\"#d8576b\"],[0.6666666666666666,\"#ed7953\"],[0.7777777777777778,\"#fb9f3a\"],[0.8888888888888888,\"#fdca26\"],[1.0,\"#f0f921\"]]}],\"choropleth\":[{\"type\":\"choropleth\",\"colorbar\":{\"outlinewidth\":0,\"ticks\":\"\"}}],\"histogram2d\":[{\"type\":\"histogram2d\",\"colorbar\":{\"outlinewidth\":0,\"ticks\":\"\"},\"colorscale\":[[0.0,\"#0d0887\"],[0.1111111111111111,\"#46039f\"],[0.2222222222222222,\"#7201a8\"],[0.3333333333333333,\"#9c179e\"],[0.4444444444444444,\"#bd3786\"],[0.5555555555555556,\"#d8576b\"],[0.6666666666666666,\"#ed7953\"],[0.7777777777777778,\"#fb9f3a\"],[0.8888888888888888,\"#fdca26\"],[1.0,\"#f0f921\"]]}],\"heatmap\":[{\"type\":\"heatmap\",\"colorbar\":{\"outlinewidth\":0,\"ticks\":\"\"},\"colorscale\":[[0.0,\"#0d0887\"],[0.1111111111111111,\"#46039f\"],[0.2222222222222222,\"#7201a8\"],[0.3333333333333333,\"#9c179e\"],[0.4444444444444444,\"#bd3786\"],[0.5555555555555556,\"#d8576b\"],[0.6666666666666666,\"#ed7953\"],[0.7777777777777778,\"#fb9f3a\"],[0.8888888888888888,\"#fdca26\"],[1.0,\"#f0f921\"]]}],\"heatmapgl\":[{\"type\":\"heatmapgl\",\"colorbar\":{\"outlinewidth\":0,\"ticks\":\"\"},\"colorscale\":[[0.0,\"#0d0887\"],[0.1111111111111111,\"#46039f\"],[0.2222222222222222,\"#7201a8\"],[0.3333333333333333,\"#9c179e\"],[0.4444444444444444,\"#bd3786\"],[0.5555555555555556,\"#d8576b\"],[0.6666666666666666,\"#ed7953\"],[0.7777777777777778,\"#fb9f3a\"],[0.8888888888888888,\"#fdca26\"],[1.0,\"#f0f921\"]]}],\"contourcarpet\":[{\"type\":\"contourcarpet\",\"colorbar\":{\"outlinewidth\":0,\"ticks\":\"\"}}],\"contour\":[{\"type\":\"contour\",\"colorbar\":{\"outlinewidth\":0,\"ticks\":\"\"},\"colorscale\":[[0.0,\"#0d0887\"],[0.1111111111111111,\"#46039f\"],[0.2222222222222222,\"#7201a8\"],[0.3333333333333333,\"#9c179e\"],[0.4444444444444444,\"#bd3786\"],[0.5555555555555556,\"#d8576b\"],[0.6666666666666666,\"#ed7953\"],[0.7777777777777778,\"#fb9f3a\"],[0.8888888888888888,\"#fdca26\"],[1.0,\"#f0f921\"]]}],\"surface\":[{\"type\":\"surface\",\"colorbar\":{\"outlinewidth\":0,\"ticks\":\"\"},\"colorscale\":[[0.0,\"#0d0887\"],[0.1111111111111111,\"#46039f\"],[0.2222222222222222,\"#7201a8\"],[0.3333333333333333,\"#9c179e\"],[0.4444444444444444,\"#bd3786\"],[0.5555555555555556,\"#d8576b\"],[0.6666666666666666,\"#ed7953\"],[0.7777777777777778,\"#fb9f3a\"],[0.8888888888888888,\"#fdca26\"],[1.0,\"#f0f921\"]]}],\"mesh3d\":[{\"type\":\"mesh3d\",\"colorbar\":{\"outlinewidth\":0,\"ticks\":\"\"}}],\"scatter\":[{\"marker\":{\"line\":{\"color\":\"#283442\"}},\"type\":\"scatter\"}],\"parcoords\":[{\"type\":\"parcoords\",\"line\":{\"colorbar\":{\"outlinewidth\":0,\"ticks\":\"\"}}}],\"scatterpolargl\":[{\"type\":\"scatterpolargl\",\"marker\":{\"colorbar\":{\"outlinewidth\":0,\"ticks\":\"\"}}}],\"bar\":[{\"error_x\":{\"color\":\"#f2f5fa\"},\"error_y\":{\"color\":\"#f2f5fa\"},\"marker\":{\"line\":{\"color\":\"rgb(17,17,17)\",\"width\":0.5},\"pattern\":{\"fillmode\":\"overlay\",\"size\":10,\"solidity\":0.2}},\"type\":\"bar\"}],\"scattergeo\":[{\"type\":\"scattergeo\",\"marker\":{\"colorbar\":{\"outlinewidth\":0,\"ticks\":\"\"}}}],\"scatterpolar\":[{\"type\":\"scatterpolar\",\"marker\":{\"colorbar\":{\"outlinewidth\":0,\"ticks\":\"\"}}}],\"histogram\":[{\"marker\":{\"pattern\":{\"fillmode\":\"overlay\",\"size\":10,\"solidity\":0.2}},\"type\":\"histogram\"}],\"scattergl\":[{\"marker\":{\"line\":{\"color\":\"#283442\"}},\"type\":\"scattergl\"}],\"scatter3d\":[{\"type\":\"scatter3d\",\"line\":{\"colorbar\":{\"outlinewidth\":0,\"ticks\":\"\"}},\"marker\":{\"colorbar\":{\"outlinewidth\":0,\"ticks\":\"\"}}}],\"scattermapbox\":[{\"type\":\"scattermapbox\",\"marker\":{\"colorbar\":{\"outlinewidth\":0,\"ticks\":\"\"}}}],\"scatterternary\":[{\"type\":\"scatterternary\",\"marker\":{\"colorbar\":{\"outlinewidth\":0,\"ticks\":\"\"}}}],\"scattercarpet\":[{\"type\":\"scattercarpet\",\"marker\":{\"colorbar\":{\"outlinewidth\":0,\"ticks\":\"\"}}}],\"carpet\":[{\"aaxis\":{\"endlinecolor\":\"#A2B1C6\",\"gridcolor\":\"#506784\",\"linecolor\":\"#506784\",\"minorgridcolor\":\"#506784\",\"startlinecolor\":\"#A2B1C6\"},\"baxis\":{\"endlinecolor\":\"#A2B1C6\",\"gridcolor\":\"#506784\",\"linecolor\":\"#506784\",\"minorgridcolor\":\"#506784\",\"startlinecolor\":\"#A2B1C6\"},\"type\":\"carpet\"}],\"table\":[{\"cells\":{\"fill\":{\"color\":\"#506784\"},\"line\":{\"color\":\"rgb(17,17,17)\"}},\"header\":{\"fill\":{\"color\":\"#2a3f5f\"},\"line\":{\"color\":\"rgb(17,17,17)\"}},\"type\":\"table\"}],\"barpolar\":[{\"marker\":{\"line\":{\"color\":\"rgb(17,17,17)\",\"width\":0.5},\"pattern\":{\"fillmode\":\"overlay\",\"size\":10,\"solidity\":0.2}},\"type\":\"barpolar\"}],\"pie\":[{\"automargin\":true,\"type\":\"pie\"}]},\"layout\":{\"autotypenumbers\":\"strict\",\"colorway\":[\"#636efa\",\"#EF553B\",\"#00cc96\",\"#ab63fa\",\"#FFA15A\",\"#19d3f3\",\"#FF6692\",\"#B6E880\",\"#FF97FF\",\"#FECB52\"],\"font\":{\"color\":\"#f2f5fa\"},\"hovermode\":\"closest\",\"hoverlabel\":{\"align\":\"left\"},\"paper_bgcolor\":\"rgb(17,17,17)\",\"plot_bgcolor\":\"rgb(17,17,17)\",\"polar\":{\"bgcolor\":\"rgb(17,17,17)\",\"angularaxis\":{\"gridcolor\":\"#506784\",\"linecolor\":\"#506784\",\"ticks\":\"\"},\"radialaxis\":{\"gridcolor\":\"#506784\",\"linecolor\":\"#506784\",\"ticks\":\"\"}},\"ternary\":{\"bgcolor\":\"rgb(17,17,17)\",\"aaxis\":{\"gridcolor\":\"#506784\",\"linecolor\":\"#506784\",\"ticks\":\"\"},\"baxis\":{\"gridcolor\":\"#506784\",\"linecolor\":\"#506784\",\"ticks\":\"\"},\"caxis\":{\"gridcolor\":\"#506784\",\"linecolor\":\"#506784\",\"ticks\":\"\"}},\"coloraxis\":{\"colorbar\":{\"outlinewidth\":0,\"ticks\":\"\"}},\"colorscale\":{\"sequential\":[[0.0,\"#0d0887\"],[0.1111111111111111,\"#46039f\"],[0.2222222222222222,\"#7201a8\"],[0.3333333333333333,\"#9c179e\"],[0.4444444444444444,\"#bd3786\"],[0.5555555555555556,\"#d8576b\"],[0.6666666666666666,\"#ed7953\"],[0.7777777777777778,\"#fb9f3a\"],[0.8888888888888888,\"#fdca26\"],[1.0,\"#f0f921\"]],\"sequentialminus\":[[0.0,\"#0d0887\"],[0.1111111111111111,\"#46039f\"],[0.2222222222222222,\"#7201a8\"],[0.3333333333333333,\"#9c179e\"],[0.4444444444444444,\"#bd3786\"],[0.5555555555555556,\"#d8576b\"],[0.6666666666666666,\"#ed7953\"],[0.7777777777777778,\"#fb9f3a\"],[0.8888888888888888,\"#fdca26\"],[1.0,\"#f0f921\"]],\"diverging\":[[0,\"#8e0152\"],[0.1,\"#c51b7d\"],[0.2,\"#de77ae\"],[0.3,\"#f1b6da\"],[0.4,\"#fde0ef\"],[0.5,\"#f7f7f7\"],[0.6,\"#e6f5d0\"],[0.7,\"#b8e186\"],[0.8,\"#7fbc41\"],[0.9,\"#4d9221\"],[1,\"#276419\"]]},\"xaxis\":{\"gridcolor\":\"#283442\",\"linecolor\":\"#506784\",\"ticks\":\"\",\"title\":{\"standoff\":15},\"zerolinecolor\":\"#283442\",\"automargin\":true,\"zerolinewidth\":2},\"yaxis\":{\"gridcolor\":\"#283442\",\"linecolor\":\"#506784\",\"ticks\":\"\",\"title\":{\"standoff\":15},\"zerolinecolor\":\"#283442\",\"automargin\":true,\"zerolinewidth\":2},\"scene\":{\"xaxis\":{\"backgroundcolor\":\"rgb(17,17,17)\",\"gridcolor\":\"#506784\",\"linecolor\":\"#506784\",\"showbackground\":true,\"ticks\":\"\",\"zerolinecolor\":\"#C8D4E3\",\"gridwidth\":2},\"yaxis\":{\"backgroundcolor\":\"rgb(17,17,17)\",\"gridcolor\":\"#506784\",\"linecolor\":\"#506784\",\"showbackground\":true,\"ticks\":\"\",\"zerolinecolor\":\"#C8D4E3\",\"gridwidth\":2},\"zaxis\":{\"backgroundcolor\":\"rgb(17,17,17)\",\"gridcolor\":\"#506784\",\"linecolor\":\"#506784\",\"showbackground\":true,\"ticks\":\"\",\"zerolinecolor\":\"#C8D4E3\",\"gridwidth\":2}},\"shapedefaults\":{\"line\":{\"color\":\"#f2f5fa\"}},\"annotationdefaults\":{\"arrowcolor\":\"#f2f5fa\",\"arrowhead\":0,\"arrowwidth\":1},\"geo\":{\"bgcolor\":\"rgb(17,17,17)\",\"landcolor\":\"rgb(17,17,17)\",\"subunitcolor\":\"#506784\",\"showland\":true,\"showlakes\":true,\"lakecolor\":\"rgb(17,17,17)\"},\"title\":{\"x\":0.05},\"updatemenudefaults\":{\"bgcolor\":\"#506784\",\"borderwidth\":0},\"sliderdefaults\":{\"bgcolor\":\"#C8D4E3\",\"borderwidth\":1,\"bordercolor\":\"rgb(17,17,17)\",\"tickwidth\":0},\"mapbox\":{\"style\":\"dark\"}}},\"shapes\":[{\"line\":{\"color\":\"red\",\"width\":2},\"type\":\"line\",\"x0\":\"2024-08-07T19:59:00\",\"x1\":\"2024-08-07T19:59:00\",\"xref\":\"x\",\"y0\":0,\"y1\":1,\"yref\":\"y domain\"},{\"line\":{\"color\":\"red\",\"width\":2},\"type\":\"line\",\"x0\":\"2024-08-07T12:40:00\",\"x1\":\"2024-08-07T12:40:00\",\"xref\":\"x\",\"y0\":0,\"y1\":1,\"yref\":\"y domain\"},{\"line\":{\"color\":\"red\",\"width\":2},\"type\":\"line\",\"x0\":\"2024-08-13T17:13:00\",\"x1\":\"2024-08-13T17:13:00\",\"xref\":\"x\",\"y0\":0,\"y1\":1,\"yref\":\"y domain\"},{\"line\":{\"color\":\"red\",\"width\":2},\"type\":\"line\",\"x0\":\"2024-08-03T16:59:00\",\"x1\":\"2024-08-03T16:59:00\",\"xref\":\"x\",\"y0\":0,\"y1\":1,\"yref\":\"y domain\"},{\"line\":{\"color\":\"red\",\"width\":2},\"type\":\"line\",\"x0\":\"2024-08-06T20:22:00\",\"x1\":\"2024-08-06T20:22:00\",\"xref\":\"x\",\"y0\":0,\"y1\":1,\"yref\":\"y domain\"},{\"line\":{\"color\":\"red\",\"width\":2},\"type\":\"line\",\"x0\":\"2024-08-01T21:15:00\",\"x1\":\"2024-08-01T21:15:00\",\"xref\":\"x\",\"y0\":0,\"y1\":1,\"yref\":\"y domain\"},{\"line\":{\"color\":\"red\",\"width\":2},\"type\":\"line\",\"x0\":\"2024-08-04T13:33:00\",\"x1\":\"2024-08-04T13:33:00\",\"xref\":\"x\",\"y0\":0,\"y1\":1,\"yref\":\"y domain\"},{\"line\":{\"color\":\"red\",\"width\":2},\"type\":\"line\",\"x0\":\"2024-08-07T19:46:00\",\"x1\":\"2024-08-07T19:46:00\",\"xref\":\"x\",\"y0\":0,\"y1\":1,\"yref\":\"y domain\"},{\"line\":{\"color\":\"red\",\"width\":2},\"type\":\"line\",\"x0\":\"2024-08-01T20:42:00\",\"x1\":\"2024-08-01T20:42:00\",\"xref\":\"x\",\"y0\":0,\"y1\":1,\"yref\":\"y domain\"},{\"line\":{\"color\":\"red\",\"width\":2},\"type\":\"line\",\"x0\":\"2024-08-04T01:14:00\",\"x1\":\"2024-08-04T01:14:00\",\"xref\":\"x\",\"y0\":0,\"y1\":1,\"yref\":\"y domain\"}],\"xaxis\":{\"title\":{\"text\":\"\\ub0a0\\uc9dc\"},\"tickformat\":\"%Y-%m-%d\"},\"legend\":{\"x\":0,\"y\":1,\"traceorder\":\"normal\",\"orientation\":\"h\"},\"title\":{\"text\":\"\\uac01 \\ub0a0\\uc9dc\\ubcc4\\ub85c \\uac8c\\uc2dc\\ubb3c \\uc218\"},\"yaxis\":{\"title\":{\"text\":\"\\uac8c\\uc2dc\\uae00 \\uc218\"}}},                        {\"responsive\": true}                    ).then(function(){\n",
       "                            \n",
       "var gd = document.getElementById('8945b69d-c1b4-4cca-8210-b4f820a26c06');\n",
       "var x = new MutationObserver(function (mutations, observer) {{\n",
       "        var display = window.getComputedStyle(gd).display;\n",
       "        if (!display || display === 'none') {{\n",
       "            console.log([gd, 'removed!']);\n",
       "            Plotly.purge(gd);\n",
       "            observer.disconnect();\n",
       "        }}\n",
       "}});\n",
       "\n",
       "// Listen for the removal of the full notebook cells\n",
       "var notebookContainer = gd.closest('#notebook-container');\n",
       "if (notebookContainer) {{\n",
       "    x.observe(notebookContainer, {childList: true});\n",
       "}}\n",
       "\n",
       "// Listen for the clearing of the current output cell\n",
       "var outputEl = gd.closest('.output');\n",
       "if (outputEl) {{\n",
       "    x.observe(outputEl, {childList: true});\n",
       "}}\n",
       "\n",
       "                        })                };                });            </script>        </div>"
      ]
     },
     "metadata": {},
     "output_type": "display_data"
    },
    {
     "data": {
      "text/html": [
       "<div>\n",
       "<style scoped>\n",
       "    .dataframe tbody tr th:only-of-type {\n",
       "        vertical-align: middle;\n",
       "    }\n",
       "\n",
       "    .dataframe tbody tr th {\n",
       "        vertical-align: top;\n",
       "    }\n",
       "\n",
       "    .dataframe thead th {\n",
       "        text-align: right;\n",
       "    }\n",
       "</style>\n",
       "<table border=\"1\" class=\"dataframe\">\n",
       "  <thead>\n",
       "    <tr style=\"text-align: right;\">\n",
       "      <th></th>\n",
       "      <th>id</th>\n",
       "      <th>title</th>\n",
       "      <th>content</th>\n",
       "      <th>likes</th>\n",
       "      <th>url</th>\n",
       "      <th>author</th>\n",
       "      <th>views</th>\n",
       "      <th>created_at</th>\n",
       "      <th>updated_at</th>\n",
       "      <th>post_id</th>\n",
       "      <th>comment_count</th>\n",
       "      <th>influence_score</th>\n",
       "    </tr>\n",
       "  </thead>\n",
       "  <tbody>\n",
       "    <tr>\n",
       "      <th>362</th>\n",
       "      <td>1524473</td>\n",
       "      <td>청라 아파트 지하서 벤츠 eqe 전기차 화재 폭발 '아수라장'…8시간 동안 불 못껐다</td>\n",
       "      <td>충전도 안 하던 전기차 '펑'…연기 타고 올라 주민 200명 대피청라 아파트 지하서...</td>\n",
       "      <td>3</td>\n",
       "      <td>https://cafe.naver.com/ca-fe/ArticleRead.nhn?c...</td>\n",
       "      <td>톰I서울</td>\n",
       "      <td>18000</td>\n",
       "      <td>2024-08-01 20:42:00</td>\n",
       "      <td>NaN</td>\n",
       "      <td>1524473.0</td>\n",
       "      <td>55</td>\n",
       "      <td>15.939849</td>\n",
       "    </tr>\n",
       "    <tr>\n",
       "      <th>361</th>\n",
       "      <td>1524499</td>\n",
       "      <td>eqe 화재를 보며,, 타인에 대한 조롱의 화살은 끝내 자기 자신에게 돌아옵니다.</td>\n",
       "      <td>1)서구 청라에서 eqe 차량에서 화재가 발생했다는 뉴스를 봤습니다.cctv영상도 ...</td>\n",
       "      <td>28</td>\n",
       "      <td>https://cafe.naver.com/ca-fe/ArticleRead.nhn?c...</td>\n",
       "      <td>베니IEQAI인천</td>\n",
       "      <td>2749</td>\n",
       "      <td>2024-08-01 21:15:00</td>\n",
       "      <td>NaN</td>\n",
       "      <td>1524499.0</td>\n",
       "      <td>37</td>\n",
       "      <td>19.410878</td>\n",
       "    </tr>\n",
       "    <tr>\n",
       "      <th>611</th>\n",
       "      <td>1526658</td>\n",
       "      <td>지하주차장 화재가 100억 보상보다 더 큰 문제</td>\n",
       "      <td>전기차 화재로1000도 넘는 발열로 인해기둥골조, 천장골조 전부 녹아내려서아파트 붕...</td>\n",
       "      <td>12</td>\n",
       "      <td>https://cafe.naver.com/ca-fe/ArticleRead.nhn?c...</td>\n",
       "      <td>땅부I모3I충남</td>\n",
       "      <td>33000</td>\n",
       "      <td>2024-08-03 16:59:00</td>\n",
       "      <td>NaN</td>\n",
       "      <td>1526658.0</td>\n",
       "      <td>40</td>\n",
       "      <td>29.201598</td>\n",
       "    </tr>\n",
       "    <tr>\n",
       "      <th>595</th>\n",
       "      <td>1527073</td>\n",
       "      <td>이번화재 의문인점</td>\n",
       "      <td>여태것 주차장화재는 많았는데이렇게크게화재는 처음임</td>\n",
       "      <td>4</td>\n",
       "      <td>https://cafe.naver.com/ca-fe/ArticleRead.nhn?c...</td>\n",
       "      <td>아이li4l28</td>\n",
       "      <td>19000</td>\n",
       "      <td>2024-08-04 01:14:00</td>\n",
       "      <td>NaN</td>\n",
       "      <td>1527073.0</td>\n",
       "      <td>30</td>\n",
       "      <td>15.615351</td>\n",
       "    </tr>\n",
       "    <tr>\n",
       "      <th>576</th>\n",
       "      <td>1527416</td>\n",
       "      <td>청라 화재사고 차주.</td>\n",
       "      <td>일단은 저는 화재사고 본인은 아니구요화재사고 차주분도 분명 이카페에 가입을 하셨을 ...</td>\n",
       "      <td>17</td>\n",
       "      <td>https://cafe.naver.com/ca-fe/ArticleRead.nhn?c...</td>\n",
       "      <td>팅커IEQE350I인천</td>\n",
       "      <td>6941</td>\n",
       "      <td>2024-08-04 13:33:00</td>\n",
       "      <td>NaN</td>\n",
       "      <td>1527416.0</td>\n",
       "      <td>73</td>\n",
       "      <td>18.018397</td>\n",
       "    </tr>\n",
       "    <tr>\n",
       "      <th>671</th>\n",
       "      <td>1530462</td>\n",
       "      <td>1년에 전기차 화재는 얼마나 일어날까?</td>\n",
       "      <td>최근 큰 화재사건으로 제법 떠들썩한 분위기인데, 이 와중에 기사 한 줄 가져와서 급...</td>\n",
       "      <td>30</td>\n",
       "      <td>https://cafe.naver.com/ca-fe/ArticleRead.nhn?c...</td>\n",
       "      <td>디오니ㅣ모3ㅣ서울</td>\n",
       "      <td>2126</td>\n",
       "      <td>2024-08-06 20:22:00</td>\n",
       "      <td>NaN</td>\n",
       "      <td>1530462.0</td>\n",
       "      <td>35</td>\n",
       "      <td>20.020011</td>\n",
       "    </tr>\n",
       "    <tr>\n",
       "      <th>723</th>\n",
       "      <td>1531278</td>\n",
       "      <td>벤츠 EQE차주입니다 단체행동 부탁드립니다 !!!!</td>\n",
       "      <td>안녕하십니까? 벤츠EQE350+ 차주입니다1. 제 차의 배터리 제조사를 알려주십시요...</td>\n",
       "      <td>39</td>\n",
       "      <td>https://cafe.naver.com/ca-fe/ArticleRead.nhn?c...</td>\n",
       "      <td>유샘</td>\n",
       "      <td>6536</td>\n",
       "      <td>2024-08-07 12:40:00</td>\n",
       "      <td>NaN</td>\n",
       "      <td>1531278.0</td>\n",
       "      <td>102</td>\n",
       "      <td>31.698327</td>\n",
       "    </tr>\n",
       "    <tr>\n",
       "      <th>70</th>\n",
       "      <td>1531857</td>\n",
       "      <td>EQE 차주가 보는 문제점 및 벤츠코리아</td>\n",
       "      <td>안녕하세요~22년12월 와이프 가 탈 용도로 EQE 350 + 할인 딱 300받고 ...</td>\n",
       "      <td>19</td>\n",
       "      <td>https://cafe.naver.com/ca-fe/ArticleRead.nhn?c...</td>\n",
       "      <td>마산창투IEQEI창원</td>\n",
       "      <td>5374</td>\n",
       "      <td>2024-08-07 19:46:00</td>\n",
       "      <td>NaN</td>\n",
       "      <td>1531857.0</td>\n",
       "      <td>47</td>\n",
       "      <td>16.620316</td>\n",
       "    </tr>\n",
       "    <tr>\n",
       "      <th>69</th>\n",
       "      <td>1531865</td>\n",
       "      <td>전기차로 이슈거리 만들며, 공포감을 형성하는 언론은 이 행위를 당장 멈추어야 합니다.</td>\n",
       "      <td>청라 벤츠 전기차 화재의 본질은 \"전기차\" 가 아니라 스프링클러가 작동하지 않아서 ...</td>\n",
       "      <td>85</td>\n",
       "      <td>https://cafe.naver.com/ca-fe/ArticleRead.nhn?c...</td>\n",
       "      <td>웅우우웅웅lix3l구리</td>\n",
       "      <td>2308</td>\n",
       "      <td>2024-08-07 19:59:00</td>\n",
       "      <td>NaN</td>\n",
       "      <td>1531865.0</td>\n",
       "      <td>32</td>\n",
       "      <td>50.449854</td>\n",
       "    </tr>\n",
       "    <tr>\n",
       "      <th>188</th>\n",
       "      <td>1538590</td>\n",
       "      <td>벤츠 전기차주분들 모두 집중해주십시오!!!!</td>\n",
       "      <td>여기계신 동호회분들의 도움으로 국토부 민원 릴레이중에오늘 벤츠에서 배터리 제조사가 ...</td>\n",
       "      <td>42</td>\n",
       "      <td>https://cafe.naver.com/ca-fe/ArticleRead.nhn?c...</td>\n",
       "      <td>유샘 EQE350 경기</td>\n",
       "      <td>2388</td>\n",
       "      <td>2024-08-13 17:13:00</td>\n",
       "      <td>NaN</td>\n",
       "      <td>1538590.0</td>\n",
       "      <td>78</td>\n",
       "      <td>29.396909</td>\n",
       "    </tr>\n",
       "  </tbody>\n",
       "</table>\n",
       "</div>"
      ],
      "text/plain": [
       "          id                                            title  \\\n",
       "362  1524473  청라 아파트 지하서 벤츠 eqe 전기차 화재 폭발 '아수라장'…8시간 동안 불 못껐다   \n",
       "361  1524499    eqe 화재를 보며,, 타인에 대한 조롱의 화살은 끝내 자기 자신에게 돌아옵니다.   \n",
       "611  1526658                       지하주차장 화재가 100억 보상보다 더 큰 문제   \n",
       "595  1527073                                        이번화재 의문인점   \n",
       "576  1527416                                      청라 화재사고 차주.   \n",
       "671  1530462                            1년에 전기차 화재는 얼마나 일어날까?   \n",
       "723  1531278                     벤츠 EQE차주입니다 단체행동 부탁드립니다 !!!!   \n",
       "70   1531857                           EQE 차주가 보는 문제점 및 벤츠코리아   \n",
       "69   1531865  전기차로 이슈거리 만들며, 공포감을 형성하는 언론은 이 행위를 당장 멈추어야 합니다.   \n",
       "188  1538590                         벤츠 전기차주분들 모두 집중해주십시오!!!!   \n",
       "\n",
       "                                               content  likes  \\\n",
       "362  충전도 안 하던 전기차 '펑'…연기 타고 올라 주민 200명 대피청라 아파트 지하서...      3   \n",
       "361  1)서구 청라에서 eqe 차량에서 화재가 발생했다는 뉴스를 봤습니다.cctv영상도 ...     28   \n",
       "611  전기차 화재로1000도 넘는 발열로 인해기둥골조, 천장골조 전부 녹아내려서아파트 붕...     12   \n",
       "595                        여태것 주차장화재는 많았는데이렇게크게화재는 처음임      4   \n",
       "576  일단은 저는 화재사고 본인은 아니구요화재사고 차주분도 분명 이카페에 가입을 하셨을 ...     17   \n",
       "671  최근 큰 화재사건으로 제법 떠들썩한 분위기인데, 이 와중에 기사 한 줄 가져와서 급...     30   \n",
       "723  안녕하십니까? 벤츠EQE350+ 차주입니다1. 제 차의 배터리 제조사를 알려주십시요...     39   \n",
       "70   안녕하세요~22년12월 와이프 가 탈 용도로 EQE 350 + 할인 딱 300받고 ...     19   \n",
       "69   청라 벤츠 전기차 화재의 본질은 \"전기차\" 가 아니라 스프링클러가 작동하지 않아서 ...     85   \n",
       "188  여기계신 동호회분들의 도움으로 국토부 민원 릴레이중에오늘 벤츠에서 배터리 제조사가 ...     42   \n",
       "\n",
       "                                                   url        author  views  \\\n",
       "362  https://cafe.naver.com/ca-fe/ArticleRead.nhn?c...          톰I서울  18000   \n",
       "361  https://cafe.naver.com/ca-fe/ArticleRead.nhn?c...     베니IEQAI인천   2749   \n",
       "611  https://cafe.naver.com/ca-fe/ArticleRead.nhn?c...      땅부I모3I충남  33000   \n",
       "595  https://cafe.naver.com/ca-fe/ArticleRead.nhn?c...      아이li4l28  19000   \n",
       "576  https://cafe.naver.com/ca-fe/ArticleRead.nhn?c...  팅커IEQE350I인천   6941   \n",
       "671  https://cafe.naver.com/ca-fe/ArticleRead.nhn?c...     디오니ㅣ모3ㅣ서울   2126   \n",
       "723  https://cafe.naver.com/ca-fe/ArticleRead.nhn?c...            유샘   6536   \n",
       "70   https://cafe.naver.com/ca-fe/ArticleRead.nhn?c...   마산창투IEQEI창원   5374   \n",
       "69   https://cafe.naver.com/ca-fe/ArticleRead.nhn?c...  웅우우웅웅lix3l구리   2308   \n",
       "188  https://cafe.naver.com/ca-fe/ArticleRead.nhn?c...  유샘 EQE350 경기   2388   \n",
       "\n",
       "             created_at  updated_at    post_id  comment_count  influence_score  \n",
       "362 2024-08-01 20:42:00         NaN  1524473.0             55        15.939849  \n",
       "361 2024-08-01 21:15:00         NaN  1524499.0             37        19.410878  \n",
       "611 2024-08-03 16:59:00         NaN  1526658.0             40        29.201598  \n",
       "595 2024-08-04 01:14:00         NaN  1527073.0             30        15.615351  \n",
       "576 2024-08-04 13:33:00         NaN  1527416.0             73        18.018397  \n",
       "671 2024-08-06 20:22:00         NaN  1530462.0             35        20.020011  \n",
       "723 2024-08-07 12:40:00         NaN  1531278.0            102        31.698327  \n",
       "70  2024-08-07 19:46:00         NaN  1531857.0             47        16.620316  \n",
       "69  2024-08-07 19:59:00         NaN  1531865.0             32        50.449854  \n",
       "188 2024-08-13 17:13:00         NaN  1538590.0             78        29.396909  "
      ]
     },
     "metadata": {},
     "output_type": "display_data"
    }
   ],
   "source": [
    "posts, comments = merge_csv(\"벤츠 화재\")\n",
    "show(posts, comments)"
   ]
  },
  {
   "cell_type": "code",
   "execution_count": 46,
   "id": "2e94b3203753e9e0",
   "metadata": {
    "ExecuteTime": {
     "end_time": "2024-08-14T01:38:28.879122Z",
     "start_time": "2024-08-14T01:38:28.738839Z"
    }
   },
   "outputs": [
    {
     "data": {
      "application/vnd.plotly.v1+json": {
       "config": {
        "plotlyServerURL": "https://plot.ly"
       },
       "data": [
        {
         "mode": "lines+markers",
         "name": "일별 게시글 생성 개수",
         "type": "scatter",
         "x": [
          "2021-03-23",
          "2021-04-07",
          "2021-04-08",
          "2021-05-04",
          "2021-07-18",
          "2021-07-19",
          "2021-07-23",
          "2021-07-27",
          "2021-07-30",
          "2021-08-09",
          "2021-08-10",
          "2021-08-11",
          "2021-08-12",
          "2021-08-14",
          "2021-09-02",
          "2021-09-08",
          "2021-09-09",
          "2021-09-22",
          "2021-10-12",
          "2021-10-18",
          "2021-12-27",
          "2022-01-14",
          "2022-01-15",
          "2022-04-03",
          "2022-05-06",
          "2022-06-19",
          "2022-07-21",
          "2022-08-02",
          "2022-08-08",
          "2022-09-03",
          "2022-09-20",
          "2022-10-23",
          "2022-11-09",
          "2022-12-23",
          "2023-01-29",
          "2023-02-08",
          "2023-02-22",
          "2023-03-10",
          "2023-03-19",
          "2023-04-06",
          "2023-04-09",
          "2023-04-10",
          "2023-04-11",
          "2023-04-12",
          "2023-04-13",
          "2023-04-16",
          "2023-04-17",
          "2023-04-18",
          "2023-04-27",
          "2023-04-30",
          "2023-05-03",
          "2023-05-05",
          "2023-05-06",
          "2023-05-07",
          "2023-05-08",
          "2023-05-10",
          "2023-05-11",
          "2023-05-12",
          "2023-05-15",
          "2023-05-16",
          "2023-05-17",
          "2023-05-18",
          "2023-05-19",
          "2023-05-20",
          "2023-05-22",
          "2023-05-23",
          "2023-05-25",
          "2023-05-27",
          "2023-05-28",
          "2023-05-29",
          "2023-05-30",
          "2023-05-31",
          "2023-06-01",
          "2023-06-02",
          "2023-06-03",
          "2023-06-04",
          "2023-06-05",
          "2023-06-08",
          "2023-06-09",
          "2023-06-14",
          "2023-06-18",
          "2023-06-19",
          "2023-06-23",
          "2023-06-24",
          "2023-06-26",
          "2023-06-28",
          "2023-06-29",
          "2023-06-30",
          "2023-07-02",
          "2023-07-03",
          "2023-07-04",
          "2023-07-05",
          "2023-07-06",
          "2023-07-07",
          "2023-07-08",
          "2023-07-09",
          "2023-07-10",
          "2023-07-11",
          "2023-07-12",
          "2023-07-13",
          "2023-07-14",
          "2023-07-15",
          "2023-07-16",
          "2023-07-17",
          "2023-07-18",
          "2023-07-19",
          "2023-07-20",
          "2023-07-21",
          "2023-07-22",
          "2023-07-23",
          "2023-07-24",
          "2023-07-25",
          "2023-07-26",
          "2023-07-27",
          "2023-07-28",
          "2023-07-29",
          "2023-07-30",
          "2023-07-31",
          "2023-08-01",
          "2023-08-02",
          "2023-08-03",
          "2023-08-04",
          "2023-08-05",
          "2023-08-06",
          "2023-08-08",
          "2023-08-09",
          "2023-08-10",
          "2023-08-11",
          "2023-08-12",
          "2023-08-13",
          "2023-08-14",
          "2023-08-15",
          "2023-08-16",
          "2023-08-17",
          "2023-08-18",
          "2023-08-20",
          "2023-08-21",
          "2023-08-23",
          "2023-08-25",
          "2023-08-26",
          "2023-08-27",
          "2023-08-28",
          "2023-08-29",
          "2023-09-04",
          "2023-09-06",
          "2023-09-07",
          "2023-09-08",
          "2023-09-09",
          "2023-09-13",
          "2023-09-14",
          "2023-09-16",
          "2023-09-17",
          "2023-09-18",
          "2023-09-19",
          "2023-09-21",
          "2023-09-23",
          "2023-09-25",
          "2023-09-26",
          "2023-09-27",
          "2023-09-28",
          "2023-09-29",
          "2023-09-30",
          "2023-10-01",
          "2023-10-05",
          "2023-10-06",
          "2023-10-09",
          "2023-10-11",
          "2023-10-13",
          "2023-10-14",
          "2023-10-16",
          "2023-10-17",
          "2023-10-20",
          "2023-10-22",
          "2023-10-23",
          "2023-10-24",
          "2023-11-01",
          "2023-11-04",
          "2023-11-07",
          "2023-11-09",
          "2023-11-13",
          "2023-11-16",
          "2023-11-21",
          "2023-11-22",
          "2023-11-24",
          "2023-12-04",
          "2023-12-09",
          "2023-12-14",
          "2023-12-19",
          "2023-12-20",
          "2023-12-29",
          "2024-01-03",
          "2024-01-09",
          "2024-01-10",
          "2024-01-11",
          "2024-01-14",
          "2024-01-15",
          "2024-01-17",
          "2024-01-18",
          "2024-01-21",
          "2024-01-22",
          "2024-01-24",
          "2024-01-26",
          "2024-01-28",
          "2024-01-29",
          "2024-01-30",
          "2024-01-31",
          "2024-02-04",
          "2024-02-05",
          "2024-02-07",
          "2024-02-08",
          "2024-02-10",
          "2024-02-12",
          "2024-02-14",
          "2024-02-15",
          "2024-02-16",
          "2024-02-17",
          "2024-02-18",
          "2024-02-19",
          "2024-02-20",
          "2024-02-21",
          "2024-02-22",
          "2024-02-23",
          "2024-02-24",
          "2024-02-25",
          "2024-02-26",
          "2024-02-27",
          "2024-02-28",
          "2024-02-29",
          "2024-03-01",
          "2024-03-02",
          "2024-03-03",
          "2024-03-04",
          "2024-03-05",
          "2024-03-06",
          "2024-03-07",
          "2024-03-08",
          "2024-03-09",
          "2024-03-10",
          "2024-03-11",
          "2024-03-12",
          "2024-03-13",
          "2024-03-14",
          "2024-03-15",
          "2024-03-16",
          "2024-03-17",
          "2024-03-18",
          "2024-03-19",
          "2024-03-20",
          "2024-03-21",
          "2024-03-22",
          "2024-03-23",
          "2024-03-24",
          "2024-03-25",
          "2024-03-26",
          "2024-03-27",
          "2024-03-28",
          "2024-03-29",
          "2024-03-30",
          "2024-03-31",
          "2024-04-01",
          "2024-04-02",
          "2024-04-03",
          "2024-04-04",
          "2024-04-05",
          "2024-04-06",
          "2024-04-07",
          "2024-04-08",
          "2024-04-10",
          "2024-04-11",
          "2024-04-12",
          "2024-04-13",
          "2024-04-14",
          "2024-04-15",
          "2024-04-16",
          "2024-04-17",
          "2024-04-18",
          "2024-04-19",
          "2024-04-20",
          "2024-04-21",
          "2024-04-22",
          "2024-04-23",
          "2024-04-24",
          "2024-04-26",
          "2024-04-27",
          "2024-04-28",
          "2024-04-29",
          "2024-04-30",
          "2024-05-02",
          "2024-05-03",
          "2024-05-04",
          "2024-05-05",
          "2024-05-06",
          "2024-05-07",
          "2024-05-08",
          "2024-05-09",
          "2024-05-10",
          "2024-05-11",
          "2024-05-12",
          "2024-05-13",
          "2024-05-14",
          "2024-05-15",
          "2024-05-16",
          "2024-05-17",
          "2024-05-18",
          "2024-05-19",
          "2024-05-20",
          "2024-05-21",
          "2024-05-22",
          "2024-05-23",
          "2024-05-24",
          "2024-05-25",
          "2024-05-26",
          "2024-05-27",
          "2024-05-28",
          "2024-05-29",
          "2024-05-30",
          "2024-05-31",
          "2024-06-01",
          "2024-06-02",
          "2024-06-03",
          "2024-06-04",
          "2024-06-05",
          "2024-06-06",
          "2024-06-07",
          "2024-06-09",
          "2024-06-10",
          "2024-06-11",
          "2024-06-12",
          "2024-06-13",
          "2024-06-15",
          "2024-06-16",
          "2024-06-17",
          "2024-06-18",
          "2024-06-19",
          "2024-06-20",
          "2024-06-21",
          "2024-06-22",
          "2024-06-23",
          "2024-06-24",
          "2024-06-25",
          "2024-06-26",
          "2024-06-27",
          "2024-06-28",
          "2024-06-29",
          "2024-06-30",
          "2024-07-01",
          "2024-07-02",
          "2024-07-03",
          "2024-07-04",
          "2024-07-05",
          "2024-07-06",
          "2024-07-07",
          "2024-07-08",
          "2024-07-09",
          "2024-07-10",
          "2024-07-11",
          "2024-07-12",
          "2024-07-14",
          "2024-07-15",
          "2024-07-16",
          "2024-07-17",
          "2024-07-18",
          "2024-07-19",
          "2024-07-20",
          "2024-07-21",
          "2024-07-22",
          "2024-07-24",
          "2024-07-25",
          "2024-07-26",
          "2024-07-27",
          "2024-07-28",
          "2024-07-29",
          "2024-07-31",
          "2024-08-01",
          "2024-08-02",
          "2024-08-03",
          "2024-08-05",
          "2024-08-06",
          "2024-08-07",
          "2024-08-08",
          "2024-08-09",
          "2024-08-10",
          "2024-08-11",
          "2024-08-13"
         ],
         "y": [
          1,
          1,
          1,
          1,
          1,
          1,
          1,
          1,
          1,
          1,
          1,
          1,
          1,
          1,
          1,
          1,
          1,
          1,
          1,
          1,
          1,
          1,
          1,
          1,
          1,
          1,
          1,
          1,
          1,
          1,
          1,
          1,
          2,
          1,
          1,
          1,
          1,
          2,
          1,
          2,
          1,
          1,
          1,
          1,
          1,
          1,
          4,
          1,
          2,
          3,
          2,
          1,
          1,
          1,
          2,
          2,
          3,
          4,
          6,
          2,
          1,
          1,
          2,
          1,
          1,
          1,
          1,
          2,
          1,
          3,
          1,
          5,
          2,
          1,
          2,
          1,
          3,
          1,
          1,
          2,
          2,
          3,
          1,
          1,
          1,
          1,
          1,
          1,
          4,
          4,
          5,
          4,
          5,
          3,
          3,
          1,
          3,
          5,
          2,
          1,
          2,
          2,
          1,
          1,
          1,
          1,
          3,
          3,
          4,
          2,
          1,
          2,
          4,
          1,
          3,
          2,
          1,
          5,
          2,
          1,
          3,
          2,
          2,
          2,
          1,
          1,
          2,
          3,
          3,
          1,
          3,
          1,
          2,
          3,
          2,
          1,
          2,
          1,
          1,
          1,
          2,
          2,
          1,
          2,
          2,
          4,
          2,
          1,
          1,
          1,
          1,
          1,
          4,
          3,
          3,
          2,
          1,
          1,
          4,
          1,
          3,
          2,
          1,
          1,
          2,
          1,
          1,
          1,
          1,
          1,
          3,
          1,
          1,
          1,
          1,
          3,
          3,
          1,
          1,
          1,
          1,
          1,
          1,
          1,
          1,
          1,
          1,
          1,
          1,
          1,
          2,
          1,
          1,
          1,
          1,
          1,
          1,
          2,
          1,
          1,
          2,
          2,
          1,
          2,
          1,
          1,
          1,
          1,
          2,
          2,
          2,
          2,
          3,
          3,
          4,
          2,
          6,
          5,
          4,
          6,
          5,
          9,
          2,
          7,
          3,
          5,
          2,
          3,
          6,
          6,
          6,
          10,
          8,
          4,
          6,
          10,
          6,
          6,
          9,
          7,
          10,
          8,
          5,
          1,
          6,
          6,
          10,
          4,
          3,
          2,
          2,
          5,
          3,
          2,
          8,
          4,
          2,
          1,
          3,
          2,
          3,
          6,
          2,
          7,
          2,
          6,
          5,
          7,
          5,
          9,
          5,
          5,
          8,
          7,
          7,
          5,
          6,
          2,
          3,
          7,
          4,
          4,
          11,
          2,
          1,
          4,
          6,
          6,
          5,
          5,
          2,
          3,
          6,
          1,
          6,
          5,
          1,
          3,
          6,
          5,
          3,
          5,
          2,
          2,
          6,
          5,
          7,
          2,
          5,
          2,
          6,
          4,
          9,
          6,
          4,
          5,
          3,
          5,
          2,
          1,
          7,
          5,
          3,
          1,
          1,
          2,
          3,
          4,
          3,
          1,
          1,
          2,
          1,
          1,
          5,
          2,
          3,
          2,
          2,
          2,
          1,
          1,
          5,
          3,
          3,
          2,
          3,
          6,
          1,
          3,
          5,
          3,
          3,
          2,
          2,
          2,
          2,
          3,
          4,
          3,
          4,
          5,
          2,
          2,
          2,
          2,
          2,
          1,
          2,
          1,
          3,
          2,
          3,
          2,
          2,
          1,
          1,
          3,
          1,
          1,
          2,
          1,
          2,
          3
         ]
        }
       ],
       "layout": {
        "legend": {
         "orientation": "h",
         "traceorder": "normal",
         "x": 0,
         "y": 1
        },
        "shapes": [
         {
          "line": {
           "color": "red",
           "width": 2
          },
          "type": "line",
          "x0": "2024-05-25T21:30:00",
          "x1": "2024-05-25T21:30:00",
          "xref": "x",
          "y0": 0,
          "y1": 1,
          "yref": "y domain"
         },
         {
          "line": {
           "color": "red",
           "width": 2
          },
          "type": "line",
          "x0": "2024-02-27T10:29:00",
          "x1": "2024-02-27T10:29:00",
          "xref": "x",
          "y0": 0,
          "y1": 1,
          "yref": "y domain"
         },
         {
          "line": {
           "color": "red",
           "width": 2
          },
          "type": "line",
          "x0": "2024-02-19T11:17:00",
          "x1": "2024-02-19T11:17:00",
          "xref": "x",
          "y0": 0,
          "y1": 1,
          "yref": "y domain"
         },
         {
          "line": {
           "color": "red",
           "width": 2
          },
          "type": "line",
          "x0": "2024-08-01T21:15:00",
          "x1": "2024-08-01T21:15:00",
          "xref": "x",
          "y0": 0,
          "y1": 1,
          "yref": "y domain"
         },
         {
          "line": {
           "color": "red",
           "width": 2
          },
          "type": "line",
          "x0": "2024-02-15T11:47:00",
          "x1": "2024-02-15T11:47:00",
          "xref": "x",
          "y0": 0,
          "y1": 1,
          "yref": "y domain"
         },
         {
          "line": {
           "color": "red",
           "width": 2
          },
          "type": "line",
          "x0": "2024-05-27T22:28:00",
          "x1": "2024-05-27T22:28:00",
          "xref": "x",
          "y0": 0,
          "y1": 1,
          "yref": "y domain"
         },
         {
          "line": {
           "color": "red",
           "width": 2
          },
          "type": "line",
          "x0": "2022-01-14T12:00:00",
          "x1": "2022-01-14T12:00:00",
          "xref": "x",
          "y0": 0,
          "y1": 1,
          "yref": "y domain"
         },
         {
          "line": {
           "color": "red",
           "width": 2
          },
          "type": "line",
          "x0": "2024-02-22T18:46:00",
          "x1": "2024-02-22T18:46:00",
          "xref": "x",
          "y0": 0,
          "y1": 1,
          "yref": "y domain"
         },
         {
          "line": {
           "color": "red",
           "width": 2
          },
          "type": "line",
          "x0": "2024-07-15T20:48:00",
          "x1": "2024-07-15T20:48:00",
          "xref": "x",
          "y0": 0,
          "y1": 1,
          "yref": "y domain"
         },
         {
          "line": {
           "color": "red",
           "width": 2
          },
          "type": "line",
          "x0": "2024-06-09T07:43:00",
          "x1": "2024-06-09T07:43:00",
          "xref": "x",
          "y0": 0,
          "y1": 1,
          "yref": "y domain"
         }
        ],
        "template": {
         "data": {
          "bar": [
           {
            "error_x": {
             "color": "#f2f5fa"
            },
            "error_y": {
             "color": "#f2f5fa"
            },
            "marker": {
             "line": {
              "color": "rgb(17,17,17)",
              "width": 0.5
             },
             "pattern": {
              "fillmode": "overlay",
              "size": 10,
              "solidity": 0.2
             }
            },
            "type": "bar"
           }
          ],
          "barpolar": [
           {
            "marker": {
             "line": {
              "color": "rgb(17,17,17)",
              "width": 0.5
             },
             "pattern": {
              "fillmode": "overlay",
              "size": 10,
              "solidity": 0.2
             }
            },
            "type": "barpolar"
           }
          ],
          "carpet": [
           {
            "aaxis": {
             "endlinecolor": "#A2B1C6",
             "gridcolor": "#506784",
             "linecolor": "#506784",
             "minorgridcolor": "#506784",
             "startlinecolor": "#A2B1C6"
            },
            "baxis": {
             "endlinecolor": "#A2B1C6",
             "gridcolor": "#506784",
             "linecolor": "#506784",
             "minorgridcolor": "#506784",
             "startlinecolor": "#A2B1C6"
            },
            "type": "carpet"
           }
          ],
          "choropleth": [
           {
            "colorbar": {
             "outlinewidth": 0,
             "ticks": ""
            },
            "type": "choropleth"
           }
          ],
          "contour": [
           {
            "colorbar": {
             "outlinewidth": 0,
             "ticks": ""
            },
            "colorscale": [
             [
              0,
              "#0d0887"
             ],
             [
              0.1111111111111111,
              "#46039f"
             ],
             [
              0.2222222222222222,
              "#7201a8"
             ],
             [
              0.3333333333333333,
              "#9c179e"
             ],
             [
              0.4444444444444444,
              "#bd3786"
             ],
             [
              0.5555555555555556,
              "#d8576b"
             ],
             [
              0.6666666666666666,
              "#ed7953"
             ],
             [
              0.7777777777777778,
              "#fb9f3a"
             ],
             [
              0.8888888888888888,
              "#fdca26"
             ],
             [
              1,
              "#f0f921"
             ]
            ],
            "type": "contour"
           }
          ],
          "contourcarpet": [
           {
            "colorbar": {
             "outlinewidth": 0,
             "ticks": ""
            },
            "type": "contourcarpet"
           }
          ],
          "heatmap": [
           {
            "colorbar": {
             "outlinewidth": 0,
             "ticks": ""
            },
            "colorscale": [
             [
              0,
              "#0d0887"
             ],
             [
              0.1111111111111111,
              "#46039f"
             ],
             [
              0.2222222222222222,
              "#7201a8"
             ],
             [
              0.3333333333333333,
              "#9c179e"
             ],
             [
              0.4444444444444444,
              "#bd3786"
             ],
             [
              0.5555555555555556,
              "#d8576b"
             ],
             [
              0.6666666666666666,
              "#ed7953"
             ],
             [
              0.7777777777777778,
              "#fb9f3a"
             ],
             [
              0.8888888888888888,
              "#fdca26"
             ],
             [
              1,
              "#f0f921"
             ]
            ],
            "type": "heatmap"
           }
          ],
          "heatmapgl": [
           {
            "colorbar": {
             "outlinewidth": 0,
             "ticks": ""
            },
            "colorscale": [
             [
              0,
              "#0d0887"
             ],
             [
              0.1111111111111111,
              "#46039f"
             ],
             [
              0.2222222222222222,
              "#7201a8"
             ],
             [
              0.3333333333333333,
              "#9c179e"
             ],
             [
              0.4444444444444444,
              "#bd3786"
             ],
             [
              0.5555555555555556,
              "#d8576b"
             ],
             [
              0.6666666666666666,
              "#ed7953"
             ],
             [
              0.7777777777777778,
              "#fb9f3a"
             ],
             [
              0.8888888888888888,
              "#fdca26"
             ],
             [
              1,
              "#f0f921"
             ]
            ],
            "type": "heatmapgl"
           }
          ],
          "histogram": [
           {
            "marker": {
             "pattern": {
              "fillmode": "overlay",
              "size": 10,
              "solidity": 0.2
             }
            },
            "type": "histogram"
           }
          ],
          "histogram2d": [
           {
            "colorbar": {
             "outlinewidth": 0,
             "ticks": ""
            },
            "colorscale": [
             [
              0,
              "#0d0887"
             ],
             [
              0.1111111111111111,
              "#46039f"
             ],
             [
              0.2222222222222222,
              "#7201a8"
             ],
             [
              0.3333333333333333,
              "#9c179e"
             ],
             [
              0.4444444444444444,
              "#bd3786"
             ],
             [
              0.5555555555555556,
              "#d8576b"
             ],
             [
              0.6666666666666666,
              "#ed7953"
             ],
             [
              0.7777777777777778,
              "#fb9f3a"
             ],
             [
              0.8888888888888888,
              "#fdca26"
             ],
             [
              1,
              "#f0f921"
             ]
            ],
            "type": "histogram2d"
           }
          ],
          "histogram2dcontour": [
           {
            "colorbar": {
             "outlinewidth": 0,
             "ticks": ""
            },
            "colorscale": [
             [
              0,
              "#0d0887"
             ],
             [
              0.1111111111111111,
              "#46039f"
             ],
             [
              0.2222222222222222,
              "#7201a8"
             ],
             [
              0.3333333333333333,
              "#9c179e"
             ],
             [
              0.4444444444444444,
              "#bd3786"
             ],
             [
              0.5555555555555556,
              "#d8576b"
             ],
             [
              0.6666666666666666,
              "#ed7953"
             ],
             [
              0.7777777777777778,
              "#fb9f3a"
             ],
             [
              0.8888888888888888,
              "#fdca26"
             ],
             [
              1,
              "#f0f921"
             ]
            ],
            "type": "histogram2dcontour"
           }
          ],
          "mesh3d": [
           {
            "colorbar": {
             "outlinewidth": 0,
             "ticks": ""
            },
            "type": "mesh3d"
           }
          ],
          "parcoords": [
           {
            "line": {
             "colorbar": {
              "outlinewidth": 0,
              "ticks": ""
             }
            },
            "type": "parcoords"
           }
          ],
          "pie": [
           {
            "automargin": true,
            "type": "pie"
           }
          ],
          "scatter": [
           {
            "marker": {
             "line": {
              "color": "#283442"
             }
            },
            "type": "scatter"
           }
          ],
          "scatter3d": [
           {
            "line": {
             "colorbar": {
              "outlinewidth": 0,
              "ticks": ""
             }
            },
            "marker": {
             "colorbar": {
              "outlinewidth": 0,
              "ticks": ""
             }
            },
            "type": "scatter3d"
           }
          ],
          "scattercarpet": [
           {
            "marker": {
             "colorbar": {
              "outlinewidth": 0,
              "ticks": ""
             }
            },
            "type": "scattercarpet"
           }
          ],
          "scattergeo": [
           {
            "marker": {
             "colorbar": {
              "outlinewidth": 0,
              "ticks": ""
             }
            },
            "type": "scattergeo"
           }
          ],
          "scattergl": [
           {
            "marker": {
             "line": {
              "color": "#283442"
             }
            },
            "type": "scattergl"
           }
          ],
          "scattermapbox": [
           {
            "marker": {
             "colorbar": {
              "outlinewidth": 0,
              "ticks": ""
             }
            },
            "type": "scattermapbox"
           }
          ],
          "scatterpolar": [
           {
            "marker": {
             "colorbar": {
              "outlinewidth": 0,
              "ticks": ""
             }
            },
            "type": "scatterpolar"
           }
          ],
          "scatterpolargl": [
           {
            "marker": {
             "colorbar": {
              "outlinewidth": 0,
              "ticks": ""
             }
            },
            "type": "scatterpolargl"
           }
          ],
          "scatterternary": [
           {
            "marker": {
             "colorbar": {
              "outlinewidth": 0,
              "ticks": ""
             }
            },
            "type": "scatterternary"
           }
          ],
          "surface": [
           {
            "colorbar": {
             "outlinewidth": 0,
             "ticks": ""
            },
            "colorscale": [
             [
              0,
              "#0d0887"
             ],
             [
              0.1111111111111111,
              "#46039f"
             ],
             [
              0.2222222222222222,
              "#7201a8"
             ],
             [
              0.3333333333333333,
              "#9c179e"
             ],
             [
              0.4444444444444444,
              "#bd3786"
             ],
             [
              0.5555555555555556,
              "#d8576b"
             ],
             [
              0.6666666666666666,
              "#ed7953"
             ],
             [
              0.7777777777777778,
              "#fb9f3a"
             ],
             [
              0.8888888888888888,
              "#fdca26"
             ],
             [
              1,
              "#f0f921"
             ]
            ],
            "type": "surface"
           }
          ],
          "table": [
           {
            "cells": {
             "fill": {
              "color": "#506784"
             },
             "line": {
              "color": "rgb(17,17,17)"
             }
            },
            "header": {
             "fill": {
              "color": "#2a3f5f"
             },
             "line": {
              "color": "rgb(17,17,17)"
             }
            },
            "type": "table"
           }
          ]
         },
         "layout": {
          "annotationdefaults": {
           "arrowcolor": "#f2f5fa",
           "arrowhead": 0,
           "arrowwidth": 1
          },
          "autotypenumbers": "strict",
          "coloraxis": {
           "colorbar": {
            "outlinewidth": 0,
            "ticks": ""
           }
          },
          "colorscale": {
           "diverging": [
            [
             0,
             "#8e0152"
            ],
            [
             0.1,
             "#c51b7d"
            ],
            [
             0.2,
             "#de77ae"
            ],
            [
             0.3,
             "#f1b6da"
            ],
            [
             0.4,
             "#fde0ef"
            ],
            [
             0.5,
             "#f7f7f7"
            ],
            [
             0.6,
             "#e6f5d0"
            ],
            [
             0.7,
             "#b8e186"
            ],
            [
             0.8,
             "#7fbc41"
            ],
            [
             0.9,
             "#4d9221"
            ],
            [
             1,
             "#276419"
            ]
           ],
           "sequential": [
            [
             0,
             "#0d0887"
            ],
            [
             0.1111111111111111,
             "#46039f"
            ],
            [
             0.2222222222222222,
             "#7201a8"
            ],
            [
             0.3333333333333333,
             "#9c179e"
            ],
            [
             0.4444444444444444,
             "#bd3786"
            ],
            [
             0.5555555555555556,
             "#d8576b"
            ],
            [
             0.6666666666666666,
             "#ed7953"
            ],
            [
             0.7777777777777778,
             "#fb9f3a"
            ],
            [
             0.8888888888888888,
             "#fdca26"
            ],
            [
             1,
             "#f0f921"
            ]
           ],
           "sequentialminus": [
            [
             0,
             "#0d0887"
            ],
            [
             0.1111111111111111,
             "#46039f"
            ],
            [
             0.2222222222222222,
             "#7201a8"
            ],
            [
             0.3333333333333333,
             "#9c179e"
            ],
            [
             0.4444444444444444,
             "#bd3786"
            ],
            [
             0.5555555555555556,
             "#d8576b"
            ],
            [
             0.6666666666666666,
             "#ed7953"
            ],
            [
             0.7777777777777778,
             "#fb9f3a"
            ],
            [
             0.8888888888888888,
             "#fdca26"
            ],
            [
             1,
             "#f0f921"
            ]
           ]
          },
          "colorway": [
           "#636efa",
           "#EF553B",
           "#00cc96",
           "#ab63fa",
           "#FFA15A",
           "#19d3f3",
           "#FF6692",
           "#B6E880",
           "#FF97FF",
           "#FECB52"
          ],
          "font": {
           "color": "#f2f5fa"
          },
          "geo": {
           "bgcolor": "rgb(17,17,17)",
           "lakecolor": "rgb(17,17,17)",
           "landcolor": "rgb(17,17,17)",
           "showlakes": true,
           "showland": true,
           "subunitcolor": "#506784"
          },
          "hoverlabel": {
           "align": "left"
          },
          "hovermode": "closest",
          "mapbox": {
           "style": "dark"
          },
          "paper_bgcolor": "rgb(17,17,17)",
          "plot_bgcolor": "rgb(17,17,17)",
          "polar": {
           "angularaxis": {
            "gridcolor": "#506784",
            "linecolor": "#506784",
            "ticks": ""
           },
           "bgcolor": "rgb(17,17,17)",
           "radialaxis": {
            "gridcolor": "#506784",
            "linecolor": "#506784",
            "ticks": ""
           }
          },
          "scene": {
           "xaxis": {
            "backgroundcolor": "rgb(17,17,17)",
            "gridcolor": "#506784",
            "gridwidth": 2,
            "linecolor": "#506784",
            "showbackground": true,
            "ticks": "",
            "zerolinecolor": "#C8D4E3"
           },
           "yaxis": {
            "backgroundcolor": "rgb(17,17,17)",
            "gridcolor": "#506784",
            "gridwidth": 2,
            "linecolor": "#506784",
            "showbackground": true,
            "ticks": "",
            "zerolinecolor": "#C8D4E3"
           },
           "zaxis": {
            "backgroundcolor": "rgb(17,17,17)",
            "gridcolor": "#506784",
            "gridwidth": 2,
            "linecolor": "#506784",
            "showbackground": true,
            "ticks": "",
            "zerolinecolor": "#C8D4E3"
           }
          },
          "shapedefaults": {
           "line": {
            "color": "#f2f5fa"
           }
          },
          "sliderdefaults": {
           "bgcolor": "#C8D4E3",
           "bordercolor": "rgb(17,17,17)",
           "borderwidth": 1,
           "tickwidth": 0
          },
          "ternary": {
           "aaxis": {
            "gridcolor": "#506784",
            "linecolor": "#506784",
            "ticks": ""
           },
           "baxis": {
            "gridcolor": "#506784",
            "linecolor": "#506784",
            "ticks": ""
           },
           "bgcolor": "rgb(17,17,17)",
           "caxis": {
            "gridcolor": "#506784",
            "linecolor": "#506784",
            "ticks": ""
           }
          },
          "title": {
           "x": 0.05
          },
          "updatemenudefaults": {
           "bgcolor": "#506784",
           "borderwidth": 0
          },
          "xaxis": {
           "automargin": true,
           "gridcolor": "#283442",
           "linecolor": "#506784",
           "ticks": "",
           "title": {
            "standoff": 15
           },
           "zerolinecolor": "#283442",
           "zerolinewidth": 2
          },
          "yaxis": {
           "automargin": true,
           "gridcolor": "#283442",
           "linecolor": "#506784",
           "ticks": "",
           "title": {
            "standoff": 15
           },
           "zerolinecolor": "#283442",
           "zerolinewidth": 2
          }
         }
        },
        "title": {
         "text": "각 날짜별로 게시물 수"
        },
        "xaxis": {
         "tickformat": "%Y-%m-%d",
         "title": {
          "text": "날짜"
         }
        },
        "yaxis": {
         "title": {
          "text": "게시글 수"
         }
        }
       }
      },
      "text/html": [
       "<div>                            <div id=\"0fd0a466-51dd-4a52-994d-cf72712d43b3\" class=\"plotly-graph-div\" style=\"height:525px; width:100%;\"></div>            <script type=\"text/javascript\">                require([\"plotly\"], function(Plotly) {                    window.PLOTLYENV=window.PLOTLYENV || {};                                    if (document.getElementById(\"0fd0a466-51dd-4a52-994d-cf72712d43b3\")) {                    Plotly.newPlot(                        \"0fd0a466-51dd-4a52-994d-cf72712d43b3\",                        [{\"mode\":\"lines+markers\",\"name\":\"\\uc77c\\ubcc4 \\uac8c\\uc2dc\\uae00 \\uc0dd\\uc131 \\uac1c\\uc218\",\"x\":[\"2021-03-23\",\"2021-04-07\",\"2021-04-08\",\"2021-05-04\",\"2021-07-18\",\"2021-07-19\",\"2021-07-23\",\"2021-07-27\",\"2021-07-30\",\"2021-08-09\",\"2021-08-10\",\"2021-08-11\",\"2021-08-12\",\"2021-08-14\",\"2021-09-02\",\"2021-09-08\",\"2021-09-09\",\"2021-09-22\",\"2021-10-12\",\"2021-10-18\",\"2021-12-27\",\"2022-01-14\",\"2022-01-15\",\"2022-04-03\",\"2022-05-06\",\"2022-06-19\",\"2022-07-21\",\"2022-08-02\",\"2022-08-08\",\"2022-09-03\",\"2022-09-20\",\"2022-10-23\",\"2022-11-09\",\"2022-12-23\",\"2023-01-29\",\"2023-02-08\",\"2023-02-22\",\"2023-03-10\",\"2023-03-19\",\"2023-04-06\",\"2023-04-09\",\"2023-04-10\",\"2023-04-11\",\"2023-04-12\",\"2023-04-13\",\"2023-04-16\",\"2023-04-17\",\"2023-04-18\",\"2023-04-27\",\"2023-04-30\",\"2023-05-03\",\"2023-05-05\",\"2023-05-06\",\"2023-05-07\",\"2023-05-08\",\"2023-05-10\",\"2023-05-11\",\"2023-05-12\",\"2023-05-15\",\"2023-05-16\",\"2023-05-17\",\"2023-05-18\",\"2023-05-19\",\"2023-05-20\",\"2023-05-22\",\"2023-05-23\",\"2023-05-25\",\"2023-05-27\",\"2023-05-28\",\"2023-05-29\",\"2023-05-30\",\"2023-05-31\",\"2023-06-01\",\"2023-06-02\",\"2023-06-03\",\"2023-06-04\",\"2023-06-05\",\"2023-06-08\",\"2023-06-09\",\"2023-06-14\",\"2023-06-18\",\"2023-06-19\",\"2023-06-23\",\"2023-06-24\",\"2023-06-26\",\"2023-06-28\",\"2023-06-29\",\"2023-06-30\",\"2023-07-02\",\"2023-07-03\",\"2023-07-04\",\"2023-07-05\",\"2023-07-06\",\"2023-07-07\",\"2023-07-08\",\"2023-07-09\",\"2023-07-10\",\"2023-07-11\",\"2023-07-12\",\"2023-07-13\",\"2023-07-14\",\"2023-07-15\",\"2023-07-16\",\"2023-07-17\",\"2023-07-18\",\"2023-07-19\",\"2023-07-20\",\"2023-07-21\",\"2023-07-22\",\"2023-07-23\",\"2023-07-24\",\"2023-07-25\",\"2023-07-26\",\"2023-07-27\",\"2023-07-28\",\"2023-07-29\",\"2023-07-30\",\"2023-07-31\",\"2023-08-01\",\"2023-08-02\",\"2023-08-03\",\"2023-08-04\",\"2023-08-05\",\"2023-08-06\",\"2023-08-08\",\"2023-08-09\",\"2023-08-10\",\"2023-08-11\",\"2023-08-12\",\"2023-08-13\",\"2023-08-14\",\"2023-08-15\",\"2023-08-16\",\"2023-08-17\",\"2023-08-18\",\"2023-08-20\",\"2023-08-21\",\"2023-08-23\",\"2023-08-25\",\"2023-08-26\",\"2023-08-27\",\"2023-08-28\",\"2023-08-29\",\"2023-09-04\",\"2023-09-06\",\"2023-09-07\",\"2023-09-08\",\"2023-09-09\",\"2023-09-13\",\"2023-09-14\",\"2023-09-16\",\"2023-09-17\",\"2023-09-18\",\"2023-09-19\",\"2023-09-21\",\"2023-09-23\",\"2023-09-25\",\"2023-09-26\",\"2023-09-27\",\"2023-09-28\",\"2023-09-29\",\"2023-09-30\",\"2023-10-01\",\"2023-10-05\",\"2023-10-06\",\"2023-10-09\",\"2023-10-11\",\"2023-10-13\",\"2023-10-14\",\"2023-10-16\",\"2023-10-17\",\"2023-10-20\",\"2023-10-22\",\"2023-10-23\",\"2023-10-24\",\"2023-11-01\",\"2023-11-04\",\"2023-11-07\",\"2023-11-09\",\"2023-11-13\",\"2023-11-16\",\"2023-11-21\",\"2023-11-22\",\"2023-11-24\",\"2023-12-04\",\"2023-12-09\",\"2023-12-14\",\"2023-12-19\",\"2023-12-20\",\"2023-12-29\",\"2024-01-03\",\"2024-01-09\",\"2024-01-10\",\"2024-01-11\",\"2024-01-14\",\"2024-01-15\",\"2024-01-17\",\"2024-01-18\",\"2024-01-21\",\"2024-01-22\",\"2024-01-24\",\"2024-01-26\",\"2024-01-28\",\"2024-01-29\",\"2024-01-30\",\"2024-01-31\",\"2024-02-04\",\"2024-02-05\",\"2024-02-07\",\"2024-02-08\",\"2024-02-10\",\"2024-02-12\",\"2024-02-14\",\"2024-02-15\",\"2024-02-16\",\"2024-02-17\",\"2024-02-18\",\"2024-02-19\",\"2024-02-20\",\"2024-02-21\",\"2024-02-22\",\"2024-02-23\",\"2024-02-24\",\"2024-02-25\",\"2024-02-26\",\"2024-02-27\",\"2024-02-28\",\"2024-02-29\",\"2024-03-01\",\"2024-03-02\",\"2024-03-03\",\"2024-03-04\",\"2024-03-05\",\"2024-03-06\",\"2024-03-07\",\"2024-03-08\",\"2024-03-09\",\"2024-03-10\",\"2024-03-11\",\"2024-03-12\",\"2024-03-13\",\"2024-03-14\",\"2024-03-15\",\"2024-03-16\",\"2024-03-17\",\"2024-03-18\",\"2024-03-19\",\"2024-03-20\",\"2024-03-21\",\"2024-03-22\",\"2024-03-23\",\"2024-03-24\",\"2024-03-25\",\"2024-03-26\",\"2024-03-27\",\"2024-03-28\",\"2024-03-29\",\"2024-03-30\",\"2024-03-31\",\"2024-04-01\",\"2024-04-02\",\"2024-04-03\",\"2024-04-04\",\"2024-04-05\",\"2024-04-06\",\"2024-04-07\",\"2024-04-08\",\"2024-04-10\",\"2024-04-11\",\"2024-04-12\",\"2024-04-13\",\"2024-04-14\",\"2024-04-15\",\"2024-04-16\",\"2024-04-17\",\"2024-04-18\",\"2024-04-19\",\"2024-04-20\",\"2024-04-21\",\"2024-04-22\",\"2024-04-23\",\"2024-04-24\",\"2024-04-26\",\"2024-04-27\",\"2024-04-28\",\"2024-04-29\",\"2024-04-30\",\"2024-05-02\",\"2024-05-03\",\"2024-05-04\",\"2024-05-05\",\"2024-05-06\",\"2024-05-07\",\"2024-05-08\",\"2024-05-09\",\"2024-05-10\",\"2024-05-11\",\"2024-05-12\",\"2024-05-13\",\"2024-05-14\",\"2024-05-15\",\"2024-05-16\",\"2024-05-17\",\"2024-05-18\",\"2024-05-19\",\"2024-05-20\",\"2024-05-21\",\"2024-05-22\",\"2024-05-23\",\"2024-05-24\",\"2024-05-25\",\"2024-05-26\",\"2024-05-27\",\"2024-05-28\",\"2024-05-29\",\"2024-05-30\",\"2024-05-31\",\"2024-06-01\",\"2024-06-02\",\"2024-06-03\",\"2024-06-04\",\"2024-06-05\",\"2024-06-06\",\"2024-06-07\",\"2024-06-09\",\"2024-06-10\",\"2024-06-11\",\"2024-06-12\",\"2024-06-13\",\"2024-06-15\",\"2024-06-16\",\"2024-06-17\",\"2024-06-18\",\"2024-06-19\",\"2024-06-20\",\"2024-06-21\",\"2024-06-22\",\"2024-06-23\",\"2024-06-24\",\"2024-06-25\",\"2024-06-26\",\"2024-06-27\",\"2024-06-28\",\"2024-06-29\",\"2024-06-30\",\"2024-07-01\",\"2024-07-02\",\"2024-07-03\",\"2024-07-04\",\"2024-07-05\",\"2024-07-06\",\"2024-07-07\",\"2024-07-08\",\"2024-07-09\",\"2024-07-10\",\"2024-07-11\",\"2024-07-12\",\"2024-07-14\",\"2024-07-15\",\"2024-07-16\",\"2024-07-17\",\"2024-07-18\",\"2024-07-19\",\"2024-07-20\",\"2024-07-21\",\"2024-07-22\",\"2024-07-24\",\"2024-07-25\",\"2024-07-26\",\"2024-07-27\",\"2024-07-28\",\"2024-07-29\",\"2024-07-31\",\"2024-08-01\",\"2024-08-02\",\"2024-08-03\",\"2024-08-05\",\"2024-08-06\",\"2024-08-07\",\"2024-08-08\",\"2024-08-09\",\"2024-08-10\",\"2024-08-11\",\"2024-08-13\"],\"y\":[1,1,1,1,1,1,1,1,1,1,1,1,1,1,1,1,1,1,1,1,1,1,1,1,1,1,1,1,1,1,1,1,2,1,1,1,1,2,1,2,1,1,1,1,1,1,4,1,2,3,2,1,1,1,2,2,3,4,6,2,1,1,2,1,1,1,1,2,1,3,1,5,2,1,2,1,3,1,1,2,2,3,1,1,1,1,1,1,4,4,5,4,5,3,3,1,3,5,2,1,2,2,1,1,1,1,3,3,4,2,1,2,4,1,3,2,1,5,2,1,3,2,2,2,1,1,2,3,3,1,3,1,2,3,2,1,2,1,1,1,2,2,1,2,2,4,2,1,1,1,1,1,4,3,3,2,1,1,4,1,3,2,1,1,2,1,1,1,1,1,3,1,1,1,1,3,3,1,1,1,1,1,1,1,1,1,1,1,1,1,2,1,1,1,1,1,1,2,1,1,2,2,1,2,1,1,1,1,2,2,2,2,3,3,4,2,6,5,4,6,5,9,2,7,3,5,2,3,6,6,6,10,8,4,6,10,6,6,9,7,10,8,5,1,6,6,10,4,3,2,2,5,3,2,8,4,2,1,3,2,3,6,2,7,2,6,5,7,5,9,5,5,8,7,7,5,6,2,3,7,4,4,11,2,1,4,6,6,5,5,2,3,6,1,6,5,1,3,6,5,3,5,2,2,6,5,7,2,5,2,6,4,9,6,4,5,3,5,2,1,7,5,3,1,1,2,3,4,3,1,1,2,1,1,5,2,3,2,2,2,1,1,5,3,3,2,3,6,1,3,5,3,3,2,2,2,2,3,4,3,4,5,2,2,2,2,2,1,2,1,3,2,3,2,2,1,1,3,1,1,2,1,2,3],\"type\":\"scatter\"}],                        {\"template\":{\"data\":{\"histogram2dcontour\":[{\"type\":\"histogram2dcontour\",\"colorbar\":{\"outlinewidth\":0,\"ticks\":\"\"},\"colorscale\":[[0.0,\"#0d0887\"],[0.1111111111111111,\"#46039f\"],[0.2222222222222222,\"#7201a8\"],[0.3333333333333333,\"#9c179e\"],[0.4444444444444444,\"#bd3786\"],[0.5555555555555556,\"#d8576b\"],[0.6666666666666666,\"#ed7953\"],[0.7777777777777778,\"#fb9f3a\"],[0.8888888888888888,\"#fdca26\"],[1.0,\"#f0f921\"]]}],\"choropleth\":[{\"type\":\"choropleth\",\"colorbar\":{\"outlinewidth\":0,\"ticks\":\"\"}}],\"histogram2d\":[{\"type\":\"histogram2d\",\"colorbar\":{\"outlinewidth\":0,\"ticks\":\"\"},\"colorscale\":[[0.0,\"#0d0887\"],[0.1111111111111111,\"#46039f\"],[0.2222222222222222,\"#7201a8\"],[0.3333333333333333,\"#9c179e\"],[0.4444444444444444,\"#bd3786\"],[0.5555555555555556,\"#d8576b\"],[0.6666666666666666,\"#ed7953\"],[0.7777777777777778,\"#fb9f3a\"],[0.8888888888888888,\"#fdca26\"],[1.0,\"#f0f921\"]]}],\"heatmap\":[{\"type\":\"heatmap\",\"colorbar\":{\"outlinewidth\":0,\"ticks\":\"\"},\"colorscale\":[[0.0,\"#0d0887\"],[0.1111111111111111,\"#46039f\"],[0.2222222222222222,\"#7201a8\"],[0.3333333333333333,\"#9c179e\"],[0.4444444444444444,\"#bd3786\"],[0.5555555555555556,\"#d8576b\"],[0.6666666666666666,\"#ed7953\"],[0.7777777777777778,\"#fb9f3a\"],[0.8888888888888888,\"#fdca26\"],[1.0,\"#f0f921\"]]}],\"heatmapgl\":[{\"type\":\"heatmapgl\",\"colorbar\":{\"outlinewidth\":0,\"ticks\":\"\"},\"colorscale\":[[0.0,\"#0d0887\"],[0.1111111111111111,\"#46039f\"],[0.2222222222222222,\"#7201a8\"],[0.3333333333333333,\"#9c179e\"],[0.4444444444444444,\"#bd3786\"],[0.5555555555555556,\"#d8576b\"],[0.6666666666666666,\"#ed7953\"],[0.7777777777777778,\"#fb9f3a\"],[0.8888888888888888,\"#fdca26\"],[1.0,\"#f0f921\"]]}],\"contourcarpet\":[{\"type\":\"contourcarpet\",\"colorbar\":{\"outlinewidth\":0,\"ticks\":\"\"}}],\"contour\":[{\"type\":\"contour\",\"colorbar\":{\"outlinewidth\":0,\"ticks\":\"\"},\"colorscale\":[[0.0,\"#0d0887\"],[0.1111111111111111,\"#46039f\"],[0.2222222222222222,\"#7201a8\"],[0.3333333333333333,\"#9c179e\"],[0.4444444444444444,\"#bd3786\"],[0.5555555555555556,\"#d8576b\"],[0.6666666666666666,\"#ed7953\"],[0.7777777777777778,\"#fb9f3a\"],[0.8888888888888888,\"#fdca26\"],[1.0,\"#f0f921\"]]}],\"surface\":[{\"type\":\"surface\",\"colorbar\":{\"outlinewidth\":0,\"ticks\":\"\"},\"colorscale\":[[0.0,\"#0d0887\"],[0.1111111111111111,\"#46039f\"],[0.2222222222222222,\"#7201a8\"],[0.3333333333333333,\"#9c179e\"],[0.4444444444444444,\"#bd3786\"],[0.5555555555555556,\"#d8576b\"],[0.6666666666666666,\"#ed7953\"],[0.7777777777777778,\"#fb9f3a\"],[0.8888888888888888,\"#fdca26\"],[1.0,\"#f0f921\"]]}],\"mesh3d\":[{\"type\":\"mesh3d\",\"colorbar\":{\"outlinewidth\":0,\"ticks\":\"\"}}],\"scatter\":[{\"marker\":{\"line\":{\"color\":\"#283442\"}},\"type\":\"scatter\"}],\"parcoords\":[{\"type\":\"parcoords\",\"line\":{\"colorbar\":{\"outlinewidth\":0,\"ticks\":\"\"}}}],\"scatterpolargl\":[{\"type\":\"scatterpolargl\",\"marker\":{\"colorbar\":{\"outlinewidth\":0,\"ticks\":\"\"}}}],\"bar\":[{\"error_x\":{\"color\":\"#f2f5fa\"},\"error_y\":{\"color\":\"#f2f5fa\"},\"marker\":{\"line\":{\"color\":\"rgb(17,17,17)\",\"width\":0.5},\"pattern\":{\"fillmode\":\"overlay\",\"size\":10,\"solidity\":0.2}},\"type\":\"bar\"}],\"scattergeo\":[{\"type\":\"scattergeo\",\"marker\":{\"colorbar\":{\"outlinewidth\":0,\"ticks\":\"\"}}}],\"scatterpolar\":[{\"type\":\"scatterpolar\",\"marker\":{\"colorbar\":{\"outlinewidth\":0,\"ticks\":\"\"}}}],\"histogram\":[{\"marker\":{\"pattern\":{\"fillmode\":\"overlay\",\"size\":10,\"solidity\":0.2}},\"type\":\"histogram\"}],\"scattergl\":[{\"marker\":{\"line\":{\"color\":\"#283442\"}},\"type\":\"scattergl\"}],\"scatter3d\":[{\"type\":\"scatter3d\",\"line\":{\"colorbar\":{\"outlinewidth\":0,\"ticks\":\"\"}},\"marker\":{\"colorbar\":{\"outlinewidth\":0,\"ticks\":\"\"}}}],\"scattermapbox\":[{\"type\":\"scattermapbox\",\"marker\":{\"colorbar\":{\"outlinewidth\":0,\"ticks\":\"\"}}}],\"scatterternary\":[{\"type\":\"scatterternary\",\"marker\":{\"colorbar\":{\"outlinewidth\":0,\"ticks\":\"\"}}}],\"scattercarpet\":[{\"type\":\"scattercarpet\",\"marker\":{\"colorbar\":{\"outlinewidth\":0,\"ticks\":\"\"}}}],\"carpet\":[{\"aaxis\":{\"endlinecolor\":\"#A2B1C6\",\"gridcolor\":\"#506784\",\"linecolor\":\"#506784\",\"minorgridcolor\":\"#506784\",\"startlinecolor\":\"#A2B1C6\"},\"baxis\":{\"endlinecolor\":\"#A2B1C6\",\"gridcolor\":\"#506784\",\"linecolor\":\"#506784\",\"minorgridcolor\":\"#506784\",\"startlinecolor\":\"#A2B1C6\"},\"type\":\"carpet\"}],\"table\":[{\"cells\":{\"fill\":{\"color\":\"#506784\"},\"line\":{\"color\":\"rgb(17,17,17)\"}},\"header\":{\"fill\":{\"color\":\"#2a3f5f\"},\"line\":{\"color\":\"rgb(17,17,17)\"}},\"type\":\"table\"}],\"barpolar\":[{\"marker\":{\"line\":{\"color\":\"rgb(17,17,17)\",\"width\":0.5},\"pattern\":{\"fillmode\":\"overlay\",\"size\":10,\"solidity\":0.2}},\"type\":\"barpolar\"}],\"pie\":[{\"automargin\":true,\"type\":\"pie\"}]},\"layout\":{\"autotypenumbers\":\"strict\",\"colorway\":[\"#636efa\",\"#EF553B\",\"#00cc96\",\"#ab63fa\",\"#FFA15A\",\"#19d3f3\",\"#FF6692\",\"#B6E880\",\"#FF97FF\",\"#FECB52\"],\"font\":{\"color\":\"#f2f5fa\"},\"hovermode\":\"closest\",\"hoverlabel\":{\"align\":\"left\"},\"paper_bgcolor\":\"rgb(17,17,17)\",\"plot_bgcolor\":\"rgb(17,17,17)\",\"polar\":{\"bgcolor\":\"rgb(17,17,17)\",\"angularaxis\":{\"gridcolor\":\"#506784\",\"linecolor\":\"#506784\",\"ticks\":\"\"},\"radialaxis\":{\"gridcolor\":\"#506784\",\"linecolor\":\"#506784\",\"ticks\":\"\"}},\"ternary\":{\"bgcolor\":\"rgb(17,17,17)\",\"aaxis\":{\"gridcolor\":\"#506784\",\"linecolor\":\"#506784\",\"ticks\":\"\"},\"baxis\":{\"gridcolor\":\"#506784\",\"linecolor\":\"#506784\",\"ticks\":\"\"},\"caxis\":{\"gridcolor\":\"#506784\",\"linecolor\":\"#506784\",\"ticks\":\"\"}},\"coloraxis\":{\"colorbar\":{\"outlinewidth\":0,\"ticks\":\"\"}},\"colorscale\":{\"sequential\":[[0.0,\"#0d0887\"],[0.1111111111111111,\"#46039f\"],[0.2222222222222222,\"#7201a8\"],[0.3333333333333333,\"#9c179e\"],[0.4444444444444444,\"#bd3786\"],[0.5555555555555556,\"#d8576b\"],[0.6666666666666666,\"#ed7953\"],[0.7777777777777778,\"#fb9f3a\"],[0.8888888888888888,\"#fdca26\"],[1.0,\"#f0f921\"]],\"sequentialminus\":[[0.0,\"#0d0887\"],[0.1111111111111111,\"#46039f\"],[0.2222222222222222,\"#7201a8\"],[0.3333333333333333,\"#9c179e\"],[0.4444444444444444,\"#bd3786\"],[0.5555555555555556,\"#d8576b\"],[0.6666666666666666,\"#ed7953\"],[0.7777777777777778,\"#fb9f3a\"],[0.8888888888888888,\"#fdca26\"],[1.0,\"#f0f921\"]],\"diverging\":[[0,\"#8e0152\"],[0.1,\"#c51b7d\"],[0.2,\"#de77ae\"],[0.3,\"#f1b6da\"],[0.4,\"#fde0ef\"],[0.5,\"#f7f7f7\"],[0.6,\"#e6f5d0\"],[0.7,\"#b8e186\"],[0.8,\"#7fbc41\"],[0.9,\"#4d9221\"],[1,\"#276419\"]]},\"xaxis\":{\"gridcolor\":\"#283442\",\"linecolor\":\"#506784\",\"ticks\":\"\",\"title\":{\"standoff\":15},\"zerolinecolor\":\"#283442\",\"automargin\":true,\"zerolinewidth\":2},\"yaxis\":{\"gridcolor\":\"#283442\",\"linecolor\":\"#506784\",\"ticks\":\"\",\"title\":{\"standoff\":15},\"zerolinecolor\":\"#283442\",\"automargin\":true,\"zerolinewidth\":2},\"scene\":{\"xaxis\":{\"backgroundcolor\":\"rgb(17,17,17)\",\"gridcolor\":\"#506784\",\"linecolor\":\"#506784\",\"showbackground\":true,\"ticks\":\"\",\"zerolinecolor\":\"#C8D4E3\",\"gridwidth\":2},\"yaxis\":{\"backgroundcolor\":\"rgb(17,17,17)\",\"gridcolor\":\"#506784\",\"linecolor\":\"#506784\",\"showbackground\":true,\"ticks\":\"\",\"zerolinecolor\":\"#C8D4E3\",\"gridwidth\":2},\"zaxis\":{\"backgroundcolor\":\"rgb(17,17,17)\",\"gridcolor\":\"#506784\",\"linecolor\":\"#506784\",\"showbackground\":true,\"ticks\":\"\",\"zerolinecolor\":\"#C8D4E3\",\"gridwidth\":2}},\"shapedefaults\":{\"line\":{\"color\":\"#f2f5fa\"}},\"annotationdefaults\":{\"arrowcolor\":\"#f2f5fa\",\"arrowhead\":0,\"arrowwidth\":1},\"geo\":{\"bgcolor\":\"rgb(17,17,17)\",\"landcolor\":\"rgb(17,17,17)\",\"subunitcolor\":\"#506784\",\"showland\":true,\"showlakes\":true,\"lakecolor\":\"rgb(17,17,17)\"},\"title\":{\"x\":0.05},\"updatemenudefaults\":{\"bgcolor\":\"#506784\",\"borderwidth\":0},\"sliderdefaults\":{\"bgcolor\":\"#C8D4E3\",\"borderwidth\":1,\"bordercolor\":\"rgb(17,17,17)\",\"tickwidth\":0},\"mapbox\":{\"style\":\"dark\"}}},\"shapes\":[{\"line\":{\"color\":\"red\",\"width\":2},\"type\":\"line\",\"x0\":\"2024-05-25T21:30:00\",\"x1\":\"2024-05-25T21:30:00\",\"xref\":\"x\",\"y0\":0,\"y1\":1,\"yref\":\"y domain\"},{\"line\":{\"color\":\"red\",\"width\":2},\"type\":\"line\",\"x0\":\"2024-02-27T10:29:00\",\"x1\":\"2024-02-27T10:29:00\",\"xref\":\"x\",\"y0\":0,\"y1\":1,\"yref\":\"y domain\"},{\"line\":{\"color\":\"red\",\"width\":2},\"type\":\"line\",\"x0\":\"2024-02-19T11:17:00\",\"x1\":\"2024-02-19T11:17:00\",\"xref\":\"x\",\"y0\":0,\"y1\":1,\"yref\":\"y domain\"},{\"line\":{\"color\":\"red\",\"width\":2},\"type\":\"line\",\"x0\":\"2024-08-01T21:15:00\",\"x1\":\"2024-08-01T21:15:00\",\"xref\":\"x\",\"y0\":0,\"y1\":1,\"yref\":\"y domain\"},{\"line\":{\"color\":\"red\",\"width\":2},\"type\":\"line\",\"x0\":\"2024-02-15T11:47:00\",\"x1\":\"2024-02-15T11:47:00\",\"xref\":\"x\",\"y0\":0,\"y1\":1,\"yref\":\"y domain\"},{\"line\":{\"color\":\"red\",\"width\":2},\"type\":\"line\",\"x0\":\"2024-05-27T22:28:00\",\"x1\":\"2024-05-27T22:28:00\",\"xref\":\"x\",\"y0\":0,\"y1\":1,\"yref\":\"y domain\"},{\"line\":{\"color\":\"red\",\"width\":2},\"type\":\"line\",\"x0\":\"2022-01-14T12:00:00\",\"x1\":\"2022-01-14T12:00:00\",\"xref\":\"x\",\"y0\":0,\"y1\":1,\"yref\":\"y domain\"},{\"line\":{\"color\":\"red\",\"width\":2},\"type\":\"line\",\"x0\":\"2024-02-22T18:46:00\",\"x1\":\"2024-02-22T18:46:00\",\"xref\":\"x\",\"y0\":0,\"y1\":1,\"yref\":\"y domain\"},{\"line\":{\"color\":\"red\",\"width\":2},\"type\":\"line\",\"x0\":\"2024-07-15T20:48:00\",\"x1\":\"2024-07-15T20:48:00\",\"xref\":\"x\",\"y0\":0,\"y1\":1,\"yref\":\"y domain\"},{\"line\":{\"color\":\"red\",\"width\":2},\"type\":\"line\",\"x0\":\"2024-06-09T07:43:00\",\"x1\":\"2024-06-09T07:43:00\",\"xref\":\"x\",\"y0\":0,\"y1\":1,\"yref\":\"y domain\"}],\"xaxis\":{\"title\":{\"text\":\"\\ub0a0\\uc9dc\"},\"tickformat\":\"%Y-%m-%d\"},\"legend\":{\"x\":0,\"y\":1,\"traceorder\":\"normal\",\"orientation\":\"h\"},\"title\":{\"text\":\"\\uac01 \\ub0a0\\uc9dc\\ubcc4\\ub85c \\uac8c\\uc2dc\\ubb3c \\uc218\"},\"yaxis\":{\"title\":{\"text\":\"\\uac8c\\uc2dc\\uae00 \\uc218\"}}},                        {\"responsive\": true}                    ).then(function(){\n",
       "                            \n",
       "var gd = document.getElementById('0fd0a466-51dd-4a52-994d-cf72712d43b3');\n",
       "var x = new MutationObserver(function (mutations, observer) {{\n",
       "        var display = window.getComputedStyle(gd).display;\n",
       "        if (!display || display === 'none') {{\n",
       "            console.log([gd, 'removed!']);\n",
       "            Plotly.purge(gd);\n",
       "            observer.disconnect();\n",
       "        }}\n",
       "}});\n",
       "\n",
       "// Listen for the removal of the full notebook cells\n",
       "var notebookContainer = gd.closest('#notebook-container');\n",
       "if (notebookContainer) {{\n",
       "    x.observe(notebookContainer, {childList: true});\n",
       "}}\n",
       "\n",
       "// Listen for the clearing of the current output cell\n",
       "var outputEl = gd.closest('.output');\n",
       "if (outputEl) {{\n",
       "    x.observe(outputEl, {childList: true});\n",
       "}}\n",
       "\n",
       "                        })                };                });            </script>        </div>"
      ]
     },
     "metadata": {},
     "output_type": "display_data"
    },
    {
     "data": {
      "text/html": [
       "<div>\n",
       "<style scoped>\n",
       "    .dataframe tbody tr th:only-of-type {\n",
       "        vertical-align: middle;\n",
       "    }\n",
       "\n",
       "    .dataframe tbody tr th {\n",
       "        vertical-align: top;\n",
       "    }\n",
       "\n",
       "    .dataframe thead th {\n",
       "        text-align: right;\n",
       "    }\n",
       "</style>\n",
       "<table border=\"1\" class=\"dataframe\">\n",
       "  <thead>\n",
       "    <tr style=\"text-align: right;\">\n",
       "      <th></th>\n",
       "      <th>id</th>\n",
       "      <th>title</th>\n",
       "      <th>content</th>\n",
       "      <th>likes</th>\n",
       "      <th>url</th>\n",
       "      <th>author</th>\n",
       "      <th>views</th>\n",
       "      <th>created_at</th>\n",
       "      <th>updated_at</th>\n",
       "      <th>post_id</th>\n",
       "      <th>comment_count</th>\n",
       "      <th>influence_score</th>\n",
       "    </tr>\n",
       "  </thead>\n",
       "  <tbody>\n",
       "    <tr>\n",
       "      <th>1</th>\n",
       "      <td>762167</td>\n",
       "      <td>아이오닉5 결함/문제점 내용 정리!</td>\n",
       "      <td>안녕하세요.아이오닉5를 21년8월에 받아서 11000km 운행 하였습니다.그동안 결...</td>\n",
       "      <td>19</td>\n",
       "      <td>https://cafe.naver.com/ca-fe/ArticleRead.nhn?c...</td>\n",
       "      <td>린크I오닉5I경기</td>\n",
       "      <td>3613</td>\n",
       "      <td>2022-01-14 12:00:00</td>\n",
       "      <td>NaN</td>\n",
       "      <td>762167.0</td>\n",
       "      <td>38</td>\n",
       "      <td>27.672873</td>\n",
       "    </tr>\n",
       "    <tr>\n",
       "      <th>163</th>\n",
       "      <td>1395665</td>\n",
       "      <td>ICCU 터짐 조사</td>\n",
       "      <td>안녕하세요, ICCU 에 대한 글이 많이 올라고 있는데, 우리 같이 댓글 조사로 I...</td>\n",
       "      <td>10</td>\n",
       "      <td>https://cafe.naver.com/ca-fe/ArticleRead.nhn?c...</td>\n",
       "      <td>캔아이오닉5</td>\n",
       "      <td>4812</td>\n",
       "      <td>2024-02-15 11:47:00</td>\n",
       "      <td>NaN</td>\n",
       "      <td>1395665.0</td>\n",
       "      <td>186</td>\n",
       "      <td>28.663298</td>\n",
       "    </tr>\n",
       "    <tr>\n",
       "      <th>148</th>\n",
       "      <td>1397954</td>\n",
       "      <td>전기차 구매 신중하셨으면 좋겠네요</td>\n",
       "      <td>전기차 초보자에 가까운 전린이중의 전린이입니다다만, 이런저런 카페글도 수없이 보고 ...</td>\n",
       "      <td>23</td>\n",
       "      <td>https://cafe.naver.com/ca-fe/ArticleRead.nhn?c...</td>\n",
       "      <td>펑IEV9l부산</td>\n",
       "      <td>6007</td>\n",
       "      <td>2024-02-19 11:17:00</td>\n",
       "      <td>NaN</td>\n",
       "      <td>1397954.0</td>\n",
       "      <td>68</td>\n",
       "      <td>36.741269</td>\n",
       "    </tr>\n",
       "    <tr>\n",
       "      <th>102</th>\n",
       "      <td>1400343</td>\n",
       "      <td>EV9 약 2개월 1000KM 운행후기</td>\n",
       "      <td>남들은 1주일이면 1000km도 운행한다는데, 1000km 운행하기까지 정말 오래 ...</td>\n",
       "      <td>17</td>\n",
       "      <td>https://cafe.naver.com/ca-fe/ArticleRead.nhn?c...</td>\n",
       "      <td>펑IEV9l부산</td>\n",
       "      <td>3273</td>\n",
       "      <td>2024-02-22 18:46:00</td>\n",
       "      <td>NaN</td>\n",
       "      <td>1400343.0</td>\n",
       "      <td>67</td>\n",
       "      <td>26.969892</td>\n",
       "    </tr>\n",
       "    <tr>\n",
       "      <th>79</th>\n",
       "      <td>1403367</td>\n",
       "      <td>아이오닉5와 토레스evx 소유자로써 느낀점을 정리해 봤습니다.</td>\n",
       "      <td>아이오닉5랑 토레스evx 두차량 소유하고 있습니다. 주로 아이오닉5 제가 몰고 토레...</td>\n",
       "      <td>29</td>\n",
       "      <td>https://cafe.naver.com/ca-fe/ArticleRead.nhn?c...</td>\n",
       "      <td>태양I아닉5I인천</td>\n",
       "      <td>8636</td>\n",
       "      <td>2024-02-27 10:29:00</td>\n",
       "      <td>NaN</td>\n",
       "      <td>1403367.0</td>\n",
       "      <td>66</td>\n",
       "      <td>46.200141</td>\n",
       "    </tr>\n",
       "    <tr>\n",
       "      <th>426</th>\n",
       "      <td>1466119</td>\n",
       "      <td>더뉴아이오닉5 awd 고속 주행 중 멈춤</td>\n",
       "      <td>어제 금요일 저녁에 차 받고 임시번호판으로 운행 중.. 고속도로 주행 중에 터져서긴...</td>\n",
       "      <td>45</td>\n",
       "      <td>https://cafe.naver.com/ca-fe/ArticleRead.nhn?c...</td>\n",
       "      <td>대구l아5l불도저</td>\n",
       "      <td>7647</td>\n",
       "      <td>2024-05-25 21:30:00</td>\n",
       "      <td>NaN</td>\n",
       "      <td>1466119.0</td>\n",
       "      <td>251</td>\n",
       "      <td>75.103991</td>\n",
       "    </tr>\n",
       "    <tr>\n",
       "      <th>534</th>\n",
       "      <td>1467456</td>\n",
       "      <td>수정 뉴아이오닉5 awd 고속 주행 중 멈춤 정리글 [통화녹음o] 마무리</td>\n",
       "      <td>이전 글 :https://cafe.naver.com/allfm01/1466119안녕...</td>\n",
       "      <td>19</td>\n",
       "      <td>https://cafe.naver.com/ca-fe/ArticleRead.nhn?c...</td>\n",
       "      <td>대구l아5l불도저</td>\n",
       "      <td>2942</td>\n",
       "      <td>2024-05-27 22:28:00</td>\n",
       "      <td>NaN</td>\n",
       "      <td>1467456.0</td>\n",
       "      <td>51</td>\n",
       "      <td>27.786999</td>\n",
       "    </tr>\n",
       "    <tr>\n",
       "      <th>565</th>\n",
       "      <td>1476949</td>\n",
       "      <td>토레스EVX 6개월 실차주 후기!!</td>\n",
       "      <td>차가격은 약 5200만원에 보조금 1000만원 조금 덜 받고 선수금 1000만원 넣...</td>\n",
       "      <td>11</td>\n",
       "      <td>https://cafe.naver.com/ca-fe/ArticleRead.nhn?c...</td>\n",
       "      <td>대전I토레스EVI하윤</td>\n",
       "      <td>3933</td>\n",
       "      <td>2024-06-09 07:43:00</td>\n",
       "      <td>NaN</td>\n",
       "      <td>1476949.0</td>\n",
       "      <td>76</td>\n",
       "      <td>21.592548</td>\n",
       "    </tr>\n",
       "    <tr>\n",
       "      <th>677</th>\n",
       "      <td>1507416</td>\n",
       "      <td>전기차 고르는 팁 알려줍니다! 스압</td>\n",
       "      <td>ID4 구매 예정자인데 출고정지 기간이라 시간이 널널하여 그 동안 검색한 내용 정리...</td>\n",
       "      <td>17</td>\n",
       "      <td>https://cafe.naver.com/ca-fe/ArticleRead.nhn?c...</td>\n",
       "      <td>천재IID4I진주</td>\n",
       "      <td>2547</td>\n",
       "      <td>2024-07-15 20:48:00</td>\n",
       "      <td>NaN</td>\n",
       "      <td>1507416.0</td>\n",
       "      <td>29</td>\n",
       "      <td>23.676682</td>\n",
       "    </tr>\n",
       "    <tr>\n",
       "      <th>598</th>\n",
       "      <td>1524499</td>\n",
       "      <td>eqe 화재를 보며,, 타인에 대한 조롱의 화살은 끝내 자기 자신에게 돌아옵니다.</td>\n",
       "      <td>1)서구 청라에서 eqe 차량에서 화재가 발생했다는 뉴스를 봤습니다.cctv영상도 ...</td>\n",
       "      <td>28</td>\n",
       "      <td>https://cafe.naver.com/ca-fe/ArticleRead.nhn?c...</td>\n",
       "      <td>베니IEQAI인천</td>\n",
       "      <td>2748</td>\n",
       "      <td>2024-08-01 21:15:00</td>\n",
       "      <td>NaN</td>\n",
       "      <td>1524499.0</td>\n",
       "      <td>37</td>\n",
       "      <td>36.696835</td>\n",
       "    </tr>\n",
       "  </tbody>\n",
       "</table>\n",
       "</div>"
      ],
      "text/plain": [
       "          id                                          title  \\\n",
       "1     762167                            아이오닉5 결함/문제점 내용 정리!   \n",
       "163  1395665                                     ICCU 터짐 조사   \n",
       "148  1397954                             전기차 구매 신중하셨으면 좋겠네요   \n",
       "102  1400343                          EV9 약 2개월 1000KM 운행후기   \n",
       "79   1403367             아이오닉5와 토레스evx 소유자로써 느낀점을 정리해 봤습니다.   \n",
       "426  1466119                         더뉴아이오닉5 awd 고속 주행 중 멈춤   \n",
       "534  1467456       수정 뉴아이오닉5 awd 고속 주행 중 멈춤 정리글 [통화녹음o] 마무리   \n",
       "565  1476949                            토레스EVX 6개월 실차주 후기!!   \n",
       "677  1507416                            전기차 고르는 팁 알려줍니다! 스압   \n",
       "598  1524499  eqe 화재를 보며,, 타인에 대한 조롱의 화살은 끝내 자기 자신에게 돌아옵니다.   \n",
       "\n",
       "                                               content  likes  \\\n",
       "1    안녕하세요.아이오닉5를 21년8월에 받아서 11000km 운행 하였습니다.그동안 결...     19   \n",
       "163  안녕하세요, ICCU 에 대한 글이 많이 올라고 있는데, 우리 같이 댓글 조사로 I...     10   \n",
       "148  전기차 초보자에 가까운 전린이중의 전린이입니다다만, 이런저런 카페글도 수없이 보고 ...     23   \n",
       "102  남들은 1주일이면 1000km도 운행한다는데, 1000km 운행하기까지 정말 오래 ...     17   \n",
       "79   아이오닉5랑 토레스evx 두차량 소유하고 있습니다. 주로 아이오닉5 제가 몰고 토레...     29   \n",
       "426  어제 금요일 저녁에 차 받고 임시번호판으로 운행 중.. 고속도로 주행 중에 터져서긴...     45   \n",
       "534  이전 글 :https://cafe.naver.com/allfm01/1466119안녕...     19   \n",
       "565  차가격은 약 5200만원에 보조금 1000만원 조금 덜 받고 선수금 1000만원 넣...     11   \n",
       "677  ID4 구매 예정자인데 출고정지 기간이라 시간이 널널하여 그 동안 검색한 내용 정리...     17   \n",
       "598  1)서구 청라에서 eqe 차량에서 화재가 발생했다는 뉴스를 봤습니다.cctv영상도 ...     28   \n",
       "\n",
       "                                                   url       author  views  \\\n",
       "1    https://cafe.naver.com/ca-fe/ArticleRead.nhn?c...    린크I오닉5I경기   3613   \n",
       "163  https://cafe.naver.com/ca-fe/ArticleRead.nhn?c...       캔아이오닉5   4812   \n",
       "148  https://cafe.naver.com/ca-fe/ArticleRead.nhn?c...     펑IEV9l부산   6007   \n",
       "102  https://cafe.naver.com/ca-fe/ArticleRead.nhn?c...     펑IEV9l부산   3273   \n",
       "79   https://cafe.naver.com/ca-fe/ArticleRead.nhn?c...    태양I아닉5I인천   8636   \n",
       "426  https://cafe.naver.com/ca-fe/ArticleRead.nhn?c...    대구l아5l불도저   7647   \n",
       "534  https://cafe.naver.com/ca-fe/ArticleRead.nhn?c...    대구l아5l불도저   2942   \n",
       "565  https://cafe.naver.com/ca-fe/ArticleRead.nhn?c...  대전I토레스EVI하윤   3933   \n",
       "677  https://cafe.naver.com/ca-fe/ArticleRead.nhn?c...    천재IID4I진주   2547   \n",
       "598  https://cafe.naver.com/ca-fe/ArticleRead.nhn?c...    베니IEQAI인천   2748   \n",
       "\n",
       "             created_at  updated_at    post_id  comment_count  influence_score  \n",
       "1   2022-01-14 12:00:00         NaN   762167.0             38        27.672873  \n",
       "163 2024-02-15 11:47:00         NaN  1395665.0            186        28.663298  \n",
       "148 2024-02-19 11:17:00         NaN  1397954.0             68        36.741269  \n",
       "102 2024-02-22 18:46:00         NaN  1400343.0             67        26.969892  \n",
       "79  2024-02-27 10:29:00         NaN  1403367.0             66        46.200141  \n",
       "426 2024-05-25 21:30:00         NaN  1466119.0            251        75.103991  \n",
       "534 2024-05-27 22:28:00         NaN  1467456.0             51        27.786999  \n",
       "565 2024-06-09 07:43:00         NaN  1476949.0             76        21.592548  \n",
       "677 2024-07-15 20:48:00         NaN  1507416.0             29        23.676682  \n",
       "598 2024-08-01 21:15:00         NaN  1524499.0             37        36.696835  "
      ]
     },
     "metadata": {},
     "output_type": "display_data"
    }
   ],
   "source": [
    "posts, comments = merge_csv(\"아이오닉 iccu\")\n",
    "show(posts, comments)"
   ]
  }
 ],
 "metadata": {
  "kernelspec": {
   "display_name": "Python 3",
   "language": "python",
   "name": "python3"
  },
  "language_info": {
   "codemirror_mode": {
    "name": "ipython",
    "version": 3
   },
   "file_extension": ".py",
   "mimetype": "text/x-python",
   "name": "python",
   "nbconvert_exporter": "python",
   "pygments_lexer": "ipython3",
   "version": "3.12.4"
  }
 },
 "nbformat": 4,
 "nbformat_minor": 5
}
